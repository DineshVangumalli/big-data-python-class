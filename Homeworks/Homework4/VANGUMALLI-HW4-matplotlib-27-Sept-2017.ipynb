{
 "cells": [
  {
   "cell_type": "markdown",
   "metadata": {},
   "source": [
    "# Homework 4\n",
    "\n",
    "Copy this notebook. Rename it as: YOURNAME-HW4-matplotlib-XX\n",
    "\n",
    "with your name replacing YOURNAME and the xx replaced with the date you submit or copy this HW.\n",
    "\n",
    "Couple of reference site:\n",
    "<ul>\n",
    "<li/>http://matplotlib.org/examples/pylab_examples/\n",
    "<li/>http://docs.scipy.org/doc/numpy/\n",
    "</ul>\n",
    "\n"
   ]
  },
  {
   "cell_type": "code",
   "execution_count": 2,
   "metadata": {
    "collapsed": true
   },
   "outputs": [],
   "source": [
    "%matplotlib inline\n",
    "import pandas as pd\n",
    "import numpy as np\n",
    "import matplotlib as mpl\n",
    "import matplotlib.pyplot as plt\n",
    "\n",
    "# Set some Pandas options\n",
    "pd.set_option('display.notebook_repr_html', False)\n",
    "pd.set_option('display.max_columns', 20)\n",
    "pd.set_option('display.max_rows', 25)"
   ]
  },
  {
   "cell_type": "markdown",
   "metadata": {},
   "source": [
    "#### Homework 4.1\n",
    "\n",
    "4.1.a Create a figure with two subplots in a row.\n",
    "One shows a sine wave of x from with x = 0 ... 2*pi the other shows the tagent of x with the same range.\n",
    "Label the figures.\n",
    "\n",
    "Should look something like:\n",
    "<img src=\"./images/Figure_with_multipleplot.png\" width=\"300\" height=\"200\">\n",
    "\n"
   ]
  },
  {
   "cell_type": "code",
   "execution_count": 19,
   "metadata": {},
   "outputs": [
    {
     "data": {
      "image/png": "[encoded data removed]",
      "text/plain": [
       "<matplotlib.figure.Figure at 0x25a5b2f04e0>"
      ]
     },
     "metadata": {},
     "output_type": "display_data"
    }
   ],
   "source": [
    "x = np.arange(0.0, 2*pi, 0.01)\n",
    "\n",
    "fig = figure(1)\n",
    "\n",
    "ax1 = fig.add_subplot(121)\n",
    "ax1.plot(x, np.sin(x))\n",
    "ax1.grid(False)\n",
    "ax1.set_ylim((-1, 1))\n",
    "ax1.set_ylabel('Amplitude')\n",
    "ax1.set_title('Sine of x')\n",
    "\n",
    "for label in ax1.get_xticklabels():\n",
    "    label.set_color('r')\n",
    "\n",
    "\n",
    "ax2 = fig.add_subplot(122)\n",
    "ax2.plot(x, np.sin(x)/np.cos(x))\n",
    "ax2.grid(True)\n",
    "ax2.set_ylim((-1, 1))\n",
    "ax2.set_ylabel('Amplitude')\n",
    "ax2.set_title('Tanget of x')\n",
    "for label in ax2.get_xticklabels():\n",
    "    label.set_color('r')\n",
    "    \n",
    "show()"
   ]
  },
  {
   "cell_type": "markdown",
   "metadata": {},
   "source": [
    "#### Homework 4.2\n",
    " "
   ]
  },
  {
   "cell_type": "markdown",
   "metadata": {},
   "source": [
    "Make a combined plot of a  red spiral with a scatter plot.\n",
    "\n",
    "The red spiral has r from 0 to 3 with steps of 0.1 and\n",
    "a theta of 2 * pi * r.\n",
    "\n",
    "The scatter uses the same theta as the spiral but the radius r is offset by a random value ranging from -.5 to .5.\n",
    "The size of the plotted locations is 100 * r^2 and the color uses theta.\n",
    "\n",
    "Use an alpha value of .4 for the colors in the scatter plot.\n",
    "Limit the size of the plot (rmax) to 2.5\n",
    " \n",
    " Should look something like:\n",
    "<img src=\"./images/lineplot_with_scatterplot.png\" width=\"300\" height=\"200\">\n"
   ]
  },
  {
   "cell_type": "code",
   "execution_count": null,
   "metadata": {
    "collapsed": true
   },
   "outputs": [],
   "source": []
  },
  {
   "cell_type": "markdown",
   "metadata": {},
   "source": [
    "#### Homework 4.3\n",
    "Create a 2d histogram of 100000 points\n",
    "\n",
    "x is a generated from a normal random distribution \n",
    "\n",
    "y is generated from a geometric random value witha p=.01 \n",
    "Use the LogNorm color settings for hist2d.\n",
    "And show the colorbar as well.\n",
    "\n",
    "Should look something like:\n",
    "<img src=\"./images/2d_histogram.png\" width=\"300\" height=\"200\">\n"
   ]
  },
  {
   "cell_type": "code",
   "execution_count": null,
   "metadata": {
    "collapsed": true
   },
   "outputs": [],
   "source": []
  },
  {
   "cell_type": "markdown",
   "metadata": {},
   "source": [
    "#### Homework 4.4\n",
    "Show the same data in homewowrk 4.3 in a 3d plot.\n",
    "Use a numpy.histrogram2d funtion to generate the data:\n",
    "    http://docs.scipy.org/doc/numpy/reference/generated/numpy.histogram2d.html\n",
    "\n",
    "Need to use statements:\n",
    "\n",
    "<em>from mpl_toolkits.mplot3d import Axes<br/>\n",
    "fig = plt.figure()<br/>\n",
    "ax = fig.gca(projection='3d')</em>\n",
    "\n",
    "...\n",
    "\n",
    "ax.plot_surface(xm,ym,hist,rstride=1,cstride=1,cmap=plt.cm.jet)\n",
    "\n",
    "</em>\n",
    "\n",
    "Should look something like:\n",
    "<img src=\"./images/3dplot.png\" width=\"300\" height=\"200\">\n"
   ]
  },
  {
   "cell_type": "code",
   "execution_count": null,
   "metadata": {
    "collapsed": true
   },
   "outputs": [],
   "source": []
  },
  {
   "cell_type": "code",
   "execution_count": null,
   "metadata": {
    "collapsed": true
   },
   "outputs": [],
   "source": []
  }
 ],
 "metadata": {
  "kernelspec": {
   "display_name": "Python 3",
   "language": "python",
   "name": "python3"
  },
  "language_info": {
   "codemirror_mode": {
    "name": "ipython",
    "version": 3
   },
   "file_extension": ".py",
   "mimetype": "text/x-python",
   "name": "python",
   "nbconvert_exporter": "python",
   "pygments_lexer": "ipython3",
   "version": "3.6.1"
  }
 },
 "nbformat": 4,
 "nbformat_minor": 1
}
