{
 "cells": [
  {
   "cell_type": "code",
   "execution_count": 1,
   "metadata": {
    "collapsed": true
   },
   "outputs": [],
   "source": [
    "%matplotlib inline\n",
    "import pandas as pd\n",
    "import numpy as np\n",
    "import matplotlib as mpl\n",
    "import matplotlib.pyplot as plt\n",
    "import math\n",
    "\n",
    "# Set some Pandas options\n",
    "pd.set_option('display.notebook_repr_html', False)\n",
    "pd.set_option('display.max_rows', 250)\n",
    "pd.set_option('display.max_columns', 250)\n",
    "pd.set_option('display.width', 200)"
   ]
  },
  {
   "cell_type": "code",
   "execution_count": 2,
   "metadata": {},
   "outputs": [
    {
     "name": "stdout",
     "output_type": "stream",
     "text": [
      "Bokeh - 0.12.9\n",
      "Seaborn - 0.8.0\n"
     ]
    }
   ],
   "source": [
    "# Check the installed versions of Bokeh and Seaborn\n",
    "\n",
    "from bokeh import __version__ as bokeh_version\n",
    "print(\"Bokeh - %s\" % bokeh_version)              \n",
    "from seaborn import __version__ as seaborn_version\n",
    "print(\"Seaborn - %s\" % seaborn_version)   "
   ]
  },
  {
   "cell_type": "code",
   "execution_count": 3,
   "metadata": {
    "collapsed": true
   },
   "outputs": [],
   "source": [
    "# Import the required libraries for seaborn and bokeh\n",
    "\n",
    "import seaborn as sns\n",
    "from bokeh.plotting import figure\n",
    "from bokeh.io import show"
   ]
  },
  {
   "cell_type": "code",
   "execution_count": 4,
   "metadata": {
    "collapsed": true
   },
   "outputs": [],
   "source": [
    "# Download the sample data from the bokeh library\n",
    "\n",
    "#import bokeh.sampledata\n",
    "#bokeh.sampledata.download() "
   ]
  },
  {
   "cell_type": "code",
   "execution_count": 5,
   "metadata": {},
   "outputs": [
    {
     "data": {
      "text/plain": [
       "  Country Code Country Name  Year  Age Group     Sex Number of Deaths Death Rate Per 100,000\n",
       "0          AFG  Afghanistan  1970   0-6 days    Male           19,241             318,292.90\n",
       "1          AFG  Afghanistan  1970   0-6 days  Female           12,600             219,544.20\n",
       "2          AFG  Afghanistan  1970   0-6 days    Both           31,840             270,200.70\n",
       "3          AFG  Afghanistan  1970  7-27 days    Male           15,939              92,701.00\n",
       "4          AFG  Afghanistan  1970  7-27 days  Female           11,287              68,594.50"
      ]
     },
     "execution_count": 5,
     "metadata": {},
     "output_type": "execute_result"
    }
   ],
   "source": [
    "gbd = pd.read_csv(\"data/IHME_GBD_2010.csv\")  # Load the data\n",
    "gbd.head()                                   # Prints the first 5 observations"
   ]
  },
  {
   "cell_type": "code",
   "execution_count": 6,
   "metadata": {},
   "outputs": [
    {
     "data": {
      "text/plain": [
       "Country Code              object\n",
       "Country Name              object\n",
       "Year                       int64\n",
       "Age Group                 object\n",
       "Sex                       object\n",
       "Number of Deaths          object\n",
       "Death Rate Per 100,000    object\n",
       "dtype: object"
      ]
     },
     "execution_count": 6,
     "metadata": {},
     "output_type": "execute_result"
    }
   ],
   "source": [
    "gbd.dtypes    # Check the data types of the colums in the dataset"
   ]
  },
  {
   "cell_type": "code",
   "execution_count": 7,
   "metadata": {},
   "outputs": [
    {
     "data": {
      "text/plain": [
       "  Country Code Country Name  Year  Age Group     Sex  Number of Deaths  Death Rate Per 100,000\n",
       "0          AFG  Afghanistan  1970   0-6 days    Male             19241                318292.9\n",
       "1          AFG  Afghanistan  1970   0-6 days  Female             12600                219544.2\n",
       "2          AFG  Afghanistan  1970   0-6 days    Both             31840                270200.7\n",
       "3          AFG  Afghanistan  1970  7-27 days    Male             15939                 92701.0\n",
       "4          AFG  Afghanistan  1970  7-27 days  Female             11287                 68594.5"
      ]
     },
     "execution_count": 7,
     "metadata": {},
     "output_type": "execute_result"
    }
   ],
   "source": [
    "# Convert the dtype of a column from object to float64 to get the right results. \n",
    "\n",
    "gbd['Number of Deaths'] = gbd['Number of Deaths'].str.replace(',', '')\n",
    "gbd['Death Rate Per 100,000'] = gbd['Death Rate Per 100,000'].str.replace(',', '')\n",
    "gbd['Number of Deaths'] = pd.to_numeric(gbd['Number of Deaths'])\n",
    "gbd['Death Rate Per 100,000'] = pd.to_numeric(gbd['Death Rate Per 100,000'])\n",
    "\n",
    "gbd.head()"
   ]
  },
  {
   "cell_type": "code",
   "execution_count": 8,
   "metadata": {},
   "outputs": [
    {
     "data": {
      "text/plain": [
       "Country Code               object\n",
       "Country Name               object\n",
       "Year                        int64\n",
       "Age Group                  object\n",
       "Sex                        object\n",
       "Number of Deaths            int64\n",
       "Death Rate Per 100,000    float64\n",
       "dtype: object"
      ]
     },
     "execution_count": 8,
     "metadata": {},
     "output_type": "execute_result"
    }
   ],
   "source": [
    "gbd.dtypes "
   ]
  },
  {
   "cell_type": "code",
   "execution_count": 9,
   "metadata": {},
   "outputs": [
    {
     "name": "stdout",
     "output_type": "stream",
     "text": [
      "Index(['country_code', 'country_name', 'year', 'age_group', 'sex', 'deaths', 'death_rate'], dtype='object')\n"
     ]
    }
   ],
   "source": [
    "# Rename columns\n",
    "gbd.columns = ['country_code', 'country_name', 'year', 'age_group', 'sex', 'deaths', 'death_rate']\n",
    "print(gbd.columns)"
   ]
  },
  {
   "cell_type": "code",
   "execution_count": 10,
   "metadata": {},
   "outputs": [
    {
     "data": {
      "text/plain": [
       "country_name\n",
       "Afghanistan                                     5687183\n",
       "Albania                                          349413\n",
       "Algeria                                         3322568\n",
       "Andorra                                            8215\n",
       "Angola                                          3405986\n",
       "Antigua and Barbuda                                8856\n",
       "Argentina                                       5021838\n",
       "Armenia                                          478304\n",
       "Australia                                       2508926\n",
       "Austria                                         1703462\n",
       "Azerbaijan                                      1114032\n",
       "Bahamas                                           31294\n",
       "Bahrain                                           39052\n",
       "Bangladesh                                     21570855\n",
       "Barbados                                          43613\n",
       "Belarus                                         2259702\n",
       "Belgium                                         2209679\n",
       "Belize                                            24147\n",
       "Benin                                           1267430\n",
       "Bhutan                                           108084\n",
       "Bolivia                                         1214029\n",
       "Bosnia and Herzegovina                           622223\n",
       "Botswana                                         216495\n",
       "Brazil                                         19489395\n",
       "Brunei Darussalam                                 18939\n",
       "Bulgaria                                        2041662\n",
       "Burkina Faso                                    2938632\n",
       "Burundi                                         1757857\n",
       "Cambodia                                        1983315\n",
       "Cameroon                                        3042989\n",
       "Canada                                          4074768\n",
       "Cape Verde                                        46225\n",
       "Central African Republic                        1103339\n",
       "Chad                                            2008637\n",
       "Chile                                           1667391\n",
       "China                                         156849037\n",
       "Colombia                                        3629601\n",
       "Comoros                                           93207\n",
       "Congo                                            623184\n",
       "Congo, the Democratic Republic of the          11234619\n",
       "Costa Rica                                       270736\n",
       "Cote d'Ivoire                                   3123649\n",
       "Croatia                                          985640\n",
       "Cuba                                            1401177\n",
       "Cyprus                                            92972\n",
       "Czech Republic                                  2380312\n",
       "Denmark                                         1111327\n",
       "Djibouti                                          90405\n",
       "Dominica                                           9761\n",
       "Dominican Republic                               852301\n",
       "Ecuador                                         1164273\n",
       "Egypt                                           9380077\n",
       "El Salvador                                      782447\n",
       "Equatorial Guinea                                128869\n",
       "Eritrea                                          922191\n",
       "Estonia                                          347836\n",
       "Ethiopia                                       15116573\n",
       "Fiji                                              97615\n",
       "Finland                                          953452\n",
       "France                                         10748235\n",
       "Gabon                                            231755\n",
       "Gambia                                           220535\n",
       "Georgia                                          939565\n",
       "Germany                                        18111967\n",
       "Ghana                                           2864372\n",
       "Greece                                          1993211\n",
       "Grenada                                           15929\n",
       "Guatemala                                       1493119\n",
       "Guinea                                          1891486\n",
       "Guinea-Bissau                                    323214\n",
       "Guyana                                           118892\n",
       "Haiti                                           2516603\n",
       "Honduras                                         643986\n",
       "Hungary                                         2702176\n",
       "Iceland                                           34472\n",
       "India                                         188079240\n",
       "Indonesia                                      28061221\n",
       "Iran, Islamic Republic of                       7086522\n",
       "Iraq                                            2248003\n",
       "Ireland                                          634227\n",
       "Israel                                           639507\n",
       "Italy                                          11233301\n",
       "Jamaica                                          311508\n",
       "Japan                                          18051617\n",
       "Jordan                                           357219\n",
       "Kazakhstan                                      2973514\n",
       "Kenya                                           4349159\n",
       "Kiribati                                          13794\n",
       "Korea, Democratic People's Republic of          5286972\n",
       "Korea, Republic of                              4890065\n",
       "Kuwait                                            94846\n",
       "Kyrgyzstan                                       753874\n",
       "Lao People's Democratic Republic                 956510\n",
       "Latvia                                           621128\n",
       "Lebanon                                          348566\n",
       "Lesotho                                          440088\n",
       "Liberia                                          682930\n",
       "Libyan Arab Jamahiriya                           371389\n",
       "Lithuania                                        738773\n",
       "Luxembourg                                        79003\n",
       "Macedonia, the Former Yugoslav Republic of       313138\n",
       "Madagascar                                      2652780\n",
       "Malawi                                          3059600\n",
       "Malaysia                                        1842299\n",
       "Maldives                                          29692\n",
       "Mali                                            3251693\n",
       "Malta                                             53737\n",
       "Marshall Islands                                   6390\n",
       "Mauritania                                       385855\n",
       "Mauritius                                        147517\n",
       "Mexico                                          9712145\n",
       "Micronesia, Federated States of                   15698\n",
       "Moldova                                          814312\n",
       "Mongolia                                         412230\n",
       "Montenegro                                        94631\n",
       "Morocco                                         3534294\n",
       "Mozambique                                      4738216\n",
       "Myanmar                                         9044733\n",
       "Namibia                                          287225\n",
       "Nepal                                           3783687\n",
       "Netherlands                                     2534927\n",
       "New Zealand                                      540189\n",
       "Nicaragua                                        487859\n",
       "Niger                                           3000410\n",
       "Nigeria                                        26624172\n",
       "Norway                                           847309\n",
       "Occupied Palestinian Territory                   226266\n",
       "Oman                                             177320\n",
       "Pakistan                                       21344898\n",
       "Panama                                           234131\n",
       "Papua New Guinea                                 944455\n",
       "Paraguay                                         442861\n",
       "Peru                                            2865404\n",
       "Philippines                                     7376646\n",
       "Poland                                          7016184\n",
       "Portugal                                        2040440\n",
       "Qatar                                             25136\n",
       "Romania                                         4707668\n",
       "Russian Federation                             34541811\n",
       "Rwanda                                          1785263\n",
       "Saint Lucia                                       21105\n",
       "Saint Vincent and the Grenadines                  16296\n",
       "Samoa                                             18886\n",
       "Sao Tome and Principe                             19104\n",
       "Saudi Arabia                                    1298527\n",
       "Senegal                                         1592251\n",
       "Serbia                                          1640341\n",
       "Seychelles                                         7509\n",
       "Sierra Leone                                    1225259\n",
       "Singapore                                        255964\n",
       "Slovakia                                        1003447\n",
       "Slovenia                                         384722\n",
       "Solomon Islands                                   57367\n",
       "Somalia                                         1826378\n",
       "South Africa                                    6884382\n",
       "Spain                                           6805430\n",
       "Sri Lanka                                       2073695\n",
       "Sudan                                           4624323\n",
       "Suriname                                          58315\n",
       "Swaziland                                        210790\n",
       "Sweden                                          1809070\n",
       "Switzerland                                     1218964\n",
       "Syrian Arab Republic                            1135733\n",
       "Taiwan                                          2179807\n",
       "Tajikistan                                       837269\n",
       "Tanzania, United Republic of                    6096089\n",
       "Thailand                                        7262032\n",
       "Timor-Leste                                      142279\n",
       "Togo                                             837449\n",
       "Tonga                                             11732\n",
       "Trinidad and Tobago                              175644\n",
       "Tunisia                                          960396\n",
       "Turkey                                          7501076\n",
       "Turkmenistan                                     637044\n",
       "Uganda                                          4854173\n",
       "Ukraine                                        12518673\n",
       "United Arab Emirates                             121559\n",
       "United Kingdom                                 12735880\n",
       "United States                                  45128930\n",
       "Uruguay                                          593397\n",
       "Uzbekistan                                      2997697\n",
       "Vanuatu                                           26107\n",
       "Venezuela                                       1891674\n",
       "Viet Nam                                        8947408\n",
       "Yemen                                           2697944\n",
       "Zambia                                          2325708\n",
       "Zimbabwe                                        2162430\n",
       "Name: deaths, dtype: int64"
      ]
     },
     "execution_count": 10,
     "metadata": {},
     "output_type": "execute_result"
    }
   ],
   "source": [
    "grouped_by_country = gbd.groupby('country_name')\n",
    "deaths_by_country = grouped_by_country['deaths'].sum()\n",
    "deaths_by_country"
   ]
  },
  {
   "cell_type": "code",
   "execution_count": 11,
   "metadata": {},
   "outputs": [
    {
     "data": {
      "text/plain": [
       "  country_code country_name  year    age_group     sex  deaths  death_rate\n",
       "0          AFG  Afghanistan  1970     0-6 days    Male   19241    318292.9\n",
       "1          AFG  Afghanistan  1970     0-6 days  Female   12600    219544.2\n",
       "3          AFG  Afghanistan  1970    7-27 days    Male   15939     92701.0\n",
       "4          AFG  Afghanistan  1970    7-27 days  Female   11287     68594.5\n",
       "6          AFG  Afghanistan  1970  28-364 days    Male   37513     15040.1"
      ]
     },
     "execution_count": 11,
     "metadata": {},
     "output_type": "execute_result"
    }
   ],
   "source": [
    "# Removed rows containing 'Sex' as 'Both' as it contained sum of 'Number of deaths' of both males and females\n",
    "\n",
    "gbd = gbd.loc[gbd['sex'] != 'Both']\n",
    "gbd = gbd.loc[gbd['age_group'] != 'All ages']\n",
    "gbd.head()      # Removed rows containing 'Sex' as 'Both' as it contained sum of 'Number of deaths' of both males and females"
   ]
  },
  {
   "cell_type": "code",
   "execution_count": 12,
   "metadata": {},
   "outputs": [
    {
     "data": {
      "text/plain": [
       "year\n",
       "1970    43216558\n",
       "1980    43941805\n",
       "1990    46425545\n",
       "2000    51013144\n",
       "2010    52641962\n",
       "Name: deaths, dtype: int64"
      ]
     },
     "execution_count": 12,
     "metadata": {},
     "output_type": "execute_result"
    }
   ],
   "source": [
    "grouped_by_year = gbd.groupby('year')\n",
    "deaths_by_year = grouped_by_year['deaths'].sum()\n",
    "deaths_by_year"
   ]
  },
  {
   "cell_type": "code",
   "execution_count": 13,
   "metadata": {},
   "outputs": [
    {
     "data": {
      "text/plain": [
       "age_group\n",
       "0-6 days       14939556\n",
       "1-4 years      18341382\n",
       "10-14 years     2257427\n",
       "15-19 years     3584038\n",
       "20-24 years     4686614\n",
       "25-29 years     4939517\n",
       "28-364 days    17858532\n",
       "30-34 years     5150472\n",
       "35-39 years     5859312\n",
       "40-44 years     6660450\n",
       "45-49 years     8032675\n",
       "5-9 years       3429181\n",
       "50-54 years    10081494\n",
       "55-59 years    12401154\n",
       "60-64 years    15607129\n",
       "65-69 years    18101174\n",
       "7-27 days       6395826\n",
       "70-74 years    20544807\n",
       "75-79 years    20623981\n",
       "80+ years      37744293\n",
       "Name: deaths, dtype: int64"
      ]
     },
     "execution_count": 13,
     "metadata": {},
     "output_type": "execute_result"
    }
   ],
   "source": [
    "grouped_by_age = gbd.groupby('age_group')\n",
    "deaths_by_age = grouped_by_age['deaths'].sum()\n",
    "deaths_by_age"
   ]
  },
  {
   "cell_type": "code",
   "execution_count": 14,
   "metadata": {},
   "outputs": [
    {
     "data": {
      "text/plain": [
       "country_name\n",
       "Afghanistan                                    1421793\n",
       "Albania                                          87349\n",
       "Algeria                                         830646\n",
       "Andorra                                           2044\n",
       "Angola                                          851498\n",
       "Antigua and Barbuda                               2211\n",
       "Argentina                                      1255462\n",
       "Armenia                                         119578\n",
       "Australia                                       627232\n",
       "Austria                                         425868\n",
       "Azerbaijan                                      278510\n",
       "Bahamas                                           7823\n",
       "Bahrain                                           9761\n",
       "Bangladesh                                     5392723\n",
       "Barbados                                         10902\n",
       "Belarus                                         564926\n",
       "Belgium                                         552425\n",
       "Belize                                            6034\n",
       "Benin                                           316857\n",
       "Bhutan                                           27022\n",
       "Bolivia                                         303507\n",
       "Bosnia and Herzegovina                          155555\n",
       "Botswana                                         54118\n",
       "Brazil                                         4872350\n",
       "Brunei Darussalam                                 4734\n",
       "Bulgaria                                        510417\n",
       "Burkina Faso                                    734654\n",
       "Burundi                                         439467\n",
       "Cambodia                                        495823\n",
       "Cameroon                                        760743\n",
       "Canada                                         1018690\n",
       "Cape Verde                                       11558\n",
       "Central African Republic                        275837\n",
       "Chad                                            502160\n",
       "Chile                                           416852\n",
       "China                                         39212259\n",
       "Colombia                                        907397\n",
       "Comoros                                          23302\n",
       "Congo                                           155797\n",
       "Congo, the Democratic Republic of the          2808661\n",
       "Costa Rica                                       67682\n",
       "Cote d'Ivoire                                   780910\n",
       "Croatia                                         246410\n",
       "Cuba                                            350296\n",
       "Cyprus                                           23240\n",
       "Czech Republic                                  595071\n",
       "Denmark                                         277837\n",
       "Djibouti                                         22605\n",
       "Dominica                                          2436\n",
       "Dominican Republic                              213073\n",
       "Ecuador                                         291069\n",
       "Egypt                                          2345018\n",
       "El Salvador                                     195616\n",
       "Equatorial Guinea                                32215\n",
       "Eritrea                                         230552\n",
       "Estonia                                          86962\n",
       "Ethiopia                                       3779141\n",
       "Fiji                                             24404\n",
       "Finland                                         238364\n",
       "France                                         2687060\n",
       "Gabon                                            57941\n",
       "Gambia                                           55134\n",
       "Georgia                                         234887\n",
       "Germany                                        4527991\n",
       "Ghana                                           716096\n",
       "Greece                                          498300\n",
       "Grenada                                           3983\n",
       "Guatemala                                       373282\n",
       "Guinea                                          472871\n",
       "Guinea-Bissau                                    80800\n",
       "Guyana                                           29720\n",
       "Haiti                                           629147\n",
       "Honduras                                        160995\n",
       "Hungary                                         675546\n",
       "Iceland                                           8621\n",
       "India                                         47019810\n",
       "Indonesia                                      7015303\n",
       "Iran, Islamic Republic of                      1771630\n",
       "Iraq                                            562008\n",
       "Ireland                                         158553\n",
       "Israel                                          159874\n",
       "Italy                                          2808320\n",
       "Jamaica                                          77873\n",
       "Japan                                          4512900\n",
       "Jordan                                           89304\n",
       "Kazakhstan                                      743375\n",
       "Kenya                                          1087290\n",
       "Kiribati                                          3446\n",
       "Korea, Democratic People's Republic of         1321742\n",
       "Korea, Republic of                             1222522\n",
       "Kuwait                                           23716\n",
       "Kyrgyzstan                                      188474\n",
       "Lao People's Democratic Republic                239128\n",
       "Latvia                                          155280\n",
       "Lebanon                                          87144\n",
       "Lesotho                                         110021\n",
       "Liberia                                         170733\n",
       "Libyan Arab Jamahiriya                           92844\n",
       "Lithuania                                       184695\n",
       "Luxembourg                                       19748\n",
       "Macedonia, the Former Yugoslav Republic of       78278\n",
       "Madagascar                                      663192\n",
       "Malawi                                          764905\n",
       "Malaysia                                        460580\n",
       "Maldives                                          7421\n",
       "Mali                                            812924\n",
       "Malta                                            13436\n",
       "Marshall Islands                                  1598\n",
       "Mauritania                                       96468\n",
       "Mauritius                                        36885\n",
       "Mexico                                         2428038\n",
       "Micronesia, Federated States of                   3931\n",
       "Moldova                                         203577\n",
       "Mongolia                                        103063\n",
       "Montenegro                                       23658\n",
       "Morocco                                         883571\n",
       "Mozambique                                     1184554\n",
       "Myanmar                                        2261186\n",
       "Namibia                                          71806\n",
       "Nepal                                           945918\n",
       "Netherlands                                     633729\n",
       "New Zealand                                     135047\n",
       "Nicaragua                                       121964\n",
       "Niger                                           750103\n",
       "Nigeria                                        6656045\n",
       "Norway                                          211833\n",
       "Occupied Palestinian Territory                   56566\n",
       "Oman                                             44335\n",
       "Pakistan                                       5336228\n",
       "Panama                                           58532\n",
       "Papua New Guinea                                236119\n",
       "Paraguay                                        110715\n",
       "Peru                                            716351\n",
       "Philippines                                    1844162\n",
       "Poland                                         1754046\n",
       "Portugal                                        510110\n",
       "Qatar                                             6277\n",
       "Romania                                        1176916\n",
       "Russian Federation                             8635456\n",
       "Rwanda                                          446322\n",
       "Saint Lucia                                       5279\n",
       "Saint Vincent and the Grenadines                  4071\n",
       "Samoa                                             4723\n",
       "Sao Tome and Principe                             4777\n",
       "Saudi Arabia                                    324632\n",
       "Senegal                                         398068\n",
       "Serbia                                          410087\n",
       "Seychelles                                        1883\n",
       "Sierra Leone                                    306315\n",
       "Singapore                                        63993\n",
       "Slovakia                                        250863\n",
       "Slovenia                                         96185\n",
       "Solomon Islands                                  14341\n",
       "Somalia                                         456593\n",
       "South Africa                                   1721092\n",
       "Spain                                          1701359\n",
       "Sri Lanka                                       518424\n",
       "Sudan                                          1156080\n",
       "Suriname                                         14576\n",
       "Swaziland                                        52697\n",
       "Sweden                                          452274\n",
       "Switzerland                                     304744\n",
       "Syrian Arab Republic                            283929\n",
       "Taiwan                                          544954\n",
       "Tajikistan                                      209319\n",
       "Tanzania, United Republic of                   1524027\n",
       "Thailand                                       1815507\n",
       "Timor-Leste                                      35577\n",
       "Togo                                            209363\n",
       "Tonga                                             2936\n",
       "Trinidad and Tobago                              43911\n",
       "Tunisia                                         240102\n",
       "Turkey                                         1875270\n",
       "Turkmenistan                                    159263\n",
       "Uganda                                         1213544\n",
       "Ukraine                                        3129668\n",
       "United Arab Emirates                             30389\n",
       "United Kingdom                                 3183965\n",
       "United States                                 11282233\n",
       "Uruguay                                         148354\n",
       "Uzbekistan                                      749425\n",
       "Vanuatu                                           6529\n",
       "Venezuela                                       472917\n",
       "Viet Nam                                       2236849\n",
       "Yemen                                           674492\n",
       "Zambia                                          581422\n",
       "Zimbabwe                                        540615\n",
       "Name: deaths, dtype: int64"
      ]
     },
     "execution_count": 14,
     "metadata": {},
     "output_type": "execute_result"
    }
   ],
   "source": [
    "grouped_by_country = gbd.groupby('country_name')\n",
    "deaths_by_country = grouped_by_country['deaths'].sum()\n",
    "deaths_by_country"
   ]
  },
  {
   "cell_type": "code",
   "execution_count": 15,
   "metadata": {},
   "outputs": [
    {
     "data": {
      "text/plain": [
       "sex\n",
       "Female    109268759\n",
       "Male      127970255\n",
       "Name: deaths, dtype: int64"
      ]
     },
     "execution_count": 15,
     "metadata": {},
     "output_type": "execute_result"
    }
   ],
   "source": [
    "grouped_by_sex = gbd.groupby('sex')\n",
    "deaths_by_sex = grouped_by_sex['deaths'].sum()\n",
    "deaths_by_sex"
   ]
  },
  {
   "cell_type": "code",
   "execution_count": 16,
   "metadata": {},
   "outputs": [
    {
     "data": {
      "text/plain": [
       "<matplotlib.axes._subplots.AxesSubplot at 0x14fb6c69470>"
      ]
     },
     "execution_count": 16,
     "metadata": {},
     "output_type": "execute_result"
    },
    {
     "data": {
      "image/png": "[encoded data removed]",
      "text/plain": [
       "<matplotlib.figure.Figure at 0x14fb6c695f8>"
      ]
     },
     "metadata": {},
     "output_type": "display_data"
    }
   ],
   "source": [
    "gbd.groupby('sex')['deaths'].sum().plot(kind='bar')"
   ]
  },
  {
   "cell_type": "code",
   "execution_count": 17,
   "metadata": {},
   "outputs": [
    {
     "data": {
      "text/plain": [
       "<matplotlib.axes._subplots.AxesSubplot at 0x14fb6d472e8>"
      ]
     },
     "execution_count": 17,
     "metadata": {},
     "output_type": "execute_result"
    },
    {
     "data": {
      "image/png": "[encoded data removed]",
      "text/plain": [
       "<matplotlib.figure.Figure at 0x14fb6d5b0f0>"
      ]
     },
     "metadata": {},
     "output_type": "display_data"
    }
   ],
   "source": [
    "gbd.groupby('age_group')['deaths'].sum().plot(kind='bar')"
   ]
  },
  {
   "cell_type": "code",
   "execution_count": null,
   "metadata": {},
   "outputs": [],
   "source": [
    "gbd.groupby('year')['deaths'].sum().plot(kind='bar')"
   ]
  },
  {
   "cell_type": "code",
   "execution_count": null,
   "metadata": {
    "collapsed": true
   },
   "outputs": [],
   "source": [
    "death_counts = pd.crosstab([gbd.year, gbd.sex], gbd.deaths)\n",
    "death_counts.plot(kind='bar', stacked=True, color=['black','gold'], grid=False)"
   ]
  },
  {
   "cell_type": "code",
   "execution_count": null,
   "metadata": {
    "collapsed": true
   },
   "outputs": [],
   "source": []
  }
 ],
 "metadata": {
  "kernelspec": {
   "display_name": "Python 3",
   "language": "python",
   "name": "python3"
  },
  "language_info": {
   "codemirror_mode": {
    "name": "ipython",
    "version": 3
   },
   "file_extension": ".py",
   "mimetype": "text/x-python",
   "name": "python",
   "nbconvert_exporter": "python",
   "pygments_lexer": "ipython3",
   "version": "3.6.1"
  }
 },
 "nbformat": 4,
 "nbformat_minor": 2
}
