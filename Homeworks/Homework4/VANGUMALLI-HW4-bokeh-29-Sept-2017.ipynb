{
 "cells": [
  {
   "cell_type": "markdown",
   "metadata": {},
   "source": [
    "## Bokeh Tutorial"
   ]
  },
  {
   "cell_type": "code",
   "execution_count": 2,
   "metadata": {
    "collapsed": true
   },
   "outputs": [],
   "source": [
    "# Import libraries required\n",
    "\n",
    "%matplotlib inline\n",
    "import pandas as pd\n",
    "import numpy as np\n",
    "import matplotlib as mpl\n",
    "import matplotlib.pyplot as plt\n",
    "import math\n",
    "\n",
    "# Set some Pandas options\n",
    "pd.set_option('display.notebook_repr_html', False)\n",
    "pd.set_option('display.max_rows', 250)\n",
    "pd.set_option('display.max_columns', 250)\n",
    "pd.set_option('display.width', 200)"
   ]
  },
  {
   "cell_type": "code",
   "execution_count": 3,
   "metadata": {},
   "outputs": [
    {
     "name": "stdout",
     "output_type": "stream",
     "text": [
      "Bokeh - 0.12.9\n",
      "Seaborn - 0.8.0\n"
     ]
    }
   ],
   "source": [
    "# Check the installed versions of Bokeh and Seaborn\n",
    "\n",
    "from bokeh import __version__ as bokeh_version\n",
    "print(\"Bokeh - %s\" % bokeh_version)              \n",
    "from seaborn import __version__ as seaborn_version\n",
    "print(\"Seaborn - %s\" % seaborn_version)   "
   ]
  },
  {
   "cell_type": "code",
   "execution_count": 4,
   "metadata": {},
   "outputs": [
    {
     "data": {
      "text/html": [
       "\n",
       "    <div class=\"bk-root\">\n",
       "        <a href=\"https://bokeh.pydata.org\" target=\"_blank\" class=\"bk-logo bk-logo-small bk-logo-notebook\"></a>\n",
       "        <span id=\"6555508b-3a0f-4ec6-9d92-64d580bba336\">Loading BokehJS ...</span>\n",
       "    </div>"
      ]
     },
     "metadata": {},
     "output_type": "display_data"
    },
    {
     "data": {
      "application/javascript": [
       "\n",
       "(function(root) {\n",
       "  function now() {\n",
       "    return new Date();\n",
       "  }\n",
       "\n",
       "  var force = true;\n",
       "\n",
       "  if (typeof (root._bokeh_onload_callbacks) === \"undefined\" || force === true) {\n",
       "    root._bokeh_onload_callbacks = [];\n",
       "    root._bokeh_is_loading = undefined;\n",
       "  }\n",
       "\n",
       "  var JS_MIME_TYPE = 'application/javascript';\n",
       "  var HTML_MIME_TYPE = 'text/html';\n",
       "  var EXEC_MIME_TYPE = 'application/vnd.bokehjs_exec.v0+json';\n",
       "  var CLASS_NAME = 'output_bokeh rendered_html';\n",
       "\n",
       "  /**\n",
       "   * Render data to the DOM node\n",
       "   */\n",
       "  function render(props, node) {\n",
       "    var script = document.createElement(\"script\");\n",
       "    node.appendChild(script);\n",
       "  }\n",
       "\n",
       "  /**\n",
       "   * Handle when an output is cleared or removed\n",
       "   */\n",
       "  function handleClearOutput(event, handle) {\n",
       "    var cell = handle.cell;\n",
       "\n",
       "    var id = cell.output_area._bokeh_element_id;\n",
       "    var server_id = cell.output_area._bokeh_server_id;\n",
       "    // Clean up Bokeh references\n",
       "    if (id !== undefined) {\n",
       "      Bokeh.index[id].model.document.clear();\n",
       "      delete Bokeh.index[id];\n",
       "    }\n",
       "\n",
       "    if (server_id !== undefined) {\n",
       "      // Clean up Bokeh references\n",
       "      var cmd = \"from bokeh.io import _state; print(_state.uuid_to_server['\" + server_id + \"'].get_sessions()[0].document.roots[0]._id)\";\n",
       "      cell.notebook.kernel.execute(cmd, {\n",
       "        iopub: {\n",
       "          output: function(msg) {\n",
       "            var element_id = msg.content.text.trim();\n",
       "            Bokeh.index[element_id].model.document.clear();\n",
       "            delete Bokeh.index[element_id];\n",
       "          }\n",
       "        }\n",
       "      });\n",
       "      // Destroy server and session\n",
       "      var cmd = \"from bokeh import io; io._destroy_server('\" + server_id + \"')\";\n",
       "      cell.notebook.kernel.execute(cmd);\n",
       "    }\n",
       "  }\n",
       "\n",
       "  /**\n",
       "   * Handle when a new output is added\n",
       "   */\n",
       "  function handleAddOutput(event, handle) {\n",
       "    var output_area = handle.output_area;\n",
       "    var output = handle.output;\n",
       "\n",
       "    // limit handleAddOutput to display_data with EXEC_MIME_TYPE content only\n",
       "    if ((output.output_type != \"display_data\") || (!output.data.hasOwnProperty(EXEC_MIME_TYPE))) {\n",
       "      return\n",
       "    }\n",
       "\n",
       "    var toinsert = output_area.element.find(`.${CLASS_NAME.split(' ')[0]}`);\n",
       "\n",
       "    if (output.metadata[EXEC_MIME_TYPE][\"id\"] !== undefined) {\n",
       "      toinsert[0].firstChild.textContent = output.data[JS_MIME_TYPE];\n",
       "      // store reference to embed id on output_area\n",
       "      output_area._bokeh_element_id = output.metadata[EXEC_MIME_TYPE][\"id\"];\n",
       "    }\n",
       "    if (output.metadata[EXEC_MIME_TYPE][\"server_id\"] !== undefined) {\n",
       "      var bk_div = document.createElement(\"div\");\n",
       "      bk_div.innerHTML = output.data[HTML_MIME_TYPE];\n",
       "      var script_attrs = bk_div.children[0].attributes;\n",
       "      for (var i = 0; i < script_attrs.length; i++) {\n",
       "        toinsert[0].firstChild.setAttribute(script_attrs[i].name, script_attrs[i].value);\n",
       "      }\n",
       "      // store reference to server id on output_area\n",
       "      output_area._bokeh_server_id = output.metadata[EXEC_MIME_TYPE][\"server_id\"];\n",
       "    }\n",
       "  }\n",
       "\n",
       "  function register_renderer(events, OutputArea) {\n",
       "\n",
       "    function append_mime(data, metadata, element) {\n",
       "      // create a DOM node to render to\n",
       "      var toinsert = this.create_output_subarea(\n",
       "        metadata,\n",
       "        CLASS_NAME,\n",
       "        EXEC_MIME_TYPE\n",
       "      );\n",
       "      this.keyboard_manager.register_events(toinsert);\n",
       "      // Render to node\n",
       "      var props = {data: data, metadata: metadata[EXEC_MIME_TYPE]};\n",
       "      render(props, toinsert[0]);\n",
       "      element.append(toinsert);\n",
       "      return toinsert\n",
       "    }\n",
       "\n",
       "    /* Handle when an output is cleared or removed */\n",
       "    events.on('clear_output.CodeCell', handleClearOutput);\n",
       "    events.on('delete.Cell', handleClearOutput);\n",
       "\n",
       "    /* Handle when a new output is added */\n",
       "    events.on('output_added.OutputArea', handleAddOutput);\n",
       "\n",
       "    /**\n",
       "     * Register the mime type and append_mime function with output_area\n",
       "     */\n",
       "    OutputArea.prototype.register_mime_type(EXEC_MIME_TYPE, append_mime, {\n",
       "      /* Is output safe? */\n",
       "      safe: true,\n",
       "      /* Index of renderer in `output_area.display_order` */\n",
       "      index: 0\n",
       "    });\n",
       "  }\n",
       "\n",
       "  // register the mime type if in Jupyter Notebook environment and previously unregistered\n",
       "  if (root.Jupyter !== undefined) {\n",
       "    var events = require('base/js/events');\n",
       "    var OutputArea = require('notebook/js/outputarea').OutputArea;\n",
       "\n",
       "    if (OutputArea.prototype.mime_types().indexOf(EXEC_MIME_TYPE) == -1) {\n",
       "      register_renderer(events, OutputArea);\n",
       "    }\n",
       "  }\n",
       "\n",
       "  \n",
       "  if (typeof (root._bokeh_timeout) === \"undefined\" || force === true) {\n",
       "    root._bokeh_timeout = Date.now() + 5000;\n",
       "    root._bokeh_failed_load = false;\n",
       "  }\n",
       "\n",
       "  var NB_LOAD_WARNING = {'data': {'text/html':\n",
       "     \"<div style='background-color: #fdd'>\\n\"+\n",
       "     \"<p>\\n\"+\n",
       "     \"BokehJS does not appear to have successfully loaded. If loading BokehJS from CDN, this \\n\"+\n",
       "     \"may be due to a slow or bad network connection. Possible fixes:\\n\"+\n",
       "     \"</p>\\n\"+\n",
       "     \"<ul>\\n\"+\n",
       "     \"<li>re-rerun `output_notebook()` to attempt to load from CDN again, or</li>\\n\"+\n",
       "     \"<li>use INLINE resources instead, as so:</li>\\n\"+\n",
       "     \"</ul>\\n\"+\n",
       "     \"<code>\\n\"+\n",
       "     \"from bokeh.resources import INLINE\\n\"+\n",
       "     \"output_notebook(resources=INLINE)\\n\"+\n",
       "     \"</code>\\n\"+\n",
       "     \"</div>\"}};\n",
       "\n",
       "  function display_loaded() {\n",
       "    var el = document.getElementById(\"6555508b-3a0f-4ec6-9d92-64d580bba336\");\n",
       "    if (el != null) {\n",
       "      el.textContent = \"BokehJS is loading...\";\n",
       "    }\n",
       "    if (root.Bokeh !== undefined) {\n",
       "      if (el != null) {\n",
       "        el.textContent = \"BokehJS \" + root.Bokeh.version + \" successfully loaded.\";\n",
       "      }\n",
       "    } else if (Date.now() < root._bokeh_timeout) {\n",
       "      setTimeout(display_loaded, 100)\n",
       "    }\n",
       "  }\n",
       "\n",
       "\n",
       "  function run_callbacks() {\n",
       "    try {\n",
       "      root._bokeh_onload_callbacks.forEach(function(callback) { callback() });\n",
       "    }\n",
       "    finally {\n",
       "      delete root._bokeh_onload_callbacks\n",
       "    }\n",
       "    console.info(\"Bokeh: all callbacks have finished\");\n",
       "  }\n",
       "\n",
       "  function load_libs(js_urls, callback) {\n",
       "    root._bokeh_onload_callbacks.push(callback);\n",
       "    if (root._bokeh_is_loading > 0) {\n",
       "      console.log(\"Bokeh: BokehJS is being loaded, scheduling callback at\", now());\n",
       "      return null;\n",
       "    }\n",
       "    if (js_urls == null || js_urls.length === 0) {\n",
       "      run_callbacks();\n",
       "      return null;\n",
       "    }\n",
       "    console.log(\"Bokeh: BokehJS not loaded, scheduling load and callback at\", now());\n",
       "    root._bokeh_is_loading = js_urls.length;\n",
       "    for (var i = 0; i < js_urls.length; i++) {\n",
       "      var url = js_urls[i];\n",
       "      var s = document.createElement('script');\n",
       "      s.src = url;\n",
       "      s.async = false;\n",
       "      s.onreadystatechange = s.onload = function() {\n",
       "        root._bokeh_is_loading--;\n",
       "        if (root._bokeh_is_loading === 0) {\n",
       "          console.log(\"Bokeh: all BokehJS libraries loaded\");\n",
       "          run_callbacks()\n",
       "        }\n",
       "      };\n",
       "      s.onerror = function() {\n",
       "        console.warn(\"failed to load library \" + url);\n",
       "      };\n",
       "      console.log(\"Bokeh: injecting script tag for BokehJS library: \", url);\n",
       "      document.getElementsByTagName(\"head\")[0].appendChild(s);\n",
       "    }\n",
       "  };var element = document.getElementById(\"6555508b-3a0f-4ec6-9d92-64d580bba336\");\n",
       "  if (element == null) {\n",
       "    console.log(\"Bokeh: ERROR: autoload.js configured with elementid '6555508b-3a0f-4ec6-9d92-64d580bba336' but no matching script tag was found. \")\n",
       "    return false;\n",
       "  }\n",
       "\n",
       "  var js_urls = [\"https://cdn.pydata.org/bokeh/release/bokeh-0.12.9.min.js\", \"https://cdn.pydata.org/bokeh/release/bokeh-widgets-0.12.9.min.js\", \"https://cdn.pydata.org/bokeh/release/bokeh-tables-0.12.9.min.js\", \"https://cdn.pydata.org/bokeh/release/bokeh-gl-0.12.9.min.js\"];\n",
       "\n",
       "  var inline_js = [\n",
       "    function(Bokeh) {\n",
       "      Bokeh.set_log_level(\"info\");\n",
       "    },\n",
       "    \n",
       "    function(Bokeh) {\n",
       "      \n",
       "    },\n",
       "    function(Bokeh) {\n",
       "      console.log(\"Bokeh: injecting CSS: https://cdn.pydata.org/bokeh/release/bokeh-0.12.9.min.css\");\n",
       "      Bokeh.embed.inject_css(\"https://cdn.pydata.org/bokeh/release/bokeh-0.12.9.min.css\");\n",
       "      console.log(\"Bokeh: injecting CSS: https://cdn.pydata.org/bokeh/release/bokeh-widgets-0.12.9.min.css\");\n",
       "      Bokeh.embed.inject_css(\"https://cdn.pydata.org/bokeh/release/bokeh-widgets-0.12.9.min.css\");\n",
       "      console.log(\"Bokeh: injecting CSS: https://cdn.pydata.org/bokeh/release/bokeh-tables-0.12.9.min.css\");\n",
       "      Bokeh.embed.inject_css(\"https://cdn.pydata.org/bokeh/release/bokeh-tables-0.12.9.min.css\");\n",
       "    }\n",
       "  ];\n",
       "\n",
       "  function run_inline_js() {\n",
       "    \n",
       "    if ((root.Bokeh !== undefined) || (force === true)) {\n",
       "      for (var i = 0; i < inline_js.length; i++) {\n",
       "        inline_js[i].call(root, root.Bokeh);\n",
       "      }if (force === true) {\n",
       "        display_loaded();\n",
       "      }} else if (Date.now() < root._bokeh_timeout) {\n",
       "      setTimeout(run_inline_js, 100);\n",
       "    } else if (!root._bokeh_failed_load) {\n",
       "      console.log(\"Bokeh: BokehJS failed to load within specified timeout.\");\n",
       "      root._bokeh_failed_load = true;\n",
       "    } else if (force !== true) {\n",
       "      var cell = $(document.getElementById(\"6555508b-3a0f-4ec6-9d92-64d580bba336\")).parents('.cell').data().cell;\n",
       "      cell.output_area.append_execute_result(NB_LOAD_WARNING)\n",
       "    }\n",
       "\n",
       "  }\n",
       "\n",
       "  if (root._bokeh_is_loading === 0) {\n",
       "    console.log(\"Bokeh: BokehJS loaded, going straight to plotting\");\n",
       "    run_inline_js();\n",
       "  } else {\n",
       "    load_libs(js_urls, function() {\n",
       "      console.log(\"Bokeh: BokehJS plotting callback run at\", now());\n",
       "      run_inline_js();\n",
       "    });\n",
       "  }\n",
       "}(window));"
      ],
      "application/vnd.bokehjs_load.v0+json": "\n(function(root) {\n  function now() {\n    return new Date();\n  }\n\n  var force = true;\n\n  if (typeof (root._bokeh_onload_callbacks) === \"undefined\" || force === true) {\n    root._bokeh_onload_callbacks = [];\n    root._bokeh_is_loading = undefined;\n  }\n\n  \n\n  \n  if (typeof (root._bokeh_timeout) === \"undefined\" || force === true) {\n    root._bokeh_timeout = Date.now() + 5000;\n    root._bokeh_failed_load = false;\n  }\n\n  var NB_LOAD_WARNING = {'data': {'text/html':\n     \"<div style='background-color: #fdd'>\\n\"+\n     \"<p>\\n\"+\n     \"BokehJS does not appear to have successfully loaded. If loading BokehJS from CDN, this \\n\"+\n     \"may be due to a slow or bad network connection. Possible fixes:\\n\"+\n     \"</p>\\n\"+\n     \"<ul>\\n\"+\n     \"<li>re-rerun `output_notebook()` to attempt to load from CDN again, or</li>\\n\"+\n     \"<li>use INLINE resources instead, as so:</li>\\n\"+\n     \"</ul>\\n\"+\n     \"<code>\\n\"+\n     \"from bokeh.resources import INLINE\\n\"+\n     \"output_notebook(resources=INLINE)\\n\"+\n     \"</code>\\n\"+\n     \"</div>\"}};\n\n  function display_loaded() {\n    var el = document.getElementById(\"6555508b-3a0f-4ec6-9d92-64d580bba336\");\n    if (el != null) {\n      el.textContent = \"BokehJS is loading...\";\n    }\n    if (root.Bokeh !== undefined) {\n      if (el != null) {\n        el.textContent = \"BokehJS \" + root.Bokeh.version + \" successfully loaded.\";\n      }\n    } else if (Date.now() < root._bokeh_timeout) {\n      setTimeout(display_loaded, 100)\n    }\n  }\n\n\n  function run_callbacks() {\n    try {\n      root._bokeh_onload_callbacks.forEach(function(callback) { callback() });\n    }\n    finally {\n      delete root._bokeh_onload_callbacks\n    }\n    console.info(\"Bokeh: all callbacks have finished\");\n  }\n\n  function load_libs(js_urls, callback) {\n    root._bokeh_onload_callbacks.push(callback);\n    if (root._bokeh_is_loading > 0) {\n      console.log(\"Bokeh: BokehJS is being loaded, scheduling callback at\", now());\n      return null;\n    }\n    if (js_urls == null || js_urls.length === 0) {\n      run_callbacks();\n      return null;\n    }\n    console.log(\"Bokeh: BokehJS not loaded, scheduling load and callback at\", now());\n    root._bokeh_is_loading = js_urls.length;\n    for (var i = 0; i < js_urls.length; i++) {\n      var url = js_urls[i];\n      var s = document.createElement('script');\n      s.src = url;\n      s.async = false;\n      s.onreadystatechange = s.onload = function() {\n        root._bokeh_is_loading--;\n        if (root._bokeh_is_loading === 0) {\n          console.log(\"Bokeh: all BokehJS libraries loaded\");\n          run_callbacks()\n        }\n      };\n      s.onerror = function() {\n        console.warn(\"failed to load library \" + url);\n      };\n      console.log(\"Bokeh: injecting script tag for BokehJS library: \", url);\n      document.getElementsByTagName(\"head\")[0].appendChild(s);\n    }\n  };var element = document.getElementById(\"6555508b-3a0f-4ec6-9d92-64d580bba336\");\n  if (element == null) {\n    console.log(\"Bokeh: ERROR: autoload.js configured with elementid '6555508b-3a0f-4ec6-9d92-64d580bba336' but no matching script tag was found. \")\n    return false;\n  }\n\n  var js_urls = [\"https://cdn.pydata.org/bokeh/release/bokeh-0.12.9.min.js\", \"https://cdn.pydata.org/bokeh/release/bokeh-widgets-0.12.9.min.js\", \"https://cdn.pydata.org/bokeh/release/bokeh-tables-0.12.9.min.js\", \"https://cdn.pydata.org/bokeh/release/bokeh-gl-0.12.9.min.js\"];\n\n  var inline_js = [\n    function(Bokeh) {\n      Bokeh.set_log_level(\"info\");\n    },\n    \n    function(Bokeh) {\n      \n    },\n    function(Bokeh) {\n      console.log(\"Bokeh: injecting CSS: https://cdn.pydata.org/bokeh/release/bokeh-0.12.9.min.css\");\n      Bokeh.embed.inject_css(\"https://cdn.pydata.org/bokeh/release/bokeh-0.12.9.min.css\");\n      console.log(\"Bokeh: injecting CSS: https://cdn.pydata.org/bokeh/release/bokeh-widgets-0.12.9.min.css\");\n      Bokeh.embed.inject_css(\"https://cdn.pydata.org/bokeh/release/bokeh-widgets-0.12.9.min.css\");\n      console.log(\"Bokeh: injecting CSS: https://cdn.pydata.org/bokeh/release/bokeh-tables-0.12.9.min.css\");\n      Bokeh.embed.inject_css(\"https://cdn.pydata.org/bokeh/release/bokeh-tables-0.12.9.min.css\");\n    }\n  ];\n\n  function run_inline_js() {\n    \n    if ((root.Bokeh !== undefined) || (force === true)) {\n      for (var i = 0; i < inline_js.length; i++) {\n        inline_js[i].call(root, root.Bokeh);\n      }if (force === true) {\n        display_loaded();\n      }} else if (Date.now() < root._bokeh_timeout) {\n      setTimeout(run_inline_js, 100);\n    } else if (!root._bokeh_failed_load) {\n      console.log(\"Bokeh: BokehJS failed to load within specified timeout.\");\n      root._bokeh_failed_load = true;\n    } else if (force !== true) {\n      var cell = $(document.getElementById(\"6555508b-3a0f-4ec6-9d92-64d580bba336\")).parents('.cell').data().cell;\n      cell.output_area.append_execute_result(NB_LOAD_WARNING)\n    }\n\n  }\n\n  if (root._bokeh_is_loading === 0) {\n    console.log(\"Bokeh: BokehJS loaded, going straight to plotting\");\n    run_inline_js();\n  } else {\n    load_libs(js_urls, function() {\n      console.log(\"Bokeh: BokehJS plotting callback run at\", now());\n      run_inline_js();\n    });\n  }\n}(window));"
     },
     "metadata": {},
     "output_type": "display_data"
    }
   ],
   "source": [
    "# Import the required libraries for seaborn and bokeh\n",
    "\n",
    "import seaborn as sns\n",
    "from bokeh.io import show, output_notebook\n",
    "from bokeh.plotting import figure\n",
    "from bokeh.models import ColumnDataSource\n",
    "from bokeh.palettes import Spectral5\n",
    "from bokeh.transform import factor_cmap\n",
    "output_notebook()"
   ]
  },
  {
   "cell_type": "code",
   "execution_count": 5,
   "metadata": {},
   "outputs": [],
   "source": [
    "# Download the sample data from the bokeh library\n",
    "\n",
    "#import bokeh.sampledata\n",
    "#bokeh.sampledata.download() "
   ]
  },
  {
   "cell_type": "markdown",
   "metadata": {},
   "source": [
    "### Basic Plots\n",
    "Bokeh has various marker types and we use them to create simple scatter plots. Some of the marker types are:<br>\n",
    "1) asterisk()<br>\n",
    "2) circle()<br>\n",
    "3) circle_cross()<br>\n",
    "4) circle_x()<br>\n",
    "5) cross()<br>\n",
    "6) diamond()<br>\n",
    "7) square(), etc."
   ]
  },
  {
   "cell_type": "code",
   "execution_count": 6,
   "metadata": {},
   "outputs": [
    {
     "data": {
      "text/html": [
       "\n",
       "<div class=\"bk-root\">\n",
       "    <div class=\"bk-plotdiv\" id=\"45121452-4edc-4917-b880-9543414c0954\"></div>\n",
       "</div>"
      ]
     },
     "metadata": {},
     "output_type": "display_data"
    },
    {
     "data": {
      "application/javascript": [
       "(function(root) {\n",
       "  function embed_document(root) {\n",
       "    var docs_json = {\"d799bd19-f946-4105-ad69-cd4da91c80c6\":{\"roots\":{\"references\":[{\"attributes\":{},\"id\":\"08118c0d-3558-4b23-b7ab-6d771df9fbf7\",\"type\":\"BasicTickFormatter\"},{\"attributes\":{},\"id\":\"9629f0b5-08cc-48a1-909c-70661c861ad2\",\"type\":\"BasicTickFormatter\"},{\"attributes\":{},\"id\":\"7b2447cf-05ba-4433-8e28-3005834eadb3\",\"type\":\"LinearScale\"},{\"attributes\":{},\"id\":\"ea8b2e08-e91b-465d-90f7-8f8215273ca2\",\"type\":\"LinearScale\"},{\"attributes\":{\"bottom_units\":\"screen\",\"fill_alpha\":{\"value\":0.5},\"fill_color\":{\"value\":\"lightgrey\"},\"left_units\":\"screen\",\"level\":\"overlay\",\"line_alpha\":{\"value\":1.0},\"line_color\":{\"value\":\"black\"},\"line_dash\":[4,4],\"line_width\":{\"value\":2},\"plot\":null,\"render_mode\":\"css\",\"right_units\":\"screen\",\"top_units\":\"screen\"},\"id\":\"c0667c2a-be45-4dd3-86a4-7e12eb92fff9\",\"type\":\"BoxAnnotation\"},{\"attributes\":{\"formatter\":{\"id\":\"08118c0d-3558-4b23-b7ab-6d771df9fbf7\",\"type\":\"BasicTickFormatter\"},\"plot\":{\"id\":\"918d2436-47f4-439b-ad56-5c313aced1f8\",\"subtype\":\"Figure\",\"type\":\"Plot\"},\"ticker\":{\"id\":\"c2aafdf0-d3e6-40f1-a929-dc0bc1761ec0\",\"type\":\"BasicTicker\"}},\"id\":\"acc9662f-ddbb-417c-858c-b9ef184385d1\",\"type\":\"LinearAxis\"},{\"attributes\":{},\"id\":\"c2aafdf0-d3e6-40f1-a929-dc0bc1761ec0\",\"type\":\"BasicTicker\"},{\"attributes\":{\"plot\":{\"id\":\"918d2436-47f4-439b-ad56-5c313aced1f8\",\"subtype\":\"Figure\",\"type\":\"Plot\"},\"ticker\":{\"id\":\"c2aafdf0-d3e6-40f1-a929-dc0bc1761ec0\",\"type\":\"BasicTicker\"}},\"id\":\"dc7dc0a1-3f15-4540-b9da-7a4ae22ff837\",\"type\":\"Grid\"},{\"attributes\":{\"data_source\":{\"id\":\"71dae445-51db-4265-968b-ee887f54fd07\",\"type\":\"ColumnDataSource\"},\"glyph\":{\"id\":\"8045bff7-f756-4f81-b5c1-3d2de7054dd2\",\"type\":\"Triangle\"},\"hover_glyph\":null,\"muted_glyph\":null,\"nonselection_glyph\":{\"id\":\"bd61d039-65fd-4ea5-a12c-29c93af9d6e1\",\"type\":\"Triangle\"},\"selection_glyph\":null,\"view\":{\"id\":\"3d25fab4-5b5f-462a-92ad-842926bfe6aa\",\"type\":\"CDSView\"}},\"id\":\"f0b0d771-1424-4f2b-84d9-9fc6385c3351\",\"type\":\"GlyphRenderer\"},{\"attributes\":{\"formatter\":{\"id\":\"9629f0b5-08cc-48a1-909c-70661c861ad2\",\"type\":\"BasicTickFormatter\"},\"plot\":{\"id\":\"918d2436-47f4-439b-ad56-5c313aced1f8\",\"subtype\":\"Figure\",\"type\":\"Plot\"},\"ticker\":{\"id\":\"83b750b6-597e-42bb-9956-ee1e3c959269\",\"type\":\"BasicTicker\"}},\"id\":\"ead1f117-d7a2-4dbb-9933-298fa924da04\",\"type\":\"LinearAxis\"},{\"attributes\":{},\"id\":\"83b750b6-597e-42bb-9956-ee1e3c959269\",\"type\":\"BasicTicker\"},{\"attributes\":{\"dimension\":1,\"plot\":{\"id\":\"918d2436-47f4-439b-ad56-5c313aced1f8\",\"subtype\":\"Figure\",\"type\":\"Plot\"},\"ticker\":{\"id\":\"83b750b6-597e-42bb-9956-ee1e3c959269\",\"type\":\"BasicTicker\"}},\"id\":\"c2cf8d84-e5c6-4942-af80-b31ac00c37fe\",\"type\":\"Grid\"},{\"attributes\":{\"source\":{\"id\":\"71dae445-51db-4265-968b-ee887f54fd07\",\"type\":\"ColumnDataSource\"}},\"id\":\"3d25fab4-5b5f-462a-92ad-842926bfe6aa\",\"type\":\"CDSView\"},{\"attributes\":{},\"id\":\"772e9a5d-f493-480b-a018-9d84f1cb22fe\",\"type\":\"PanTool\"},{\"attributes\":{},\"id\":\"c825a44b-7ca2-4847-8aa1-64bcfa8e8d05\",\"type\":\"WheelZoomTool\"},{\"attributes\":{\"fill_alpha\":{\"value\":0.1},\"fill_color\":{\"value\":\"#1f77b4\"},\"line_alpha\":{\"value\":0.1},\"line_color\":{\"value\":\"#1f77b4\"},\"size\":{\"units\":\"screen\",\"value\":20},\"x\":{\"field\":\"x\"},\"y\":{\"field\":\"y\"}},\"id\":\"bd61d039-65fd-4ea5-a12c-29c93af9d6e1\",\"type\":\"Triangle\"},{\"attributes\":{\"overlay\":{\"id\":\"c0667c2a-be45-4dd3-86a4-7e12eb92fff9\",\"type\":\"BoxAnnotation\"}},\"id\":\"801c38fc-17a6-4ca9-8e0c-45a4084490ed\",\"type\":\"BoxZoomTool\"},{\"attributes\":{},\"id\":\"02fb5c7e-645b-492b-8079-36976686b1e1\",\"type\":\"SaveTool\"},{\"attributes\":{},\"id\":\"d171935a-65c1-4195-895e-daeff9b1b3ea\",\"type\":\"ResetTool\"},{\"attributes\":{},\"id\":\"ae60a422-704b-4653-a4e2-8f862a735f1c\",\"type\":\"HelpTool\"},{\"attributes\":{\"plot\":null,\"text\":\"\"},\"id\":\"35c4f254-910e-4dcc-beda-204cfaf3c8c0\",\"type\":\"Title\"},{\"attributes\":{\"fill_alpha\":{\"value\":0.7},\"fill_color\":{\"value\":\"#1f77b4\"},\"line_color\":{\"value\":\"firebrick\"},\"size\":{\"units\":\"screen\",\"value\":20},\"x\":{\"field\":\"x\"},\"y\":{\"field\":\"y\"}},\"id\":\"8045bff7-f756-4f81-b5c1-3d2de7054dd2\",\"type\":\"Triangle\"},{\"attributes\":{\"below\":[{\"id\":\"acc9662f-ddbb-417c-858c-b9ef184385d1\",\"type\":\"LinearAxis\"}],\"left\":[{\"id\":\"ead1f117-d7a2-4dbb-9933-298fa924da04\",\"type\":\"LinearAxis\"}],\"plot_height\":300,\"plot_width\":300,\"renderers\":[{\"id\":\"acc9662f-ddbb-417c-858c-b9ef184385d1\",\"type\":\"LinearAxis\"},{\"id\":\"dc7dc0a1-3f15-4540-b9da-7a4ae22ff837\",\"type\":\"Grid\"},{\"id\":\"ead1f117-d7a2-4dbb-9933-298fa924da04\",\"type\":\"LinearAxis\"},{\"id\":\"c2cf8d84-e5c6-4942-af80-b31ac00c37fe\",\"type\":\"Grid\"},{\"id\":\"c0667c2a-be45-4dd3-86a4-7e12eb92fff9\",\"type\":\"BoxAnnotation\"},{\"id\":\"f0b0d771-1424-4f2b-84d9-9fc6385c3351\",\"type\":\"GlyphRenderer\"}],\"title\":{\"id\":\"35c4f254-910e-4dcc-beda-204cfaf3c8c0\",\"type\":\"Title\"},\"toolbar\":{\"id\":\"418f27b6-43a1-4374-a353-e6547b871ab7\",\"type\":\"Toolbar\"},\"x_range\":{\"id\":\"42712f3a-9093-4e5c-b057-ed98c66f58ca\",\"type\":\"DataRange1d\"},\"x_scale\":{\"id\":\"7b2447cf-05ba-4433-8e28-3005834eadb3\",\"type\":\"LinearScale\"},\"y_range\":{\"id\":\"4fa13826-7be3-4767-9452-1a258a8c2c07\",\"type\":\"DataRange1d\"},\"y_scale\":{\"id\":\"ea8b2e08-e91b-465d-90f7-8f8215273ca2\",\"type\":\"LinearScale\"}},\"id\":\"918d2436-47f4-439b-ad56-5c313aced1f8\",\"subtype\":\"Figure\",\"type\":\"Plot\"},{\"attributes\":{\"callback\":null,\"column_names\":[\"x\",\"y\"],\"data\":{\"x\":[1,2,3,4],\"y\":[36,22,55,64]}},\"id\":\"71dae445-51db-4265-968b-ee887f54fd07\",\"type\":\"ColumnDataSource\"},{\"attributes\":{\"active_drag\":\"auto\",\"active_inspect\":\"auto\",\"active_scroll\":\"auto\",\"active_tap\":\"auto\",\"tools\":[{\"id\":\"772e9a5d-f493-480b-a018-9d84f1cb22fe\",\"type\":\"PanTool\"},{\"id\":\"c825a44b-7ca2-4847-8aa1-64bcfa8e8d05\",\"type\":\"WheelZoomTool\"},{\"id\":\"801c38fc-17a6-4ca9-8e0c-45a4084490ed\",\"type\":\"BoxZoomTool\"},{\"id\":\"02fb5c7e-645b-492b-8079-36976686b1e1\",\"type\":\"SaveTool\"},{\"id\":\"d171935a-65c1-4195-895e-daeff9b1b3ea\",\"type\":\"ResetTool\"},{\"id\":\"ae60a422-704b-4653-a4e2-8f862a735f1c\",\"type\":\"HelpTool\"}]},\"id\":\"418f27b6-43a1-4374-a353-e6547b871ab7\",\"type\":\"Toolbar\"},{\"attributes\":{\"callback\":null},\"id\":\"42712f3a-9093-4e5c-b057-ed98c66f58ca\",\"type\":\"DataRange1d\"},{\"attributes\":{\"callback\":null},\"id\":\"4fa13826-7be3-4767-9452-1a258a8c2c07\",\"type\":\"DataRange1d\"}],\"root_ids\":[\"918d2436-47f4-439b-ad56-5c313aced1f8\"]},\"title\":\"Bokeh Application\",\"version\":\"0.12.9\"}};\n",
       "    var render_items = [{\"docid\":\"d799bd19-f946-4105-ad69-cd4da91c80c6\",\"elementid\":\"45121452-4edc-4917-b880-9543414c0954\",\"modelid\":\"918d2436-47f4-439b-ad56-5c313aced1f8\"}];\n",
       "\n",
       "    root.Bokeh.embed.embed_items(docs_json, render_items);\n",
       "  }\n",
       "\n",
       "  if (root.Bokeh !== undefined) {\n",
       "    embed_document(root);\n",
       "  } else {\n",
       "    var attempts = 0;\n",
       "    var timer = setInterval(function(root) {\n",
       "      if (root.Bokeh !== undefined) {\n",
       "        embed_document(root);\n",
       "        clearInterval(timer);\n",
       "      }\n",
       "      attempts++;\n",
       "      if (attempts > 100) {\n",
       "        console.log(\"Bokeh: ERROR: Unable to embed document because BokehJS library is missing\")\n",
       "        clearInterval(timer);\n",
       "      }\n",
       "    }, 10, root)\n",
       "  }\n",
       "})(window);"
      ],
      "application/vnd.bokehjs_exec.v0+json": ""
     },
     "metadata": {
      "application/vnd.bokehjs_exec.v0+json": {
       "id": "918d2436-47f4-439b-ad56-5c313aced1f8"
      }
     },
     "output_type": "display_data"
    }
   ],
   "source": [
    "p = figure(plot_width=300, plot_height=300)      # create a new plot with default tools, using figure\n",
    "\n",
    "# add a triangle renderer with a size, color, and alpha\n",
    "p.triangle([1, 2, 3, 4], [36, 22, 55, 64], size=20, line_color=\"firebrick\", fill_alpha=0.7)\n",
    "show(p)             # show the results"
   ]
  },
  {
   "cell_type": "code",
   "execution_count": 7,
   "metadata": {},
   "outputs": [
    {
     "data": {
      "text/html": [
       "\n",
       "<div class=\"bk-root\">\n",
       "    <div class=\"bk-plotdiv\" id=\"11f9608b-ba24-48a7-9172-948606874ff5\"></div>\n",
       "</div>"
      ]
     },
     "metadata": {},
     "output_type": "display_data"
    },
    {
     "data": {
      "application/javascript": [
       "(function(root) {\n",
       "  function embed_document(root) {\n",
       "    var docs_json = {\"b86c8ee1-fe2a-41b5-8057-e56299cb390e\":{\"roots\":{\"references\":[{\"attributes\":{\"bottom_units\":\"screen\",\"fill_alpha\":{\"value\":0.5},\"fill_color\":{\"value\":\"lightgrey\"},\"left_units\":\"screen\",\"level\":\"overlay\",\"line_alpha\":{\"value\":1.0},\"line_color\":{\"value\":\"black\"},\"line_dash\":[4,4],\"line_width\":{\"value\":2},\"plot\":null,\"render_mode\":\"css\",\"right_units\":\"screen\",\"top_units\":\"screen\"},\"id\":\"6a796250-e807-4cc6-a4e9-973c3018d225\",\"type\":\"BoxAnnotation\"},{\"attributes\":{\"active_drag\":\"auto\",\"active_inspect\":\"auto\",\"active_scroll\":\"auto\",\"active_tap\":\"auto\",\"tools\":[{\"id\":\"858d1257-f677-4299-929a-663b84e90b83\",\"type\":\"PanTool\"},{\"id\":\"4ce61c3a-e806-4714-a749-92dab74bfa01\",\"type\":\"WheelZoomTool\"},{\"id\":\"7842708e-22c8-41eb-be6e-f79ae5fa5dd6\",\"type\":\"BoxZoomTool\"},{\"id\":\"b9b310c7-6a5f-471b-b77b-12f872b50539\",\"type\":\"SaveTool\"},{\"id\":\"5656ce65-ec89-47e8-8256-310a4914d721\",\"type\":\"ResetTool\"},{\"id\":\"80d86091-bba7-425d-923e-74ec7f9eb9c1\",\"type\":\"HelpTool\"}]},\"id\":\"6477abac-3a16-4483-b4e3-376ff8b864a7\",\"type\":\"Toolbar\"},{\"attributes\":{},\"id\":\"858d1257-f677-4299-929a-663b84e90b83\",\"type\":\"PanTool\"},{\"attributes\":{\"line_alpha\":{\"value\":0.1},\"line_color\":{\"value\":\"#1f77b4\"},\"line_width\":{\"value\":3},\"x\":{\"field\":\"x\"},\"y\":{\"field\":\"y\"}},\"id\":\"dd3c445d-4f1c-4598-a76e-5e55c3821cb6\",\"type\":\"Line\"},{\"attributes\":{},\"id\":\"4ce61c3a-e806-4714-a749-92dab74bfa01\",\"type\":\"WheelZoomTool\"},{\"attributes\":{},\"id\":\"d189c0c4-a06a-4ec4-b54f-02a7f0d30d60\",\"type\":\"BasicTicker\"},{\"attributes\":{},\"id\":\"5656ce65-ec89-47e8-8256-310a4914d721\",\"type\":\"ResetTool\"},{\"attributes\":{},\"id\":\"80d86091-bba7-425d-923e-74ec7f9eb9c1\",\"type\":\"HelpTool\"},{\"attributes\":{},\"id\":\"6ba00e48-598a-4eab-ab95-5364e615d1c7\",\"type\":\"BasicTickFormatter\"},{\"attributes\":{\"data_source\":{\"id\":\"25e6f7a8-1f67-416c-94cf-e37ddfd8f716\",\"type\":\"ColumnDataSource\"},\"glyph\":{\"id\":\"7d514818-72e9-42d7-a64e-aa7377c01616\",\"type\":\"Line\"},\"hover_glyph\":null,\"muted_glyph\":null,\"nonselection_glyph\":{\"id\":\"dd3c445d-4f1c-4598-a76e-5e55c3821cb6\",\"type\":\"Line\"},\"selection_glyph\":null,\"view\":{\"id\":\"94c0e44a-be6a-4422-a79c-ef48760dfafc\",\"type\":\"CDSView\"}},\"id\":\"3dc9a515-4444-4664-80ca-67894e7a0b01\",\"type\":\"GlyphRenderer\"},{\"attributes\":{\"source\":{\"id\":\"25e6f7a8-1f67-416c-94cf-e37ddfd8f716\",\"type\":\"ColumnDataSource\"}},\"id\":\"94c0e44a-be6a-4422-a79c-ef48760dfafc\",\"type\":\"CDSView\"},{\"attributes\":{},\"id\":\"538de908-6a8f-4616-b658-c721620ca1b6\",\"type\":\"BasicTickFormatter\"},{\"attributes\":{\"plot\":null,\"text\":\"Line Plot\"},\"id\":\"7d8b5c35-dfe6-4d85-a104-9411cae9c884\",\"type\":\"Title\"},{\"attributes\":{},\"id\":\"3512c7ac-dde5-4759-a5ab-7e3d9098c3fc\",\"type\":\"BasicTicker\"},{\"attributes\":{\"callback\":null,\"column_names\":[\"x\",\"y\"],\"data\":{\"x\":[1,2,3,4],\"y\":[36,22,55,64]}},\"id\":\"25e6f7a8-1f67-416c-94cf-e37ddfd8f716\",\"type\":\"ColumnDataSource\"},{\"attributes\":{\"formatter\":{\"id\":\"6ba00e48-598a-4eab-ab95-5364e615d1c7\",\"type\":\"BasicTickFormatter\"},\"plot\":{\"id\":\"2d412a9b-ea5e-41d5-af99-98ff1970bb93\",\"subtype\":\"Figure\",\"type\":\"Plot\"},\"ticker\":{\"id\":\"3512c7ac-dde5-4759-a5ab-7e3d9098c3fc\",\"type\":\"BasicTicker\"}},\"id\":\"054f779a-af97-42f9-ae45-06e72cb06902\",\"type\":\"LinearAxis\"},{\"attributes\":{\"line_color\":{\"value\":\"#1f77b4\"},\"line_width\":{\"value\":3},\"x\":{\"field\":\"x\"},\"y\":{\"field\":\"y\"}},\"id\":\"7d514818-72e9-42d7-a64e-aa7377c01616\",\"type\":\"Line\"},{\"attributes\":{\"plot\":{\"id\":\"2d412a9b-ea5e-41d5-af99-98ff1970bb93\",\"subtype\":\"Figure\",\"type\":\"Plot\"},\"ticker\":{\"id\":\"d189c0c4-a06a-4ec4-b54f-02a7f0d30d60\",\"type\":\"BasicTicker\"}},\"id\":\"36299cbe-a270-4cf0-b598-92096b963873\",\"type\":\"Grid\"},{\"attributes\":{},\"id\":\"5c0a42a5-2cb0-4220-b39e-f2f5df070c8f\",\"type\":\"LinearScale\"},{\"attributes\":{\"callback\":null},\"id\":\"fd59e6c6-d66e-4607-9c92-5f6a4876e2da\",\"type\":\"DataRange1d\"},{\"attributes\":{},\"id\":\"b9b310c7-6a5f-471b-b77b-12f872b50539\",\"type\":\"SaveTool\"},{\"attributes\":{\"formatter\":{\"id\":\"538de908-6a8f-4616-b658-c721620ca1b6\",\"type\":\"BasicTickFormatter\"},\"plot\":{\"id\":\"2d412a9b-ea5e-41d5-af99-98ff1970bb93\",\"subtype\":\"Figure\",\"type\":\"Plot\"},\"ticker\":{\"id\":\"d189c0c4-a06a-4ec4-b54f-02a7f0d30d60\",\"type\":\"BasicTicker\"}},\"id\":\"312cc644-ebff-4193-8093-ecdacb2e877c\",\"type\":\"LinearAxis\"},{\"attributes\":{\"callback\":null},\"id\":\"181505a9-85f6-4419-a06f-98de6df95817\",\"type\":\"DataRange1d\"},{\"attributes\":{\"overlay\":{\"id\":\"6a796250-e807-4cc6-a4e9-973c3018d225\",\"type\":\"BoxAnnotation\"}},\"id\":\"7842708e-22c8-41eb-be6e-f79ae5fa5dd6\",\"type\":\"BoxZoomTool\"},{\"attributes\":{\"below\":[{\"id\":\"312cc644-ebff-4193-8093-ecdacb2e877c\",\"type\":\"LinearAxis\"}],\"left\":[{\"id\":\"054f779a-af97-42f9-ae45-06e72cb06902\",\"type\":\"LinearAxis\"}],\"plot_height\":300,\"plot_width\":300,\"renderers\":[{\"id\":\"312cc644-ebff-4193-8093-ecdacb2e877c\",\"type\":\"LinearAxis\"},{\"id\":\"36299cbe-a270-4cf0-b598-92096b963873\",\"type\":\"Grid\"},{\"id\":\"054f779a-af97-42f9-ae45-06e72cb06902\",\"type\":\"LinearAxis\"},{\"id\":\"04c7835c-01ae-4553-8c43-e4ad2aca60a1\",\"type\":\"Grid\"},{\"id\":\"6a796250-e807-4cc6-a4e9-973c3018d225\",\"type\":\"BoxAnnotation\"},{\"id\":\"3dc9a515-4444-4664-80ca-67894e7a0b01\",\"type\":\"GlyphRenderer\"}],\"title\":{\"id\":\"7d8b5c35-dfe6-4d85-a104-9411cae9c884\",\"type\":\"Title\"},\"toolbar\":{\"id\":\"6477abac-3a16-4483-b4e3-376ff8b864a7\",\"type\":\"Toolbar\"},\"x_range\":{\"id\":\"181505a9-85f6-4419-a06f-98de6df95817\",\"type\":\"DataRange1d\"},\"x_scale\":{\"id\":\"746c53fb-6c63-4eb9-8de3-37585322e948\",\"type\":\"LinearScale\"},\"y_range\":{\"id\":\"fd59e6c6-d66e-4607-9c92-5f6a4876e2da\",\"type\":\"DataRange1d\"},\"y_scale\":{\"id\":\"5c0a42a5-2cb0-4220-b39e-f2f5df070c8f\",\"type\":\"LinearScale\"}},\"id\":\"2d412a9b-ea5e-41d5-af99-98ff1970bb93\",\"subtype\":\"Figure\",\"type\":\"Plot\"},{\"attributes\":{},\"id\":\"746c53fb-6c63-4eb9-8de3-37585322e948\",\"type\":\"LinearScale\"},{\"attributes\":{\"dimension\":1,\"plot\":{\"id\":\"2d412a9b-ea5e-41d5-af99-98ff1970bb93\",\"subtype\":\"Figure\",\"type\":\"Plot\"},\"ticker\":{\"id\":\"3512c7ac-dde5-4759-a5ab-7e3d9098c3fc\",\"type\":\"BasicTicker\"}},\"id\":\"04c7835c-01ae-4553-8c43-e4ad2aca60a1\",\"type\":\"Grid\"}],\"root_ids\":[\"2d412a9b-ea5e-41d5-af99-98ff1970bb93\"]},\"title\":\"Bokeh Application\",\"version\":\"0.12.9\"}};\n",
       "    var render_items = [{\"docid\":\"b86c8ee1-fe2a-41b5-8057-e56299cb390e\",\"elementid\":\"11f9608b-ba24-48a7-9172-948606874ff5\",\"modelid\":\"2d412a9b-ea5e-41d5-af99-98ff1970bb93\"}];\n",
       "\n",
       "    root.Bokeh.embed.embed_items(docs_json, render_items);\n",
       "  }\n",
       "\n",
       "  if (root.Bokeh !== undefined) {\n",
       "    embed_document(root);\n",
       "  } else {\n",
       "    var attempts = 0;\n",
       "    var timer = setInterval(function(root) {\n",
       "      if (root.Bokeh !== undefined) {\n",
       "        embed_document(root);\n",
       "        clearInterval(timer);\n",
       "      }\n",
       "      attempts++;\n",
       "      if (attempts > 100) {\n",
       "        console.log(\"Bokeh: ERROR: Unable to embed document because BokehJS library is missing\")\n",
       "        clearInterval(timer);\n",
       "      }\n",
       "    }, 10, root)\n",
       "  }\n",
       "})(window);"
      ],
      "application/vnd.bokehjs_exec.v0+json": ""
     },
     "metadata": {
      "application/vnd.bokehjs_exec.v0+json": {
       "id": "2d412a9b-ea5e-41d5-af99-98ff1970bb93"
      }
     },
     "output_type": "display_data"
    }
   ],
   "source": [
    "p = figure(plot_width=300, plot_height=300, title=\"Line Plot\")        # create a new plot (with a title) using figure\n",
    "\n",
    "p.line([1, 2, 3, 4], [36, 22, 55, 64], line_width=3)                  # add a line renderer\n",
    "show(p) # show the results"
   ]
  },
  {
   "cell_type": "markdown",
   "metadata": {},
   "source": [
    "The annulus() methods accepts inner_radius and outer_radius, which can be used to draw filled rings. <br>\n",
    "The Label annotation allows you to easily attach single text labels to plots. The position and text to display are configured as x, y, and text. Label objects also have standard text, line (border_line) and fill (background_fill) properties."
   ]
  },
  {
   "cell_type": "code",
   "execution_count": 9,
   "metadata": {},
   "outputs": [
    {
     "data": {
      "text/html": [
       "\n",
       "<div class=\"bk-root\">\n",
       "    <div class=\"bk-plotdiv\" id=\"4b8618ca-1d21-484e-a5a2-d8d02f74c33b\"></div>\n",
       "</div>"
      ]
     },
     "metadata": {},
     "output_type": "display_data"
    },
    {
     "data": {
      "application/javascript": [
       "(function(root) {\n",
       "  function embed_document(root) {\n",
       "    var docs_json = {\"17c0acb8-abc5-4fdf-8e1d-3876fc196d51\":{\"roots\":{\"references\":[{\"attributes\":{},\"id\":\"aa79b2bc-d400-4734-ac6e-cb61ca2a01fa\",\"type\":\"BasicTicker\"},{\"attributes\":{},\"id\":\"1f716061-2dba-44a7-a865-2a2dd2749281\",\"type\":\"BasicTicker\"},{\"attributes\":{\"formatter\":{\"id\":\"55f27a88-978b-4b21-9dfa-660dda7bad62\",\"type\":\"BasicTickFormatter\"},\"plot\":{\"id\":\"429f1ae8-1421-4b70-a5ed-315d1c320ac2\",\"subtype\":\"Figure\",\"type\":\"Plot\"},\"ticker\":{\"id\":\"1f716061-2dba-44a7-a865-2a2dd2749281\",\"type\":\"BasicTicker\"}},\"id\":\"46029507-5371-4ee8-8db9-dd875416176c\",\"type\":\"LinearAxis\"},{\"attributes\":{\"formatter\":{\"id\":\"f6ddc3ee-c413-4243-a91b-894e86cda579\",\"type\":\"BasicTickFormatter\"},\"plot\":{\"id\":\"429f1ae8-1421-4b70-a5ed-315d1c320ac2\",\"subtype\":\"Figure\",\"type\":\"Plot\"},\"ticker\":{\"id\":\"aa79b2bc-d400-4734-ac6e-cb61ca2a01fa\",\"type\":\"BasicTicker\"}},\"id\":\"6488fdb7-f739-453a-92b8-68d39d12b430\",\"type\":\"LinearAxis\"},{\"attributes\":{\"plot\":{\"id\":\"429f1ae8-1421-4b70-a5ed-315d1c320ac2\",\"subtype\":\"Figure\",\"type\":\"Plot\"},\"text\":\"Third Point\",\"text_baseline\":\"middle\",\"text_font_size\":{\"value\":\"10pt\"},\"x\":3,\"x_offset\":10,\"y\":2.5},\"id\":\"35921582-31ef-4526-ba62-c7b81ec5f83c\",\"type\":\"Label\"},{\"attributes\":{\"callback\":null},\"id\":\"12bc5647-ffa6-42c0-91a7-65bf7328e185\",\"type\":\"DataRange1d\"},{\"attributes\":{},\"id\":\"03f8623c-814c-4459-b779-d7e77fedc066\",\"type\":\"HelpTool\"},{\"attributes\":{},\"id\":\"dd20668b-31a6-47d4-a2b0-0c28fc42a7f0\",\"type\":\"ResetTool\"},{\"attributes\":{},\"id\":\"f6ddc3ee-c413-4243-a91b-894e86cda579\",\"type\":\"BasicTickFormatter\"},{\"attributes\":{},\"id\":\"b761b33d-b236-4978-92f0-753961fcb0d9\",\"type\":\"SaveTool\"},{\"attributes\":{\"overlay\":{\"id\":\"dbe675e5-27e3-414d-b17a-5db5d5c20e12\",\"type\":\"BoxAnnotation\"}},\"id\":\"506ab78b-4ac0-4b76-80cf-b9c9e9843ca4\",\"type\":\"BoxZoomTool\"},{\"attributes\":{},\"id\":\"294df506-f957-417f-a0fc-111b9a7f4816\",\"type\":\"WheelZoomTool\"},{\"attributes\":{},\"id\":\"37460200-224f-4a1a-8508-476c153bc05d\",\"type\":\"PanTool\"},{\"attributes\":{\"bottom_units\":\"screen\",\"fill_alpha\":{\"value\":0.5},\"fill_color\":{\"value\":\"lightgrey\"},\"left_units\":\"screen\",\"level\":\"overlay\",\"line_alpha\":{\"value\":1.0},\"line_color\":{\"value\":\"black\"},\"line_dash\":[4,4],\"line_width\":{\"value\":2},\"plot\":null,\"render_mode\":\"css\",\"right_units\":\"screen\",\"top_units\":\"screen\"},\"id\":\"dbe675e5-27e3-414d-b17a-5db5d5c20e12\",\"type\":\"BoxAnnotation\"},{\"attributes\":{\"callback\":null},\"id\":\"f4ea5045-42de-4260-a5af-30d0faa2f5e4\",\"type\":\"DataRange1d\"},{\"attributes\":{\"fill_alpha\":{\"value\":0.1},\"fill_color\":{\"value\":\"#1f77b4\"},\"inner_radius\":{\"units\":\"data\",\"value\":0.1},\"line_alpha\":{\"value\":0.1},\"line_color\":{\"value\":\"#1f77b4\"},\"outer_radius\":{\"units\":\"data\",\"value\":0.2},\"x\":{\"field\":\"x\"},\"y\":{\"field\":\"y\"}},\"id\":\"2a88645a-1a60-4dd3-99d6-65cabb3d085f\",\"type\":\"Annulus\"},{\"attributes\":{\"active_drag\":\"auto\",\"active_inspect\":\"auto\",\"active_scroll\":\"auto\",\"active_tap\":\"auto\",\"tools\":[{\"id\":\"37460200-224f-4a1a-8508-476c153bc05d\",\"type\":\"PanTool\"},{\"id\":\"294df506-f957-417f-a0fc-111b9a7f4816\",\"type\":\"WheelZoomTool\"},{\"id\":\"506ab78b-4ac0-4b76-80cf-b9c9e9843ca4\",\"type\":\"BoxZoomTool\"},{\"id\":\"b761b33d-b236-4978-92f0-753961fcb0d9\",\"type\":\"SaveTool\"},{\"id\":\"dd20668b-31a6-47d4-a2b0-0c28fc42a7f0\",\"type\":\"ResetTool\"},{\"id\":\"03f8623c-814c-4459-b779-d7e77fedc066\",\"type\":\"HelpTool\"}]},\"id\":\"5d862e88-c99b-4d2a-8865-cc3bab9aebd8\",\"type\":\"Toolbar\"},{\"attributes\":{\"callback\":null,\"column_names\":[\"x\",\"y\"],\"data\":{\"x\":[1,2,3,4,5],\"y\":[1,2.5,2.5,4.5,8]}},\"id\":\"8a58b024-6163-4525-ad91-cef996d3eb90\",\"type\":\"ColumnDataSource\"},{\"attributes\":{\"below\":[{\"id\":\"6488fdb7-f739-453a-92b8-68d39d12b430\",\"type\":\"LinearAxis\"}],\"left\":[{\"id\":\"46029507-5371-4ee8-8db9-dd875416176c\",\"type\":\"LinearAxis\"}],\"plot_height\":300,\"plot_width\":300,\"renderers\":[{\"id\":\"6488fdb7-f739-453a-92b8-68d39d12b430\",\"type\":\"LinearAxis\"},{\"id\":\"bfcc04df-a356-4e4f-a765-391d235d9f72\",\"type\":\"Grid\"},{\"id\":\"46029507-5371-4ee8-8db9-dd875416176c\",\"type\":\"LinearAxis\"},{\"id\":\"90d6dcdd-90ee-4297-88e7-1b4b450c2537\",\"type\":\"Grid\"},{\"id\":\"dbe675e5-27e3-414d-b17a-5db5d5c20e12\",\"type\":\"BoxAnnotation\"},{\"id\":\"ecbcf8c8-818c-4144-a07d-2e48113e0550\",\"type\":\"GlyphRenderer\"},{\"id\":\"35921582-31ef-4526-ba62-c7b81ec5f83c\",\"type\":\"Label\"}],\"title\":{\"id\":\"7b9f12e1-7b20-428b-b2c1-5a701981a8a5\",\"type\":\"Title\"},\"toolbar\":{\"id\":\"5d862e88-c99b-4d2a-8865-cc3bab9aebd8\",\"type\":\"Toolbar\"},\"x_range\":{\"id\":\"f4ea5045-42de-4260-a5af-30d0faa2f5e4\",\"type\":\"DataRange1d\"},\"x_scale\":{\"id\":\"a51f9dd0-a053-426b-ac52-de8269f4d582\",\"type\":\"LinearScale\"},\"y_range\":{\"id\":\"12bc5647-ffa6-42c0-91a7-65bf7328e185\",\"type\":\"DataRange1d\"},\"y_scale\":{\"id\":\"c9b1c7c3-7e98-46f8-857e-9299cdba0c33\",\"type\":\"LinearScale\"}},\"id\":\"429f1ae8-1421-4b70-a5ed-315d1c320ac2\",\"subtype\":\"Figure\",\"type\":\"Plot\"},{\"attributes\":{\"source\":{\"id\":\"8a58b024-6163-4525-ad91-cef996d3eb90\",\"type\":\"ColumnDataSource\"}},\"id\":\"01e7147f-5868-4e60-8380-56783ed4cb8f\",\"type\":\"CDSView\"},{\"attributes\":{},\"id\":\"a51f9dd0-a053-426b-ac52-de8269f4d582\",\"type\":\"LinearScale\"},{\"attributes\":{},\"id\":\"55f27a88-978b-4b21-9dfa-660dda7bad62\",\"type\":\"BasicTickFormatter\"},{\"attributes\":{\"plot\":null,\"text\":\"\"},\"id\":\"7b9f12e1-7b20-428b-b2c1-5a701981a8a5\",\"type\":\"Title\"},{\"attributes\":{\"plot\":{\"id\":\"429f1ae8-1421-4b70-a5ed-315d1c320ac2\",\"subtype\":\"Figure\",\"type\":\"Plot\"},\"ticker\":{\"id\":\"aa79b2bc-d400-4734-ac6e-cb61ca2a01fa\",\"type\":\"BasicTicker\"}},\"id\":\"bfcc04df-a356-4e4f-a765-391d235d9f72\",\"type\":\"Grid\"},{\"attributes\":{\"dimension\":1,\"plot\":{\"id\":\"429f1ae8-1421-4b70-a5ed-315d1c320ac2\",\"subtype\":\"Figure\",\"type\":\"Plot\"},\"ticker\":{\"id\":\"1f716061-2dba-44a7-a865-2a2dd2749281\",\"type\":\"BasicTicker\"}},\"id\":\"90d6dcdd-90ee-4297-88e7-1b4b450c2537\",\"type\":\"Grid\"},{\"attributes\":{},\"id\":\"c9b1c7c3-7e98-46f8-857e-9299cdba0c33\",\"type\":\"LinearScale\"},{\"attributes\":{\"fill_alpha\":{\"value\":0.6},\"fill_color\":{\"value\":\"red\"},\"inner_radius\":{\"units\":\"data\",\"value\":0.1},\"line_alpha\":{\"value\":0.6},\"line_color\":{\"value\":\"red\"},\"outer_radius\":{\"units\":\"data\",\"value\":0.2},\"x\":{\"field\":\"x\"},\"y\":{\"field\":\"y\"}},\"id\":\"e59881fb-6ffb-4fe6-b52a-dc7b8114e770\",\"type\":\"Annulus\"},{\"attributes\":{\"data_source\":{\"id\":\"8a58b024-6163-4525-ad91-cef996d3eb90\",\"type\":\"ColumnDataSource\"},\"glyph\":{\"id\":\"e59881fb-6ffb-4fe6-b52a-dc7b8114e770\",\"type\":\"Annulus\"},\"hover_glyph\":null,\"muted_glyph\":null,\"nonselection_glyph\":{\"id\":\"2a88645a-1a60-4dd3-99d6-65cabb3d085f\",\"type\":\"Annulus\"},\"selection_glyph\":null,\"view\":{\"id\":\"01e7147f-5868-4e60-8380-56783ed4cb8f\",\"type\":\"CDSView\"}},\"id\":\"ecbcf8c8-818c-4144-a07d-2e48113e0550\",\"type\":\"GlyphRenderer\"}],\"root_ids\":[\"429f1ae8-1421-4b70-a5ed-315d1c320ac2\"]},\"title\":\"Bokeh Application\",\"version\":\"0.12.9\"}};\n",
       "    var render_items = [{\"docid\":\"17c0acb8-abc5-4fdf-8e1d-3876fc196d51\",\"elementid\":\"4b8618ca-1d21-484e-a5a2-d8d02f74c33b\",\"modelid\":\"429f1ae8-1421-4b70-a5ed-315d1c320ac2\"}];\n",
       "\n",
       "    root.Bokeh.embed.embed_items(docs_json, render_items);\n",
       "  }\n",
       "\n",
       "  if (root.Bokeh !== undefined) {\n",
       "    embed_document(root);\n",
       "  } else {\n",
       "    var attempts = 0;\n",
       "    var timer = setInterval(function(root) {\n",
       "      if (root.Bokeh !== undefined) {\n",
       "        embed_document(root);\n",
       "        clearInterval(timer);\n",
       "      }\n",
       "      attempts++;\n",
       "      if (attempts > 100) {\n",
       "        console.log(\"Bokeh: ERROR: Unable to embed document because BokehJS library is missing\")\n",
       "        clearInterval(timer);\n",
       "      }\n",
       "    }, 10, root)\n",
       "  }\n",
       "})(window);"
      ],
      "application/vnd.bokehjs_exec.v0+json": ""
     },
     "metadata": {
      "application/vnd.bokehjs_exec.v0+json": {
       "id": "429f1ae8-1421-4b70-a5ed-315d1c320ac2"
      }
     },
     "output_type": "display_data"
    }
   ],
   "source": [
    "from bokeh.models.annotations import Label\n",
    "\n",
    "p = figure(plot_width=300, plot_height=300)\n",
    "p.annulus(x=[1, 2, 3, 4, 5], y=[1, 2.5, 2.5, 4.5, 8], inner_radius=0.1, outer_radius=0.20, color=\"red\", alpha=0.6)\n",
    "\n",
    "label = Label(x=3, y=2.5, x_offset=10, text_font_size=\"10pt\", text=\"Third Point\", text_baseline=\"middle\")\n",
    "p.add_layout(label)\n",
    "\n",
    "show(p)"
   ]
  },
  {
   "cell_type": "markdown",
   "metadata": {},
   "source": [
    "### ColumnDataSource and LabelSet\n",
    "The ColumnDataSource is a mapping of column names to sequences of values. The mapping is provided by passing a dictionary with string keys and lists as values. The values could also be arrays or Pandas sequences. All the columns in a ColumnDataSource must always be the SAME length.<br>\n",
    "\n",
    "The LabelSet annotation allows you to create many labels at once. For example, if you want to label an entire set of scatter markers, we can use LabelSet, which is similar to Label, but they can also accept a ColumnDataSource as the source property, and then x and y may refer to columns in the data source."
   ]
  },
  {
   "cell_type": "code",
   "execution_count": 37,
   "metadata": {},
   "outputs": [
    {
     "data": {
      "text/html": [
       "\n",
       "<div class=\"bk-root\">\n",
       "    <div class=\"bk-plotdiv\" id=\"8e821e55-b472-484e-b838-958e8949d6cb\"></div>\n",
       "</div>"
      ]
     },
     "metadata": {},
     "output_type": "display_data"
    },
    {
     "data": {
      "application/javascript": [
       "(function(root) {\n",
       "  function embed_document(root) {\n",
       "    var docs_json = {\"32a1e637-c678-4b2e-a07c-a441443dba28\":{\"roots\":{\"references\":[{\"attributes\":{},\"id\":\"7bd19f6f-c141-4e3c-ab7c-900e8f6ad535\",\"type\":\"LinearScale\"},{\"attributes\":{},\"id\":\"0ea152b0-8cd9-444e-ac47-4ae2e63418e3\",\"type\":\"LinearScale\"},{\"attributes\":{\"callback\":null},\"id\":\"0cf1409b-5c32-4913-a1cc-d2aa69c09a98\",\"type\":\"DataRange1d\"},{\"attributes\":{\"callback\":null,\"end\":100,\"start\":20},\"id\":\"6ae44b24-c70e-46e4-92be-2b38e06f818b\",\"type\":\"Range1d\"},{\"attributes\":{\"fill_alpha\":{\"value\":0.1},\"fill_color\":{\"value\":\"#1f77b4\"},\"line_alpha\":{\"value\":0.1},\"line_color\":{\"value\":\"#1f77b4\"},\"size\":{\"units\":\"screen\",\"value\":12},\"x\":{\"field\":\"average\"},\"y\":{\"field\":\"strike_rate\"}},\"id\":\"ee56aeea-08dd-4897-9c72-1243821226a5\",\"type\":\"Circle\"},{\"attributes\":{\"active_drag\":\"auto\",\"active_inspect\":\"auto\",\"active_scroll\":\"auto\",\"active_tap\":\"auto\",\"tools\":[{\"id\":\"0415cf2e-a568-4fb7-b6cc-12a31f427ba2\",\"type\":\"PanTool\"},{\"id\":\"8a3946ff-92c2-46ea-9d4f-6a171c40dff1\",\"type\":\"WheelZoomTool\"},{\"id\":\"cbafa270-c038-4d8e-8233-fcb6bc2ad598\",\"type\":\"BoxZoomTool\"},{\"id\":\"e304e790-d963-4032-ad45-964a66f7da65\",\"type\":\"SaveTool\"},{\"id\":\"39e20be5-10ee-425a-9b86-23a6a3c8e86a\",\"type\":\"ResetTool\"},{\"id\":\"7a7d95e0-0a36-496d-8788-d961af6aa5c2\",\"type\":\"HelpTool\"}]},\"id\":\"140ed862-97e1-4e5d-abc1-f5fe0f0ca3d6\",\"type\":\"Toolbar\"},{\"attributes\":{},\"id\":\"f5db01cd-4be6-4a71-9e5d-6a75f61382c3\",\"type\":\"BasicTicker\"},{\"attributes\":{},\"id\":\"2631c60f-6d86-4ec6-b908-3814a53119b8\",\"type\":\"BasicTickFormatter\"},{\"attributes\":{\"axis_label\":\"Strike Rate\",\"formatter\":{\"id\":\"4b766b6d-91e3-4f09-8312-b77744aab349\",\"type\":\"BasicTickFormatter\"},\"plot\":{\"id\":\"f158f247-caf8-4bc1-8663-b97cf95c00ec\",\"subtype\":\"Figure\",\"type\":\"Plot\"},\"ticker\":{\"id\":\"f5db01cd-4be6-4a71-9e5d-6a75f61382c3\",\"type\":\"BasicTicker\"}},\"id\":\"f7ae1499-6a1e-4653-af84-83fac11f4b92\",\"type\":\"LinearAxis\"},{\"attributes\":{},\"id\":\"31717ad2-235b-4b32-b987-43815d082e65\",\"type\":\"BasicTicker\"},{\"attributes\":{\"axis_label\":\"Average\",\"formatter\":{\"id\":\"2631c60f-6d86-4ec6-b908-3814a53119b8\",\"type\":\"BasicTickFormatter\"},\"plot\":{\"id\":\"f158f247-caf8-4bc1-8663-b97cf95c00ec\",\"subtype\":\"Figure\",\"type\":\"Plot\"},\"ticker\":{\"id\":\"31717ad2-235b-4b32-b987-43815d082e65\",\"type\":\"BasicTicker\"}},\"id\":\"2b2020dd-1788-45ea-a3be-0edc1bb649c7\",\"type\":\"LinearAxis\"},{\"attributes\":{\"plot\":{\"id\":\"f158f247-caf8-4bc1-8663-b97cf95c00ec\",\"subtype\":\"Figure\",\"type\":\"Plot\"},\"ticker\":{\"id\":\"31717ad2-235b-4b32-b987-43815d082e65\",\"type\":\"BasicTicker\"}},\"id\":\"2c04ef91-aebf-4184-a4d0-d9ccd3ae6591\",\"type\":\"Grid\"},{\"attributes\":{\"level\":\"glyph\",\"plot\":{\"id\":\"f158f247-caf8-4bc1-8663-b97cf95c00ec\",\"subtype\":\"Figure\",\"type\":\"Plot\"},\"source\":{\"id\":\"cfa5b9be-f5a5-470e-ac9e-b690a29d50db\",\"type\":\"ColumnDataSource\"},\"text\":{\"field\":\"names\"},\"x\":{\"field\":\"average\"},\"x_offset\":{\"value\":5},\"y\":{\"field\":\"strike_rate\"},\"y_offset\":{\"value\":5}},\"id\":\"1cb4aa0f-de33-43c8-a608-fa9cd0c6fde5\",\"type\":\"LabelSet\"},{\"attributes\":{\"fill_color\":{\"value\":\"#1f77b4\"},\"line_color\":{\"value\":\"#1f77b4\"},\"size\":{\"units\":\"screen\",\"value\":12},\"x\":{\"field\":\"average\"},\"y\":{\"field\":\"strike_rate\"}},\"id\":\"39df4dfd-cd90-4aa8-ab38-9e8af2e3da6f\",\"type\":\"Circle\"},{\"attributes\":{\"dimension\":1,\"plot\":{\"id\":\"f158f247-caf8-4bc1-8663-b97cf95c00ec\",\"subtype\":\"Figure\",\"type\":\"Plot\"},\"ticker\":{\"id\":\"f5db01cd-4be6-4a71-9e5d-6a75f61382c3\",\"type\":\"BasicTicker\"}},\"id\":\"fcbf8463-c60d-48ce-b900-f72ccc235a52\",\"type\":\"Grid\"},{\"attributes\":{},\"id\":\"39e20be5-10ee-425a-9b86-23a6a3c8e86a\",\"type\":\"ResetTool\"},{\"attributes\":{\"bottom_units\":\"screen\",\"fill_alpha\":{\"value\":0.5},\"fill_color\":{\"value\":\"lightgrey\"},\"left_units\":\"screen\",\"level\":\"overlay\",\"line_alpha\":{\"value\":1.0},\"line_color\":{\"value\":\"black\"},\"line_dash\":[4,4],\"line_width\":{\"value\":2},\"plot\":null,\"render_mode\":\"css\",\"right_units\":\"screen\",\"top_units\":\"screen\"},\"id\":\"ab8de76c-3728-47a0-a33f-c310b925b1fb\",\"type\":\"BoxAnnotation\"},{\"attributes\":{},\"id\":\"8a3946ff-92c2-46ea-9d4f-6a171c40dff1\",\"type\":\"WheelZoomTool\"},{\"attributes\":{\"data_source\":{\"id\":\"cfa5b9be-f5a5-470e-ac9e-b690a29d50db\",\"type\":\"ColumnDataSource\"},\"glyph\":{\"id\":\"39df4dfd-cd90-4aa8-ab38-9e8af2e3da6f\",\"type\":\"Circle\"},\"hover_glyph\":null,\"muted_glyph\":null,\"nonselection_glyph\":{\"id\":\"ee56aeea-08dd-4897-9c72-1243821226a5\",\"type\":\"Circle\"},\"selection_glyph\":null,\"view\":{\"id\":\"82599220-a7c9-44a7-8c53-30ba28965f70\",\"type\":\"CDSView\"}},\"id\":\"60badb89-5956-4406-a3ee-c46d086154d2\",\"type\":\"GlyphRenderer\"},{\"attributes\":{},\"id\":\"0415cf2e-a568-4fb7-b6cc-12a31f427ba2\",\"type\":\"PanTool\"},{\"attributes\":{},\"id\":\"e304e790-d963-4032-ad45-964a66f7da65\",\"type\":\"SaveTool\"},{\"attributes\":{\"overlay\":{\"id\":\"ab8de76c-3728-47a0-a33f-c310b925b1fb\",\"type\":\"BoxAnnotation\"}},\"id\":\"cbafa270-c038-4d8e-8233-fcb6bc2ad598\",\"type\":\"BoxZoomTool\"},{\"attributes\":{\"callback\":null,\"column_names\":[\"average\",\"strike_rate\",\"names\"],\"data\":{\"average\":[55,74,38,41,44,26],\"names\":[\"Sachin\",\"Kohli\",\"Dhawan\",\"Rahane\",\"Yuvraj\",\"Dhoni\"],\"strike_rate\":[165,139,155,141,160,174]}},\"id\":\"cfa5b9be-f5a5-470e-ac9e-b690a29d50db\",\"type\":\"ColumnDataSource\"},{\"attributes\":{\"plot\":null,\"text\":\"\"},\"id\":\"b514cfef-0e3f-400c-a21b-094ff83475de\",\"type\":\"Title\"},{\"attributes\":{\"below\":[{\"id\":\"2b2020dd-1788-45ea-a3be-0edc1bb649c7\",\"type\":\"LinearAxis\"}],\"left\":[{\"id\":\"f7ae1499-6a1e-4653-af84-83fac11f4b92\",\"type\":\"LinearAxis\"}],\"renderers\":[{\"id\":\"2b2020dd-1788-45ea-a3be-0edc1bb649c7\",\"type\":\"LinearAxis\"},{\"id\":\"2c04ef91-aebf-4184-a4d0-d9ccd3ae6591\",\"type\":\"Grid\"},{\"id\":\"f7ae1499-6a1e-4653-af84-83fac11f4b92\",\"type\":\"LinearAxis\"},{\"id\":\"fcbf8463-c60d-48ce-b900-f72ccc235a52\",\"type\":\"Grid\"},{\"id\":\"ab8de76c-3728-47a0-a33f-c310b925b1fb\",\"type\":\"BoxAnnotation\"},{\"id\":\"60badb89-5956-4406-a3ee-c46d086154d2\",\"type\":\"GlyphRenderer\"},{\"id\":\"1cb4aa0f-de33-43c8-a608-fa9cd0c6fde5\",\"type\":\"LabelSet\"}],\"title\":{\"id\":\"b514cfef-0e3f-400c-a21b-094ff83475de\",\"type\":\"Title\"},\"toolbar\":{\"id\":\"140ed862-97e1-4e5d-abc1-f5fe0f0ca3d6\",\"type\":\"Toolbar\"},\"x_range\":{\"id\":\"6ae44b24-c70e-46e4-92be-2b38e06f818b\",\"type\":\"Range1d\"},\"x_scale\":{\"id\":\"7bd19f6f-c141-4e3c-ab7c-900e8f6ad535\",\"type\":\"LinearScale\"},\"y_range\":{\"id\":\"0cf1409b-5c32-4913-a1cc-d2aa69c09a98\",\"type\":\"DataRange1d\"},\"y_scale\":{\"id\":\"0ea152b0-8cd9-444e-ac47-4ae2e63418e3\",\"type\":\"LinearScale\"}},\"id\":\"f158f247-caf8-4bc1-8663-b97cf95c00ec\",\"subtype\":\"Figure\",\"type\":\"Plot\"},{\"attributes\":{},\"id\":\"7a7d95e0-0a36-496d-8788-d961af6aa5c2\",\"type\":\"HelpTool\"},{\"attributes\":{},\"id\":\"4b766b6d-91e3-4f09-8312-b77744aab349\",\"type\":\"BasicTickFormatter\"},{\"attributes\":{\"source\":{\"id\":\"cfa5b9be-f5a5-470e-ac9e-b690a29d50db\",\"type\":\"ColumnDataSource\"}},\"id\":\"82599220-a7c9-44a7-8c53-30ba28965f70\",\"type\":\"CDSView\"}],\"root_ids\":[\"f158f247-caf8-4bc1-8663-b97cf95c00ec\"]},\"title\":\"Bokeh Application\",\"version\":\"0.12.9\"}};\n",
       "    var render_items = [{\"docid\":\"32a1e637-c678-4b2e-a07c-a441443dba28\",\"elementid\":\"8e821e55-b472-484e-b838-958e8949d6cb\",\"modelid\":\"f158f247-caf8-4bc1-8663-b97cf95c00ec\"}];\n",
       "\n",
       "    root.Bokeh.embed.embed_items(docs_json, render_items);\n",
       "  }\n",
       "\n",
       "  if (root.Bokeh !== undefined) {\n",
       "    embed_document(root);\n",
       "  } else {\n",
       "    var attempts = 0;\n",
       "    var timer = setInterval(function(root) {\n",
       "      if (root.Bokeh !== undefined) {\n",
       "        embed_document(root);\n",
       "        clearInterval(timer);\n",
       "      }\n",
       "      attempts++;\n",
       "      if (attempts > 100) {\n",
       "        console.log(\"Bokeh: ERROR: Unable to embed document because BokehJS library is missing\")\n",
       "        clearInterval(timer);\n",
       "      }\n",
       "    }, 10, root)\n",
       "  }\n",
       "})(window);"
      ],
      "application/vnd.bokehjs_exec.v0+json": ""
     },
     "metadata": {
      "application/vnd.bokehjs_exec.v0+json": {
       "id": "f158f247-caf8-4bc1-8663-b97cf95c00ec"
      }
     },
     "output_type": "display_data"
    }
   ],
   "source": [
    "from bokeh.models import ColumnDataSource, LabelSet\n",
    "\n",
    "source = ColumnDataSource(data=dict(\n",
    "    average=[55, 74, 38, 41, 44, 26],\n",
    "    strike_rate=[165, 139, 155, 141, 160, 174],\n",
    "    names=['Sachin', 'Kohli', 'Dhawan', 'Rahane', 'Yuvraj', 'Dhoni']))\n",
    "\n",
    "p = figure(x_range=(20, 100))\n",
    "p.scatter(x='average', y='strike_rate', size=12, source=source)\n",
    "p.xaxis.axis_label = 'Average'\n",
    "p.yaxis.axis_label = 'Strike Rate'\n",
    "\n",
    "labels = LabelSet(x='average', y='strike_rate', text='names', level='glyph',\n",
    "                  x_offset=5, y_offset=5, source=source, render_mode='canvas')\n",
    "\n",
    "p.add_layout(labels)\n",
    "\n",
    "show(p)"
   ]
  },
  {
   "cell_type": "code",
   "execution_count": 47,
   "metadata": {},
   "outputs": [
    {
     "data": {
      "text/html": [
       "\n",
       "<div class=\"bk-root\">\n",
       "    <div class=\"bk-plotdiv\" id=\"fa098b44-5696-41e3-a64a-5c44b82efbe8\"></div>\n",
       "</div>"
      ]
     },
     "metadata": {},
     "output_type": "display_data"
    },
    {
     "data": {
      "application/javascript": [
       "(function(root) {\n",
       "  function embed_document(root) {\n",
       "    var docs_json = {\"45268762-eb3f-4b61-9e67-706334704adc\":{\"roots\":{\"references\":[{\"attributes\":{\"callback\":null},\"id\":\"c507620d-bf0a-47fc-8db7-7bed340a9278\",\"type\":\"DataRange1d\"},{\"attributes\":{\"data_source\":{\"id\":\"a8255bb5-d3ff-4152-be4a-bcf837208be9\",\"type\":\"ColumnDataSource\"},\"glyph\":{\"id\":\"65d767a0-01b9-484c-9bcc-0c776c85d634\",\"type\":\"Circle\"},\"hover_glyph\":null,\"muted_glyph\":null,\"nonselection_glyph\":{\"id\":\"a4373934-621f-43c1-a49a-d64b20014aa4\",\"type\":\"Circle\"},\"selection_glyph\":null,\"view\":{\"id\":\"5d749be5-2f15-4e5b-ab77-29f9c718df54\",\"type\":\"CDSView\"}},\"id\":\"7c4d11fc-ecfd-4aa1-b8d7-9f5f7e968e84\",\"type\":\"GlyphRenderer\"},{\"attributes\":{},\"id\":\"7fc93295-bf5b-4946-a0d7-c80886b609a5\",\"type\":\"LinearScale\"},{\"attributes\":{},\"id\":\"faea30e7-8335-4461-888a-2abbae0ce68c\",\"type\":\"LinearScale\"},{\"attributes\":{\"plot\":{\"id\":\"fc9cdffb-8daa-4812-9306-8ef91a53645d\",\"subtype\":\"Figure\",\"type\":\"Plot\"},\"ticker\":{\"id\":\"274db134-e15c-4568-bc21-297cf63f9368\",\"type\":\"BasicTicker\"}},\"id\":\"92d9283b-e0ee-48bb-aa4a-bba5ff241083\",\"type\":\"Grid\"},{\"attributes\":{\"formatter\":{\"id\":\"5a4ee748-9c4a-40df-86c6-127b3df96720\",\"type\":\"BasicTickFormatter\"},\"plot\":{\"id\":\"fc9cdffb-8daa-4812-9306-8ef91a53645d\",\"subtype\":\"Figure\",\"type\":\"Plot\"},\"ticker\":{\"id\":\"274db134-e15c-4568-bc21-297cf63f9368\",\"type\":\"BasicTicker\"}},\"id\":\"50f5061f-2d2b-4206-9161-e926a686c6e5\",\"type\":\"LinearAxis\"},{\"attributes\":{},\"id\":\"274db134-e15c-4568-bc21-297cf63f9368\",\"type\":\"BasicTicker\"},{\"attributes\":{\"formatter\":{\"id\":\"071fdd91-e7b6-40cd-9212-3789344fa9d4\",\"type\":\"BasicTickFormatter\"},\"plot\":{\"id\":\"fc9cdffb-8daa-4812-9306-8ef91a53645d\",\"subtype\":\"Figure\",\"type\":\"Plot\"},\"ticker\":{\"id\":\"73501053-de02-46b5-a67d-8dadf85678cb\",\"type\":\"BasicTicker\"}},\"id\":\"0159fc94-c107-469b-b138-78bd79d4560d\",\"type\":\"LinearAxis\"},{\"attributes\":{},\"id\":\"73501053-de02-46b5-a67d-8dadf85678cb\",\"type\":\"BasicTicker\"},{\"attributes\":{\"dimension\":1,\"plot\":{\"id\":\"fc9cdffb-8daa-4812-9306-8ef91a53645d\",\"subtype\":\"Figure\",\"type\":\"Plot\"},\"ticker\":{\"id\":\"73501053-de02-46b5-a67d-8dadf85678cb\",\"type\":\"BasicTicker\"}},\"id\":\"080c7bf2-4ec1-4e92-a3c1-72503ca67899\",\"type\":\"Grid\"},{\"attributes\":{\"source\":{\"id\":\"a8255bb5-d3ff-4152-be4a-bcf837208be9\",\"type\":\"ColumnDataSource\"}},\"id\":\"5d749be5-2f15-4e5b-ab77-29f9c718df54\",\"type\":\"CDSView\"},{\"attributes\":{\"fill_alpha\":{\"value\":0.1},\"fill_color\":{\"value\":\"#1f77b4\"},\"line_alpha\":{\"value\":0.1},\"line_color\":{\"value\":\"#1f77b4\"},\"x\":{\"field\":\"x\"},\"y\":{\"field\":\"y\"}},\"id\":\"a4373934-621f-43c1-a49a-d64b20014aa4\",\"type\":\"Circle\"},{\"attributes\":{},\"id\":\"5a4ee748-9c4a-40df-86c6-127b3df96720\",\"type\":\"BasicTickFormatter\"},{\"attributes\":{\"bottom_units\":\"screen\",\"fill_alpha\":{\"value\":0.5},\"fill_color\":{\"value\":\"lightgrey\"},\"left_units\":\"screen\",\"level\":\"overlay\",\"line_alpha\":{\"value\":1.0},\"line_color\":{\"value\":\"black\"},\"line_dash\":[4,4],\"line_width\":{\"value\":2},\"plot\":null,\"render_mode\":\"css\",\"right_units\":\"screen\",\"top_units\":\"screen\"},\"id\":\"9cee2fe6-20a8-4506-9c36-e8af8daadaa4\",\"type\":\"BoxAnnotation\"},{\"attributes\":{},\"id\":\"71090d7d-31da-4fb4-9deb-eaafa633cac6\",\"type\":\"PanTool\"},{\"attributes\":{},\"id\":\"071fdd91-e7b6-40cd-9212-3789344fa9d4\",\"type\":\"BasicTickFormatter\"},{\"attributes\":{},\"id\":\"49a1f1c1-27e1-4bac-840c-79fa100cd67f\",\"type\":\"WheelZoomTool\"},{\"attributes\":{\"overlay\":{\"id\":\"9cee2fe6-20a8-4506-9c36-e8af8daadaa4\",\"type\":\"BoxAnnotation\"}},\"id\":\"d6d4e4fe-ecd2-4987-96e1-e97bbbbdf163\",\"type\":\"BoxZoomTool\"},{\"attributes\":{},\"id\":\"f05d8774-4246-4289-b645-b2d4c5336183\",\"type\":\"SaveTool\"},{\"attributes\":{},\"id\":\"ce03498d-9d61-44a5-8499-b63bfa5332b9\",\"type\":\"ResetTool\"},{\"attributes\":{},\"id\":\"7b293f60-543a-4e1b-89e7-bbee86cef7f7\",\"type\":\"HelpTool\"},{\"attributes\":{\"label\":{\"value\":\"sin(x)\"},\"renderers\":[{\"id\":\"7c4d11fc-ecfd-4aa1-b8d7-9f5f7e968e84\",\"type\":\"GlyphRenderer\"}]},\"id\":\"3854443d-9d6d-4be0-a0c5-519c626497e4\",\"type\":\"LegendItem\"},{\"attributes\":{\"plot\":null,\"text\":\"\"},\"id\":\"eba984da-a1b0-4f18-bfe5-0b2660266bbf\",\"type\":\"Title\"},{\"attributes\":{\"line_alpha\":{\"value\":0.1},\"line_color\":{\"value\":\"#1f77b4\"},\"line_dash\":[3,3],\"line_width\":{\"value\":2},\"x\":{\"field\":\"x\"},\"y\":{\"field\":\"y\"}},\"id\":\"ad28ba0d-21bc-4309-a978-d0add2a84f36\",\"type\":\"Line\"},{\"attributes\":{\"items\":[{\"id\":\"3854443d-9d6d-4be0-a0c5-519c626497e4\",\"type\":\"LegendItem\"},{\"id\":\"0ca378ac-5382-4823-b3e5-c7f134211299\",\"type\":\"LegendItem\"}],\"plot\":{\"id\":\"fc9cdffb-8daa-4812-9306-8ef91a53645d\",\"subtype\":\"Figure\",\"type\":\"Plot\"}},\"id\":\"fdb7bb14-9cd6-4f50-808f-1c3d90d86b1a\",\"type\":\"Legend\"},{\"attributes\":{\"below\":[{\"id\":\"50f5061f-2d2b-4206-9161-e926a686c6e5\",\"type\":\"LinearAxis\"}],\"left\":[{\"id\":\"0159fc94-c107-469b-b138-78bd79d4560d\",\"type\":\"LinearAxis\"}],\"plot_height\":300,\"renderers\":[{\"id\":\"50f5061f-2d2b-4206-9161-e926a686c6e5\",\"type\":\"LinearAxis\"},{\"id\":\"92d9283b-e0ee-48bb-aa4a-bba5ff241083\",\"type\":\"Grid\"},{\"id\":\"0159fc94-c107-469b-b138-78bd79d4560d\",\"type\":\"LinearAxis\"},{\"id\":\"080c7bf2-4ec1-4e92-a3c1-72503ca67899\",\"type\":\"Grid\"},{\"id\":\"9cee2fe6-20a8-4506-9c36-e8af8daadaa4\",\"type\":\"BoxAnnotation\"},{\"id\":\"fdb7bb14-9cd6-4f50-808f-1c3d90d86b1a\",\"type\":\"Legend\"},{\"id\":\"7c4d11fc-ecfd-4aa1-b8d7-9f5f7e968e84\",\"type\":\"GlyphRenderer\"},{\"id\":\"e4d89a45-4543-4e90-96c6-12f4a7b0eaf1\",\"type\":\"GlyphRenderer\"}],\"title\":{\"id\":\"eba984da-a1b0-4f18-bfe5-0b2660266bbf\",\"type\":\"Title\"},\"toolbar\":{\"id\":\"b7ef222e-e727-44b8-822e-cc03cc647f18\",\"type\":\"Toolbar\"},\"x_range\":{\"id\":\"0a3e126a-9eed-412a-acfc-46654d384eed\",\"type\":\"DataRange1d\"},\"x_scale\":{\"id\":\"7fc93295-bf5b-4946-a0d7-c80886b609a5\",\"type\":\"LinearScale\"},\"y_range\":{\"id\":\"c507620d-bf0a-47fc-8db7-7bed340a9278\",\"type\":\"DataRange1d\"},\"y_scale\":{\"id\":\"faea30e7-8335-4461-888a-2abbae0ce68c\",\"type\":\"LinearScale\"}},\"id\":\"fc9cdffb-8daa-4812-9306-8ef91a53645d\",\"subtype\":\"Figure\",\"type\":\"Plot\"},{\"attributes\":{\"data_source\":{\"id\":\"9c3af5ea-6bd1-4b4f-b795-737079a89b0c\",\"type\":\"ColumnDataSource\"},\"glyph\":{\"id\":\"0b561406-82de-4cfb-91c7-fbf548860b70\",\"type\":\"Line\"},\"hover_glyph\":null,\"muted_glyph\":null,\"nonselection_glyph\":{\"id\":\"ad28ba0d-21bc-4309-a978-d0add2a84f36\",\"type\":\"Line\"},\"selection_glyph\":null,\"view\":{\"id\":\"35eca5cb-800a-4085-8b5f-37d78c5ec477\",\"type\":\"CDSView\"}},\"id\":\"e4d89a45-4543-4e90-96c6-12f4a7b0eaf1\",\"type\":\"GlyphRenderer\"},{\"attributes\":{\"source\":{\"id\":\"9c3af5ea-6bd1-4b4f-b795-737079a89b0c\",\"type\":\"ColumnDataSource\"}},\"id\":\"35eca5cb-800a-4085-8b5f-37d78c5ec477\",\"type\":\"CDSView\"},{\"attributes\":{\"fill_color\":{\"value\":\"#1f77b4\"},\"line_color\":{\"value\":\"#1f77b4\"},\"x\":{\"field\":\"x\"},\"y\":{\"field\":\"y\"}},\"id\":\"65d767a0-01b9-484c-9bcc-0c776c85d634\",\"type\":\"Circle\"},{\"attributes\":{\"active_drag\":\"auto\",\"active_inspect\":\"auto\",\"active_scroll\":\"auto\",\"active_tap\":\"auto\",\"tools\":[{\"id\":\"71090d7d-31da-4fb4-9deb-eaafa633cac6\",\"type\":\"PanTool\"},{\"id\":\"49a1f1c1-27e1-4bac-840c-79fa100cd67f\",\"type\":\"WheelZoomTool\"},{\"id\":\"d6d4e4fe-ecd2-4987-96e1-e97bbbbdf163\",\"type\":\"BoxZoomTool\"},{\"id\":\"f05d8774-4246-4289-b645-b2d4c5336183\",\"type\":\"SaveTool\"},{\"id\":\"ce03498d-9d61-44a5-8499-b63bfa5332b9\",\"type\":\"ResetTool\"},{\"id\":\"7b293f60-543a-4e1b-89e7-bbee86cef7f7\",\"type\":\"HelpTool\"}]},\"id\":\"b7ef222e-e727-44b8-822e-cc03cc647f18\",\"type\":\"Toolbar\"},{\"attributes\":{\"label\":{\"value\":\"cos(x)\"},\"renderers\":[{\"id\":\"e4d89a45-4543-4e90-96c6-12f4a7b0eaf1\",\"type\":\"GlyphRenderer\"}]},\"id\":\"0ca378ac-5382-4823-b3e5-c7f134211299\",\"type\":\"LegendItem\"},{\"attributes\":{\"line_color\":{\"value\":\"red\"},\"line_dash\":[3,3],\"line_width\":{\"value\":2},\"x\":{\"field\":\"x\"},\"y\":{\"field\":\"y\"}},\"id\":\"0b561406-82de-4cfb-91c7-fbf548860b70\",\"type\":\"Line\"},{\"attributes\":{\"callback\":null},\"id\":\"0a3e126a-9eed-412a-acfc-46654d384eed\",\"type\":\"DataRange1d\"},{\"attributes\":{\"callback\":null,\"column_names\":[\"x\",\"y\"],\"data\":{\"x\":{\"__ndarray__\":\"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\",\"dtype\":\"float64\",\"shape\":[1000]},\"y\":{\"__ndarray__\":\"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\",\"dtype\":\"float64\",\"shape\":[1000]}}},\"id\":\"9c3af5ea-6bd1-4b4f-b795-737079a89b0c\",\"type\":\"ColumnDataSource\"},{\"attributes\":{\"callback\":null,\"column_names\":[\"x\",\"y\"],\"data\":{\"x\":{\"__ndarray__\":\"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\",\"dtype\":\"float64\",\"shape\":[1000]},\"y\":{\"__ndarray__\":\"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\",\"dtype\":\"float64\",\"shape\":[1000]}}},\"id\":\"a8255bb5-d3ff-4152-be4a-bcf837208be9\",\"type\":\"ColumnDataSource\"}],\"root_ids\":[\"fc9cdffb-8daa-4812-9306-8ef91a53645d\"]},\"title\":\"Bokeh Application\",\"version\":\"0.12.9\"}};\n",
       "    var render_items = [{\"docid\":\"45268762-eb3f-4b61-9e67-706334704adc\",\"elementid\":\"fa098b44-5696-41e3-a64a-5c44b82efbe8\",\"modelid\":\"fc9cdffb-8daa-4812-9306-8ef91a53645d\"}];\n",
       "\n",
       "    root.Bokeh.embed.embed_items(docs_json, render_items);\n",
       "  }\n",
       "\n",
       "  if (root.Bokeh !== undefined) {\n",
       "    embed_document(root);\n",
       "  } else {\n",
       "    var attempts = 0;\n",
       "    var timer = setInterval(function(root) {\n",
       "      if (root.Bokeh !== undefined) {\n",
       "        embed_document(root);\n",
       "        clearInterval(timer);\n",
       "      }\n",
       "      attempts++;\n",
       "      if (attempts > 100) {\n",
       "        console.log(\"Bokeh: ERROR: Unable to embed document because BokehJS library is missing\")\n",
       "        clearInterval(timer);\n",
       "      }\n",
       "    }, 10, root)\n",
       "  }\n",
       "})(window);"
      ],
      "application/vnd.bokehjs_exec.v0+json": ""
     },
     "metadata": {
      "application/vnd.bokehjs_exec.v0+json": {
       "id": "fc9cdffb-8daa-4812-9306-8ef91a53645d"
      }
     },
     "output_type": "display_data"
    }
   ],
   "source": [
    "# A simple legend is used as shown below:\n",
    "\n",
    "x = np.linspace(0,3*np.pi,1000)\n",
    "y = np.sin(x)\n",
    "z = np.cos(x)\n",
    "\n",
    "p = figure(height=300)\n",
    "\n",
    "p.circle(x, y, legend=\"sin(x)\")           # Simple Legend\n",
    "p.line(x, z, legend=\"cos(x)\", line_dash=[3, 3], line_color=\"red\", line_width=2)\n",
    "\n",
    "show(p)"
   ]
  },
  {
   "cell_type": "markdown",
   "metadata": {},
   "source": []
  },
  {
   "cell_type": "markdown",
   "metadata": {},
   "source": [
    "### Bar Charts\n",
    "A simple bar chart is created using the vbar method for drawing vertical bars. There is also a corresponding hbar for horizontal bars. To create a plot with a categorical range, an ordered list of categorical values is passed. Here, we passed the list of countries as x_range, which form the x-axis.<br>\n",
    "The vbar method takes an x location for the center of the bar, a top and bottom (which defaults to 0), and a width. When we are using a categorical range as we are here, each category implicitly has width of 1, so setting width=0.8 as we have done here makes the bars shrink away from each other."
   ]
  },
  {
   "cell_type": "code",
   "execution_count": 18,
   "metadata": {},
   "outputs": [
    {
     "data": {
      "text/html": [
       "\n",
       "<div class=\"bk-root\">\n",
       "    <div class=\"bk-plotdiv\" id=\"ff53432f-ad67-4d9e-a12c-34c4ff7eee11\"></div>\n",
       "</div>"
      ]
     },
     "metadata": {},
     "output_type": "display_data"
    },
    {
     "data": {
      "application/javascript": [
       "(function(root) {\n",
       "  function embed_document(root) {\n",
       "    var docs_json = {\"ccd320fe-5c16-4faf-bde3-a1ae0c12a6d9\":{\"roots\":{\"references\":[{\"attributes\":{\"formatter\":{\"id\":\"056eab34-0c82-49cf-8535-e83e1a751814\",\"type\":\"BasicTickFormatter\"},\"plot\":{\"id\":\"1a7bce49-fdda-4f9d-8af1-2262e0eb3b21\",\"subtype\":\"Figure\",\"type\":\"Plot\"},\"ticker\":{\"id\":\"cb6ddb80-05d1-4b75-8727-9a1071b41e8c\",\"type\":\"BasicTicker\"}},\"id\":\"1e2b6dea-8c38-4682-9bbb-233cfe24948b\",\"type\":\"LinearAxis\"},{\"attributes\":{},\"id\":\"fa6dc531-21d2-4328-b1f4-3ce355eabc64\",\"type\":\"LinearScale\"},{\"attributes\":{\"grid_line_color\":{\"value\":null},\"plot\":{\"id\":\"1a7bce49-fdda-4f9d-8af1-2262e0eb3b21\",\"subtype\":\"Figure\",\"type\":\"Plot\"},\"ticker\":{\"id\":\"bc0035d7-fa16-4a88-a559-661b07b4163b\",\"type\":\"CategoricalTicker\"}},\"id\":\"74f226ab-ec21-476a-86ca-bdc1b2f420aa\",\"type\":\"Grid\"},{\"attributes\":{\"formatter\":{\"id\":\"4d72d4c4-9999-4e89-b3e8-5b1ccab77812\",\"type\":\"CategoricalTickFormatter\"},\"plot\":{\"id\":\"1a7bce49-fdda-4f9d-8af1-2262e0eb3b21\",\"subtype\":\"Figure\",\"type\":\"Plot\"},\"ticker\":{\"id\":\"bc0035d7-fa16-4a88-a559-661b07b4163b\",\"type\":\"CategoricalTicker\"}},\"id\":\"9534b85a-b7f6-4da4-ae79-12fe99f710b2\",\"type\":\"CategoricalAxis\"},{\"attributes\":{},\"id\":\"bc0035d7-fa16-4a88-a559-661b07b4163b\",\"type\":\"CategoricalTicker\"},{\"attributes\":{\"data_source\":{\"id\":\"49e26db5-d024-4365-be94-dc3ab88c1ebf\",\"type\":\"ColumnDataSource\"},\"glyph\":{\"id\":\"2ae65ffd-85aa-4d7e-b0ca-0c4918c35747\",\"type\":\"VBar\"},\"hover_glyph\":null,\"muted_glyph\":null,\"nonselection_glyph\":{\"id\":\"2fabd39e-b8bd-464f-90bc-de35bf89aa68\",\"type\":\"VBar\"},\"selection_glyph\":null,\"view\":{\"id\":\"945ea6da-1ae8-44c2-a8f6-bba558e31d48\",\"type\":\"CDSView\"}},\"id\":\"f8c891b1-f839-495e-93d6-b3196def0cd4\",\"type\":\"GlyphRenderer\"},{\"attributes\":{},\"id\":\"cb6ddb80-05d1-4b75-8727-9a1071b41e8c\",\"type\":\"BasicTicker\"},{\"attributes\":{\"dimension\":1,\"plot\":{\"id\":\"1a7bce49-fdda-4f9d-8af1-2262e0eb3b21\",\"subtype\":\"Figure\",\"type\":\"Plot\"},\"ticker\":{\"id\":\"cb6ddb80-05d1-4b75-8727-9a1071b41e8c\",\"type\":\"BasicTicker\"}},\"id\":\"5e91cf50-e09a-43ec-bac7-b4e655715158\",\"type\":\"Grid\"},{\"attributes\":{\"active_drag\":\"auto\",\"active_inspect\":\"auto\",\"active_scroll\":\"auto\",\"active_tap\":\"auto\",\"tools\":[{\"id\":\"9478646c-dba7-4593-952e-5a52f5fa9ce3\",\"type\":\"PanTool\"},{\"id\":\"4e26afc9-50af-4a06-8273-c9f2cfb8812a\",\"type\":\"WheelZoomTool\"},{\"id\":\"ffcc90f3-f004-4816-8ca6-7b361a20dd66\",\"type\":\"BoxZoomTool\"},{\"id\":\"6594c442-f7e4-462c-ab54-23f7ab9866c3\",\"type\":\"SaveTool\"},{\"id\":\"86cb7c3f-e435-4468-87e2-35ecf411a8e8\",\"type\":\"ResetTool\"},{\"id\":\"0f588a75-c8de-431f-a13f-374d21df68ae\",\"type\":\"HelpTool\"}]},\"id\":\"95d77edf-ab13-4801-8a28-80be1434444e\",\"type\":\"Toolbar\"},{\"attributes\":{\"bottom_units\":\"screen\",\"fill_alpha\":{\"value\":0.5},\"fill_color\":{\"value\":\"lightgrey\"},\"left_units\":\"screen\",\"level\":\"overlay\",\"line_alpha\":{\"value\":1.0},\"line_color\":{\"value\":\"black\"},\"line_dash\":[4,4],\"line_width\":{\"value\":2},\"plot\":null,\"render_mode\":\"css\",\"right_units\":\"screen\",\"top_units\":\"screen\"},\"id\":\"36299a3c-f892-4d21-8d95-b76debecb9dd\",\"type\":\"BoxAnnotation\"},{\"attributes\":{},\"id\":\"9478646c-dba7-4593-952e-5a52f5fa9ce3\",\"type\":\"PanTool\"},{\"attributes\":{\"source\":{\"id\":\"49e26db5-d024-4365-be94-dc3ab88c1ebf\",\"type\":\"ColumnDataSource\"}},\"id\":\"945ea6da-1ae8-44c2-a8f6-bba558e31d48\",\"type\":\"CDSView\"},{\"attributes\":{},\"id\":\"4e26afc9-50af-4a06-8273-c9f2cfb8812a\",\"type\":\"WheelZoomTool\"},{\"attributes\":{\"overlay\":{\"id\":\"36299a3c-f892-4d21-8d95-b76debecb9dd\",\"type\":\"BoxAnnotation\"}},\"id\":\"ffcc90f3-f004-4816-8ca6-7b361a20dd66\",\"type\":\"BoxZoomTool\"},{\"attributes\":{},\"id\":\"6594c442-f7e4-462c-ab54-23f7ab9866c3\",\"type\":\"SaveTool\"},{\"attributes\":{},\"id\":\"86cb7c3f-e435-4468-87e2-35ecf411a8e8\",\"type\":\"ResetTool\"},{\"attributes\":{},\"id\":\"056eab34-0c82-49cf-8535-e83e1a751814\",\"type\":\"BasicTickFormatter\"},{\"attributes\":{},\"id\":\"0f588a75-c8de-431f-a13f-374d21df68ae\",\"type\":\"HelpTool\"},{\"attributes\":{\"fill_alpha\":{\"value\":0.1},\"fill_color\":{\"value\":\"#1f77b4\"},\"line_alpha\":{\"value\":0.1},\"line_color\":{\"value\":\"#1f77b4\"},\"top\":{\"field\":\"top\"},\"width\":{\"value\":0.8},\"x\":{\"field\":\"x\"}},\"id\":\"2fabd39e-b8bd-464f-90bc-de35bf89aa68\",\"type\":\"VBar\"},{\"attributes\":{},\"id\":\"4d72d4c4-9999-4e89-b3e8-5b1ccab77812\",\"type\":\"CategoricalTickFormatter\"},{\"attributes\":{\"fill_color\":{\"value\":\"#1f77b4\"},\"line_color\":{\"value\":\"#1f77b4\"},\"top\":{\"field\":\"top\"},\"width\":{\"value\":0.8},\"x\":{\"field\":\"x\"}},\"id\":\"2ae65ffd-85aa-4d7e-b0ca-0c4918c35747\",\"type\":\"VBar\"},{\"attributes\":{},\"id\":\"8a42175b-0d42-408f-9c39-5811171fb0aa\",\"type\":\"CategoricalScale\"},{\"attributes\":{\"plot\":null,\"text\":\"2016 Summer Olympics\"},\"id\":\"77f07c07-1055-46e6-ae47-51d9b5aefbb7\",\"type\":\"Title\"},{\"attributes\":{\"callback\":null,\"start\":0},\"id\":\"4a7f0b0c-4544-426f-bf25-77e61328ea42\",\"type\":\"DataRange1d\"},{\"attributes\":{\"callback\":null,\"factors\":[\"Great Britain\",\"USA\",\"Japan\",\"Germany\",\"China\",\"Russia\",\"South Korea\",\"France\"]},\"id\":\"cb96412f-f872-41bf-91d7-6d83bad9dc2e\",\"type\":\"FactorRange\"},{\"attributes\":{\"callback\":null,\"column_names\":[\"x\",\"top\"],\"data\":{\"top\":[67,121,41,42,70,56,21,42],\"x\":[\"Great Britain\",\"USA\",\"Japan\",\"Germany\",\"China\",\"Russia\",\"South Korea\",\"France\"]}},\"id\":\"49e26db5-d024-4365-be94-dc3ab88c1ebf\",\"type\":\"ColumnDataSource\"},{\"attributes\":{\"below\":[{\"id\":\"9534b85a-b7f6-4da4-ae79-12fe99f710b2\",\"type\":\"CategoricalAxis\"}],\"left\":[{\"id\":\"1e2b6dea-8c38-4682-9bbb-233cfe24948b\",\"type\":\"LinearAxis\"}],\"plot_height\":350,\"renderers\":[{\"id\":\"9534b85a-b7f6-4da4-ae79-12fe99f710b2\",\"type\":\"CategoricalAxis\"},{\"id\":\"74f226ab-ec21-476a-86ca-bdc1b2f420aa\",\"type\":\"Grid\"},{\"id\":\"1e2b6dea-8c38-4682-9bbb-233cfe24948b\",\"type\":\"LinearAxis\"},{\"id\":\"5e91cf50-e09a-43ec-bac7-b4e655715158\",\"type\":\"Grid\"},{\"id\":\"36299a3c-f892-4d21-8d95-b76debecb9dd\",\"type\":\"BoxAnnotation\"},{\"id\":\"f8c891b1-f839-495e-93d6-b3196def0cd4\",\"type\":\"GlyphRenderer\"}],\"title\":{\"id\":\"77f07c07-1055-46e6-ae47-51d9b5aefbb7\",\"type\":\"Title\"},\"toolbar\":{\"id\":\"95d77edf-ab13-4801-8a28-80be1434444e\",\"type\":\"Toolbar\"},\"x_range\":{\"id\":\"cb96412f-f872-41bf-91d7-6d83bad9dc2e\",\"type\":\"FactorRange\"},\"x_scale\":{\"id\":\"8a42175b-0d42-408f-9c39-5811171fb0aa\",\"type\":\"CategoricalScale\"},\"y_range\":{\"id\":\"4a7f0b0c-4544-426f-bf25-77e61328ea42\",\"type\":\"DataRange1d\"},\"y_scale\":{\"id\":\"fa6dc531-21d2-4328-b1f4-3ce355eabc64\",\"type\":\"LinearScale\"}},\"id\":\"1a7bce49-fdda-4f9d-8af1-2262e0eb3b21\",\"subtype\":\"Figure\",\"type\":\"Plot\"}],\"root_ids\":[\"1a7bce49-fdda-4f9d-8af1-2262e0eb3b21\"]},\"title\":\"Bokeh Application\",\"version\":\"0.12.9\"}};\n",
       "    var render_items = [{\"docid\":\"ccd320fe-5c16-4faf-bde3-a1ae0c12a6d9\",\"elementid\":\"ff53432f-ad67-4d9e-a12c-34c4ff7eee11\",\"modelid\":\"1a7bce49-fdda-4f9d-8af1-2262e0eb3b21\"}];\n",
       "\n",
       "    root.Bokeh.embed.embed_items(docs_json, render_items);\n",
       "  }\n",
       "\n",
       "  if (root.Bokeh !== undefined) {\n",
       "    embed_document(root);\n",
       "  } else {\n",
       "    var attempts = 0;\n",
       "    var timer = setInterval(function(root) {\n",
       "      if (root.Bokeh !== undefined) {\n",
       "        embed_document(root);\n",
       "        clearInterval(timer);\n",
       "      }\n",
       "      attempts++;\n",
       "      if (attempts > 100) {\n",
       "        console.log(\"Bokeh: ERROR: Unable to embed document because BokehJS library is missing\")\n",
       "        clearInterval(timer);\n",
       "      }\n",
       "    }, 10, root)\n",
       "  }\n",
       "})(window);"
      ],
      "application/vnd.bokehjs_exec.v0+json": ""
     },
     "metadata": {
      "application/vnd.bokehjs_exec.v0+json": {
       "id": "1a7bce49-fdda-4f9d-8af1-2262e0eb3b21"
      }
     },
     "output_type": "display_data"
    }
   ],
   "source": [
    "# Create a list of categorical values \n",
    "country = ['Great Britain', 'USA', 'Japan', 'Germany', 'China', 'Russia', 'South Korea', 'France']\n",
    "\n",
    "# Set the x_range to the list of categories above\n",
    "p = figure(x_range=country, plot_height=350, title=\"2016 Summer Olympics\")\n",
    "\n",
    "# Categorical values can also be used as coordinates\n",
    "p.vbar(x=country, top=[67, 121, 41, 42, 70, 56, 21, 42], width=0.8)\n",
    "\n",
    "# Set some properties to make the plot look better\n",
    "p.xgrid.grid_line_color = None\n",
    "p.y_range.start = 0\n",
    "\n",
    "show(p)"
   ]
  },
  {
   "cell_type": "markdown",
   "metadata": {},
   "source": [
    "We can also use vbar with a ColumnDataSource. Here, we put the data in a ColumnDataSource and use that to drive our plot."
   ]
  },
  {
   "cell_type": "code",
   "execution_count": 36,
   "metadata": {},
   "outputs": [
    {
     "data": {
      "text/html": [
       "\n",
       "<div class=\"bk-root\">\n",
       "    <div class=\"bk-plotdiv\" id=\"ebb1a5c7-a719-4db3-b3d0-dccf1a88e793\"></div>\n",
       "</div>"
      ]
     },
     "metadata": {},
     "output_type": "display_data"
    },
    {
     "data": {
      "application/javascript": [
       "(function(root) {\n",
       "  function embed_document(root) {\n",
       "    var docs_json = {\"512315c0-9252-46f5-a98c-9b8c1b52f2a7\":{\"roots\":{\"references\":[{\"attributes\":{\"grid_line_color\":{\"value\":null},\"plot\":{\"id\":\"7273e636-5dc2-403c-b62a-7220198f377d\",\"subtype\":\"Figure\",\"type\":\"Plot\"},\"ticker\":{\"id\":\"bd8548e4-9de4-4f4e-86f7-50039c8cdd17\",\"type\":\"CategoricalTicker\"}},\"id\":\"48909947-3a1f-4faa-9c98-288bb223e5bd\",\"type\":\"Grid\"},{\"attributes\":{},\"id\":\"3dc1e82a-de39-4658-af47-c7646cd0d822\",\"type\":\"SaveTool\"},{\"attributes\":{\"fill_color\":{\"field\":\"color\"},\"line_color\":{\"field\":\"color\"},\"top\":{\"field\":\"medals\"},\"width\":{\"value\":0.8},\"x\":{\"field\":\"country\"}},\"id\":\"bd930799-8f75-4809-98bc-78d5ca4e37eb\",\"type\":\"VBar\"},{\"attributes\":{},\"id\":\"e6647eeb-ef45-4f15-b7c9-6761411d89e6\",\"type\":\"ResetTool\"},{\"attributes\":{\"plot\":null,\"text\":\"Medal Counts\"},\"id\":\"d803b61a-f42d-48b6-b15a-720978ed7ef1\",\"type\":\"Title\"},{\"attributes\":{\"overlay\":{\"id\":\"331139f5-8af4-4247-b117-66c420591628\",\"type\":\"BoxAnnotation\"}},\"id\":\"2642fb66-ec9c-4045-a283-d944d20cfd8a\",\"type\":\"BoxZoomTool\"},{\"attributes\":{\"fill_alpha\":{\"value\":0.1},\"fill_color\":{\"value\":\"#1f77b4\"},\"line_alpha\":{\"value\":0.1},\"line_color\":{\"value\":\"#1f77b4\"},\"top\":{\"field\":\"medals\"},\"width\":{\"value\":0.8},\"x\":{\"field\":\"country\"}},\"id\":\"ac692d7b-59ef-4bb4-a923-1674def60803\",\"type\":\"VBar\"},{\"attributes\":{\"data_source\":{\"id\":\"33263734-a955-46ef-afbb-efbea79c4cbc\",\"type\":\"ColumnDataSource\"},\"glyph\":{\"id\":\"bd930799-8f75-4809-98bc-78d5ca4e37eb\",\"type\":\"VBar\"},\"hover_glyph\":null,\"muted_glyph\":null,\"nonselection_glyph\":{\"id\":\"ac692d7b-59ef-4bb4-a923-1674def60803\",\"type\":\"VBar\"},\"selection_glyph\":null,\"view\":{\"id\":\"82d39c0a-f6b7-4571-ba87-3d3ceaa4e77e\",\"type\":\"CDSView\"}},\"id\":\"02aeccc8-8ab4-4e3e-b76e-6cd5d32229ca\",\"type\":\"GlyphRenderer\"},{\"attributes\":{},\"id\":\"465ce917-9dc0-4939-aeff-0a0a84272b57\",\"type\":\"BasicTicker\"},{\"attributes\":{\"below\":[{\"id\":\"f6bb68f0-0ca2-494a-a950-5ff3023e2d77\",\"type\":\"CategoricalAxis\"}],\"left\":[{\"id\":\"7b22bb4a-f59e-4eb0-9e39-b6952a45bfea\",\"type\":\"LinearAxis\"}],\"plot_height\":350,\"renderers\":[{\"id\":\"f6bb68f0-0ca2-494a-a950-5ff3023e2d77\",\"type\":\"CategoricalAxis\"},{\"id\":\"48909947-3a1f-4faa-9c98-288bb223e5bd\",\"type\":\"Grid\"},{\"id\":\"7b22bb4a-f59e-4eb0-9e39-b6952a45bfea\",\"type\":\"LinearAxis\"},{\"id\":\"a8989df1-3c1d-43de-8e33-05c578715d0e\",\"type\":\"Grid\"},{\"id\":\"331139f5-8af4-4247-b117-66c420591628\",\"type\":\"BoxAnnotation\"},{\"id\":\"a10337dc-c2ef-4cea-b761-65eb2c86c116\",\"type\":\"Legend\"},{\"id\":\"02aeccc8-8ab4-4e3e-b76e-6cd5d32229ca\",\"type\":\"GlyphRenderer\"}],\"title\":{\"id\":\"d803b61a-f42d-48b6-b15a-720978ed7ef1\",\"type\":\"Title\"},\"toolbar\":{\"id\":\"9ea5400e-c89c-4c61-895a-4ec287582273\",\"type\":\"Toolbar\"},\"x_range\":{\"id\":\"4edd49c8-2b9f-4885-9dea-fac224cb167f\",\"type\":\"FactorRange\"},\"x_scale\":{\"id\":\"8b57510e-3341-47d1-ada2-a49ea6ead422\",\"type\":\"CategoricalScale\"},\"y_range\":{\"id\":\"5aca4635-7394-4c10-a12c-b4bb4014096f\",\"type\":\"Range1d\"},\"y_scale\":{\"id\":\"8c74d949-0c71-4a73-ad1f-d82f3e842b6a\",\"type\":\"LinearScale\"}},\"id\":\"7273e636-5dc2-403c-b62a-7220198f377d\",\"subtype\":\"Figure\",\"type\":\"Plot\"},{\"attributes\":{},\"id\":\"c91ee5d0-8d67-4f4e-9779-cb98f0a49556\",\"type\":\"CategoricalTickFormatter\"},{\"attributes\":{},\"id\":\"8b57510e-3341-47d1-ada2-a49ea6ead422\",\"type\":\"CategoricalScale\"},{\"attributes\":{},\"id\":\"d3e142a9-febe-458a-b70f-3cfca31cc2a2\",\"type\":\"PanTool\"},{\"attributes\":{\"dimension\":1,\"plot\":{\"id\":\"7273e636-5dc2-403c-b62a-7220198f377d\",\"subtype\":\"Figure\",\"type\":\"Plot\"},\"ticker\":{\"id\":\"465ce917-9dc0-4939-aeff-0a0a84272b57\",\"type\":\"BasicTicker\"}},\"id\":\"a8989df1-3c1d-43de-8e33-05c578715d0e\",\"type\":\"Grid\"},{\"attributes\":{},\"id\":\"bd8548e4-9de4-4f4e-86f7-50039c8cdd17\",\"type\":\"CategoricalTicker\"},{\"attributes\":{},\"id\":\"6494e754-915b-4d58-a24f-ebdd50917e2b\",\"type\":\"WheelZoomTool\"},{\"attributes\":{\"items\":[{\"id\":\"9fbb231d-1c9a-413e-b443-329c8ac72cb4\",\"type\":\"LegendItem\"}],\"orientation\":\"horizontal\",\"plot\":{\"id\":\"7273e636-5dc2-403c-b62a-7220198f377d\",\"subtype\":\"Figure\",\"type\":\"Plot\"}},\"id\":\"a10337dc-c2ef-4cea-b761-65eb2c86c116\",\"type\":\"Legend\"},{\"attributes\":{\"callback\":null,\"factors\":[\"USA\",\"Japan\",\"Germany\",\"China\",\"Russia\",\"South Korea\",\"France\"]},\"id\":\"4edd49c8-2b9f-4885-9dea-fac224cb167f\",\"type\":\"FactorRange\"},{\"attributes\":{\"formatter\":{\"id\":\"ce4a1c48-41ae-4b38-b395-144fba22652e\",\"type\":\"BasicTickFormatter\"},\"plot\":{\"id\":\"7273e636-5dc2-403c-b62a-7220198f377d\",\"subtype\":\"Figure\",\"type\":\"Plot\"},\"ticker\":{\"id\":\"465ce917-9dc0-4939-aeff-0a0a84272b57\",\"type\":\"BasicTicker\"}},\"id\":\"7b22bb4a-f59e-4eb0-9e39-b6952a45bfea\",\"type\":\"LinearAxis\"},{\"attributes\":{\"bottom_units\":\"screen\",\"fill_alpha\":{\"value\":0.5},\"fill_color\":{\"value\":\"lightgrey\"},\"left_units\":\"screen\",\"level\":\"overlay\",\"line_alpha\":{\"value\":1.0},\"line_color\":{\"value\":\"black\"},\"line_dash\":[4,4],\"line_width\":{\"value\":2},\"plot\":null,\"render_mode\":\"css\",\"right_units\":\"screen\",\"top_units\":\"screen\"},\"id\":\"331139f5-8af4-4247-b117-66c420591628\",\"type\":\"BoxAnnotation\"},{\"attributes\":{\"callback\":null,\"column_names\":[\"country\",\"medals\",\"color\"],\"data\":{\"color\":[\"#3288bd\",\"#99d594\",\"#e6f598\",\"#ffffbf\",\"#fee08b\",\"#fc8d59\",\"#d53e4f\"],\"country\":[\"USA\",\"Japan\",\"Germany\",\"China\",\"Russia\",\"South Korea\",\"France\"],\"medals\":[121,41,42,70,56,21,42]}},\"id\":\"33263734-a955-46ef-afbb-efbea79c4cbc\",\"type\":\"ColumnDataSource\"},{\"attributes\":{\"label\":{\"field\":\"country\"},\"renderers\":[{\"id\":\"02aeccc8-8ab4-4e3e-b76e-6cd5d32229ca\",\"type\":\"GlyphRenderer\"}]},\"id\":\"9fbb231d-1c9a-413e-b443-329c8ac72cb4\",\"type\":\"LegendItem\"},{\"attributes\":{\"source\":{\"id\":\"33263734-a955-46ef-afbb-efbea79c4cbc\",\"type\":\"ColumnDataSource\"}},\"id\":\"82d39c0a-f6b7-4571-ba87-3d3ceaa4e77e\",\"type\":\"CDSView\"},{\"attributes\":{\"active_drag\":\"auto\",\"active_inspect\":\"auto\",\"active_scroll\":\"auto\",\"active_tap\":\"auto\",\"tools\":[{\"id\":\"d3e142a9-febe-458a-b70f-3cfca31cc2a2\",\"type\":\"PanTool\"},{\"id\":\"6494e754-915b-4d58-a24f-ebdd50917e2b\",\"type\":\"WheelZoomTool\"},{\"id\":\"2642fb66-ec9c-4045-a283-d944d20cfd8a\",\"type\":\"BoxZoomTool\"},{\"id\":\"3dc1e82a-de39-4658-af47-c7646cd0d822\",\"type\":\"SaveTool\"},{\"id\":\"e6647eeb-ef45-4f15-b7c9-6761411d89e6\",\"type\":\"ResetTool\"},{\"id\":\"d7f3fee3-d1cf-4a80-94b6-828927828cb3\",\"type\":\"HelpTool\"}]},\"id\":\"9ea5400e-c89c-4c61-895a-4ec287582273\",\"type\":\"Toolbar\"},{\"attributes\":{},\"id\":\"ce4a1c48-41ae-4b38-b395-144fba22652e\",\"type\":\"BasicTickFormatter\"},{\"attributes\":{},\"id\":\"8c74d949-0c71-4a73-ad1f-d82f3e842b6a\",\"type\":\"LinearScale\"},{\"attributes\":{},\"id\":\"d7f3fee3-d1cf-4a80-94b6-828927828cb3\",\"type\":\"HelpTool\"},{\"attributes\":{\"formatter\":{\"id\":\"c91ee5d0-8d67-4f4e-9779-cb98f0a49556\",\"type\":\"CategoricalTickFormatter\"},\"plot\":{\"id\":\"7273e636-5dc2-403c-b62a-7220198f377d\",\"subtype\":\"Figure\",\"type\":\"Plot\"},\"ticker\":{\"id\":\"bd8548e4-9de4-4f4e-86f7-50039c8cdd17\",\"type\":\"CategoricalTicker\"}},\"id\":\"f6bb68f0-0ca2-494a-a950-5ff3023e2d77\",\"type\":\"CategoricalAxis\"},{\"attributes\":{\"callback\":null,\"end\":150},\"id\":\"5aca4635-7394-4c10-a12c-b4bb4014096f\",\"type\":\"Range1d\"}],\"root_ids\":[\"7273e636-5dc2-403c-b62a-7220198f377d\"]},\"title\":\"Bokeh Application\",\"version\":\"0.12.9\"}};\n",
       "    var render_items = [{\"docid\":\"512315c0-9252-46f5-a98c-9b8c1b52f2a7\",\"elementid\":\"ebb1a5c7-a719-4db3-b3d0-dccf1a88e793\",\"modelid\":\"7273e636-5dc2-403c-b62a-7220198f377d\"}];\n",
       "\n",
       "    root.Bokeh.embed.embed_items(docs_json, render_items);\n",
       "  }\n",
       "\n",
       "  if (root.Bokeh !== undefined) {\n",
       "    embed_document(root);\n",
       "  } else {\n",
       "    var attempts = 0;\n",
       "    var timer = setInterval(function(root) {\n",
       "      if (root.Bokeh !== undefined) {\n",
       "        embed_document(root);\n",
       "        clearInterval(timer);\n",
       "      }\n",
       "      attempts++;\n",
       "      if (attempts > 100) {\n",
       "        console.log(\"Bokeh: ERROR: Unable to embed document because BokehJS library is missing\")\n",
       "        clearInterval(timer);\n",
       "      }\n",
       "    }, 10, root)\n",
       "  }\n",
       "})(window);"
      ],
      "application/vnd.bokehjs_exec.v0+json": ""
     },
     "metadata": {
      "application/vnd.bokehjs_exec.v0+json": {
       "id": "7273e636-5dc2-403c-b62a-7220198f377d"
      }
     },
     "output_type": "display_data"
    }
   ],
   "source": [
    "from bokeh.models import ColumnDataSource\n",
    "from bokeh.palettes import Spectral7\n",
    "\n",
    "country = ['USA', 'Japan', 'Germany', 'China', 'Russia', 'South Korea', 'France']\n",
    "medals = [ 121, 41, 42, 70, 56, 21, 42]\n",
    "\n",
    "source = ColumnDataSource(data=dict(country=country, medals=medals, color=Spectral7))\n",
    "\n",
    "p = figure(x_range=country, plot_height=350, y_range=(0, 150), title=\"Medal Counts\")\n",
    "p.vbar(x='country', top='medals', width=0.8, color='color', legend=\"country\", source=source)\n",
    "\n",
    "p.xgrid.grid_line_color = None\n",
    "p.legend.orientation = \"horizontal\"\n",
    "p.legend.location = \"top_right\"\n",
    "\n",
    "show(p)"
   ]
  },
  {
   "cell_type": "code",
   "execution_count": 41,
   "metadata": {},
   "outputs": [
    {
     "data": {
      "text/html": [
       "\n",
       "<div class=\"bk-root\">\n",
       "    <div class=\"bk-plotdiv\" id=\"cfbf445f-4b89-4789-9d18-9c5dc169559c\"></div>\n",
       "</div>"
      ]
     },
     "metadata": {},
     "output_type": "display_data"
    },
    {
     "data": {
      "application/javascript": [
       "(function(root) {\n",
       "  function embed_document(root) {\n",
       "    var docs_json = {\"1bea6217-7a6f-4b65-972b-9072bba41255\":{\"roots\":{\"references\":[{\"attributes\":{\"grid_line_color\":{\"value\":null},\"plot\":{\"id\":\"811a592b-549c-4218-b4b7-9a21078b1fb0\",\"subtype\":\"Figure\",\"type\":\"Plot\"},\"ticker\":{\"id\":\"6ad3d403-4ba6-450e-a467-2011e394afd3\",\"type\":\"CategoricalTicker\"}},\"id\":\"b6a5eccb-305e-4b23-bfbc-df9463e80bc8\",\"type\":\"Grid\"},{\"attributes\":{\"callback\":null,\"start\":0},\"id\":\"0e030a65-9646-4587-afeb-526ccd1690d2\",\"type\":\"DataRange1d\"},{\"attributes\":{\"active_drag\":\"auto\",\"active_inspect\":\"auto\",\"active_scroll\":\"auto\",\"active_tap\":\"auto\",\"tools\":[{\"id\":\"93c5ca1a-864a-4e20-8f6a-baa85ce4c332\",\"type\":\"PanTool\"},{\"id\":\"da31982a-d143-488d-b2ff-bc70610c6b32\",\"type\":\"WheelZoomTool\"},{\"id\":\"e81754e7-6a87-4699-b665-3ffba6ed9951\",\"type\":\"BoxZoomTool\"},{\"id\":\"c710ce9e-65c3-4a4c-a8ec-8c2071bb00e5\",\"type\":\"SaveTool\"},{\"id\":\"2aab1ee2-a836-45b0-a3ab-2bc022ed0dcf\",\"type\":\"ResetTool\"},{\"id\":\"7e619af6-f618-4d02-9d3f-ec3c345e428f\",\"type\":\"HelpTool\"}]},\"id\":\"35c23eec-e266-4b00-97de-5f99cdd05e73\",\"type\":\"Toolbar\"},{\"attributes\":{\"plot\":null,\"text\":\"Medal Counts by Year\"},\"id\":\"89ea7b50-99b9-4ae1-bd40-3c5983e922b7\",\"type\":\"Title\"},{\"attributes\":{},\"id\":\"faf7db2c-42d8-4cf2-87b6-c856fe8b2fbf\",\"type\":\"BasicTicker\"},{\"attributes\":{},\"id\":\"7e619af6-f618-4d02-9d3f-ec3c345e428f\",\"type\":\"HelpTool\"},{\"attributes\":{\"fill_alpha\":{\"value\":0.1},\"fill_color\":{\"value\":\"#1f77b4\"},\"line_alpha\":{\"value\":0.1},\"line_color\":{\"value\":\"#1f77b4\"},\"top\":{\"field\":\"counts\"},\"width\":{\"value\":0.9},\"x\":{\"field\":\"x\"}},\"id\":\"8839b03d-1d6a-4763-9817-42381ad1a5fc\",\"type\":\"VBar\"},{\"attributes\":{\"dimension\":1,\"plot\":{\"id\":\"811a592b-549c-4218-b4b7-9a21078b1fb0\",\"subtype\":\"Figure\",\"type\":\"Plot\"},\"ticker\":{\"id\":\"faf7db2c-42d8-4cf2-87b6-c856fe8b2fbf\",\"type\":\"BasicTicker\"}},\"id\":\"4220e43c-ac49-4402-9a44-9dadeb2fe538\",\"type\":\"Grid\"},{\"attributes\":{\"source\":{\"id\":\"615ac184-b8e6-4be4-a731-df15913ba234\",\"type\":\"ColumnDataSource\"}},\"id\":\"5844ca8f-8db0-49b4-a45d-8d666140f623\",\"type\":\"CDSView\"},{\"attributes\":{},\"id\":\"894671d6-9b2e-462e-9b3e-396973335fa1\",\"type\":\"CategoricalScale\"},{\"attributes\":{\"formatter\":{\"id\":\"2cfee85b-43da-4505-8bce-2e94d35e0582\",\"type\":\"BasicTickFormatter\"},\"plot\":{\"id\":\"811a592b-549c-4218-b4b7-9a21078b1fb0\",\"subtype\":\"Figure\",\"type\":\"Plot\"},\"ticker\":{\"id\":\"faf7db2c-42d8-4cf2-87b6-c856fe8b2fbf\",\"type\":\"BasicTicker\"}},\"id\":\"d4eae436-74ba-40ed-a78e-36645a28a73c\",\"type\":\"LinearAxis\"},{\"attributes\":{},\"id\":\"117cde6a-1c36-47db-a57a-b0c235098ae6\",\"type\":\"CategoricalTickFormatter\"},{\"attributes\":{\"fill_color\":{\"value\":\"#1f77b4\"},\"line_color\":{\"value\":\"#1f77b4\"},\"top\":{\"field\":\"counts\"},\"width\":{\"value\":0.9},\"x\":{\"field\":\"x\"}},\"id\":\"feec85b9-5ede-4f29-a7f4-990c9a93cae4\",\"type\":\"VBar\"},{\"attributes\":{},\"id\":\"6ad3d403-4ba6-450e-a467-2011e394afd3\",\"type\":\"CategoricalTicker\"},{\"attributes\":{\"below\":[{\"id\":\"c3ebf64f-f4f7-4b7e-9961-0852fec60f39\",\"type\":\"CategoricalAxis\"}],\"left\":[{\"id\":\"d4eae436-74ba-40ed-a78e-36645a28a73c\",\"type\":\"LinearAxis\"}],\"plot_height\":250,\"renderers\":[{\"id\":\"c3ebf64f-f4f7-4b7e-9961-0852fec60f39\",\"type\":\"CategoricalAxis\"},{\"id\":\"b6a5eccb-305e-4b23-bfbc-df9463e80bc8\",\"type\":\"Grid\"},{\"id\":\"d4eae436-74ba-40ed-a78e-36645a28a73c\",\"type\":\"LinearAxis\"},{\"id\":\"4220e43c-ac49-4402-9a44-9dadeb2fe538\",\"type\":\"Grid\"},{\"id\":\"b33c1034-40f5-490f-9961-2f54fa6e176a\",\"type\":\"BoxAnnotation\"},{\"id\":\"f87e518d-3c7a-4c89-b74c-9ec4884b4446\",\"type\":\"GlyphRenderer\"}],\"title\":{\"id\":\"89ea7b50-99b9-4ae1-bd40-3c5983e922b7\",\"type\":\"Title\"},\"toolbar\":{\"id\":\"35c23eec-e266-4b00-97de-5f99cdd05e73\",\"type\":\"Toolbar\"},\"x_range\":{\"id\":\"8a53f3fa-ae83-41a8-a53b-084f63a1c456\",\"type\":\"FactorRange\"},\"x_scale\":{\"id\":\"894671d6-9b2e-462e-9b3e-396973335fa1\",\"type\":\"CategoricalScale\"},\"y_range\":{\"id\":\"0e030a65-9646-4587-afeb-526ccd1690d2\",\"type\":\"DataRange1d\"},\"y_scale\":{\"id\":\"42032136-b5ac-420a-afbd-765be7df97b4\",\"type\":\"LinearScale\"}},\"id\":\"811a592b-549c-4218-b4b7-9a21078b1fb0\",\"subtype\":\"Figure\",\"type\":\"Plot\"},{\"attributes\":{},\"id\":\"2cfee85b-43da-4505-8bce-2e94d35e0582\",\"type\":\"BasicTickFormatter\"},{\"attributes\":{\"formatter\":{\"id\":\"117cde6a-1c36-47db-a57a-b0c235098ae6\",\"type\":\"CategoricalTickFormatter\"},\"major_label_orientation\":1,\"plot\":{\"id\":\"811a592b-549c-4218-b4b7-9a21078b1fb0\",\"subtype\":\"Figure\",\"type\":\"Plot\"},\"ticker\":{\"id\":\"6ad3d403-4ba6-450e-a467-2011e394afd3\",\"type\":\"CategoricalTicker\"}},\"id\":\"c3ebf64f-f4f7-4b7e-9961-0852fec60f39\",\"type\":\"CategoricalAxis\"},{\"attributes\":{\"callback\":null,\"factors\":[[\"USA\",\"2008\"],[\"USA\",\"2012\"],[\"USA\",\"2016\"],[\"Japan\",\"2008\"],[\"Japan\",\"2012\"],[\"Japan\",\"2016\"],[\"Germany\",\"2008\"],[\"Germany\",\"2012\"],[\"Germany\",\"2016\"],[\"China\",\"2008\"],[\"China\",\"2012\"],[\"China\",\"2016\"],[\"Russia\",\"2008\"],[\"Russia\",\"2012\"],[\"Russia\",\"2016\"],[\"South Korea\",\"2008\"],[\"South Korea\",\"2012\"],[\"South Korea\",\"2016\"],[\"France\",\"2008\"],[\"France\",\"2012\"],[\"France\",\"2016\"]],\"range_padding\":0.1},\"id\":\"8a53f3fa-ae83-41a8-a53b-084f63a1c456\",\"type\":\"FactorRange\"},{\"attributes\":{},\"id\":\"42032136-b5ac-420a-afbd-765be7df97b4\",\"type\":\"LinearScale\"},{\"attributes\":{\"data_source\":{\"id\":\"615ac184-b8e6-4be4-a731-df15913ba234\",\"type\":\"ColumnDataSource\"},\"glyph\":{\"id\":\"feec85b9-5ede-4f29-a7f4-990c9a93cae4\",\"type\":\"VBar\"},\"hover_glyph\":null,\"muted_glyph\":null,\"nonselection_glyph\":{\"id\":\"8839b03d-1d6a-4763-9817-42381ad1a5fc\",\"type\":\"VBar\"},\"selection_glyph\":null,\"view\":{\"id\":\"5844ca8f-8db0-49b4-a45d-8d666140f623\",\"type\":\"CDSView\"}},\"id\":\"f87e518d-3c7a-4c89-b74c-9ec4884b4446\",\"type\":\"GlyphRenderer\"},{\"attributes\":{},\"id\":\"2aab1ee2-a836-45b0-a3ab-2bc022ed0dcf\",\"type\":\"ResetTool\"},{\"attributes\":{},\"id\":\"c710ce9e-65c3-4a4c-a8ec-8c2071bb00e5\",\"type\":\"SaveTool\"},{\"attributes\":{\"bottom_units\":\"screen\",\"fill_alpha\":{\"value\":0.5},\"fill_color\":{\"value\":\"lightgrey\"},\"left_units\":\"screen\",\"level\":\"overlay\",\"line_alpha\":{\"value\":1.0},\"line_color\":{\"value\":\"black\"},\"line_dash\":[4,4],\"line_width\":{\"value\":2},\"plot\":null,\"render_mode\":\"css\",\"right_units\":\"screen\",\"top_units\":\"screen\"},\"id\":\"b33c1034-40f5-490f-9961-2f54fa6e176a\",\"type\":\"BoxAnnotation\"},{\"attributes\":{},\"id\":\"da31982a-d143-488d-b2ff-bc70610c6b32\",\"type\":\"WheelZoomTool\"},{\"attributes\":{\"overlay\":{\"id\":\"b33c1034-40f5-490f-9961-2f54fa6e176a\",\"type\":\"BoxAnnotation\"}},\"id\":\"e81754e7-6a87-4699-b665-3ffba6ed9951\",\"type\":\"BoxZoomTool\"},{\"attributes\":{},\"id\":\"93c5ca1a-864a-4e20-8f6a-baa85ce4c332\",\"type\":\"PanTool\"},{\"attributes\":{\"callback\":null,\"column_names\":[\"x\",\"counts\"],\"data\":{\"counts\":[111,103,121,25,38,41,41,44,42,99,88,70,59,69,56,32,30,21,42,35,42],\"x\":[[\"USA\",\"2008\"],[\"USA\",\"2012\"],[\"USA\",\"2016\"],[\"Japan\",\"2008\"],[\"Japan\",\"2012\"],[\"Japan\",\"2016\"],[\"Germany\",\"2008\"],[\"Germany\",\"2012\"],[\"Germany\",\"2016\"],[\"China\",\"2008\"],[\"China\",\"2012\"],[\"China\",\"2016\"],[\"Russia\",\"2008\"],[\"Russia\",\"2012\"],[\"Russia\",\"2016\"],[\"South Korea\",\"2008\"],[\"South Korea\",\"2012\"],[\"South Korea\",\"2016\"],[\"France\",\"2008\"],[\"France\",\"2012\"],[\"France\",\"2016\"]]}},\"id\":\"615ac184-b8e6-4be4-a731-df15913ba234\",\"type\":\"ColumnDataSource\"}],\"root_ids\":[\"811a592b-549c-4218-b4b7-9a21078b1fb0\"]},\"title\":\"Bokeh Application\",\"version\":\"0.12.9\"}};\n",
       "    var render_items = [{\"docid\":\"1bea6217-7a6f-4b65-972b-9072bba41255\",\"elementid\":\"cfbf445f-4b89-4789-9d18-9c5dc169559c\",\"modelid\":\"811a592b-549c-4218-b4b7-9a21078b1fb0\"}];\n",
       "\n",
       "    root.Bokeh.embed.embed_items(docs_json, render_items);\n",
       "  }\n",
       "\n",
       "  if (root.Bokeh !== undefined) {\n",
       "    embed_document(root);\n",
       "  } else {\n",
       "    var attempts = 0;\n",
       "    var timer = setInterval(function(root) {\n",
       "      if (root.Bokeh !== undefined) {\n",
       "        embed_document(root);\n",
       "        clearInterval(timer);\n",
       "      }\n",
       "      attempts++;\n",
       "      if (attempts > 100) {\n",
       "        console.log(\"Bokeh: ERROR: Unable to embed document because BokehJS library is missing\")\n",
       "        clearInterval(timer);\n",
       "      }\n",
       "    }, 10, root)\n",
       "  }\n",
       "})(window);"
      ],
      "application/vnd.bokehjs_exec.v0+json": ""
     },
     "metadata": {
      "application/vnd.bokehjs_exec.v0+json": {
       "id": "811a592b-549c-4218-b4b7-9a21078b1fb0"
      }
     },
     "output_type": "display_data"
    }
   ],
   "source": [
    "from bokeh.models import FactorRange\n",
    "\n",
    "country = ['USA', 'Japan', 'Germany', 'China', 'Russia', 'South Korea', 'France']\n",
    "years = ['2008', '2012', '2016']\n",
    "\n",
    "data = {'country' : country,\n",
    "        '2008'   : [111, 25, 41, 99, 59, 32, 42],\n",
    "        '2012'   : [103, 38, 44, 88, 69, 30, 35],\n",
    "        '2016'   : [121, 41, 42, 70, 56, 21, 42]}\n",
    "\n",
    "# Creates [ (\"USA\", \"2008\"), (\"USA\", \"2012\"), (\"USA\", \"2016\"), (\"Japan\", \"2008), ... ]\n",
    "x = [ (country, year) for country in country for year in years ]\n",
    "counts = sum(zip(data['2008'], data['2012'], data['2016']), ())        # like a hstack\n",
    "\n",
    "source = ColumnDataSource(data=dict(x=x, counts=counts))\n",
    "\n",
    "p = figure(x_range=FactorRange(*x), plot_height=250, title=\"Medal Counts by Year\")\n",
    "\n",
    "p.vbar(x='x', top='counts', width=0.9, source=source)\n",
    "\n",
    "p.y_range.start = 0\n",
    "p.x_range.range_padding = 0.1          # added some padding around the categorical range (at both ends of the axis)\n",
    "p.xaxis.major_label_orientation = 1\n",
    "p.xgrid.grid_line_color = None\n",
    "\n",
    "show(p)"
   ]
  },
  {
   "cell_type": "code",
   "execution_count": 44,
   "metadata": {},
   "outputs": [
    {
     "data": {
      "text/html": [
       "\n",
       "<div class=\"bk-root\">\n",
       "    <div class=\"bk-plotdiv\" id=\"65d0d8e0-6336-4f37-89a5-4f7f7b9dd56a\"></div>\n",
       "</div>"
      ]
     },
     "metadata": {},
     "output_type": "display_data"
    },
    {
     "data": {
      "application/javascript": [
       "(function(root) {\n",
       "  function embed_document(root) {\n",
       "    var docs_json = {\"54ea44e7-e67a-4623-a9b7-21718a2d96e0\":{\"roots\":{\"references\":[{\"attributes\":{},\"id\":\"6df62f08-91ee-418e-ba12-bb76ae39bfc2\",\"type\":\"CategoricalScale\"},{\"attributes\":{},\"id\":\"045b4833-2f34-4af7-9678-ad0b37def117\",\"type\":\"HelpTool\"},{\"attributes\":{\"fill_color\":{\"field\":\"x\",\"transform\":{\"id\":\"946f62a3-f5e9-492e-a172-a301f448384c\",\"type\":\"CategoricalColorMapper\"}},\"line_color\":{\"value\":\"white\"},\"top\":{\"field\":\"counts\"},\"width\":{\"value\":0.9},\"x\":{\"field\":\"x\"}},\"id\":\"56090806-bcc2-446c-976e-1236e5f53a9d\",\"type\":\"VBar\"},{\"attributes\":{\"end\":2,\"factors\":[\"2008\",\"2012\",\"2016\"],\"palette\":[\"firebrick\",\"green\",\"blue\"],\"start\":1},\"id\":\"946f62a3-f5e9-492e-a172-a301f448384c\",\"type\":\"CategoricalColorMapper\"},{\"attributes\":{},\"id\":\"d24ed03e-cbde-4ecd-aca4-1ed94bf8fa05\",\"type\":\"PanTool\"},{\"attributes\":{\"dimension\":1,\"plot\":{\"id\":\"b8bd03ca-35e9-41d3-bf01-e25aa51b8e02\",\"subtype\":\"Figure\",\"type\":\"Plot\"},\"ticker\":{\"id\":\"e96904c2-3dc5-4e07-a195-960ef4403c8f\",\"type\":\"BasicTicker\"}},\"id\":\"ab5ca9ef-0a83-4ace-8eab-7e621e19d6a7\",\"type\":\"Grid\"},{\"attributes\":{},\"id\":\"a360344c-7a46-4d1b-9fe2-694b9c0eb12c\",\"type\":\"BasicTickFormatter\"},{\"attributes\":{},\"id\":\"52434fa4-cd4d-4ddf-bf28-800d0e178a7d\",\"type\":\"CategoricalTickFormatter\"},{\"attributes\":{\"plot\":null,\"text\":\"Medal Counts by Year\"},\"id\":\"64c73f19-6320-4157-9998-041955b881b7\",\"type\":\"Title\"},{\"attributes\":{},\"id\":\"61e533ff-a726-4e7f-981b-e5738818cdf7\",\"type\":\"SaveTool\"},{\"attributes\":{},\"id\":\"3df40d94-3b6f-4934-8df0-486242fa2bda\",\"type\":\"WheelZoomTool\"},{\"attributes\":{\"bottom_units\":\"screen\",\"fill_alpha\":{\"value\":0.5},\"fill_color\":{\"value\":\"lightgrey\"},\"left_units\":\"screen\",\"level\":\"overlay\",\"line_alpha\":{\"value\":1.0},\"line_color\":{\"value\":\"black\"},\"line_dash\":[4,4],\"line_width\":{\"value\":2},\"plot\":null,\"render_mode\":\"css\",\"right_units\":\"screen\",\"top_units\":\"screen\"},\"id\":\"a74d95cd-f34c-49ab-b9f9-29f16e3de62d\",\"type\":\"BoxAnnotation\"},{\"attributes\":{\"formatter\":{\"id\":\"52434fa4-cd4d-4ddf-bf28-800d0e178a7d\",\"type\":\"CategoricalTickFormatter\"},\"major_label_orientation\":1,\"plot\":{\"id\":\"b8bd03ca-35e9-41d3-bf01-e25aa51b8e02\",\"subtype\":\"Figure\",\"type\":\"Plot\"},\"ticker\":{\"id\":\"d5068e69-b294-465b-a6c7-63d8f3a31a21\",\"type\":\"CategoricalTicker\"}},\"id\":\"60f646a3-cb7f-44a5-91e2-722e41cbf83a\",\"type\":\"CategoricalAxis\"},{\"attributes\":{\"overlay\":{\"id\":\"a74d95cd-f34c-49ab-b9f9-29f16e3de62d\",\"type\":\"BoxAnnotation\"}},\"id\":\"aa79c485-2cef-4cb0-9937-3f710b6e0a19\",\"type\":\"BoxZoomTool\"},{\"attributes\":{\"data_source\":{\"id\":\"615ac184-b8e6-4be4-a731-df15913ba234\",\"type\":\"ColumnDataSource\"},\"glyph\":{\"id\":\"56090806-bcc2-446c-976e-1236e5f53a9d\",\"type\":\"VBar\"},\"hover_glyph\":null,\"muted_glyph\":null,\"nonselection_glyph\":{\"id\":\"b66f9256-dd9e-48aa-acc8-de64e414ded1\",\"type\":\"VBar\"},\"selection_glyph\":null,\"view\":{\"id\":\"db1dab00-7eb6-4f38-a973-c204ddcab8d2\",\"type\":\"CDSView\"}},\"id\":\"0e53e63c-443a-46c6-bb2b-09dc8279eac4\",\"type\":\"GlyphRenderer\"},{\"attributes\":{\"callback\":null,\"factors\":[[\"USA\",\"2008\"],[\"USA\",\"2012\"],[\"USA\",\"2016\"],[\"Japan\",\"2008\"],[\"Japan\",\"2012\"],[\"Japan\",\"2016\"],[\"Germany\",\"2008\"],[\"Germany\",\"2012\"],[\"Germany\",\"2016\"],[\"China\",\"2008\"],[\"China\",\"2012\"],[\"China\",\"2016\"],[\"Russia\",\"2008\"],[\"Russia\",\"2012\"],[\"Russia\",\"2016\"],[\"South Korea\",\"2008\"],[\"South Korea\",\"2012\"],[\"South Korea\",\"2016\"],[\"France\",\"2008\"],[\"France\",\"2012\"],[\"France\",\"2016\"]],\"range_padding\":0.1},\"id\":\"9ee453f6-ca11-4ee9-8ba6-d75d49160e92\",\"type\":\"FactorRange\"},{\"attributes\":{\"active_drag\":\"auto\",\"active_inspect\":\"auto\",\"active_scroll\":\"auto\",\"active_tap\":\"auto\",\"tools\":[{\"id\":\"d24ed03e-cbde-4ecd-aca4-1ed94bf8fa05\",\"type\":\"PanTool\"},{\"id\":\"3df40d94-3b6f-4934-8df0-486242fa2bda\",\"type\":\"WheelZoomTool\"},{\"id\":\"aa79c485-2cef-4cb0-9937-3f710b6e0a19\",\"type\":\"BoxZoomTool\"},{\"id\":\"61e533ff-a726-4e7f-981b-e5738818cdf7\",\"type\":\"SaveTool\"},{\"id\":\"3c6804c2-da36-4ff7-89ea-0a7cb08b40e4\",\"type\":\"ResetTool\"},{\"id\":\"045b4833-2f34-4af7-9678-ad0b37def117\",\"type\":\"HelpTool\"}]},\"id\":\"0fb282ae-4f26-436e-94e0-1d65c0d50539\",\"type\":\"Toolbar\"},{\"attributes\":{\"callback\":null,\"start\":0},\"id\":\"df702836-fd28-409d-8d36-040f1dfdec0e\",\"type\":\"DataRange1d\"},{\"attributes\":{\"fill_alpha\":{\"value\":0.1},\"fill_color\":{\"value\":\"#1f77b4\"},\"line_alpha\":{\"value\":0.1},\"line_color\":{\"value\":\"#1f77b4\"},\"top\":{\"field\":\"counts\"},\"width\":{\"value\":0.9},\"x\":{\"field\":\"x\"}},\"id\":\"b66f9256-dd9e-48aa-acc8-de64e414ded1\",\"type\":\"VBar\"},{\"attributes\":{},\"id\":\"3c6804c2-da36-4ff7-89ea-0a7cb08b40e4\",\"type\":\"ResetTool\"},{\"attributes\":{\"formatter\":{\"id\":\"a360344c-7a46-4d1b-9fe2-694b9c0eb12c\",\"type\":\"BasicTickFormatter\"},\"plot\":{\"id\":\"b8bd03ca-35e9-41d3-bf01-e25aa51b8e02\",\"subtype\":\"Figure\",\"type\":\"Plot\"},\"ticker\":{\"id\":\"e96904c2-3dc5-4e07-a195-960ef4403c8f\",\"type\":\"BasicTicker\"}},\"id\":\"c2eef55a-ff52-4e8f-be3f-8ae85284dfd7\",\"type\":\"LinearAxis\"},{\"attributes\":{},\"id\":\"7fcd85eb-cd71-480e-9b4f-17f99e5a67e1\",\"type\":\"LinearScale\"},{\"attributes\":{\"grid_line_color\":{\"value\":null},\"plot\":{\"id\":\"b8bd03ca-35e9-41d3-bf01-e25aa51b8e02\",\"subtype\":\"Figure\",\"type\":\"Plot\"},\"ticker\":{\"id\":\"d5068e69-b294-465b-a6c7-63d8f3a31a21\",\"type\":\"CategoricalTicker\"}},\"id\":\"9e821057-9b2b-476b-bdde-c3648c8050a3\",\"type\":\"Grid\"},{\"attributes\":{\"below\":[{\"id\":\"60f646a3-cb7f-44a5-91e2-722e41cbf83a\",\"type\":\"CategoricalAxis\"}],\"left\":[{\"id\":\"c2eef55a-ff52-4e8f-be3f-8ae85284dfd7\",\"type\":\"LinearAxis\"}],\"plot_height\":250,\"renderers\":[{\"id\":\"60f646a3-cb7f-44a5-91e2-722e41cbf83a\",\"type\":\"CategoricalAxis\"},{\"id\":\"9e821057-9b2b-476b-bdde-c3648c8050a3\",\"type\":\"Grid\"},{\"id\":\"c2eef55a-ff52-4e8f-be3f-8ae85284dfd7\",\"type\":\"LinearAxis\"},{\"id\":\"ab5ca9ef-0a83-4ace-8eab-7e621e19d6a7\",\"type\":\"Grid\"},{\"id\":\"a74d95cd-f34c-49ab-b9f9-29f16e3de62d\",\"type\":\"BoxAnnotation\"},{\"id\":\"0e53e63c-443a-46c6-bb2b-09dc8279eac4\",\"type\":\"GlyphRenderer\"}],\"title\":{\"id\":\"64c73f19-6320-4157-9998-041955b881b7\",\"type\":\"Title\"},\"toolbar\":{\"id\":\"0fb282ae-4f26-436e-94e0-1d65c0d50539\",\"type\":\"Toolbar\"},\"x_range\":{\"id\":\"9ee453f6-ca11-4ee9-8ba6-d75d49160e92\",\"type\":\"FactorRange\"},\"x_scale\":{\"id\":\"6df62f08-91ee-418e-ba12-bb76ae39bfc2\",\"type\":\"CategoricalScale\"},\"y_range\":{\"id\":\"df702836-fd28-409d-8d36-040f1dfdec0e\",\"type\":\"DataRange1d\"},\"y_scale\":{\"id\":\"7fcd85eb-cd71-480e-9b4f-17f99e5a67e1\",\"type\":\"LinearScale\"}},\"id\":\"b8bd03ca-35e9-41d3-bf01-e25aa51b8e02\",\"subtype\":\"Figure\",\"type\":\"Plot\"},{\"attributes\":{\"source\":{\"id\":\"615ac184-b8e6-4be4-a731-df15913ba234\",\"type\":\"ColumnDataSource\"}},\"id\":\"db1dab00-7eb6-4f38-a973-c204ddcab8d2\",\"type\":\"CDSView\"},{\"attributes\":{},\"id\":\"e96904c2-3dc5-4e07-a195-960ef4403c8f\",\"type\":\"BasicTicker\"},{\"attributes\":{},\"id\":\"d5068e69-b294-465b-a6c7-63d8f3a31a21\",\"type\":\"CategoricalTicker\"},{\"attributes\":{\"callback\":null,\"column_names\":[\"x\",\"counts\"],\"data\":{\"counts\":[111,103,121,25,38,41,41,44,42,99,88,70,59,69,56,32,30,21,42,35,42],\"x\":[[\"USA\",\"2008\"],[\"USA\",\"2012\"],[\"USA\",\"2016\"],[\"Japan\",\"2008\"],[\"Japan\",\"2012\"],[\"Japan\",\"2016\"],[\"Germany\",\"2008\"],[\"Germany\",\"2012\"],[\"Germany\",\"2016\"],[\"China\",\"2008\"],[\"China\",\"2012\"],[\"China\",\"2016\"],[\"Russia\",\"2008\"],[\"Russia\",\"2012\"],[\"Russia\",\"2016\"],[\"South Korea\",\"2008\"],[\"South Korea\",\"2012\"],[\"South Korea\",\"2016\"],[\"France\",\"2008\"],[\"France\",\"2012\"],[\"France\",\"2016\"]]}},\"id\":\"615ac184-b8e6-4be4-a731-df15913ba234\",\"type\":\"ColumnDataSource\"}],\"root_ids\":[\"b8bd03ca-35e9-41d3-bf01-e25aa51b8e02\"]},\"title\":\"Bokeh Application\",\"version\":\"0.12.9\"}};\n",
       "    var render_items = [{\"docid\":\"54ea44e7-e67a-4623-a9b7-21718a2d96e0\",\"elementid\":\"65d0d8e0-6336-4f37-89a5-4f7f7b9dd56a\",\"modelid\":\"b8bd03ca-35e9-41d3-bf01-e25aa51b8e02\"}];\n",
       "\n",
       "    root.Bokeh.embed.embed_items(docs_json, render_items);\n",
       "  }\n",
       "\n",
       "  if (root.Bokeh !== undefined) {\n",
       "    embed_document(root);\n",
       "  } else {\n",
       "    var attempts = 0;\n",
       "    var timer = setInterval(function(root) {\n",
       "      if (root.Bokeh !== undefined) {\n",
       "        embed_document(root);\n",
       "        clearInterval(timer);\n",
       "      }\n",
       "      attempts++;\n",
       "      if (attempts > 100) {\n",
       "        console.log(\"Bokeh: ERROR: Unable to embed document because BokehJS library is missing\")\n",
       "        clearInterval(timer);\n",
       "      }\n",
       "    }, 10, root)\n",
       "  }\n",
       "})(window);"
      ],
      "application/vnd.bokehjs_exec.v0+json": ""
     },
     "metadata": {
      "application/vnd.bokehjs_exec.v0+json": {
       "id": "b8bd03ca-35e9-41d3-bf01-e25aa51b8e02"
      }
     },
     "output_type": "display_data"
    }
   ],
   "source": [
    "from bokeh.transform import factor_cmap\n",
    "\n",
    "p = figure(x_range=FactorRange(*x), plot_height=250, title=\"Medal Counts by Year\")\n",
    "\n",
    "p.vbar(x='x', top='counts', width=0.9, source=source, line_color=\"white\",\n",
    "\n",
    "       # use the palette to colormap based on the the x[1:2] values\n",
    "       fill_color=factor_cmap('x', palette=['firebrick', 'green', 'blue'], factors=years, start=1, end=2))\n",
    "\n",
    "p.y_range.start = 0\n",
    "p.x_range.range_padding = 0.1\n",
    "p.xaxis.major_label_orientation = 1\n",
    "p.xgrid.grid_line_color = None\n",
    "\n",
    "show(p)"
   ]
  },
  {
   "cell_type": "markdown",
   "metadata": {},
   "source": [
    "### References\n",
    "https://github.com/bokeh/bokeh-notebooks"
   ]
  },
  {
   "cell_type": "code",
   "execution_count": null,
   "metadata": {
    "collapsed": true
   },
   "outputs": [],
   "source": []
  }
 ],
 "metadata": {
  "kernelspec": {
   "display_name": "Python 3",
   "language": "python",
   "name": "python3"
  },
  "language_info": {
   "codemirror_mode": {
    "name": "ipython",
    "version": 3
   },
   "file_extension": ".py",
   "mimetype": "text/x-python",
   "name": "python",
   "nbconvert_exporter": "python",
   "pygments_lexer": "ipython3",
   "version": "3.6.1"
  }
 },
 "nbformat": 4,
 "nbformat_minor": 2
}
