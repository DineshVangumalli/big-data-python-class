{
 "cells": [
  {
   "cell_type": "markdown",
   "metadata": {},
   "source": [
    "Create an ipython notebook to provide a tutorial showing the steps to use a clustering algorithm from one of the following:\n",
    "http://scikit-learn.org/stable/modules/clustering.html\n",
    "\n",
    "or \n",
    "\n",
    "asscociation rules algorithm from:\n",
    "\n",
    "https://github.com/asaini/Apriori\n",
    "\n",
    "or\n",
    "\n",
    "http://aimotion.blogspot.com/2013/01/machine-learning-and-data-mining.html\n",
    "\n",
    "Your tutorial will  include\n",
    "\n",
    "1. a short description of what the algorithm is used for ( and of the code to be used )\n",
    "\n",
    "2, Data setup\n",
    "\n",
    "3. Algorithm run\n",
    "\n",
    "4. Display in graph and plots\n",
    "\n",
    "5. Discussion of the images in the graphs and plots\n",
    "\n",
    "6. Bibliography ( urls and names of pages and authors of used code and descriptions )  Be sure to put in \n",
    "\n",
    "  You should submit your ipython notebook url in your github account. \n",
    "\n",
    "Be sure that if someone downloads your directory the notebook will run as shown.  So any scripts or images used in the notebook\n",
    "\n",
    "are local to the directory of the notebook.  You must have citations and references marked in the text.  You can use http://www.citationmachine.net  to help standardize your references at the end of you document\n",
    "\n",
    "For extra credit create another notebook and  do one of the other association/cluster tutorials or a different analysis tutorial of the same data."
   ]
  },
  {
   "cell_type": "code",
   "execution_count": null,
   "metadata": {
    "collapsed": true
   },
   "outputs": [],
   "source": [
    "%matplotlib inline\n",
    "import pandas as pd\n",
    "import numpy as np\n",
    "\n",
    "\n",
    "wine = pd.read_csv(\"data/wine.csv\")\n",
    "head(wine)"
   ]
  }
 ],
 "metadata": {
  "kernelspec": {
   "display_name": "Python 3",
   "language": "python",
   "name": "python3"
  },
  "language_info": {
   "codemirror_mode": {
    "name": "ipython",
    "version": 3
   },
   "file_extension": ".py",
   "mimetype": "text/x-python",
   "name": "python",
   "nbconvert_exporter": "python",
   "pygments_lexer": "ipython3",
   "version": "3.6.1"
  }
 },
 "nbformat": 4,
 "nbformat_minor": 2
}
