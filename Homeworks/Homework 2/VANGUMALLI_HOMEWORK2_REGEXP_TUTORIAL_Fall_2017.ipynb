{
 "cells": [
  {
   "cell_type": "markdown",
   "metadata": {
    "collapsed": true
   },
   "source": [
    "## Regular Expressions in Python\n",
    "Regular expressions are supported by the 're' module in Python. We need to import 're' module to work with regular expressions."
   ]
  },
  {
   "cell_type": "code",
   "execution_count": 1,
   "metadata": {
    "collapsed": true
   },
   "outputs": [],
   "source": [
    "import re"
   ]
  },
  {
   "cell_type": "markdown",
   "metadata": {},
   "source": [
    "The most common uses of regular expressions are: <br>\n",
    "\n",
    " - Search a string (search and match) <br>\n",
    " - Finding a string (findall) <br>\n",
    " - Break string into a sub strings (split) <br>\n",
    " - Replace part of a string (sub) <br>\n",
    "\n",
    "The 're' package provides various methods to perform queries on an input string. But, the most commonly used methods are shown below:\n",
    "\n",
    " - re.match()<br>\n",
    " - re.search()<br>\n",
    " - re.findall()<br>\n",
    " - re.split()<br>\n",
    " - re.sub()<br>\n",
    " - re.compile()"
   ]
  },
  {
   "cell_type": "markdown",
   "metadata": {},
   "source": [
    "#### re.match() \n",
    "This method finds match if it occurs at start of the string. For example, calling match() on the below string and looking for a pattern 'The' will match. However, if we try to look for any other pattern, it will not match. To print the matching string, we will use method 'group', which helps to return the matching string. We can also find the start ad end position of the matching pattern."
   ]
  },
  {
   "cell_type": "code",
   "execution_count": 22,
   "metadata": {},
   "outputs": [
    {
     "name": "stdout",
     "output_type": "stream",
     "text": [
      "<_sre.SRE_Match object; span=(0, 3), match='The'>\n",
      "The\n",
      "None\n",
      "0\n",
      "3\n"
     ]
    }
   ],
   "source": [
    "res1 = re.match(r'The', 'The quick brown fox jumps over the lazy dog')\n",
    "print(res1)\n",
    "print(res1.group(0))\n",
    "\n",
    "res2 = re.match(r'fox', 'The quick brown fox jumps over the lazy dog')\n",
    "print(res2)\n",
    "\n",
    "print(res1.start())   # start position of matching pattern in the string\n",
    "print(res1.end())     # end position of matching pattern in the string\n"
   ]
  },
  {
   "cell_type": "markdown",
   "metadata": {},
   "source": [
    "#### re.search()\n",
    "This method is similar to match() but it is not restricted to find only the matches at the beginning of the string. Here, search() method is able to find a pattern from any position of the string but it returns only the first occurrence of the search pattern."
   ]
  },
  {
   "cell_type": "code",
   "execution_count": 23,
   "metadata": {},
   "outputs": [
    {
     "name": "stdout",
     "output_type": "stream",
     "text": [
      "fox\n",
      "fox\n"
     ]
    }
   ],
   "source": [
    "res3 = re.search(r'fox', 'The quick brown fox jumps over the lazy dog')\n",
    "print(res3.group(0))\n",
    "\n",
    "res4 = re.search(r'fox', 'The quick brown fox jumps over the lazy dog and a cunning fox')\n",
    "print(res4.group(0))"
   ]
  },
  {
   "cell_type": "markdown",
   "metadata": {},
   "source": [
    "#### re.findall()\n",
    "This method helps to get a list of all matching patterns with no constraints of searching from start or end. This method will return both the occurrences of fox when we search for it. It is always preferable to use re.findall() as it can work like re.search() and re.match() both."
   ]
  },
  {
   "cell_type": "code",
   "execution_count": 24,
   "metadata": {},
   "outputs": [
    {
     "name": "stdout",
     "output_type": "stream",
     "text": [
      "['fox', 'fox']\n"
     ]
    }
   ],
   "source": [
    "res5 = re.findall(r'fox', 'The quick brown fox jumps over the lazy dog and a cunning fox')\n",
    "print(res5)"
   ]
  },
  {
   "cell_type": "markdown",
   "metadata": {},
   "source": [
    "#### re.split()\n",
    "This methods helps to split string by the occurrences of given pattern. The method split() has an argument called “maxsplit“ with default value of zero. In this case, it does the maximum splits that can be done, but if we give value to maxsplit, it will split the string according to the value given. Example, if we give maxsplit=1, the method splits oly at the first occurrence of the pattern."
   ]
  },
  {
   "cell_type": "code",
   "execution_count": 29,
   "metadata": {},
   "outputs": [
    {
     "name": "stdout",
     "output_type": "stream",
     "text": [
      "['The quick br', 'wn f', 'x jumps ', 'ver the lazy d', 'g and a cunning f', 'x']\n",
      "['The quick br', 'wn fox jumps over the lazy dog and a cunning fox']\n"
     ]
    }
   ],
   "source": [
    "res6=re.split(r'o','The quick brown fox jumps over the lazy dog and a cunning fox')\n",
    "print(res6)\n",
    "\n",
    "res7=re.split(r'o','The quick brown fox jumps over the lazy dog and a cunning fox', maxsplit=1)\n",
    "print(res7)"
   ]
  },
  {
   "cell_type": "markdown",
   "metadata": {},
   "source": [
    "#### re.sub()\n",
    "This method helps to search a pattern and replace it with a new sub-string. If the pattern is not found, the string is returned unchanged.\n"
   ]
  },
  {
   "cell_type": "code",
   "execution_count": 30,
   "metadata": {},
   "outputs": [
    {
     "name": "stdout",
     "output_type": "stream",
     "text": [
      "The quick brown cat jumps over the lazy dog and a cunning cat\n"
     ]
    }
   ],
   "source": [
    "res8=re.sub('fox','cat', 'The quick brown fox jumps over the lazy dog and a cunning fox')\n",
    "print(res8)"
   ]
  },
  {
   "cell_type": "markdown",
   "metadata": {},
   "source": [
    "#### re.compile()\n",
    "We can combine a regular expression pattern into pattern objects, which can be used for pattern matching. It also helps to search a pattern again without rewriting it."
   ]
  },
  {
   "cell_type": "code",
   "execution_count": 33,
   "metadata": {},
   "outputs": [
    {
     "name": "stdout",
     "output_type": "stream",
     "text": [
      "['fox']\n",
      "['fox', 'fox']\n"
     ]
    }
   ],
   "source": [
    "pattern=re.compile('fox')\n",
    "res9=pattern.findall('The quick brown fox jumps over the lazy dog')\n",
    "print(res9)\n",
    "\n",
    "res10=pattern.findall('The quick brown fox jumps over the lazy dog and a cunning fox')\n",
    "print(res10)"
   ]
  },
  {
   "cell_type": "markdown",
   "metadata": {},
   "source": [
    "#### Compilation Flags\n",
    "It is also possible to modify the standard behavior of the patterns. In order to do that, we have to use the compilation flags. The 're' functions take options to modify the behavior of the pattern match. The option flag is added as an extra argument to the search() or findall() etc. Below are some of those flags: <br>\n",
    "\n",
    "IGNORECASE -- ignore upper/lowercase differences for matching.<br>\n",
    "DOTALL -- allow dot (.) to match newline -- normally it matches anything but newline. <br>\n",
    "MULTILINE -- Within a string made of many lines, allow ^ and \\$ to match the start and end of each line. Normally ^/$ would just match the start and end of the whole string."
   ]
  },
  {
   "cell_type": "code",
   "execution_count": 27,
   "metadata": {},
   "outputs": [
    {
     "data": {
      "text/plain": [
       "<_sre.SRE_Match object; span=(1, 5), match='elix'>"
      ]
     },
     "execution_count": 27,
     "metadata": {},
     "output_type": "execute_result"
    }
   ],
   "source": [
    "import re\n",
    "\n",
    "pattern = re.compile(r\"[a-z]+\")\n",
    "pattern.search(\"Felix is awesome\")"
   ]
  },
  {
   "cell_type": "code",
   "execution_count": 28,
   "metadata": {},
   "outputs": [
    {
     "data": {
      "text/plain": [
       "<_sre.SRE_Match object; span=(0, 5), match='Felix'>"
      ]
     },
     "execution_count": 28,
     "metadata": {},
     "output_type": "execute_result"
    }
   ],
   "source": [
    "import re\n",
    "\n",
    "pattern = re.compile(r\"[a-z]+\", re.IGNORECASE)\n",
    "pattern.search(\"Felix is awesome\")"
   ]
  },
  {
   "cell_type": "code",
   "execution_count": 40,
   "metadata": {},
   "outputs": [
    {
     "name": "stdout",
     "output_type": "stream",
     "text": [
      "[' this is a comment ']\n",
      "[]\n"
     ]
    }
   ],
   "source": [
    "# When we try to match a block of text that spans multiple lines, if we don't use flag .DOTALL, the pattern doesn't match newlines\n",
    "\n",
    "comment = re.compile(r'/\\*(.*?)\\*/')   # #  it doesn’t match newlines \n",
    "text1 = '/* this is a comment */'\n",
    "text2 = '''/* this is a\n",
    "              multiline comment */\n",
    "        '''\n",
    "print(comment.findall(text1))       \n",
    "\n",
    "print(comment.findall(text2))        "
   ]
  },
  {
   "cell_type": "code",
   "execution_count": 41,
   "metadata": {},
   "outputs": [
    {
     "name": "stdout",
     "output_type": "stream",
     "text": [
      "[' this is a comment ']\n",
      "[' this is a\\n              multiline comment ']\n"
     ]
    }
   ],
   "source": [
    "# The re.compile() function accepts a flag, re.DOTALL, which is useful when trying to find a match across multiple lines\n",
    "\n",
    "comment = re.compile(r'/\\*(.*?)\\*/', re.DOTALL)   # matches newlines when .DOTALL is used\n",
    "text1 = '/* this is a comment */'\n",
    "text2 = '''/* this is a\n",
    "              multiline comment */\n",
    "        '''\n",
    "print(comment.findall(text1))       \n",
    "\n",
    "print(comment.findall(text2))"
   ]
  },
  {
   "cell_type": "markdown",
   "metadata": {
    "collapsed": true
   },
   "source": [
    "#### Resources Used:<br>\n",
    "1. Python for Data Analysis by Wes McKinney\n",
    "2. Mastering Python Regular Expressions by Félix López and Víctor Romero\n",
    "3. Scientific Computing with Python 3 by Claus Führer, Jan Erik Solem and Olivier Verdier\n",
    "4. Functional Python Programming by Steven Lott\n",
    "5. https://www.analyticsvidhya.com/\n",
    "6. https://stackoverflow.com/"
   ]
  }
 ],
 "metadata": {
  "kernelspec": {
   "display_name": "Python 3",
   "language": "python",
   "name": "python3"
  },
  "language_info": {
   "codemirror_mode": {
    "name": "ipython",
    "version": 3
   },
   "file_extension": ".py",
   "mimetype": "text/x-python",
   "name": "python",
   "nbconvert_exporter": "python",
   "pygments_lexer": "ipython3",
   "version": "3.6.1"
  }
 },
 "nbformat": 4,
 "nbformat_minor": 2
}
