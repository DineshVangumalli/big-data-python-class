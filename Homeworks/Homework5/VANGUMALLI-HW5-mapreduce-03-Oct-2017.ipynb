{
 "cells": [
  {
   "cell_type": "markdown",
   "metadata": {},
   "source": [
    "## Homework 5"
   ]
  },
  {
   "cell_type": "code",
   "execution_count": 70,
   "metadata": {
    "collapsed": true
   },
   "outputs": [],
   "source": [
    "%matplotlib inline\n",
    "import re\n",
    "import pandas as pd\n",
    "import numpy as np\n",
    "import matplotlib as mpl\n",
    "import matplotlib.pyplot as plt\n",
    "import mrjob as mr\n",
    "from functools import reduce\n"
   ]
  },
  {
   "cell_type": "markdown",
   "metadata": {},
   "source": [
    "##Homework 5.1\n",
    " A bigram is the combination of words.  Find the 10 most common bigrams from the text.  Order counts in the bigram combination for example \"in the\" is not the same bigram as \"the in\"\n",
    "\n"
   ]
  },
  {
   "cell_type": "code",
   "execution_count": 71,
   "metadata": {},
   "outputs": [
    {
     "name": "stdout",
     "output_type": "stream",
     "text": [
      "Overwriting code\\MRWordBigramCount2.py\n"
     ]
    }
   ],
   "source": [
    "%%writefile code\\MRWordBigramCount2.py\n",
    "\n",
    "from mrjob.job import MRJob\n",
    "from mrjob.step import MRStep\n",
    "\n",
    "class MRWordBigramCount2(MRJob):\n",
    "    \n",
    "    def steps(self):\n",
    "        return [\n",
    "            MRStep(mapper=self.mapper,\n",
    "                  combiner = self.combiner,\n",
    "                  reducer=self.reducer),\n",
    "            MRStep(reducer=self.reducer_top10)\n",
    "        ]\n",
    "\n",
    "    def mapper(self, _, line):                   # The mapper() method takes a key and a value as args  (in this case, the key is ignored and a single line of text input is the value) \n",
    "        line = line.lower().split()              # converts the line to lowercase and splits it on whitespace            \n",
    "        for words in zip(line, line[1:]):        \n",
    "            yield list((words[0], words[1])), 1  # yields list of as many key-value pairs as it likes \n",
    "            \n",
    "    def combiner(self, bigram, counts):\n",
    "        yield bigram, sum(counts)                # Each call to the combiner gets 2 words as the key and a list of 1s as the value. It sums the 1s and outputs the original key and the sum\n",
    "                               \n",
    "    def reducer(self, bigram, counts):           # The reduce() method takes a key and an iterator of values and also yields as many key-value pairs as it likes\n",
    "        yield None, (bigram, sum(counts))\n",
    "                   \n",
    "    def reducer_top10(self, _, bigram_count):\n",
    "        for i in sorted(bigram_count, key=lambda x:x[1], reverse=True)[:10]:\n",
    "                   yield i\n",
    "\n",
    "            \n",
    "if __name__ == '__main__':\n",
    "    MRWordBigramCount2.run()           # pass control over the command line arguments and execution to mrjob"
   ]
  },
  {
   "cell_type": "code",
   "execution_count": 72,
   "metadata": {},
   "outputs": [
    {
     "name": "stderr",
     "output_type": "stream",
     "text": [
      "No configs found; falling back on auto-configuration\n",
      "No configs found; falling back on auto-configuration\n",
      "No configs found; falling back on auto-configuration\n",
      "No configs found; falling back on auto-configuration\n",
      "No configs found; falling back on auto-configuration\n",
      "Creating temp directory C:\\Users\\Dinesh\\AppData\\Local\\Temp\\MRWordBigramCount2.Dinesh.20171023.161401.369723\n",
      "Creating temp directory C:\\Users\\Dinesh\\AppData\\Local\\Temp\\MRWordBigramCount2.Dinesh.20171023.161401.369723\n",
      "Creating temp directory C:\\Users\\Dinesh\\AppData\\Local\\Temp\\MRWordBigramCount2.Dinesh.20171023.161401.369723\n",
      "Creating temp directory C:\\Users\\Dinesh\\AppData\\Local\\Temp\\MRWordBigramCount2.Dinesh.20171023.161401.369723\n",
      "Creating temp directory C:\\Users\\Dinesh\\AppData\\Local\\Temp\\MRWordBigramCount2.Dinesh.20171023.161401.369723\n",
      "Running step 1 of 2...\n",
      "Running step 1 of 2...\n",
      "Running step 1 of 2...\n",
      "Running step 1 of 2...\n",
      "Running step 1 of 2...\n",
      "Running step 2 of 2...\n",
      "Running step 2 of 2...\n",
      "Running step 2 of 2...\n",
      "Running step 2 of 2...\n",
      "Running step 2 of 2...\n",
      "Streaming final output from C:\\Users\\Dinesh\\AppData\\Local\\Temp\\MRWordBigramCount2.Dinesh.20171023.161401.369723\\output...\n",
      "Streaming final output from C:\\Users\\Dinesh\\AppData\\Local\\Temp\\MRWordBigramCount2.Dinesh.20171023.161401.369723\\output...\n",
      "Streaming final output from C:\\Users\\Dinesh\\AppData\\Local\\Temp\\MRWordBigramCount2.Dinesh.20171023.161401.369723\\output...\n",
      "Streaming final output from C:\\Users\\Dinesh\\AppData\\Local\\Temp\\MRWordBigramCount2.Dinesh.20171023.161401.369723\\output...\n",
      "Streaming final output from C:\\Users\\Dinesh\\AppData\\Local\\Temp\\MRWordBigramCount2.Dinesh.20171023.161401.369723\\output...\n"
     ]
    },
    {
     "name": "stdout",
     "output_type": "stream",
     "text": [
      "[\"of\",\"the\"]\t13037\n",
      "[\"and\",\"the\"]\t7034\n",
      "[\"the\",\"lord\"]\t7017\n",
      "[\"in\",\"the\"]\t6738\n",
      "[\"to\",\"the\"]\t3799\n",
      "[\"i\",\"will\"]\t3470\n",
      "[\"and\",\"he\"]\t3020\n",
      "[\"shall\",\"be\"]\t3013\n",
      "[\"all\",\"the\"]\t2714\n",
      "[\"i\",\"have\"]\t2666\n"
     ]
    },
    {
     "name": "stderr",
     "output_type": "stream",
     "text": [
      "Removing temp directory C:\\Users\\Dinesh\\AppData\\Local\\Temp\\MRWordBigramCount2.Dinesh.20171023.161401.369723...\n",
      "Removing temp directory C:\\Users\\Dinesh\\AppData\\Local\\Temp\\MRWordBigramCount2.Dinesh.20171023.161401.369723...\n",
      "Removing temp directory C:\\Users\\Dinesh\\AppData\\Local\\Temp\\MRWordBigramCount2.Dinesh.20171023.161401.369723...\n",
      "Removing temp directory C:\\Users\\Dinesh\\AppData\\Local\\Temp\\MRWordBigramCount2.Dinesh.20171023.161401.369723...\n",
      "Removing temp directory C:\\Users\\Dinesh\\AppData\\Local\\Temp\\MRWordBigramCount2.Dinesh.20171023.161401.369723...\n"
     ]
    }
   ],
   "source": [
    "%run code/MRWordBigramCount2.py data/bible+shakes.nopunc.txt"
   ]
  },
  {
   "cell_type": "markdown",
   "metadata": {},
   "source": [
    "## Homework 5.2\n",
    "Now do the same analysis but make the word order not count \"in the\" == \"the in\".  Find the 10 most common ordered bigrams from the alice text.  \n",
    " "
   ]
  },
  {
   "cell_type": "code",
   "execution_count": 73,
   "metadata": {},
   "outputs": [
    {
     "name": "stdout",
     "output_type": "stream",
     "text": [
      "Overwriting code\\MRWordBigramCount3.py\n"
     ]
    }
   ],
   "source": [
    "%%writefile code\\MRWordBigramCount3.py\n",
    "\n",
    "from mrjob.job import MRJob\n",
    "from mrjob.step import MRStep\n",
    "\n",
    "class MRWordBigramCount3(MRJob):\n",
    "    \n",
    "    def steps(self):\n",
    "        return [\n",
    "            MRStep(mapper=self.mapper,\n",
    "                  combiner = self.combiner,\n",
    "                  reducer=self.reducer),\n",
    "            MRStep(reducer=self.reducer_top10)\n",
    "        ]\n",
    "\n",
    "    def mapper(self, _, line):\n",
    "        line = line.lower().split()\n",
    "        for words in zip(line, line[1:]):\n",
    "             yield list(sorted((words[0], words[1]))), 1          \n",
    "                           \n",
    "    def combiner(self, bigram, counts):\n",
    "        yield bigram, sum(counts)\n",
    "                               \n",
    "    def reducer(self, bigram, counts):\n",
    "        yield None, (bigram, sum(counts))\n",
    "                   \n",
    "    def reducer_top10(self, _, bigram_count):\n",
    "        for i in sorted(bigram_count, key=lambda x:x[1], reverse=True)[:10]:\n",
    "                   yield i\n",
    "\n",
    "\n",
    "if __name__ == '__main__':\n",
    "    MRWordBigramCount3.run()"
   ]
  },
  {
   "cell_type": "code",
   "execution_count": 74,
   "metadata": {},
   "outputs": [
    {
     "name": "stderr",
     "output_type": "stream",
     "text": [
      "No configs found; falling back on auto-configuration\n",
      "No configs found; falling back on auto-configuration\n",
      "No configs found; falling back on auto-configuration\n",
      "No configs found; falling back on auto-configuration\n",
      "No configs found; falling back on auto-configuration\n",
      "No configs found; falling back on auto-configuration\n",
      "Creating temp directory C:\\Users\\Dinesh\\AppData\\Local\\Temp\\MRWordBigramCount3.Dinesh.20171023.161429.032590\n",
      "Creating temp directory C:\\Users\\Dinesh\\AppData\\Local\\Temp\\MRWordBigramCount3.Dinesh.20171023.161429.032590\n",
      "Creating temp directory C:\\Users\\Dinesh\\AppData\\Local\\Temp\\MRWordBigramCount3.Dinesh.20171023.161429.032590\n",
      "Creating temp directory C:\\Users\\Dinesh\\AppData\\Local\\Temp\\MRWordBigramCount3.Dinesh.20171023.161429.032590\n",
      "Creating temp directory C:\\Users\\Dinesh\\AppData\\Local\\Temp\\MRWordBigramCount3.Dinesh.20171023.161429.032590\n",
      "Creating temp directory C:\\Users\\Dinesh\\AppData\\Local\\Temp\\MRWordBigramCount3.Dinesh.20171023.161429.032590\n",
      "Running step 1 of 2...\n",
      "Running step 1 of 2...\n",
      "Running step 1 of 2...\n",
      "Running step 1 of 2...\n",
      "Running step 1 of 2...\n",
      "Running step 1 of 2...\n",
      "Running step 2 of 2...\n",
      "Running step 2 of 2...\n",
      "Running step 2 of 2...\n",
      "Running step 2 of 2...\n",
      "Running step 2 of 2...\n",
      "Running step 2 of 2...\n",
      "Streaming final output from C:\\Users\\Dinesh\\AppData\\Local\\Temp\\MRWordBigramCount3.Dinesh.20171023.161429.032590\\output...\n",
      "Streaming final output from C:\\Users\\Dinesh\\AppData\\Local\\Temp\\MRWordBigramCount3.Dinesh.20171023.161429.032590\\output...\n",
      "Streaming final output from C:\\Users\\Dinesh\\AppData\\Local\\Temp\\MRWordBigramCount3.Dinesh.20171023.161429.032590\\output...\n",
      "Streaming final output from C:\\Users\\Dinesh\\AppData\\Local\\Temp\\MRWordBigramCount3.Dinesh.20171023.161429.032590\\output...\n",
      "Streaming final output from C:\\Users\\Dinesh\\AppData\\Local\\Temp\\MRWordBigramCount3.Dinesh.20171023.161429.032590\\output...\n",
      "Streaming final output from C:\\Users\\Dinesh\\AppData\\Local\\Temp\\MRWordBigramCount3.Dinesh.20171023.161429.032590\\output...\n"
     ]
    },
    {
     "name": "stdout",
     "output_type": "stream",
     "text": [
      "[\"of\",\"the\"]\t13037\n",
      "[\"lord\",\"the\"]\t7244\n",
      "[\"and\",\"the\"]\t7034\n",
      "[\"in\",\"the\"]\t6739\n",
      "[\"i\",\"will\"]\t4100\n",
      "[\"the\",\"to\"]\t3799\n",
      "[\"and\",\"he\"]\t3129\n",
      "[\"have\",\"i\"]\t3123\n",
      "[\"be\",\"shall\"]\t3015\n",
      "[\"am\",\"i\"]\t2881\n"
     ]
    },
    {
     "name": "stderr",
     "output_type": "stream",
     "text": [
      "Removing temp directory C:\\Users\\Dinesh\\AppData\\Local\\Temp\\MRWordBigramCount3.Dinesh.20171023.161429.032590...\n",
      "Removing temp directory C:\\Users\\Dinesh\\AppData\\Local\\Temp\\MRWordBigramCount3.Dinesh.20171023.161429.032590...\n",
      "Removing temp directory C:\\Users\\Dinesh\\AppData\\Local\\Temp\\MRWordBigramCount3.Dinesh.20171023.161429.032590...\n",
      "Removing temp directory C:\\Users\\Dinesh\\AppData\\Local\\Temp\\MRWordBigramCount3.Dinesh.20171023.161429.032590...\n",
      "Removing temp directory C:\\Users\\Dinesh\\AppData\\Local\\Temp\\MRWordBigramCount3.Dinesh.20171023.161429.032590...\n",
      "Removing temp directory C:\\Users\\Dinesh\\AppData\\Local\\Temp\\MRWordBigramCount3.Dinesh.20171023.161429.032590...\n"
     ]
    }
   ],
   "source": [
    "%run code/MRWordBigramCount3.py data/bible+shakes.nopunc.txt"
   ]
  },
  {
   "cell_type": "markdown",
   "metadata": {},
   "source": [
    "## Homework 5.3\n",
    "A trigram are three word combintation.  Find the 10 most common ordered trigrams from the alice text.  Make it so that the order of the words do not count in the trigram combination for example \"in the air\" is the same trigram as \"the air in\" or \"air in the\"...\n"
   ]
  },
  {
   "cell_type": "code",
   "execution_count": 75,
   "metadata": {},
   "outputs": [
    {
     "name": "stdout",
     "output_type": "stream",
     "text": [
      "Overwriting code\\MRWordTrigramCount.py\n"
     ]
    }
   ],
   "source": [
    "%%writefile code\\MRWordTrigramCount.py\n",
    "\n",
    "from mrjob.job import MRJob\n",
    "from mrjob.step import MRStep\n",
    "\n",
    "class MRWordTrigramCount(MRJob):\n",
    "    \n",
    "    def steps(self):\n",
    "        return [\n",
    "            MRStep(mapper=self.mapper,\n",
    "                  reducer=self.reducer),\n",
    "            MRStep(reducer=self.reducer_top10)\n",
    "        ]\n",
    "\n",
    "    def mapper(self, _, line):\n",
    "        line = line.lower().split()\n",
    "        for words in zip(line, line[1:], line[2:]):\n",
    "            yield list((words[0], words[1], words[2])), 1\n",
    "                                \n",
    "    def reducer(self, trigram, counts):\n",
    "        yield None, (trigram, sum(counts))\n",
    "        \n",
    "    def reducer_top10(self, _, trigram_count):\n",
    "        for i in sorted(trigram_count, key=lambda x:x[1], reverse=True)[:10]:\n",
    "                   yield i\n",
    "\n",
    "\n",
    "if __name__ == '__main__':\n",
    "    MRWordTrigramCount.run()"
   ]
  },
  {
   "cell_type": "code",
   "execution_count": 76,
   "metadata": {},
   "outputs": [
    {
     "name": "stderr",
     "output_type": "stream",
     "text": [
      "No configs found; falling back on auto-configuration\n",
      "No configs found; falling back on auto-configuration\n",
      "No configs found; falling back on auto-configuration\n",
      "No configs found; falling back on auto-configuration\n",
      "No configs found; falling back on auto-configuration\n",
      "No configs found; falling back on auto-configuration\n",
      "No configs found; falling back on auto-configuration\n",
      "Creating temp directory C:\\Users\\Dinesh\\AppData\\Local\\Temp\\MRWordTrigramCount.Dinesh.20171023.161535.778275\n",
      "Creating temp directory C:\\Users\\Dinesh\\AppData\\Local\\Temp\\MRWordTrigramCount.Dinesh.20171023.161535.778275\n",
      "Creating temp directory C:\\Users\\Dinesh\\AppData\\Local\\Temp\\MRWordTrigramCount.Dinesh.20171023.161535.778275\n",
      "Creating temp directory C:\\Users\\Dinesh\\AppData\\Local\\Temp\\MRWordTrigramCount.Dinesh.20171023.161535.778275\n",
      "Creating temp directory C:\\Users\\Dinesh\\AppData\\Local\\Temp\\MRWordTrigramCount.Dinesh.20171023.161535.778275\n",
      "Creating temp directory C:\\Users\\Dinesh\\AppData\\Local\\Temp\\MRWordTrigramCount.Dinesh.20171023.161535.778275\n",
      "Creating temp directory C:\\Users\\Dinesh\\AppData\\Local\\Temp\\MRWordTrigramCount.Dinesh.20171023.161535.778275\n",
      "Running step 1 of 2...\n",
      "Running step 1 of 2...\n",
      "Running step 1 of 2...\n",
      "Running step 1 of 2...\n",
      "Running step 1 of 2...\n",
      "Running step 1 of 2...\n",
      "Running step 1 of 2...\n",
      "Running step 2 of 2...\n",
      "Running step 2 of 2...\n",
      "Running step 2 of 2...\n",
      "Running step 2 of 2...\n",
      "Running step 2 of 2...\n",
      "Running step 2 of 2...\n",
      "Running step 2 of 2...\n",
      "Streaming final output from C:\\Users\\Dinesh\\AppData\\Local\\Temp\\MRWordTrigramCount.Dinesh.20171023.161535.778275\\output...\n",
      "Streaming final output from C:\\Users\\Dinesh\\AppData\\Local\\Temp\\MRWordTrigramCount.Dinesh.20171023.161535.778275\\output...\n",
      "Streaming final output from C:\\Users\\Dinesh\\AppData\\Local\\Temp\\MRWordTrigramCount.Dinesh.20171023.161535.778275\\output...\n",
      "Streaming final output from C:\\Users\\Dinesh\\AppData\\Local\\Temp\\MRWordTrigramCount.Dinesh.20171023.161535.778275\\output...\n",
      "Streaming final output from C:\\Users\\Dinesh\\AppData\\Local\\Temp\\MRWordTrigramCount.Dinesh.20171023.161535.778275\\output...\n",
      "Streaming final output from C:\\Users\\Dinesh\\AppData\\Local\\Temp\\MRWordTrigramCount.Dinesh.20171023.161535.778275\\output...\n",
      "Streaming final output from C:\\Users\\Dinesh\\AppData\\Local\\Temp\\MRWordTrigramCount.Dinesh.20171023.161535.778275\\output...\n"
     ]
    },
    {
     "name": "stdout",
     "output_type": "stream",
     "text": [
      "[\"of\",\"the\",\"lord\"]\t1746\n",
      "[\"the\",\"son\",\"of\"]\t1470\n",
      "[\"the\",\"children\",\"of\"]\t1356\n",
      "[\"the\",\"house\",\"of\"]\t920\n",
      "[\"out\",\"of\",\"the\"]\t855\n",
      "[\"saith\",\"the\",\"lord\"]\t854\n",
      "[\"and\",\"i\",\"will\"]\t798\n",
      "[\"children\",\"of\",\"israel\"]\t644\n",
      "[\"and\",\"all\",\"the\"]\t643\n",
      "[\"the\",\"land\",\"of\"]\t617\n"
     ]
    },
    {
     "name": "stderr",
     "output_type": "stream",
     "text": [
      "Removing temp directory C:\\Users\\Dinesh\\AppData\\Local\\Temp\\MRWordTrigramCount.Dinesh.20171023.161535.778275...\n",
      "Removing temp directory C:\\Users\\Dinesh\\AppData\\Local\\Temp\\MRWordTrigramCount.Dinesh.20171023.161535.778275...\n",
      "Removing temp directory C:\\Users\\Dinesh\\AppData\\Local\\Temp\\MRWordTrigramCount.Dinesh.20171023.161535.778275...\n",
      "Removing temp directory C:\\Users\\Dinesh\\AppData\\Local\\Temp\\MRWordTrigramCount.Dinesh.20171023.161535.778275...\n",
      "Removing temp directory C:\\Users\\Dinesh\\AppData\\Local\\Temp\\MRWordTrigramCount.Dinesh.20171023.161535.778275...\n",
      "Removing temp directory C:\\Users\\Dinesh\\AppData\\Local\\Temp\\MRWordTrigramCount.Dinesh.20171023.161535.778275...\n",
      "Removing temp directory C:\\Users\\Dinesh\\AppData\\Local\\Temp\\MRWordTrigramCount.Dinesh.20171023.161535.778275...\n"
     ]
    }
   ],
   "source": [
    "%run code/MRWordTrigramCount.py data/bible+shakes.nopunc.txt"
   ]
  },
  {
   "cell_type": "markdown",
   "metadata": {},
   "source": [
    "## Homework 5.4\n",
    "Create graphs to explain the relationship of the frequency of monograms ( words ) to bigrams and trigam frequencies"
   ]
  },
  {
   "cell_type": "markdown",
   "metadata": {},
   "source": [
    "### Read the bigrams and trigrams into a dataframe"
   ]
  },
  {
   "cell_type": "code",
   "execution_count": 77,
   "metadata": {},
   "outputs": [
    {
     "data": {
      "text/html": [
       "<div>\n",
       "<style>\n",
       "    .dataframe thead tr:only-child th {\n",
       "        text-align: right;\n",
       "    }\n",
       "\n",
       "    .dataframe thead th {\n",
       "        text-align: left;\n",
       "    }\n",
       "\n",
       "    .dataframe tbody tr th {\n",
       "        vertical-align: top;\n",
       "    }\n",
       "</style>\n",
       "<table border=\"1\" class=\"dataframe\">\n",
       "  <thead>\n",
       "    <tr style=\"text-align: right;\">\n",
       "      <th></th>\n",
       "      <th>words</th>\n",
       "      <th>frequency</th>\n",
       "    </tr>\n",
       "  </thead>\n",
       "  <tbody>\n",
       "    <tr>\n",
       "      <th>0</th>\n",
       "      <td>[\"of\",\"the\",\"lord\"]</td>\n",
       "      <td>1746</td>\n",
       "    </tr>\n",
       "    <tr>\n",
       "      <th>1</th>\n",
       "      <td>[\"the\",\"son\",\"of\"]</td>\n",
       "      <td>1470</td>\n",
       "    </tr>\n",
       "    <tr>\n",
       "      <th>2</th>\n",
       "      <td>[\"the\",\"children\",\"of\"]</td>\n",
       "      <td>1356</td>\n",
       "    </tr>\n",
       "    <tr>\n",
       "      <th>3</th>\n",
       "      <td>[\"the\",\"house\",\"of\"]</td>\n",
       "      <td>920</td>\n",
       "    </tr>\n",
       "    <tr>\n",
       "      <th>4</th>\n",
       "      <td>[\"out\",\"of\",\"the\"]</td>\n",
       "      <td>855</td>\n",
       "    </tr>\n",
       "  </tbody>\n",
       "</table>\n",
       "</div>"
      ],
      "text/plain": [
       "                     words  frequency\n",
       "0      [\"of\",\"the\",\"lord\"]       1746\n",
       "1       [\"the\",\"son\",\"of\"]       1470\n",
       "2  [\"the\",\"children\",\"of\"]       1356\n",
       "3     [\"the\",\"house\",\"of\"]        920\n",
       "4       [\"out\",\"of\",\"the\"]        855"
      ]
     },
     "execution_count": 77,
     "metadata": {},
     "output_type": "execute_result"
    }
   ],
   "source": [
    "%matplotlib inline       \n",
    "import numpy as np\n",
    "import pandas as pd \n",
    "\n",
    "bigram = pd.read_table(\"data/bigram.txt\")\n",
    "bigram.head()\n",
    "\n",
    "trigram = pd.read_table(\"data/trigram.txt\")\n",
    "trigram.head()"
   ]
  },
  {
   "cell_type": "markdown",
   "metadata": {},
   "source": [
    "### Frequency Plot for Bigrams (top 10)"
   ]
  },
  {
   "cell_type": "code",
   "execution_count": 78,
   "metadata": {},
   "outputs": [
    {
     "data": {
      "text/html": [
       "\n",
       "    <div class=\"bk-root\">\n",
       "        <a href=\"https://bokeh.pydata.org\" target=\"_blank\" class=\"bk-logo bk-logo-small bk-logo-notebook\"></a>\n",
       "        <span id=\"580c7f55-c70a-4138-9175-4bb4d85e0b7c\">Loading BokehJS ...</span>\n",
       "    </div>"
      ]
     },
     "metadata": {},
     "output_type": "display_data"
    },
    {
     "data": {
      "application/javascript": [
       "\n",
       "(function(root) {\n",
       "  function now() {\n",
       "    return new Date();\n",
       "  }\n",
       "\n",
       "  var force = true;\n",
       "\n",
       "  if (typeof (root._bokeh_onload_callbacks) === \"undefined\" || force === true) {\n",
       "    root._bokeh_onload_callbacks = [];\n",
       "    root._bokeh_is_loading = undefined;\n",
       "  }\n",
       "\n",
       "  var JS_MIME_TYPE = 'application/javascript';\n",
       "  var HTML_MIME_TYPE = 'text/html';\n",
       "  var EXEC_MIME_TYPE = 'application/vnd.bokehjs_exec.v0+json';\n",
       "  var CLASS_NAME = 'output_bokeh rendered_html';\n",
       "\n",
       "  /**\n",
       "   * Render data to the DOM node\n",
       "   */\n",
       "  function render(props, node) {\n",
       "    var script = document.createElement(\"script\");\n",
       "    node.appendChild(script);\n",
       "  }\n",
       "\n",
       "  /**\n",
       "   * Handle when an output is cleared or removed\n",
       "   */\n",
       "  function handleClearOutput(event, handle) {\n",
       "    var cell = handle.cell;\n",
       "\n",
       "    var id = cell.output_area._bokeh_element_id;\n",
       "    var server_id = cell.output_area._bokeh_server_id;\n",
       "    // Clean up Bokeh references\n",
       "    if (id !== undefined) {\n",
       "      Bokeh.index[id].model.document.clear();\n",
       "      delete Bokeh.index[id];\n",
       "    }\n",
       "\n",
       "    if (server_id !== undefined) {\n",
       "      // Clean up Bokeh references\n",
       "      var cmd = \"from bokeh.io import _state; print(_state.uuid_to_server['\" + server_id + \"'].get_sessions()[0].document.roots[0]._id)\";\n",
       "      cell.notebook.kernel.execute(cmd, {\n",
       "        iopub: {\n",
       "          output: function(msg) {\n",
       "            var element_id = msg.content.text.trim();\n",
       "            Bokeh.index[element_id].model.document.clear();\n",
       "            delete Bokeh.index[element_id];\n",
       "          }\n",
       "        }\n",
       "      });\n",
       "      // Destroy server and session\n",
       "      var cmd = \"from bokeh import io; io._destroy_server('\" + server_id + \"')\";\n",
       "      cell.notebook.kernel.execute(cmd);\n",
       "    }\n",
       "  }\n",
       "\n",
       "  /**\n",
       "   * Handle when a new output is added\n",
       "   */\n",
       "  function handleAddOutput(event, handle) {\n",
       "    var output_area = handle.output_area;\n",
       "    var output = handle.output;\n",
       "\n",
       "    // limit handleAddOutput to display_data with EXEC_MIME_TYPE content only\n",
       "    if ((output.output_type != \"display_data\") || (!output.data.hasOwnProperty(EXEC_MIME_TYPE))) {\n",
       "      return\n",
       "    }\n",
       "\n",
       "    var toinsert = output_area.element.find(`.${CLASS_NAME.split(' ')[0]}`);\n",
       "\n",
       "    if (output.metadata[EXEC_MIME_TYPE][\"id\"] !== undefined) {\n",
       "      toinsert[0].firstChild.textContent = output.data[JS_MIME_TYPE];\n",
       "      // store reference to embed id on output_area\n",
       "      output_area._bokeh_element_id = output.metadata[EXEC_MIME_TYPE][\"id\"];\n",
       "    }\n",
       "    if (output.metadata[EXEC_MIME_TYPE][\"server_id\"] !== undefined) {\n",
       "      var bk_div = document.createElement(\"div\");\n",
       "      bk_div.innerHTML = output.data[HTML_MIME_TYPE];\n",
       "      var script_attrs = bk_div.children[0].attributes;\n",
       "      for (var i = 0; i < script_attrs.length; i++) {\n",
       "        toinsert[0].firstChild.setAttribute(script_attrs[i].name, script_attrs[i].value);\n",
       "      }\n",
       "      // store reference to server id on output_area\n",
       "      output_area._bokeh_server_id = output.metadata[EXEC_MIME_TYPE][\"server_id\"];\n",
       "    }\n",
       "  }\n",
       "\n",
       "  function register_renderer(events, OutputArea) {\n",
       "\n",
       "    function append_mime(data, metadata, element) {\n",
       "      // create a DOM node to render to\n",
       "      var toinsert = this.create_output_subarea(\n",
       "        metadata,\n",
       "        CLASS_NAME,\n",
       "        EXEC_MIME_TYPE\n",
       "      );\n",
       "      this.keyboard_manager.register_events(toinsert);\n",
       "      // Render to node\n",
       "      var props = {data: data, metadata: metadata[EXEC_MIME_TYPE]};\n",
       "      render(props, toinsert[0]);\n",
       "      element.append(toinsert);\n",
       "      return toinsert\n",
       "    }\n",
       "\n",
       "    /* Handle when an output is cleared or removed */\n",
       "    events.on('clear_output.CodeCell', handleClearOutput);\n",
       "    events.on('delete.Cell', handleClearOutput);\n",
       "\n",
       "    /* Handle when a new output is added */\n",
       "    events.on('output_added.OutputArea', handleAddOutput);\n",
       "\n",
       "    /**\n",
       "     * Register the mime type and append_mime function with output_area\n",
       "     */\n",
       "    OutputArea.prototype.register_mime_type(EXEC_MIME_TYPE, append_mime, {\n",
       "      /* Is output safe? */\n",
       "      safe: true,\n",
       "      /* Index of renderer in `output_area.display_order` */\n",
       "      index: 0\n",
       "    });\n",
       "  }\n",
       "\n",
       "  // register the mime type if in Jupyter Notebook environment and previously unregistered\n",
       "  if (root.Jupyter !== undefined) {\n",
       "    var events = require('base/js/events');\n",
       "    var OutputArea = require('notebook/js/outputarea').OutputArea;\n",
       "\n",
       "    if (OutputArea.prototype.mime_types().indexOf(EXEC_MIME_TYPE) == -1) {\n",
       "      register_renderer(events, OutputArea);\n",
       "    }\n",
       "  }\n",
       "\n",
       "  \n",
       "  if (typeof (root._bokeh_timeout) === \"undefined\" || force === true) {\n",
       "    root._bokeh_timeout = Date.now() + 5000;\n",
       "    root._bokeh_failed_load = false;\n",
       "  }\n",
       "\n",
       "  var NB_LOAD_WARNING = {'data': {'text/html':\n",
       "     \"<div style='background-color: #fdd'>\\n\"+\n",
       "     \"<p>\\n\"+\n",
       "     \"BokehJS does not appear to have successfully loaded. If loading BokehJS from CDN, this \\n\"+\n",
       "     \"may be due to a slow or bad network connection. Possible fixes:\\n\"+\n",
       "     \"</p>\\n\"+\n",
       "     \"<ul>\\n\"+\n",
       "     \"<li>re-rerun `output_notebook()` to attempt to load from CDN again, or</li>\\n\"+\n",
       "     \"<li>use INLINE resources instead, as so:</li>\\n\"+\n",
       "     \"</ul>\\n\"+\n",
       "     \"<code>\\n\"+\n",
       "     \"from bokeh.resources import INLINE\\n\"+\n",
       "     \"output_notebook(resources=INLINE)\\n\"+\n",
       "     \"</code>\\n\"+\n",
       "     \"</div>\"}};\n",
       "\n",
       "  function display_loaded() {\n",
       "    var el = document.getElementById(\"580c7f55-c70a-4138-9175-4bb4d85e0b7c\");\n",
       "    if (el != null) {\n",
       "      el.textContent = \"BokehJS is loading...\";\n",
       "    }\n",
       "    if (root.Bokeh !== undefined) {\n",
       "      if (el != null) {\n",
       "        el.textContent = \"BokehJS \" + root.Bokeh.version + \" successfully loaded.\";\n",
       "      }\n",
       "    } else if (Date.now() < root._bokeh_timeout) {\n",
       "      setTimeout(display_loaded, 100)\n",
       "    }\n",
       "  }\n",
       "\n",
       "\n",
       "  function run_callbacks() {\n",
       "    try {\n",
       "      root._bokeh_onload_callbacks.forEach(function(callback) { callback() });\n",
       "    }\n",
       "    finally {\n",
       "      delete root._bokeh_onload_callbacks\n",
       "    }\n",
       "    console.info(\"Bokeh: all callbacks have finished\");\n",
       "  }\n",
       "\n",
       "  function load_libs(js_urls, callback) {\n",
       "    root._bokeh_onload_callbacks.push(callback);\n",
       "    if (root._bokeh_is_loading > 0) {\n",
       "      console.log(\"Bokeh: BokehJS is being loaded, scheduling callback at\", now());\n",
       "      return null;\n",
       "    }\n",
       "    if (js_urls == null || js_urls.length === 0) {\n",
       "      run_callbacks();\n",
       "      return null;\n",
       "    }\n",
       "    console.log(\"Bokeh: BokehJS not loaded, scheduling load and callback at\", now());\n",
       "    root._bokeh_is_loading = js_urls.length;\n",
       "    for (var i = 0; i < js_urls.length; i++) {\n",
       "      var url = js_urls[i];\n",
       "      var s = document.createElement('script');\n",
       "      s.src = url;\n",
       "      s.async = false;\n",
       "      s.onreadystatechange = s.onload = function() {\n",
       "        root._bokeh_is_loading--;\n",
       "        if (root._bokeh_is_loading === 0) {\n",
       "          console.log(\"Bokeh: all BokehJS libraries loaded\");\n",
       "          run_callbacks()\n",
       "        }\n",
       "      };\n",
       "      s.onerror = function() {\n",
       "        console.warn(\"failed to load library \" + url);\n",
       "      };\n",
       "      console.log(\"Bokeh: injecting script tag for BokehJS library: \", url);\n",
       "      document.getElementsByTagName(\"head\")[0].appendChild(s);\n",
       "    }\n",
       "  };var element = document.getElementById(\"580c7f55-c70a-4138-9175-4bb4d85e0b7c\");\n",
       "  if (element == null) {\n",
       "    console.log(\"Bokeh: ERROR: autoload.js configured with elementid '580c7f55-c70a-4138-9175-4bb4d85e0b7c' but no matching script tag was found. \")\n",
       "    return false;\n",
       "  }\n",
       "\n",
       "  var js_urls = [\"https://cdn.pydata.org/bokeh/release/bokeh-0.12.9.min.js\", \"https://cdn.pydata.org/bokeh/release/bokeh-widgets-0.12.9.min.js\", \"https://cdn.pydata.org/bokeh/release/bokeh-tables-0.12.9.min.js\", \"https://cdn.pydata.org/bokeh/release/bokeh-gl-0.12.9.min.js\"];\n",
       "\n",
       "  var inline_js = [\n",
       "    function(Bokeh) {\n",
       "      Bokeh.set_log_level(\"info\");\n",
       "    },\n",
       "    \n",
       "    function(Bokeh) {\n",
       "      \n",
       "    },\n",
       "    function(Bokeh) {\n",
       "      console.log(\"Bokeh: injecting CSS: https://cdn.pydata.org/bokeh/release/bokeh-0.12.9.min.css\");\n",
       "      Bokeh.embed.inject_css(\"https://cdn.pydata.org/bokeh/release/bokeh-0.12.9.min.css\");\n",
       "      console.log(\"Bokeh: injecting CSS: https://cdn.pydata.org/bokeh/release/bokeh-widgets-0.12.9.min.css\");\n",
       "      Bokeh.embed.inject_css(\"https://cdn.pydata.org/bokeh/release/bokeh-widgets-0.12.9.min.css\");\n",
       "      console.log(\"Bokeh: injecting CSS: https://cdn.pydata.org/bokeh/release/bokeh-tables-0.12.9.min.css\");\n",
       "      Bokeh.embed.inject_css(\"https://cdn.pydata.org/bokeh/release/bokeh-tables-0.12.9.min.css\");\n",
       "    }\n",
       "  ];\n",
       "\n",
       "  function run_inline_js() {\n",
       "    \n",
       "    if ((root.Bokeh !== undefined) || (force === true)) {\n",
       "      for (var i = 0; i < inline_js.length; i++) {\n",
       "        inline_js[i].call(root, root.Bokeh);\n",
       "      }if (force === true) {\n",
       "        display_loaded();\n",
       "      }} else if (Date.now() < root._bokeh_timeout) {\n",
       "      setTimeout(run_inline_js, 100);\n",
       "    } else if (!root._bokeh_failed_load) {\n",
       "      console.log(\"Bokeh: BokehJS failed to load within specified timeout.\");\n",
       "      root._bokeh_failed_load = true;\n",
       "    } else if (force !== true) {\n",
       "      var cell = $(document.getElementById(\"580c7f55-c70a-4138-9175-4bb4d85e0b7c\")).parents('.cell').data().cell;\n",
       "      cell.output_area.append_execute_result(NB_LOAD_WARNING)\n",
       "    }\n",
       "\n",
       "  }\n",
       "\n",
       "  if (root._bokeh_is_loading === 0) {\n",
       "    console.log(\"Bokeh: BokehJS loaded, going straight to plotting\");\n",
       "    run_inline_js();\n",
       "  } else {\n",
       "    load_libs(js_urls, function() {\n",
       "      console.log(\"Bokeh: BokehJS plotting callback run at\", now());\n",
       "      run_inline_js();\n",
       "    });\n",
       "  }\n",
       "}(window));"
      ],
      "application/vnd.bokehjs_load.v0+json": "\n(function(root) {\n  function now() {\n    return new Date();\n  }\n\n  var force = true;\n\n  if (typeof (root._bokeh_onload_callbacks) === \"undefined\" || force === true) {\n    root._bokeh_onload_callbacks = [];\n    root._bokeh_is_loading = undefined;\n  }\n\n  \n\n  \n  if (typeof (root._bokeh_timeout) === \"undefined\" || force === true) {\n    root._bokeh_timeout = Date.now() + 5000;\n    root._bokeh_failed_load = false;\n  }\n\n  var NB_LOAD_WARNING = {'data': {'text/html':\n     \"<div style='background-color: #fdd'>\\n\"+\n     \"<p>\\n\"+\n     \"BokehJS does not appear to have successfully loaded. If loading BokehJS from CDN, this \\n\"+\n     \"may be due to a slow or bad network connection. Possible fixes:\\n\"+\n     \"</p>\\n\"+\n     \"<ul>\\n\"+\n     \"<li>re-rerun `output_notebook()` to attempt to load from CDN again, or</li>\\n\"+\n     \"<li>use INLINE resources instead, as so:</li>\\n\"+\n     \"</ul>\\n\"+\n     \"<code>\\n\"+\n     \"from bokeh.resources import INLINE\\n\"+\n     \"output_notebook(resources=INLINE)\\n\"+\n     \"</code>\\n\"+\n     \"</div>\"}};\n\n  function display_loaded() {\n    var el = document.getElementById(\"580c7f55-c70a-4138-9175-4bb4d85e0b7c\");\n    if (el != null) {\n      el.textContent = \"BokehJS is loading...\";\n    }\n    if (root.Bokeh !== undefined) {\n      if (el != null) {\n        el.textContent = \"BokehJS \" + root.Bokeh.version + \" successfully loaded.\";\n      }\n    } else if (Date.now() < root._bokeh_timeout) {\n      setTimeout(display_loaded, 100)\n    }\n  }\n\n\n  function run_callbacks() {\n    try {\n      root._bokeh_onload_callbacks.forEach(function(callback) { callback() });\n    }\n    finally {\n      delete root._bokeh_onload_callbacks\n    }\n    console.info(\"Bokeh: all callbacks have finished\");\n  }\n\n  function load_libs(js_urls, callback) {\n    root._bokeh_onload_callbacks.push(callback);\n    if (root._bokeh_is_loading > 0) {\n      console.log(\"Bokeh: BokehJS is being loaded, scheduling callback at\", now());\n      return null;\n    }\n    if (js_urls == null || js_urls.length === 0) {\n      run_callbacks();\n      return null;\n    }\n    console.log(\"Bokeh: BokehJS not loaded, scheduling load and callback at\", now());\n    root._bokeh_is_loading = js_urls.length;\n    for (var i = 0; i < js_urls.length; i++) {\n      var url = js_urls[i];\n      var s = document.createElement('script');\n      s.src = url;\n      s.async = false;\n      s.onreadystatechange = s.onload = function() {\n        root._bokeh_is_loading--;\n        if (root._bokeh_is_loading === 0) {\n          console.log(\"Bokeh: all BokehJS libraries loaded\");\n          run_callbacks()\n        }\n      };\n      s.onerror = function() {\n        console.warn(\"failed to load library \" + url);\n      };\n      console.log(\"Bokeh: injecting script tag for BokehJS library: \", url);\n      document.getElementsByTagName(\"head\")[0].appendChild(s);\n    }\n  };var element = document.getElementById(\"580c7f55-c70a-4138-9175-4bb4d85e0b7c\");\n  if (element == null) {\n    console.log(\"Bokeh: ERROR: autoload.js configured with elementid '580c7f55-c70a-4138-9175-4bb4d85e0b7c' but no matching script tag was found. \")\n    return false;\n  }\n\n  var js_urls = [\"https://cdn.pydata.org/bokeh/release/bokeh-0.12.9.min.js\", \"https://cdn.pydata.org/bokeh/release/bokeh-widgets-0.12.9.min.js\", \"https://cdn.pydata.org/bokeh/release/bokeh-tables-0.12.9.min.js\", \"https://cdn.pydata.org/bokeh/release/bokeh-gl-0.12.9.min.js\"];\n\n  var inline_js = [\n    function(Bokeh) {\n      Bokeh.set_log_level(\"info\");\n    },\n    \n    function(Bokeh) {\n      \n    },\n    function(Bokeh) {\n      console.log(\"Bokeh: injecting CSS: https://cdn.pydata.org/bokeh/release/bokeh-0.12.9.min.css\");\n      Bokeh.embed.inject_css(\"https://cdn.pydata.org/bokeh/release/bokeh-0.12.9.min.css\");\n      console.log(\"Bokeh: injecting CSS: https://cdn.pydata.org/bokeh/release/bokeh-widgets-0.12.9.min.css\");\n      Bokeh.embed.inject_css(\"https://cdn.pydata.org/bokeh/release/bokeh-widgets-0.12.9.min.css\");\n      console.log(\"Bokeh: injecting CSS: https://cdn.pydata.org/bokeh/release/bokeh-tables-0.12.9.min.css\");\n      Bokeh.embed.inject_css(\"https://cdn.pydata.org/bokeh/release/bokeh-tables-0.12.9.min.css\");\n    }\n  ];\n\n  function run_inline_js() {\n    \n    if ((root.Bokeh !== undefined) || (force === true)) {\n      for (var i = 0; i < inline_js.length; i++) {\n        inline_js[i].call(root, root.Bokeh);\n      }if (force === true) {\n        display_loaded();\n      }} else if (Date.now() < root._bokeh_timeout) {\n      setTimeout(run_inline_js, 100);\n    } else if (!root._bokeh_failed_load) {\n      console.log(\"Bokeh: BokehJS failed to load within specified timeout.\");\n      root._bokeh_failed_load = true;\n    } else if (force !== true) {\n      var cell = $(document.getElementById(\"580c7f55-c70a-4138-9175-4bb4d85e0b7c\")).parents('.cell').data().cell;\n      cell.output_area.append_execute_result(NB_LOAD_WARNING)\n    }\n\n  }\n\n  if (root._bokeh_is_loading === 0) {\n    console.log(\"Bokeh: BokehJS loaded, going straight to plotting\");\n    run_inline_js();\n  } else {\n    load_libs(js_urls, function() {\n      console.log(\"Bokeh: BokehJS plotting callback run at\", now());\n      run_inline_js();\n    });\n  }\n}(window));"
     },
     "metadata": {},
     "output_type": "display_data"
    },
    {
     "name": "stderr",
     "output_type": "stream",
     "text": [
      "C:\\Users\\Dinesh\\Anaconda3\\lib\\site-packages\\bokeh\\util\\deprecation.py:34: BokehDeprecationWarning: \n",
      "Supplying a user-defined data source AND iterable values to glyph methods is deprecated.\n",
      "\n",
      "See https://github.com/bokeh/bokeh/issues/2056 for more information.\n",
      "\n",
      "  warn(message)\n"
     ]
    },
    {
     "data": {
      "text/html": [
       "\n",
       "<div class=\"bk-root\">\n",
       "    <div class=\"bk-plotdiv\" id=\"85d57b3c-a714-48f3-be2b-839f10cd0cd8\"></div>\n",
       "</div>"
      ]
     },
     "metadata": {},
     "output_type": "display_data"
    },
    {
     "data": {
      "application/javascript": [
       "(function(root) {\n",
       "  function embed_document(root) {\n",
       "    var docs_json = {\"d3a6614a-3faf-4f24-9b80-b12442e29a8d\":{\"roots\":{\"references\":[{\"attributes\":{\"dimension\":1,\"plot\":{\"id\":\"59971ee4-5956-4ffb-ad46-86d16117b8b4\",\"subtype\":\"Figure\",\"type\":\"Plot\"},\"ticker\":{\"id\":\"b853e84d-3f0d-4a02-9f52-691fcc6ba2c3\",\"type\":\"BasicTicker\"}},\"id\":\"28787e60-8311-45f3-b72f-7ebb0afbf38a\",\"type\":\"Grid\"},{\"attributes\":{\"callback\":null,\"start\":0},\"id\":\"6a3f6c8d-bd1c-41d0-aff8-13e0f3ba1338\",\"type\":\"DataRange1d\"},{\"attributes\":{\"source\":{\"id\":\"10835337-9644-407f-9b1f-5fb8e39056a6\",\"type\":\"ColumnDataSource\"}},\"id\":\"22c495a6-bf03-430c-9505-7126a35fa8ed\",\"type\":\"CDSView\"},{\"attributes\":{\"fill_alpha\":{\"value\":0.1},\"fill_color\":{\"value\":\"#1f77b4\"},\"line_alpha\":{\"value\":0.1},\"line_color\":{\"value\":\"#1f77b4\"},\"top\":{\"field\":\"top\"},\"width\":{\"value\":1},\"x\":{\"field\":\"words\"}},\"id\":\"1b4a1860-bd44-467a-b8e5-3c7f948b7487\",\"type\":\"VBar\"},{\"attributes\":{},\"id\":\"8af855c3-8579-4035-abc9-90b0365a5137\",\"type\":\"CategoricalScale\"},{\"attributes\":{\"fill_color\":{\"field\":\"words\",\"transform\":{\"id\":\"fac46486-3dc7-48ce-aee2-f61a4450dabf\",\"type\":\"CategoricalColorMapper\"}},\"line_color\":{\"field\":\"words\",\"transform\":{\"id\":\"fac46486-3dc7-48ce-aee2-f61a4450dabf\",\"type\":\"CategoricalColorMapper\"}},\"top\":{\"field\":\"top\"},\"width\":{\"value\":1},\"x\":{\"field\":\"words\"}},\"id\":\"5feb3eb1-7a7c-4402-bef1-1cbbe6a86b8f\",\"type\":\"VBar\"},{\"attributes\":{},\"id\":\"8ff3459f-381d-44d9-901d-b8e49161e8b2\",\"type\":\"LinearScale\"},{\"attributes\":{\"active_drag\":\"auto\",\"active_inspect\":\"auto\",\"active_scroll\":\"auto\",\"active_tap\":\"auto\"},\"id\":\"9ddb8067-0cbd-4192-a6bd-d08e4cb00094\",\"type\":\"Toolbar\"},{\"attributes\":{},\"id\":\"b291ffff-cfcc-4271-b439-abee9371b609\",\"type\":\"CategoricalTickFormatter\"},{\"attributes\":{\"data_source\":{\"id\":\"10835337-9644-407f-9b1f-5fb8e39056a6\",\"type\":\"ColumnDataSource\"},\"glyph\":{\"id\":\"5feb3eb1-7a7c-4402-bef1-1cbbe6a86b8f\",\"type\":\"VBar\"},\"hover_glyph\":null,\"muted_glyph\":null,\"nonselection_glyph\":{\"id\":\"1b4a1860-bd44-467a-b8e5-3c7f948b7487\",\"type\":\"VBar\"},\"selection_glyph\":null,\"view\":{\"id\":\"22c495a6-bf03-430c-9505-7126a35fa8ed\",\"type\":\"CDSView\"}},\"id\":\"051301ca-240b-46a6-bc9b-216affc8fe3a\",\"type\":\"GlyphRenderer\"},{\"attributes\":{\"plot\":null,\"text\":\"Frequency of Bigrams\"},\"id\":\"731e3cec-d170-4299-818d-7489216526ec\",\"type\":\"Title\"},{\"attributes\":{},\"id\":\"175bbf22-8c7e-478a-864e-a01f88f475b0\",\"type\":\"CategoricalTicker\"},{\"attributes\":{\"callback\":null,\"factors\":[\"[\\\"am\\\",\\\"i\\\"]\",\"[\\\"and\\\",\\\"he\\\"]\",\"[\\\"and\\\",\\\"the\\\"]\",\"[\\\"be\\\",\\\"shall\\\"]\",\"[\\\"have\\\",\\\"i\\\"]\",\"[\\\"i\\\",\\\"will\\\"]\",\"[\\\"in\\\",\\\"the\\\"]\",\"[\\\"lord\\\",\\\"the\\\"]\",\"[\\\"of\\\",\\\"the\\\"]\",\"[\\\"the\\\",\\\"to\\\"]\"]},\"id\":\"59ceb9ee-e182-4f76-900e-c7735a91c57c\",\"type\":\"FactorRange\"},{\"attributes\":{\"grid_line_color\":{\"value\":null},\"plot\":{\"id\":\"59971ee4-5956-4ffb-ad46-86d16117b8b4\",\"subtype\":\"Figure\",\"type\":\"Plot\"},\"ticker\":{\"id\":\"175bbf22-8c7e-478a-864e-a01f88f475b0\",\"type\":\"CategoricalTicker\"}},\"id\":\"a0d12586-6097-4dd5-b86c-623befebfeb0\",\"type\":\"Grid\"},{\"attributes\":{\"axis_label\":\"some stuff\",\"formatter\":{\"id\":\"b291ffff-cfcc-4271-b439-abee9371b609\",\"type\":\"CategoricalTickFormatter\"},\"major_label_orientation\":1.2,\"plot\":{\"id\":\"59971ee4-5956-4ffb-ad46-86d16117b8b4\",\"subtype\":\"Figure\",\"type\":\"Plot\"},\"ticker\":{\"id\":\"175bbf22-8c7e-478a-864e-a01f88f475b0\",\"type\":\"CategoricalTicker\"}},\"id\":\"e826039d-c3be-410a-9db6-d508a87d8012\",\"type\":\"CategoricalAxis\"},{\"attributes\":{},\"id\":\"e0207c5f-c55a-4c99-bbea-2c9383ddc8d9\",\"type\":\"BasicTickFormatter\"},{\"attributes\":{},\"id\":\"b853e84d-3f0d-4a02-9f52-691fcc6ba2c3\",\"type\":\"BasicTicker\"},{\"attributes\":{\"factors\":[\"[\\\"am\\\",\\\"i\\\"]\",\"[\\\"and\\\",\\\"he\\\"]\",\"[\\\"and\\\",\\\"the\\\"]\",\"[\\\"be\\\",\\\"shall\\\"]\",\"[\\\"have\\\",\\\"i\\\"]\",\"[\\\"i\\\",\\\"will\\\"]\",\"[\\\"in\\\",\\\"the\\\"]\",\"[\\\"lord\\\",\\\"the\\\"]\",\"[\\\"of\\\",\\\"the\\\"]\",\"[\\\"the\\\",\\\"to\\\"]\"],\"palette\":[\"#5e4fa2\",\"#3288bd\",\"#66c2a5\",\"#abdda4\",\"#e6f598\",\"#fee08b\",\"#fdae61\",\"#f46d43\",\"#d53e4f\",\"#9e0142\"]},\"id\":\"fac46486-3dc7-48ce-aee2-f61a4450dabf\",\"type\":\"CategoricalColorMapper\"},{\"attributes\":{\"below\":[{\"id\":\"e826039d-c3be-410a-9db6-d508a87d8012\",\"type\":\"CategoricalAxis\"}],\"left\":[{\"id\":\"abbe4d4b-c60c-4745-bde7-740c036dd5ed\",\"type\":\"LinearAxis\"}],\"outline_line_color\":{\"value\":null},\"plot_height\":500,\"renderers\":[{\"id\":\"e826039d-c3be-410a-9db6-d508a87d8012\",\"type\":\"CategoricalAxis\"},{\"id\":\"a0d12586-6097-4dd5-b86c-623befebfeb0\",\"type\":\"Grid\"},{\"id\":\"abbe4d4b-c60c-4745-bde7-740c036dd5ed\",\"type\":\"LinearAxis\"},{\"id\":\"28787e60-8311-45f3-b72f-7ebb0afbf38a\",\"type\":\"Grid\"},{\"id\":\"051301ca-240b-46a6-bc9b-216affc8fe3a\",\"type\":\"GlyphRenderer\"}],\"title\":{\"id\":\"731e3cec-d170-4299-818d-7489216526ec\",\"type\":\"Title\"},\"toolbar\":{\"id\":\"9ddb8067-0cbd-4192-a6bd-d08e4cb00094\",\"type\":\"Toolbar\"},\"toolbar_location\":null,\"x_range\":{\"id\":\"59ceb9ee-e182-4f76-900e-c7735a91c57c\",\"type\":\"FactorRange\"},\"x_scale\":{\"id\":\"8af855c3-8579-4035-abc9-90b0365a5137\",\"type\":\"CategoricalScale\"},\"y_range\":{\"id\":\"6a3f6c8d-bd1c-41d0-aff8-13e0f3ba1338\",\"type\":\"DataRange1d\"},\"y_scale\":{\"id\":\"8ff3459f-381d-44d9-901d-b8e49161e8b2\",\"type\":\"LinearScale\"}},\"id\":\"59971ee4-5956-4ffb-ad46-86d16117b8b4\",\"subtype\":\"Figure\",\"type\":\"Plot\"},{\"attributes\":{\"formatter\":{\"id\":\"e0207c5f-c55a-4c99-bbea-2c9383ddc8d9\",\"type\":\"BasicTickFormatter\"},\"plot\":{\"id\":\"59971ee4-5956-4ffb-ad46-86d16117b8b4\",\"subtype\":\"Figure\",\"type\":\"Plot\"},\"ticker\":{\"id\":\"b853e84d-3f0d-4a02-9f52-691fcc6ba2c3\",\"type\":\"BasicTicker\"}},\"id\":\"abbe4d4b-c60c-4745-bde7-740c036dd5ed\",\"type\":\"LinearAxis\"},{\"attributes\":{\"callback\":null,\"column_names\":[\"frequency_count\",\"frequency_mean\",\"frequency_std\",\"frequency_min\",\"frequency_25%\",\"frequency_50%\",\"frequency_75%\",\"frequency_max\",\"words\",\"top\"],\"data\":{\"frequency_25%\":{\"__ndarray__\":\"AAAAAACCpkAAAAAAAHKoQAAAAAAAertAAAAAAACOp0AAAAAAAGaoQAAAAAAABLBAAAAAAABTukAAAAAAAEy8QAAAAACAdslAAAAAAACurUA=\",\"dtype\":\"float64\",\"shape\":[10]},\"frequency_50%\":{\"__ndarray__\":\"AAAAAACCpkAAAAAAAHKoQAAAAAAAertAAAAAAACOp0AAAAAAAGaoQAAAAAAABLBAAAAAAABTukAAAAAAAEy8QAAAAACAdslAAAAAAACurUA=\",\"dtype\":\"float64\",\"shape\":[10]},\"frequency_75%\":{\"__ndarray__\":\"AAAAAACCpkAAAAAAAHKoQAAAAAAAertAAAAAAACOp0AAAAAAAGaoQAAAAAAABLBAAAAAAABTukAAAAAAAEy8QAAAAACAdslAAAAAAACurUA=\",\"dtype\":\"float64\",\"shape\":[10]},\"frequency_count\":{\"__ndarray__\":\"AAAAAAAA8D8AAAAAAADwPwAAAAAAAPA/AAAAAAAA8D8AAAAAAADwPwAAAAAAAPA/AAAAAAAA8D8AAAAAAADwPwAAAAAAAPA/AAAAAAAA8D8=\",\"dtype\":\"float64\",\"shape\":[10]},\"frequency_max\":{\"__ndarray__\":\"AAAAAACCpkAAAAAAAHKoQAAAAAAAertAAAAAAACOp0AAAAAAAGaoQAAAAAAABLBAAAAAAABTukAAAAAAAEy8QAAAAACAdslAAAAAAACurUA=\",\"dtype\":\"float64\",\"shape\":[10]},\"frequency_mean\":{\"__ndarray__\":\"AAAAAACCpkAAAAAAAHKoQAAAAAAAertAAAAAAACOp0AAAAAAAGaoQAAAAAAABLBAAAAAAABTukAAAAAAAEy8QAAAAACAdslAAAAAAACurUA=\",\"dtype\":\"float64\",\"shape\":[10]},\"frequency_min\":{\"__ndarray__\":\"AAAAAACCpkAAAAAAAHKoQAAAAAAAertAAAAAAACOp0AAAAAAAGaoQAAAAAAABLBAAAAAAABTukAAAAAAAEy8QAAAAACAdslAAAAAAACurUA=\",\"dtype\":\"float64\",\"shape\":[10]},\"frequency_std\":{\"__ndarray__\":\"AAAAAAAA+H8AAAAAAAD4fwAAAAAAAPh/AAAAAAAA+H8AAAAAAAD4fwAAAAAAAPh/AAAAAAAA+H8AAAAAAAD4fwAAAAAAAPh/AAAAAAAA+H8=\",\"dtype\":\"float64\",\"shape\":[10]},\"top\":[13037,7244,7034,6739,4100,3799,3129,3123,3015,2881],\"words\":[\"[\\\"am\\\",\\\"i\\\"]\",\"[\\\"and\\\",\\\"he\\\"]\",\"[\\\"and\\\",\\\"the\\\"]\",\"[\\\"be\\\",\\\"shall\\\"]\",\"[\\\"have\\\",\\\"i\\\"]\",\"[\\\"i\\\",\\\"will\\\"]\",\"[\\\"in\\\",\\\"the\\\"]\",\"[\\\"lord\\\",\\\"the\\\"]\",\"[\\\"of\\\",\\\"the\\\"]\",\"[\\\"the\\\",\\\"to\\\"]\"]}},\"id\":\"10835337-9644-407f-9b1f-5fb8e39056a6\",\"type\":\"ColumnDataSource\"}],\"root_ids\":[\"59971ee4-5956-4ffb-ad46-86d16117b8b4\"]},\"title\":\"Bokeh Application\",\"version\":\"0.12.9\"}};\n",
       "    var render_items = [{\"docid\":\"d3a6614a-3faf-4f24-9b80-b12442e29a8d\",\"elementid\":\"85d57b3c-a714-48f3-be2b-839f10cd0cd8\",\"modelid\":\"59971ee4-5956-4ffb-ad46-86d16117b8b4\"}];\n",
       "\n",
       "    root.Bokeh.embed.embed_items(docs_json, render_items);\n",
       "  }\n",
       "\n",
       "  if (root.Bokeh !== undefined) {\n",
       "    embed_document(root);\n",
       "  } else {\n",
       "    var attempts = 0;\n",
       "    var timer = setInterval(function(root) {\n",
       "      if (root.Bokeh !== undefined) {\n",
       "        embed_document(root);\n",
       "        clearInterval(timer);\n",
       "      }\n",
       "      attempts++;\n",
       "      if (attempts > 100) {\n",
       "        console.log(\"Bokeh: ERROR: Unable to embed document because BokehJS library is missing\")\n",
       "        clearInterval(timer);\n",
       "      }\n",
       "    }, 10, root)\n",
       "  }\n",
       "})(window);"
      ],
      "application/vnd.bokehjs_exec.v0+json": ""
     },
     "metadata": {
      "application/vnd.bokehjs_exec.v0+json": {
       "id": "59971ee4-5956-4ffb-ad46-86d16117b8b4"
      }
     },
     "output_type": "display_data"
    }
   ],
   "source": [
    "%matplotlib inline       \n",
    "import numpy as np\n",
    "import pandas as pd \n",
    "from bokeh.io import show, output_notebook\n",
    "from bokeh.plotting import figure\n",
    "from bokeh.models import ColumnDataSource\n",
    "from bokeh.palettes import Spectral10\n",
    "from bokeh.transform import factor_cmap\n",
    "\n",
    "output_notebook()\n",
    "\n",
    "%matplotlib inline       \n",
    "import numpy as np\n",
    "import pandas as pd \n",
    "\n",
    "bigram = pd.read_table(\"data/bigram.txt\")\n",
    "\n",
    "bigram.words = bigram.words.astype(str)\n",
    "group = bigram.groupby('words')\n",
    "\n",
    "source = ColumnDataSource(group)\n",
    "\n",
    "b_cmap = factor_cmap('words', palette=Spectral10, factors=sorted(bigram.words.unique()))\n",
    "\n",
    "p = figure(plot_height=500, x_range=group, title=\"Frequency of Bigrams\",\n",
    "           toolbar_location=None, tools=\"\")\n",
    "\n",
    "p.vbar(x='words', top=bigram['frequency'], width=1, source=source,\n",
    "       line_color=b_cmap, fill_color=b_cmap)\n",
    "\n",
    "p.y_range.start = 0\n",
    "p.xgrid.grid_line_color = None\n",
    "p.xaxis.axis_label = \"some stuff\"\n",
    "p.xaxis.major_label_orientation = 1.2\n",
    "p.outline_line_color = None\n",
    "\n",
    "show(p)"
   ]
  },
  {
   "cell_type": "markdown",
   "metadata": {},
   "source": [
    "### Frequency Plot for Trigrams (top 10)"
   ]
  },
  {
   "cell_type": "code",
   "execution_count": 79,
   "metadata": {},
   "outputs": [
    {
     "name": "stderr",
     "output_type": "stream",
     "text": [
      "C:\\Users\\Dinesh\\Anaconda3\\lib\\site-packages\\bokeh\\util\\deprecation.py:34: BokehDeprecationWarning: \n",
      "Supplying a user-defined data source AND iterable values to glyph methods is deprecated.\n",
      "\n",
      "See https://github.com/bokeh/bokeh/issues/2056 for more information.\n",
      "\n",
      "  warn(message)\n"
     ]
    },
    {
     "data": {
      "text/html": [
       "\n",
       "<div class=\"bk-root\">\n",
       "    <div class=\"bk-plotdiv\" id=\"235dfabc-24cb-4554-8f27-7aaeeb579313\"></div>\n",
       "</div>"
      ]
     },
     "metadata": {},
     "output_type": "display_data"
    },
    {
     "data": {
      "application/javascript": [
       "(function(root) {\n",
       "  function embed_document(root) {\n",
       "    var docs_json = {\"9e930dd7-761e-4a77-9a92-76e75417905c\":{\"roots\":{\"references\":[{\"attributes\":{\"fill_alpha\":{\"value\":0.1},\"fill_color\":{\"value\":\"#1f77b4\"},\"line_alpha\":{\"value\":0.1},\"line_color\":{\"value\":\"#1f77b4\"},\"top\":{\"field\":\"top\"},\"width\":{\"value\":1},\"x\":{\"field\":\"words\"}},\"id\":\"a2afa456-6ca1-447a-bddb-0c0d4ade5d03\",\"type\":\"VBar\"},{\"attributes\":{\"data_source\":{\"id\":\"b237ea5f-93b7-42fd-bab6-58cce2e31e6c\",\"type\":\"ColumnDataSource\"},\"glyph\":{\"id\":\"76a7358d-eb20-48b0-93f8-8035ec912f84\",\"type\":\"VBar\"},\"hover_glyph\":null,\"muted_glyph\":null,\"nonselection_glyph\":{\"id\":\"a2afa456-6ca1-447a-bddb-0c0d4ade5d03\",\"type\":\"VBar\"},\"selection_glyph\":null,\"view\":{\"id\":\"8132a970-09a1-4a13-9619-7ded8f477871\",\"type\":\"CDSView\"}},\"id\":\"cca08ea5-8971-443c-9084-76b306e14040\",\"type\":\"GlyphRenderer\"},{\"attributes\":{},\"id\":\"07dab781-aa1d-46ce-b5a3-0e7e02ec0e1d\",\"type\":\"CategoricalTickFormatter\"},{\"attributes\":{\"below\":[{\"id\":\"6a26a4d8-d956-4b0a-a0e9-d7bbc4b45b34\",\"type\":\"CategoricalAxis\"}],\"left\":[{\"id\":\"28f48ab4-4a0e-4fa8-ab33-f1f010fe21f4\",\"type\":\"LinearAxis\"}],\"outline_line_color\":{\"value\":null},\"plot_height\":500,\"renderers\":[{\"id\":\"6a26a4d8-d956-4b0a-a0e9-d7bbc4b45b34\",\"type\":\"CategoricalAxis\"},{\"id\":\"c246de63-aeb5-4d84-a34b-42ab8138d106\",\"type\":\"Grid\"},{\"id\":\"28f48ab4-4a0e-4fa8-ab33-f1f010fe21f4\",\"type\":\"LinearAxis\"},{\"id\":\"4a1aeb92-83e6-4797-a3ed-3877e63bc248\",\"type\":\"Grid\"},{\"id\":\"cca08ea5-8971-443c-9084-76b306e14040\",\"type\":\"GlyphRenderer\"}],\"title\":{\"id\":\"cdbe80d7-4bd1-45bb-80f7-a2fda74ce3f7\",\"type\":\"Title\"},\"toolbar\":{\"id\":\"c1767c5b-931d-46bd-a453-fbee35d3a5b5\",\"type\":\"Toolbar\"},\"toolbar_location\":null,\"x_range\":{\"id\":\"7f205f59-dff0-4b4e-83eb-1289c61a6dab\",\"type\":\"FactorRange\"},\"x_scale\":{\"id\":\"110f42a4-3865-448e-a436-f1ed427093b8\",\"type\":\"CategoricalScale\"},\"y_range\":{\"id\":\"ac2f4ffc-e15d-483c-9529-059af43094d7\",\"type\":\"DataRange1d\"},\"y_scale\":{\"id\":\"db19c5db-af87-4bf9-a616-eed48779e5dc\",\"type\":\"LinearScale\"}},\"id\":\"2f34ba23-c8ec-4fb6-b3eb-cf6df9e9f00e\",\"subtype\":\"Figure\",\"type\":\"Plot\"},{\"attributes\":{\"plot\":null,\"text\":\"Frequency of Trigrams\"},\"id\":\"cdbe80d7-4bd1-45bb-80f7-a2fda74ce3f7\",\"type\":\"Title\"},{\"attributes\":{},\"id\":\"db19c5db-af87-4bf9-a616-eed48779e5dc\",\"type\":\"LinearScale\"},{\"attributes\":{\"formatter\":{\"id\":\"2d68d44a-31c7-4509-ab34-50b2050c8ef2\",\"type\":\"BasicTickFormatter\"},\"plot\":{\"id\":\"2f34ba23-c8ec-4fb6-b3eb-cf6df9e9f00e\",\"subtype\":\"Figure\",\"type\":\"Plot\"},\"ticker\":{\"id\":\"87c525a5-a77b-4be4-8284-327ef0ba5c82\",\"type\":\"BasicTicker\"}},\"id\":\"28f48ab4-4a0e-4fa8-ab33-f1f010fe21f4\",\"type\":\"LinearAxis\"},{\"attributes\":{},\"id\":\"b0e7fe5f-5872-4313-b3ba-593bbeb7478c\",\"type\":\"CategoricalTicker\"},{\"attributes\":{\"callback\":null,\"start\":0},\"id\":\"ac2f4ffc-e15d-483c-9529-059af43094d7\",\"type\":\"DataRange1d\"},{\"attributes\":{\"factors\":[\"[\\\"and\\\",\\\"all\\\",\\\"the\\\"]\",\"[\\\"and\\\",\\\"i\\\",\\\"will\\\"]\",\"[\\\"children\\\",\\\"of\\\",\\\"israel\\\"]\",\"[\\\"of\\\",\\\"the\\\",\\\"lord\\\"]\",\"[\\\"out\\\",\\\"of\\\",\\\"the\\\"]\",\"[\\\"saith\\\",\\\"the\\\",\\\"lord\\\"]\",\"[\\\"the\\\",\\\"children\\\",\\\"of\\\"]\",\"[\\\"the\\\",\\\"house\\\",\\\"of\\\"]\",\"[\\\"the\\\",\\\"land\\\",\\\"of\\\"]\",\"[\\\"the\\\",\\\"son\\\",\\\"of\\\"]\"],\"palette\":[\"#5e4fa2\",\"#3288bd\",\"#66c2a5\",\"#abdda4\",\"#e6f598\",\"#fee08b\",\"#fdae61\",\"#f46d43\",\"#d53e4f\",\"#9e0142\"]},\"id\":\"bff69797-580d-4ef4-b5c3-7c2b85c009c3\",\"type\":\"CategoricalColorMapper\"},{\"attributes\":{\"grid_line_color\":{\"value\":null},\"plot\":{\"id\":\"2f34ba23-c8ec-4fb6-b3eb-cf6df9e9f00e\",\"subtype\":\"Figure\",\"type\":\"Plot\"},\"ticker\":{\"id\":\"b0e7fe5f-5872-4313-b3ba-593bbeb7478c\",\"type\":\"CategoricalTicker\"}},\"id\":\"c246de63-aeb5-4d84-a34b-42ab8138d106\",\"type\":\"Grid\"},{\"attributes\":{},\"id\":\"87c525a5-a77b-4be4-8284-327ef0ba5c82\",\"type\":\"BasicTicker\"},{\"attributes\":{\"callback\":null,\"factors\":[\"[\\\"and\\\",\\\"all\\\",\\\"the\\\"]\",\"[\\\"and\\\",\\\"i\\\",\\\"will\\\"]\",\"[\\\"children\\\",\\\"of\\\",\\\"israel\\\"]\",\"[\\\"of\\\",\\\"the\\\",\\\"lord\\\"]\",\"[\\\"out\\\",\\\"of\\\",\\\"the\\\"]\",\"[\\\"saith\\\",\\\"the\\\",\\\"lord\\\"]\",\"[\\\"the\\\",\\\"children\\\",\\\"of\\\"]\",\"[\\\"the\\\",\\\"house\\\",\\\"of\\\"]\",\"[\\\"the\\\",\\\"land\\\",\\\"of\\\"]\",\"[\\\"the\\\",\\\"son\\\",\\\"of\\\"]\"]},\"id\":\"7f205f59-dff0-4b4e-83eb-1289c61a6dab\",\"type\":\"FactorRange\"},{\"attributes\":{\"active_drag\":\"auto\",\"active_inspect\":\"auto\",\"active_scroll\":\"auto\",\"active_tap\":\"auto\"},\"id\":\"c1767c5b-931d-46bd-a453-fbee35d3a5b5\",\"type\":\"Toolbar\"},{\"attributes\":{\"fill_color\":{\"field\":\"words\",\"transform\":{\"id\":\"bff69797-580d-4ef4-b5c3-7c2b85c009c3\",\"type\":\"CategoricalColorMapper\"}},\"line_color\":{\"field\":\"words\",\"transform\":{\"id\":\"bff69797-580d-4ef4-b5c3-7c2b85c009c3\",\"type\":\"CategoricalColorMapper\"}},\"top\":{\"field\":\"top\"},\"width\":{\"value\":1},\"x\":{\"field\":\"words\"}},\"id\":\"76a7358d-eb20-48b0-93f8-8035ec912f84\",\"type\":\"VBar\"},{\"attributes\":{\"callback\":null,\"column_names\":[\"frequency_count\",\"frequency_mean\",\"frequency_std\",\"frequency_min\",\"frequency_25%\",\"frequency_50%\",\"frequency_75%\",\"frequency_max\",\"words\",\"top\"],\"data\":{\"frequency_25%\":{\"__ndarray__\":\"AAAAAAAYhEAAAAAAAPCIQAAAAAAAIIRAAAAAAABIm0AAAAAAALiKQAAAAAAAsIpAAAAAAAAwlUAAAAAAAMCMQAAAAAAASINAAAAAAAD4lkA=\",\"dtype\":\"float64\",\"shape\":[10]},\"frequency_50%\":{\"__ndarray__\":\"AAAAAAAYhEAAAAAAAPCIQAAAAAAAIIRAAAAAAABIm0AAAAAAALiKQAAAAAAAsIpAAAAAAAAwlUAAAAAAAMCMQAAAAAAASINAAAAAAAD4lkA=\",\"dtype\":\"float64\",\"shape\":[10]},\"frequency_75%\":{\"__ndarray__\":\"AAAAAAAYhEAAAAAAAPCIQAAAAAAAIIRAAAAAAABIm0AAAAAAALiKQAAAAAAAsIpAAAAAAAAwlUAAAAAAAMCMQAAAAAAASINAAAAAAAD4lkA=\",\"dtype\":\"float64\",\"shape\":[10]},\"frequency_count\":{\"__ndarray__\":\"AAAAAAAA8D8AAAAAAADwPwAAAAAAAPA/AAAAAAAA8D8AAAAAAADwPwAAAAAAAPA/AAAAAAAA8D8AAAAAAADwPwAAAAAAAPA/AAAAAAAA8D8=\",\"dtype\":\"float64\",\"shape\":[10]},\"frequency_max\":{\"__ndarray__\":\"AAAAAAAYhEAAAAAAAPCIQAAAAAAAIIRAAAAAAABIm0AAAAAAALiKQAAAAAAAsIpAAAAAAAAwlUAAAAAAAMCMQAAAAAAASINAAAAAAAD4lkA=\",\"dtype\":\"float64\",\"shape\":[10]},\"frequency_mean\":{\"__ndarray__\":\"AAAAAAAYhEAAAAAAAPCIQAAAAAAAIIRAAAAAAABIm0AAAAAAALiKQAAAAAAAsIpAAAAAAAAwlUAAAAAAAMCMQAAAAAAASINAAAAAAAD4lkA=\",\"dtype\":\"float64\",\"shape\":[10]},\"frequency_min\":{\"__ndarray__\":\"AAAAAAAYhEAAAAAAAPCIQAAAAAAAIIRAAAAAAABIm0AAAAAAALiKQAAAAAAAsIpAAAAAAAAwlUAAAAAAAMCMQAAAAAAASINAAAAAAAD4lkA=\",\"dtype\":\"float64\",\"shape\":[10]},\"frequency_std\":{\"__ndarray__\":\"AAAAAAAA+H8AAAAAAAD4fwAAAAAAAPh/AAAAAAAA+H8AAAAAAAD4fwAAAAAAAPh/AAAAAAAA+H8AAAAAAAD4fwAAAAAAAPh/AAAAAAAA+H8=\",\"dtype\":\"float64\",\"shape\":[10]},\"top\":[1746,1470,1356,920,855,854,798,644,643,617],\"words\":[\"[\\\"and\\\",\\\"all\\\",\\\"the\\\"]\",\"[\\\"and\\\",\\\"i\\\",\\\"will\\\"]\",\"[\\\"children\\\",\\\"of\\\",\\\"israel\\\"]\",\"[\\\"of\\\",\\\"the\\\",\\\"lord\\\"]\",\"[\\\"out\\\",\\\"of\\\",\\\"the\\\"]\",\"[\\\"saith\\\",\\\"the\\\",\\\"lord\\\"]\",\"[\\\"the\\\",\\\"children\\\",\\\"of\\\"]\",\"[\\\"the\\\",\\\"house\\\",\\\"of\\\"]\",\"[\\\"the\\\",\\\"land\\\",\\\"of\\\"]\",\"[\\\"the\\\",\\\"son\\\",\\\"of\\\"]\"]}},\"id\":\"b237ea5f-93b7-42fd-bab6-58cce2e31e6c\",\"type\":\"ColumnDataSource\"},{\"attributes\":{\"axis_label\":\"some stuff\",\"formatter\":{\"id\":\"07dab781-aa1d-46ce-b5a3-0e7e02ec0e1d\",\"type\":\"CategoricalTickFormatter\"},\"major_label_orientation\":1.2,\"plot\":{\"id\":\"2f34ba23-c8ec-4fb6-b3eb-cf6df9e9f00e\",\"subtype\":\"Figure\",\"type\":\"Plot\"},\"ticker\":{\"id\":\"b0e7fe5f-5872-4313-b3ba-593bbeb7478c\",\"type\":\"CategoricalTicker\"}},\"id\":\"6a26a4d8-d956-4b0a-a0e9-d7bbc4b45b34\",\"type\":\"CategoricalAxis\"},{\"attributes\":{},\"id\":\"110f42a4-3865-448e-a436-f1ed427093b8\",\"type\":\"CategoricalScale\"},{\"attributes\":{\"dimension\":1,\"plot\":{\"id\":\"2f34ba23-c8ec-4fb6-b3eb-cf6df9e9f00e\",\"subtype\":\"Figure\",\"type\":\"Plot\"},\"ticker\":{\"id\":\"87c525a5-a77b-4be4-8284-327ef0ba5c82\",\"type\":\"BasicTicker\"}},\"id\":\"4a1aeb92-83e6-4797-a3ed-3877e63bc248\",\"type\":\"Grid\"},{\"attributes\":{},\"id\":\"2d68d44a-31c7-4509-ab34-50b2050c8ef2\",\"type\":\"BasicTickFormatter\"},{\"attributes\":{\"source\":{\"id\":\"b237ea5f-93b7-42fd-bab6-58cce2e31e6c\",\"type\":\"ColumnDataSource\"}},\"id\":\"8132a970-09a1-4a13-9619-7ded8f477871\",\"type\":\"CDSView\"}],\"root_ids\":[\"2f34ba23-c8ec-4fb6-b3eb-cf6df9e9f00e\"]},\"title\":\"Bokeh Application\",\"version\":\"0.12.9\"}};\n",
       "    var render_items = [{\"docid\":\"9e930dd7-761e-4a77-9a92-76e75417905c\",\"elementid\":\"235dfabc-24cb-4554-8f27-7aaeeb579313\",\"modelid\":\"2f34ba23-c8ec-4fb6-b3eb-cf6df9e9f00e\"}];\n",
       "\n",
       "    root.Bokeh.embed.embed_items(docs_json, render_items);\n",
       "  }\n",
       "\n",
       "  if (root.Bokeh !== undefined) {\n",
       "    embed_document(root);\n",
       "  } else {\n",
       "    var attempts = 0;\n",
       "    var timer = setInterval(function(root) {\n",
       "      if (root.Bokeh !== undefined) {\n",
       "        embed_document(root);\n",
       "        clearInterval(timer);\n",
       "      }\n",
       "      attempts++;\n",
       "      if (attempts > 100) {\n",
       "        console.log(\"Bokeh: ERROR: Unable to embed document because BokehJS library is missing\")\n",
       "        clearInterval(timer);\n",
       "      }\n",
       "    }, 10, root)\n",
       "  }\n",
       "})(window);"
      ],
      "application/vnd.bokehjs_exec.v0+json": ""
     },
     "metadata": {
      "application/vnd.bokehjs_exec.v0+json": {
       "id": "2f34ba23-c8ec-4fb6-b3eb-cf6df9e9f00e"
      }
     },
     "output_type": "display_data"
    }
   ],
   "source": [
    "trigram = pd.read_table(\"data/trigram.txt\")\n",
    "\n",
    "trigram.words = trigram.words.astype(str)\n",
    "group = trigram.groupby('words')\n",
    "\n",
    "source = ColumnDataSource(group)\n",
    "\n",
    "t_cmap = factor_cmap('words', palette=Spectral10, factors=sorted(trigram.words.unique()))\n",
    "\n",
    "p = figure(plot_height=500, x_range=group, title=\"Frequency of Trigrams\",\n",
    "           toolbar_location=None, tools=\"\")\n",
    "\n",
    "p.vbar(x='words', top=trigram['frequency'], width=1, source=source,\n",
    "       line_color=t_cmap, fill_color=t_cmap)\n",
    "\n",
    "p.y_range.start = 0\n",
    "p.xgrid.grid_line_color = None\n",
    "p.xaxis.axis_label = \"some stuff\"\n",
    "p.xaxis.major_label_orientation = 1.2\n",
    "p.outline_line_color = None\n",
    "\n",
    "show(p)\n"
   ]
  },
  {
   "cell_type": "markdown",
   "metadata": {},
   "source": [
    "## For greater than a score of 3 \n",
    "###  Create a TD - IDF implementation and \n",
    "### Analyze the following Sherlock Holmes book from Project Gutenberg text versions of :\n",
    "The Adventures of Sherlock Holmes-  http://www.gutenberg.org/ebooks/1661.txt.utf-8\n",
    "\n",
    "A Study in Scarlet - http://www.gutenberg.org/files/244/244-0.txt\n",
    "\n",
    "The Hound of the Baskervilles - http://www.gutenberg.org/files/2852/2852-0.txt\n",
    "\n",
    "The Return of Sherlock Holmes - http://www.gutenberg.org/files/108/108-0.txt\n",
    "\n",
    "The Sign of the Four - http://www.gutenberg.org/ebooks/2097.txt.utf-8\n",
    "\n",
    "### Display the scores for the top 20 highest frequencty terms and the relationship to the books\n",
    "\n"
   ]
  }
 ],
 "metadata": {
  "kernelspec": {
   "display_name": "Python 3",
   "language": "python",
   "name": "python3"
  },
  "language_info": {
   "codemirror_mode": {
    "name": "ipython",
    "version": 3
   },
   "file_extension": ".py",
   "mimetype": "text/x-python",
   "name": "python",
   "nbconvert_exporter": "python",
   "pygments_lexer": "ipython3",
   "version": "3.6.1"
  }
 },
 "nbformat": 4,
 "nbformat_minor": 1
}
