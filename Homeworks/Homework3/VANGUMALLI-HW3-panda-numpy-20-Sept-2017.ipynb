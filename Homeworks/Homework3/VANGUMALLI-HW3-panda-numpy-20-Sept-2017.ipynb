{
 "cells": [
  {
   "cell_type": "markdown",
   "metadata": {},
   "source": [
    "# Homework 3  - Tryout pandas and numpy"
   ]
  },
  {
   "cell_type": "markdown",
   "metadata": {},
   "source": [
    "## Homework 3.1\n",
    "\n",
    "### 3.1.a\n",
    "Load the data from: http://opendata.dc.gov/datasets that I have include in this github   \n",
    "into a dataframe.  ( The file has been is available in directory ./data/ccp_current_csv.csv )"
   ]
  },
  {
   "cell_type": "code",
   "execution_count": 3,
   "metadata": {},
   "outputs": [
    {
     "data": {
      "text/plain": [
       "             STREET QUADRANT  FROMINTERSECTION              TOINTERSECTION  \\\n",
       "0           13th St       NW        Kennedy St               Longfellow St   \n",
       "1              S St       NW  North Capitol St                      3rd St   \n",
       "2  Rhode Island Ave       NE  Brentwood Rd (W)            Brentwood Rd (M)   \n",
       "3           Mill Rd       NW           27th St                  Cul De Sac   \n",
       "4  Rhode Island Ave       NE  Brentwood Rd (M)  14th St  Evarts St  Montan   \n",
       "\n",
       "   NOOFBLOCKS      ...              PROJECTMGR  PROJECTID        TEAMREP  \\\n",
       "0           1      ...         Paul Stephenson       5834        O. Hill   \n",
       "1           3      ...                     NaN       2467            NaN   \n",
       "2           1      ...       Mohamed Abdullahi       5486   Said Cherifi   \n",
       "3           1      ...         Maduabuchi Udeh       5796  Michael Jelen   \n",
       "4           2      ...                     NaN       8237            NaN   \n",
       "\n",
       "                  EMAIL  CONTACTPHONE  \n",
       "0                   NaN  202-671-4591  \n",
       "1                   NaN           NaN  \n",
       "2   said.cherifi@dc.gov  202-671-4611  \n",
       "3  Michael.Jelen@dc.gov  202-671-4542  \n",
       "4                   NaN           NaN  \n",
       "\n",
       "[5 rows x 27 columns]"
      ]
     },
     "execution_count": 3,
     "metadata": {},
     "output_type": "execute_result"
    }
   ],
   "source": [
    "%matplotlib inline       \n",
    "import numpy as np\n",
    "import pandas as pd      # Import 'numpy' and 'pandas' modules\n",
    "\n",
    "ccp = pd.read_csv(\"data/ccp_current_csv.csv\")  # Load the data\n",
    "ccp.head()                                     # Prints the first 5 observations"
   ]
  },
  {
   "cell_type": "markdown",
   "metadata": {},
   "source": [
    "### 3.1.a  what is its shape and what does that mean?"
   ]
  },
  {
   "cell_type": "code",
   "execution_count": 4,
   "metadata": {},
   "outputs": [
    {
     "data": {
      "text/plain": [
       "(465, 27)"
      ]
     },
     "execution_count": 4,
     "metadata": {},
     "output_type": "execute_result"
    }
   ],
   "source": [
    "ccp.shape    # The dataset has 465 observations with 27 variables"
   ]
  },
  {
   "cell_type": "markdown",
   "metadata": {},
   "source": [
    "## Homework 3.2\n",
    " What are the number of rows in each 'QUADRANT' ?"
   ]
  },
  {
   "cell_type": "code",
   "execution_count": 5,
   "metadata": {},
   "outputs": [
    {
     "name": "stdout",
     "output_type": "stream",
     "text": [
      "465\n"
     ]
    },
    {
     "data": {
      "text/plain": [
       "NW    195\n",
       "NE    163\n",
       "SE     84\n",
       "BN     12\n",
       "SW     11\n",
       "Name: QUADRANT, dtype: int64"
      ]
     },
     "execution_count": 5,
     "metadata": {},
     "output_type": "execute_result"
    }
   ],
   "source": [
    "qd = ccp['QUADRANT'].count()     # Gives the total number of rows in 'QUADRANT'\n",
    "print(qd)   \n",
    "\n",
    "ccp['QUADRANT'].value_counts()   # Gives the number of rows in each 'QUADRANT'"
   ]
  },
  {
   "cell_type": "markdown",
   "metadata": {},
   "source": [
    "## Homework 3.3 - Array math demonstration \n",
    "For two arrarys  \n",
    "\n",
    "a= [1,2,3,4]  type=float\n",
    "\n",
    "b= [5,6,7,8]  type=float\n",
    "\n",
    "Peform the following array operations using numpy   \n",
    "( show both operational use of numpy and functional (example addition operation => + vs addition function => numbpy.add() )\n",
    "\n",
    "### 3.3.1 addition a+b "
   ]
  },
  {
   "cell_type": "code",
   "execution_count": 6,
   "metadata": {},
   "outputs": [
    {
     "name": "stdout",
     "output_type": "stream",
     "text": [
      "float64\n",
      "[  6.   8.  10.  12.]\n"
     ]
    },
    {
     "data": {
      "text/plain": [
       "array([  6.,   8.,  10.,  12.])"
      ]
     },
     "execution_count": 6,
     "metadata": {},
     "output_type": "execute_result"
    }
   ],
   "source": [
    "import numpy as np\n",
    "\n",
    "a = np.array([1.,2.,3.,4.])\n",
    "b = np.array([5.,6.,7.,8.])\n",
    "\n",
    "print(a.dtype)              # Checks the datatype of an array variable\n",
    "print(a+b)\n",
    "\n",
    "np.add(a,b)"
   ]
  },
  {
   "cell_type": "markdown",
   "metadata": {},
   "source": [
    "### 3.3.2 subtraction a-b"
   ]
  },
  {
   "cell_type": "code",
   "execution_count": 7,
   "metadata": {},
   "outputs": [
    {
     "name": "stdout",
     "output_type": "stream",
     "text": [
      "[-4. -4. -4. -4.]\n"
     ]
    },
    {
     "data": {
      "text/plain": [
       "array([-4., -4., -4., -4.])"
      ]
     },
     "execution_count": 7,
     "metadata": {},
     "output_type": "execute_result"
    }
   ],
   "source": [
    "print(a-b)\n",
    "\n",
    "np.subtract(a,b)"
   ]
  },
  {
   "cell_type": "markdown",
   "metadata": {},
   "source": [
    "### 3.3.3 multiplication a*b"
   ]
  },
  {
   "cell_type": "code",
   "execution_count": 8,
   "metadata": {},
   "outputs": [
    {
     "name": "stdout",
     "output_type": "stream",
     "text": [
      "[  5.  12.  21.  32.]\n"
     ]
    },
    {
     "data": {
      "text/plain": [
       "array([  5.,  12.,  21.,  32.])"
      ]
     },
     "execution_count": 8,
     "metadata": {},
     "output_type": "execute_result"
    }
   ],
   "source": [
    "print(a*b)\n",
    "\n",
    "np.multiply(a,b)"
   ]
  },
  {
   "cell_type": "markdown",
   "metadata": {},
   "source": [
    "### 3.3.4 divsion a/b"
   ]
  },
  {
   "cell_type": "code",
   "execution_count": 9,
   "metadata": {},
   "outputs": [
    {
     "name": "stdout",
     "output_type": "stream",
     "text": [
      "[ 0.2         0.33333333  0.42857143  0.5       ]\n"
     ]
    },
    {
     "data": {
      "text/plain": [
       "array([ 0.2       ,  0.33333333,  0.42857143,  0.5       ])"
      ]
     },
     "execution_count": 9,
     "metadata": {},
     "output_type": "execute_result"
    }
   ],
   "source": [
    "print(a/b)\n",
    "\n",
    "np.divide(a,b)"
   ]
  },
  {
   "cell_type": "markdown",
   "metadata": {},
   "source": [
    "### 3.3.5 modulo  a%b"
   ]
  },
  {
   "cell_type": "code",
   "execution_count": 10,
   "metadata": {},
   "outputs": [
    {
     "name": "stdout",
     "output_type": "stream",
     "text": [
      "[ 1.  2.  3.  4.]\n"
     ]
    },
    {
     "data": {
      "text/plain": [
       "array([ 1.,  2.,  3.,  4.])"
      ]
     },
     "execution_count": 10,
     "metadata": {},
     "output_type": "execute_result"
    }
   ],
   "source": [
    "print(a%b)\n",
    "\n",
    "np.mod(a,b)"
   ]
  },
  {
   "cell_type": "markdown",
   "metadata": {},
   "source": [
    "### 3.3.6 power  a^b"
   ]
  },
  {
   "cell_type": "code",
   "execution_count": 11,
   "metadata": {},
   "outputs": [
    {
     "name": "stdout",
     "output_type": "stream",
     "text": [
      "[  1.00000000e+00   6.40000000e+01   2.18700000e+03   6.55360000e+04]\n"
     ]
    },
    {
     "data": {
      "text/plain": [
       "array([  1.00000000e+00,   6.40000000e+01,   2.18700000e+03,\n",
       "         6.55360000e+04])"
      ]
     },
     "execution_count": 11,
     "metadata": {},
     "output_type": "execute_result"
    }
   ],
   "source": [
    "print(pow(a,b))\n",
    "\n",
    "np.power(a,b)"
   ]
  },
  {
   "cell_type": "markdown",
   "metadata": {},
   "source": [
    "## Homework 3.4\n",
    "Find your own data and load it into a dataframe"
   ]
  },
  {
   "cell_type": "code",
   "execution_count": 27,
   "metadata": {},
   "outputs": [
    {
     "data": {
      "text/plain": [
       "  Country Code Country Name  Year  Age Group     Sex Number of Deaths Death Rate Per 100,000\n",
       "0          AFG  Afghanistan  1970   0-6 days    Male           19,241             318,292.90\n",
       "1          AFG  Afghanistan  1970   0-6 days  Female           12,600             219,544.20\n",
       "2          AFG  Afghanistan  1970   0-6 days    Both           31,840             270,200.70\n",
       "3          AFG  Afghanistan  1970  7-27 days    Male           15,939              92,701.00\n",
       "4          AFG  Afghanistan  1970  7-27 days  Female           11,287              68,594.50"
      ]
     },
     "execution_count": 27,
     "metadata": {},
     "output_type": "execute_result"
    }
   ],
   "source": [
    "# Estimates the burden of diseases, injuries, and risk factors globally and for 21 regions for 1990 and 2010 \n",
    "# via IHME (Institute for Health Metrics and Evaluations).\n",
    "\n",
    "%matplotlib inline       \n",
    "import numpy as np\n",
    "import pandas as pd      # Import 'numpy' and 'pandas' modules\n",
    "\n",
    "# Set pandas options controlling output format\n",
    "pd.set_option('display.notebook_repr_html', False)\n",
    "pd.set_option('display.max_columns', 10)\n",
    "pd.set_option('display.max_rows', 15)\n",
    "pd.set_option('display.width', 120)\n",
    "\n",
    "gbd = pd.read_csv(\"data/IHME_GBD_2010.csv\")  # Load the data\n",
    "gbd.head()                                   # Prints the first 5 observations"
   ]
  },
  {
   "cell_type": "markdown",
   "metadata": {},
   "source": [
    "## Homework 3.5\n",
    "Provide an interesting analysis of the data columns ( frequency or averages )"
   ]
  },
  {
   "cell_type": "code",
   "execution_count": 28,
   "metadata": {},
   "outputs": [
    {
     "data": {
      "text/plain": [
       "Country Code              object\n",
       "Country Name              object\n",
       "Year                       int64\n",
       "Age Group                 object\n",
       "Sex                       object\n",
       "Number of Deaths          object\n",
       "Death Rate Per 100,000    object\n",
       "dtype: object"
      ]
     },
     "execution_count": 28,
     "metadata": {},
     "output_type": "execute_result"
    }
   ],
   "source": [
    "gbd.dtypes    # Check the data types of the colums in the dataset"
   ]
  },
  {
   "cell_type": "markdown",
   "metadata": {},
   "source": [
    "I spent about 2 hours trying to convert the dtype of a column from object to int64 or float64 to get the right results. Atlast, I was able to. I don't know where I went wrong with this. "
   ]
  },
  {
   "cell_type": "code",
   "execution_count": 29,
   "metadata": {},
   "outputs": [
    {
     "name": "stdout",
     "output_type": "stream",
     "text": [
      "58905\n"
     ]
    },
    {
     "data": {
      "text/plain": [
       "Latvia                 315\n",
       "Cuba                   315\n",
       "Brazil                 315\n",
       "Antigua and Barbuda    315\n",
       "Slovakia               315\n",
       "Gabon                  315\n",
       "Nigeria                315\n",
       "                      ... \n",
       "Norway                 315\n",
       "Guatemala              315\n",
       "Uruguay                315\n",
       "Solomon Islands        315\n",
       "Cambodia               315\n",
       "Burundi                315\n",
       "Nicaragua              315\n",
       "Name: Country Name, Length: 187, dtype: int64"
      ]
     },
     "execution_count": 29,
     "metadata": {},
     "output_type": "execute_result"
    }
   ],
   "source": [
    "print(gbd['Country Name'].count())         \n",
    "gbd['Country Name'].value_counts() "
   ]
  },
  {
   "cell_type": "code",
   "execution_count": 30,
   "metadata": {},
   "outputs": [
    {
     "data": {
      "text/plain": [
       "0"
      ]
     },
     "execution_count": 30,
     "metadata": {},
     "output_type": "execute_result"
    }
   ],
   "source": [
    "gbd.duplicated().sum()              # To check for any duplicated values"
   ]
  },
  {
   "cell_type": "code",
   "execution_count": 31,
   "metadata": {},
   "outputs": [
    {
     "name": "stdout",
     "output_type": "stream",
     "text": [
      "21\n"
     ]
    }
   ],
   "source": [
    "grouped_by_age = gbd.groupby('Age Group')    \n",
    "print(grouped_by_age.ngroups)                # Gives number of groups when grouped by 'Age'"
   ]
  },
  {
   "cell_type": "code",
   "execution_count": 32,
   "metadata": {},
   "outputs": [
    {
     "name": "stdout",
     "output_type": "stream",
     "text": [
      "3\n",
      "        Country Code  Country Name   Year  Age Group  Number of Deaths  Death Rate Per 100,000\n",
      "Sex                                                                                           \n",
      "Both           19635         19635  19635      19635             19635                   19635\n",
      "Female         19635         19635  19635      19635             19635                   19635\n",
      "Male           19635         19635  19635      19635             19635                   19635\n",
      "Sex\n",
      "Both      19635\n",
      "Female    19635\n",
      "Male      19635\n",
      "dtype: int64\n"
     ]
    }
   ],
   "source": [
    "grouped_by_sex = gbd.groupby('Sex')\n",
    "print(grouped_by_sex.ngroups)        # Number of groups in the column 'Sex'\n",
    "print(grouped_by_sex.count())        # get the count of items in each column of each group\n",
    "print(grouped_by_sex.size())         # get how many items are in each group (Both, Female and Male)"
   ]
  },
  {
   "cell_type": "code",
   "execution_count": 33,
   "metadata": {},
   "outputs": [
    {
     "data": {
      "text/plain": [
       "      Country Code Country Name  Year    Age Group     Sex Number of Deaths Death Rate Per 100,000\n",
       "0              AFG  Afghanistan  1970     0-6 days    Male           19,241             318,292.90\n",
       "1              AFG  Afghanistan  1970     0-6 days  Female           12,600             219,544.20\n",
       "3              AFG  Afghanistan  1970    7-27 days    Male           15,939              92,701.00\n",
       "4              AFG  Afghanistan  1970    7-27 days  Female           11,287              68,594.50\n",
       "6              AFG  Afghanistan  1970  28-364 days    Male           37,513              15,040.10\n",
       "7              AFG  Afghanistan  1970  28-364 days  Female           32,113              13,411.80\n",
       "9              AFG  Afghanistan  1970    1-4 years    Male           36,694               4,288.20\n",
       "...            ...          ...   ...          ...     ...              ...                    ...\n",
       "58894          ZWE     Zimbabwe  2010  70-74 years  Female            4,677               5,755.00\n",
       "58896          ZWE     Zimbabwe  2010  75-79 years    Male            4,407              10,365.20\n",
       "58897          ZWE     Zimbabwe  2010  75-79 years  Female            4,720               8,713.00\n",
       "58899          ZWE     Zimbabwe  2010    80+ years    Male            5,699              17,281.60\n",
       "58900          ZWE     Zimbabwe  2010    80+ years  Female            7,606              16,179.40\n",
       "58902          ZWE     Zimbabwe  2010     All ages    Male           82,010               1,320.10\n",
       "58903          ZWE     Zimbabwe  2010     All ages  Female           77,420               1,211.20\n",
       "\n",
       "[39270 rows x 7 columns]"
      ]
     },
     "execution_count": 33,
     "metadata": {},
     "output_type": "execute_result"
    }
   ],
   "source": [
    "gbd_update1 = gbd.loc[gbd[\"Sex\"] != 'Both']\n",
    "gbd_update1       # Removed rows containing 'Sex' as 'Both' as it contained sum of 'Number of deaths' of both males and females "
   ]
  },
  {
   "cell_type": "code",
   "execution_count": 34,
   "metadata": {},
   "outputs": [
    {
     "name": "stdout",
     "output_type": "stream",
     "text": [
      "187\n",
      "187\n"
     ]
    }
   ],
   "source": [
    "grouped_by_country = gbd_update1.groupby('Country Name')\n",
    "print(grouped_by_country.ngroups)                  # Number of countries   \n",
    "\n",
    "print(gbd_update1['Country Name'].nunique())        # Number of non-null unique countries "
   ]
  },
  {
   "cell_type": "code",
   "execution_count": 35,
   "metadata": {},
   "outputs": [
    {
     "data": {
      "text/plain": [
       "    Country Code Country Name  Year    Age Group     Sex Number of Deaths Death Rate Per 100,000\n",
       "0            AFG  Afghanistan  1970     0-6 days    Male           19,241             318,292.90\n",
       "1            AFG  Afghanistan  1970     0-6 days  Female           12,600             219,544.20\n",
       "3            AFG  Afghanistan  1970    7-27 days    Male           15,939              92,701.00\n",
       "4            AFG  Afghanistan  1970    7-27 days  Female           11,287              68,594.50\n",
       "6            AFG  Afghanistan  1970  28-364 days    Male           37,513              15,040.10\n",
       "63           AFG  Afghanistan  1980     0-6 days    Male           16,152             235,901.00\n",
       "64           AFG  Afghanistan  1980     0-6 days  Female           10,838             167,053.30\n",
       "..           ...          ...   ...          ...     ...              ...                    ...\n",
       "193          AFG  Afghanistan  2000    7-27 days  Female            9,189              28,855.10\n",
       "195          AFG  Afghanistan  2000  28-364 days    Male           34,469               6,734.30\n",
       "252          AFG  Afghanistan  2010     0-6 days    Male           17,163             127,190.90\n",
       "253          AFG  Afghanistan  2010     0-6 days  Female           11,904              93,233.30\n",
       "255          AFG  Afghanistan  2010    7-27 days    Male            7,639              19,244.20\n",
       "256          AFG  Afghanistan  2010    7-27 days  Female            5,864              15,557.20\n",
       "258          AFG  Afghanistan  2010  28-364 days    Male           22,361               3,632.40\n",
       "\n",
       "[25 rows x 7 columns]"
      ]
     },
     "execution_count": 35,
     "metadata": {},
     "output_type": "execute_result"
    }
   ],
   "source": [
    "group_by_year = gbd_update1.groupby(['Year'])   # Group by Year\n",
    "group_by_year.head(5)                          # Prints first 5 rows in each year"
   ]
  },
  {
   "cell_type": "code",
   "execution_count": 36,
   "metadata": {},
   "outputs": [
    {
     "data": {
      "text/plain": [
       "Year\n",
       "1970    object\n",
       "1980    object\n",
       "1990    object\n",
       "2000    object\n",
       "2010    object\n",
       "Name: Number of Deaths, dtype: object"
      ]
     },
     "execution_count": 36,
     "metadata": {},
     "output_type": "execute_result"
    }
   ],
   "source": [
    "group_by_year['Number of Deaths'].dtype"
   ]
  },
  {
   "cell_type": "code",
   "execution_count": 37,
   "metadata": {
    "collapsed": true
   },
   "outputs": [],
   "source": [
    "grouped_by_age = gbd_update1.groupby('Age Group')            # Number of of  Deaths by Age Group"
   ]
  },
  {
   "cell_type": "code",
   "execution_count": 38,
   "metadata": {},
   "outputs": [
    {
     "data": {
      "text/plain": [
       "Age Group\n",
       "0-6 days       1870\n",
       "1-4 years      1870\n",
       "10-14 years    1870\n",
       "15-19 years    1870\n",
       "20-24 years    1870\n",
       "25-29 years    1870\n",
       "28-364 days    1870\n",
       "               ... \n",
       "60-64 years    1870\n",
       "65-69 years    1870\n",
       "7-27 days      1870\n",
       "70-74 years    1870\n",
       "75-79 years    1870\n",
       "80+ years      1870\n",
       "All ages       1870\n",
       "Length: 21, dtype: int64"
      ]
     },
     "execution_count": 38,
     "metadata": {},
     "output_type": "execute_result"
    }
   ],
   "source": [
    "grouped_by_age.size()     # get how many items are in each group"
   ]
  },
  {
   "cell_type": "code",
   "execution_count": 39,
   "metadata": {},
   "outputs": [
    {
     "data": {
      "text/plain": [
       "    Country Code Country Name  Year  Age Group     Sex Number of Deaths Death Rate Per 100,000\n",
       "3            AFG  Afghanistan  1970  7-27 days    Male           15,939              92,701.00\n",
       "4            AFG  Afghanistan  1970  7-27 days  Female           11,287              68,594.50\n",
       "66           AFG  Afghanistan  1980  7-27 days    Male           12,551              63,362.90\n",
       "67           AFG  Afghanistan  1980  7-27 days  Female            9,217              48,823.20\n",
       "129          AFG  Afghanistan  1990  7-27 days    Male            8,325              39,454.30\n",
       "130          AFG  Afghanistan  1990  7-27 days  Female            6,203              30,916.80\n",
       "192          AFG  Afghanistan  2000  7-27 days    Male           12,365              36,914.40\n",
       "193          AFG  Afghanistan  2000  7-27 days  Female            9,189              28,855.10\n",
       "255          AFG  Afghanistan  2010  7-27 days    Male            7,639              19,244.20\n",
       "256          AFG  Afghanistan  2010  7-27 days  Female            5,864              15,557.20"
      ]
     },
     "execution_count": 39,
     "metadata": {},
     "output_type": "execute_result"
    }
   ],
   "source": [
    "grouped_by_age.get_group('7-27 days')[:10]         # get the first 10 rows of data in one specific group '7-27 days'"
   ]
  },
  {
   "cell_type": "code",
   "execution_count": 40,
   "metadata": {},
   "outputs": [
    {
     "data": {
      "text/plain": [
       "            Country Code Country Name Death Rate Per 100,000 Number of Deaths   Sex  Year\n",
       "Age Group                                                                                \n",
       "0-6 days             AFG  Afghanistan             318,292.90           19,241  Male  1970\n",
       "1-4 years            AFG  Afghanistan               4,288.20           36,694  Male  1970\n",
       "10-14 years          AFG  Afghanistan                  230.8            1,723  Male  1970\n",
       "15-19 years          AFG  Afghanistan                  282.9            1,816  Male  1970\n",
       "20-24 years          AFG  Afghanistan                  392.9            2,240  Male  1970\n",
       "25-29 years          AFG  Afghanistan                  432.4            2,050  Male  1970\n",
       "28-364 days          AFG  Afghanistan              15,040.10           37,513  Male  1970\n",
       "...                  ...          ...                    ...              ...   ...   ...\n",
       "60-64 years          AFG  Afghanistan               4,229.20            4,239  Male  1970\n",
       "65-69 years          AFG  Afghanistan               5,870.40            3,968  Male  1970\n",
       "7-27 days            AFG  Afghanistan              92,701.00           15,939  Male  1970\n",
       "70-74 years          AFG  Afghanistan               8,509.70            3,435  Male  1970\n",
       "75-79 years          AFG  Afghanistan              12,048.40            2,374  Male  1970\n",
       "80+ years            AFG  Afghanistan              18,534.80            1,676  Male  1970\n",
       "All ages             AFG  Afghanistan               2,470.80          153,656  Male  1970\n",
       "\n",
       "[21 rows x 6 columns]"
      ]
     },
     "execution_count": 40,
     "metadata": {},
     "output_type": "execute_result"
    }
   ],
   "source": [
    "grouped_by_age.nth(0)            # get the 1st item in each group"
   ]
  },
  {
   "cell_type": "code",
   "execution_count": 41,
   "metadata": {},
   "outputs": [
    {
     "data": {
      "text/plain": [
       "            Country Code Country Name Death Rate Per 100,000 Number of Deaths   Sex  Year\n",
       "Age Group                                                                                \n",
       "0-6 days             AFG  Afghanistan             235,901.00           16,152  Male  1980\n",
       "1-4 years            AFG  Afghanistan               2,713.30           30,885  Male  1980\n",
       "10-14 years          AFG  Afghanistan                    321            2,912  Male  1980\n",
       "15-19 years          AFG  Afghanistan                  443.5            3,396  Male  1980\n",
       "20-24 years          AFG  Afghanistan                  599.1            3,859  Male  1980\n",
       "25-29 years          AFG  Afghanistan                  648.6            3,509  Male  1980\n",
       "28-364 days          AFG  Afghanistan              10,792.30           32,316  Male  1980\n",
       "...                  ...          ...                    ...              ...   ...   ...\n",
       "60-64 years          AFG  Afghanistan               4,813.20            5,496  Male  1980\n",
       "65-69 years          AFG  Afghanistan               6,412.20            4,944  Male  1980\n",
       "7-27 days            AFG  Afghanistan              63,362.90           12,551  Male  1980\n",
       "70-74 years          AFG  Afghanistan               8,868.60            4,111  Male  1980\n",
       "75-79 years          AFG  Afghanistan              12,059.40            2,776  Male  1980\n",
       "80+ years            AFG  Afghanistan              18,834.40            2,094  Male  1980\n",
       "All ages             AFG  Afghanistan               2,074.10          154,935  Male  1980\n",
       "\n",
       "[21 rows x 6 columns]"
      ]
     },
     "execution_count": 41,
     "metadata": {},
     "output_type": "execute_result"
    }
   ],
   "source": [
    "grouped_by_age.nth(2)            # get the 3rd item in each group"
   ]
  },
  {
   "cell_type": "code",
   "execution_count": 42,
   "metadata": {},
   "outputs": [
    {
     "data": {
      "text/plain": [
       "Age Group\n",
       "0-6 days       19,24112,60016,15210,83812,6358,63619,34513,22...\n",
       "1-4 years      36,69432,84830,88527,50618,02915,94327,29024,0...\n",
       "10-14 years    1,7231,8062,9122,4731,2321,4992,2432,9822,2962...\n",
       "15-19 years    1,8161,9023,3962,7961,7731,9163,3463,8164,0794...\n",
       "20-24 years    2,2402,6303,8593,4402,1202,3233,9504,5194,8584...\n",
       "25-29 years    2,0502,8893,5093,7101,9102,4913,5564,8774,2574...\n",
       "28-364 days    37,51332,11332,31627,19122,71119,28634,46929,4...\n",
       "                                     ...                        \n",
       "60-64 years    4,2394,5145,4965,4424,1094,3147,4758,0449,1049...\n",
       "65-69 years    3,9684,5804,9445,4493,8604,4537,0438,2968,5919...\n",
       "7-27 days      15,93911,28712,5519,2178,3256,20312,3659,1897,...\n",
       "70-74 years    3,4354,4044,1115,1873,3874,4286,1708,2557,7269...\n",
       "75-79 years    2,3743,1292,7763,7412,4303,3414,4216,2455,7407...\n",
       "80+ years      1,6762,1802,0942,8311,9192,6803,5605,1384,8656...\n",
       "All ages       153,656138,181154,935137,110103,30597,331169,5...\n",
       "Name: Number of Deaths, Length: 21, dtype: object"
      ]
     },
     "execution_count": 42,
     "metadata": {},
     "output_type": "execute_result"
    }
   ],
   "source": [
    "grouped_by_age['Number of Deaths'].sum()"
   ]
  },
  {
   "cell_type": "markdown",
   "metadata": {
    "collapsed": true
   },
   "source": [
    "## Reference and Dataset\n",
    "In the DataSets section, I used the data from 'Health' i.e, Global Burden of disease. The dataset is in the link provided below:\n",
    "https://public.tableau.com/en-us/s/resources"
   ]
  },
  {
   "cell_type": "code",
   "execution_count": null,
   "metadata": {
    "collapsed": true
   },
   "outputs": [],
   "source": []
  },
  {
   "cell_type": "code",
   "execution_count": null,
   "metadata": {
    "collapsed": true
   },
   "outputs": [],
   "source": []
  },
  {
   "cell_type": "code",
   "execution_count": null,
   "metadata": {
    "collapsed": true
   },
   "outputs": [],
   "source": []
  },
  {
   "cell_type": "code",
   "execution_count": null,
   "metadata": {
    "collapsed": true
   },
   "outputs": [],
   "source": []
  }
 ],
 "metadata": {
  "kernelspec": {
   "display_name": "Python 3",
   "language": "python",
   "name": "python3"
  },
  "language_info": {
   "codemirror_mode": {
    "name": "ipython",
    "version": 3
   },
   "file_extension": ".py",
   "mimetype": "text/x-python",
   "name": "python",
   "nbconvert_exporter": "python",
   "pygments_lexer": "ipython3",
   "version": "3.6.1"
  }
 },
 "nbformat": 4,
 "nbformat_minor": 1
}
