{
 "cells": [
  {
   "cell_type": "markdown",
   "metadata": {},
   "source": [
    "Estimates the burden of diseases, injuries, and risk factors globally and for 21 regions for 1990 and 2010 via IHME (Institute for Health Metrics and Evaluations)."
   ]
  },
  {
   "cell_type": "code",
   "execution_count": 1,
   "metadata": {},
   "outputs": [
    {
     "data": {
      "text/plain": [
       "  Country Code Country Name  Year  Age Group     Sex Number of Deaths Death Rate Per 100,000\n",
       "0          AFG  Afghanistan  1970   0-6 days    Male           19,241             318,292.90\n",
       "1          AFG  Afghanistan  1970   0-6 days  Female           12,600             219,544.20\n",
       "2          AFG  Afghanistan  1970   0-6 days    Both           31,840             270,200.70\n",
       "3          AFG  Afghanistan  1970  7-27 days    Male           15,939              92,701.00\n",
       "4          AFG  Afghanistan  1970  7-27 days  Female           11,287              68,594.50"
      ]
     },
     "execution_count": 1,
     "metadata": {},
     "output_type": "execute_result"
    }
   ],
   "source": [
    "%matplotlib inline       \n",
    "import numpy as np\n",
    "import pandas as pd      # Import 'numpy' and 'pandas' modules\n",
    "\n",
    "# Set pandas options controlling output format\n",
    "pd.set_option('display.notebook_repr_html', False)\n",
    "pd.set_option('display.max_columns', 10)\n",
    "pd.set_option('display.max_rows', 15)\n",
    "pd.set_option('display.width', 120)\n",
    "\n",
    "gbd = pd.read_csv(\"data/IHME_GBD_2010.csv\")  # Load the data\n",
    "gbd.head()                                   # Prints the first 5 observations"
   ]
  },
  {
   "cell_type": "code",
   "execution_count": 2,
   "metadata": {},
   "outputs": [
    {
     "data": {
      "text/plain": [
       "Country Code              object\n",
       "Country Name              object\n",
       "Year                       int64\n",
       "Age Group                 object\n",
       "Sex                       object\n",
       "Number of Deaths          object\n",
       "Death Rate Per 100,000    object\n",
       "dtype: object"
      ]
     },
     "execution_count": 2,
     "metadata": {},
     "output_type": "execute_result"
    }
   ],
   "source": [
    "gbd.dtypes    # Check the data types of the colums in the dataset"
   ]
  },
  {
   "cell_type": "markdown",
   "metadata": {},
   "source": [
    "Converted the dtype of a column from object to float64 to get the right results. "
   ]
  },
  {
   "cell_type": "code",
   "execution_count": 3,
   "metadata": {},
   "outputs": [
    {
     "data": {
      "text/plain": [
       "  Country Code Country Name  Year  Age Group     Sex  Number of Deaths  Death Rate Per 100,000\n",
       "0          AFG  Afghanistan  1970   0-6 days    Male             19241                318292.9\n",
       "1          AFG  Afghanistan  1970   0-6 days  Female             12600                219544.2\n",
       "2          AFG  Afghanistan  1970   0-6 days    Both             31840                270200.7\n",
       "3          AFG  Afghanistan  1970  7-27 days    Male             15939                 92701.0\n",
       "4          AFG  Afghanistan  1970  7-27 days  Female             11287                 68594.5"
      ]
     },
     "execution_count": 3,
     "metadata": {},
     "output_type": "execute_result"
    }
   ],
   "source": [
    "gbd['Number of Deaths'] = gbd['Number of Deaths'].str.replace(',', '')\n",
    "gbd['Death Rate Per 100,000'] = gbd['Death Rate Per 100,000'].str.replace(',', '')\n",
    "gbd['Number of Deaths'] = pd.to_numeric(gbd['Number of Deaths'])\n",
    "gbd['Death Rate Per 100,000'] = pd.to_numeric(gbd['Death Rate Per 100,000'])\n",
    "\n",
    "gbd.head()"
   ]
  },
  {
   "cell_type": "code",
   "execution_count": 4,
   "metadata": {},
   "outputs": [
    {
     "data": {
      "text/plain": [
       "Country Code               object\n",
       "Country Name               object\n",
       "Year                        int64\n",
       "Age Group                  object\n",
       "Sex                        object\n",
       "Number of Deaths            int64\n",
       "Death Rate Per 100,000    float64\n",
       "dtype: object"
      ]
     },
     "execution_count": 4,
     "metadata": {},
     "output_type": "execute_result"
    }
   ],
   "source": [
    "gbd.dtypes "
   ]
  },
  {
   "cell_type": "code",
   "execution_count": 5,
   "metadata": {},
   "outputs": [
    {
     "name": "stdout",
     "output_type": "stream",
     "text": [
      "Index(['country_code', 'country_name', 'year', 'age_group', 'sex', 'deaths', 'death_rate'], dtype='object')\n"
     ]
    }
   ],
   "source": [
    "# Rename columns\n",
    "gbd.columns = ['country_code', 'country_name', 'year', 'age_group', 'sex', 'deaths', 'death_rate']\n",
    "print(gbd.columns)"
   ]
  },
  {
   "cell_type": "code",
   "execution_count": 7,
   "metadata": {},
   "outputs": [
    {
     "data": {
      "text/plain": [
       "0"
      ]
     },
     "execution_count": 7,
     "metadata": {},
     "output_type": "execute_result"
    }
   ],
   "source": [
    "gbd.duplicated().sum()              # To check for any duplicated values"
   ]
  },
  {
   "cell_type": "code",
   "execution_count": 8,
   "metadata": {},
   "outputs": [
    {
     "name": "stdout",
     "output_type": "stream",
     "text": [
      "21\n"
     ]
    }
   ],
   "source": [
    "grouped_by_age = gbd.groupby('age_group')    \n",
    "print(grouped_by_age.ngroups)                # Gives number of groups when grouped by 'Age'"
   ]
  },
  {
   "cell_type": "code",
   "execution_count": 9,
   "metadata": {},
   "outputs": [
    {
     "name": "stdout",
     "output_type": "stream",
     "text": [
      "3\n",
      "        country_code  country_name   year  age_group  deaths  death_rate\n",
      "sex                                                                     \n",
      "Both           19635         19635  19635      19635   19635       19635\n",
      "Female         19635         19635  19635      19635   19635       19635\n",
      "Male           19635         19635  19635      19635   19635       19635\n",
      "sex\n",
      "Both      19635\n",
      "Female    19635\n",
      "Male      19635\n",
      "dtype: int64\n"
     ]
    }
   ],
   "source": [
    "grouped_by_sex = gbd.groupby('sex')\n",
    "print(grouped_by_sex.ngroups)        # Number of groups in the column 'Sex'\n",
    "print(grouped_by_sex.count())        # get the count of items in each column of each group\n",
    "print(grouped_by_sex.size())         # get how many items are in each group (Both, Female and Male)"
   ]
  },
  {
   "cell_type": "code",
   "execution_count": 6,
   "metadata": {},
   "outputs": [
    {
     "data": {
      "text/plain": [
       "sex\n",
       "Both      474477838\n",
       "Female    218537465\n",
       "Male      255940462\n",
       "Name: deaths, dtype: int64"
      ]
     },
     "execution_count": 6,
     "metadata": {},
     "output_type": "execute_result"
    }
   ],
   "source": [
    "grouped_by_sex = gbd.groupby('sex')\n",
    "deaths_by_sex = grouped_by_sex['deaths'].sum()\n",
    "deaths_by_sex"
   ]
  },
  {
   "cell_type": "code",
   "execution_count": 10,
   "metadata": {},
   "outputs": [
    {
     "data": {
      "text/plain": [
       "country_name\n",
       "Afghanistan            5687183\n",
       "Albania                 349413\n",
       "Algeria                3322568\n",
       "Andorra                   8215\n",
       "Angola                 3405986\n",
       "Antigua and Barbuda       8856\n",
       "Argentina              5021838\n",
       "                        ...   \n",
       "Uzbekistan             2997697\n",
       "Vanuatu                  26107\n",
       "Venezuela              1891674\n",
       "Viet Nam               8947408\n",
       "Yemen                  2697944\n",
       "Zambia                 2325708\n",
       "Zimbabwe               2162430\n",
       "Name: deaths, Length: 187, dtype: int64"
      ]
     },
     "execution_count": 10,
     "metadata": {},
     "output_type": "execute_result"
    }
   ],
   "source": [
    "grouped_by_country = gbd.groupby('country_name')\n",
    "deaths_by_country = grouped_by_country['deaths'].sum()\n",
    "deaths_by_country"
   ]
  },
  {
   "cell_type": "code",
   "execution_count": 11,
   "metadata": {},
   "outputs": [
    {
     "data": {
      "text/plain": [
       "age_group\n",
       "0-6 days        29879130\n",
       "1-4 years       36682766\n",
       "10-14 years      4514832\n",
       "15-19 years      7168091\n",
       "20-24 years      9373205\n",
       "25-29 years      9879028\n",
       "28-364 days     35717036\n",
       "                 ...    \n",
       "60-64 years     31214264\n",
       "65-69 years     36202345\n",
       "7-27 days       12791656\n",
       "70-74 years     41089598\n",
       "75-79 years     41247964\n",
       "80+ years       75488584\n",
       "All ages       474477841\n",
       "Name: deaths, Length: 21, dtype: int64"
      ]
     },
     "execution_count": 11,
     "metadata": {},
     "output_type": "execute_result"
    }
   ],
   "source": [
    "grouped_by_age = gbd.groupby('age_group')\n",
    "deaths_by_age = grouped_by_age['deaths'].sum()\n",
    "deaths_by_age"
   ]
  },
  {
   "cell_type": "code",
   "execution_count": 12,
   "metadata": {},
   "outputs": [
    {
     "data": {
      "text/plain": [
       "year\n",
       "1970    172866152\n",
       "1980    175767051\n",
       "1990    185702142\n",
       "2000    204052611\n",
       "2010    210567809\n",
       "Name: deaths, dtype: int64"
      ]
     },
     "execution_count": 12,
     "metadata": {},
     "output_type": "execute_result"
    }
   ],
   "source": [
    "grouped_by_year = gbd.groupby('year')\n",
    "deaths_by_year = grouped_by_year['deaths'].sum()\n",
    "deaths_by_year"
   ]
  },
  {
   "cell_type": "code",
   "execution_count": 13,
   "metadata": {},
   "outputs": [
    {
     "data": {
      "text/plain": [
       "  country_code country_name  year    age_group     sex  deaths  death_rate\n",
       "0          AFG  Afghanistan  1970     0-6 days    Male   19241    318292.9\n",
       "1          AFG  Afghanistan  1970     0-6 days  Female   12600    219544.2\n",
       "3          AFG  Afghanistan  1970    7-27 days    Male   15939     92701.0\n",
       "4          AFG  Afghanistan  1970    7-27 days  Female   11287     68594.5\n",
       "6          AFG  Afghanistan  1970  28-364 days    Male   37513     15040.1"
      ]
     },
     "execution_count": 13,
     "metadata": {},
     "output_type": "execute_result"
    }
   ],
   "source": [
    "# Removed rows containing 'Sex' as 'Both' as it contained sum of 'Number of deaths' of both males and females\n",
    "\n",
    "gbd = gbd.loc[gbd['sex'] != 'Both']\n",
    "gbd = gbd.loc[gbd['age_group'] != 'All ages']\n",
    "gbd.head()      # Removed rows containing 'Sex' as 'Both' as it contained sum of 'Number of deaths' of both males and females"
   ]
  },
  {
   "cell_type": "code",
   "execution_count": 15,
   "metadata": {},
   "outputs": [
    {
     "name": "stdout",
     "output_type": "stream",
     "text": [
      "187\n",
      "187\n"
     ]
    }
   ],
   "source": [
    "grouped_by_country = gbd.groupby('country_name')\n",
    "print(grouped_by_country.ngroups)                  # Number of countries   \n",
    "\n",
    "print(gbd['country_name'].nunique())        # Number of non-null unique countries "
   ]
  },
  {
   "cell_type": "code",
   "execution_count": 16,
   "metadata": {},
   "outputs": [
    {
     "data": {
      "text/plain": [
       "    country_code country_name  year    age_group     sex  deaths  death_rate\n",
       "0            AFG  Afghanistan  1970     0-6 days    Male   19241    318292.9\n",
       "1            AFG  Afghanistan  1970     0-6 days  Female   12600    219544.2\n",
       "3            AFG  Afghanistan  1970    7-27 days    Male   15939     92701.0\n",
       "4            AFG  Afghanistan  1970    7-27 days  Female   11287     68594.5\n",
       "6            AFG  Afghanistan  1970  28-364 days    Male   37513     15040.1\n",
       "63           AFG  Afghanistan  1980     0-6 days    Male   16152    235901.0\n",
       "64           AFG  Afghanistan  1980     0-6 days  Female   10838    167053.3\n",
       "..           ...          ...   ...          ...     ...     ...         ...\n",
       "193          AFG  Afghanistan  2000    7-27 days  Female    9189     28855.1\n",
       "195          AFG  Afghanistan  2000  28-364 days    Male   34469      6734.3\n",
       "252          AFG  Afghanistan  2010     0-6 days    Male   17163    127190.9\n",
       "253          AFG  Afghanistan  2010     0-6 days  Female   11904     93233.3\n",
       "255          AFG  Afghanistan  2010    7-27 days    Male    7639     19244.2\n",
       "256          AFG  Afghanistan  2010    7-27 days  Female    5864     15557.2\n",
       "258          AFG  Afghanistan  2010  28-364 days    Male   22361      3632.4\n",
       "\n",
       "[25 rows x 7 columns]"
      ]
     },
     "execution_count": 16,
     "metadata": {},
     "output_type": "execute_result"
    }
   ],
   "source": [
    "group_by_year = gbd.groupby(['year'])   # Group by Year\n",
    "group_by_year.head(5)                          # Prints first 5 rows in each year"
   ]
  },
  {
   "cell_type": "code",
   "execution_count": 18,
   "metadata": {},
   "outputs": [
    {
     "data": {
      "text/plain": [
       "year\n",
       "1970    int64\n",
       "1980    int64\n",
       "1990    int64\n",
       "2000    int64\n",
       "2010    int64\n",
       "Name: deaths, dtype: object"
      ]
     },
     "execution_count": 18,
     "metadata": {},
     "output_type": "execute_result"
    }
   ],
   "source": [
    "group_by_year['deaths'].dtype"
   ]
  },
  {
   "cell_type": "code",
   "execution_count": 19,
   "metadata": {},
   "outputs": [
    {
     "data": {
      "text/plain": [
       "age_group\n",
       "0-6 days       2805\n",
       "1-4 years      2805\n",
       "10-14 years    2805\n",
       "15-19 years    2805\n",
       "20-24 years    2805\n",
       "25-29 years    2805\n",
       "28-364 days    2805\n",
       "               ... \n",
       "60-64 years    2805\n",
       "65-69 years    2805\n",
       "7-27 days      2805\n",
       "70-74 years    2805\n",
       "75-79 years    2805\n",
       "80+ years      2805\n",
       "All ages       2805\n",
       "Length: 21, dtype: int64"
      ]
     },
     "execution_count": 19,
     "metadata": {},
     "output_type": "execute_result"
    }
   ],
   "source": [
    "grouped_by_age.size()     # get how many items are in each group"
   ]
  },
  {
   "cell_type": "code",
   "execution_count": 20,
   "metadata": {},
   "outputs": [
    {
     "data": {
      "text/plain": [
       "    country_code country_name  year  age_group     sex  deaths  death_rate\n",
       "3            AFG  Afghanistan  1970  7-27 days    Male   15939     92701.0\n",
       "4            AFG  Afghanistan  1970  7-27 days  Female   11287     68594.5\n",
       "5            AFG  Afghanistan  1970  7-27 days    Both   27226     80912.5\n",
       "66           AFG  Afghanistan  1980  7-27 days    Male   12551     63362.9\n",
       "67           AFG  Afghanistan  1980  7-27 days  Female    9217     48823.2\n",
       "68           AFG  Afghanistan  1980  7-27 days    Both   21768     56266.3\n",
       "129          AFG  Afghanistan  1990  7-27 days    Male    8325     39454.3\n",
       "130          AFG  Afghanistan  1990  7-27 days  Female    6203     30916.8\n",
       "131          AFG  Afghanistan  1990  7-27 days    Both   14528     35293.1\n",
       "192          AFG  Afghanistan  2000  7-27 days    Male   12365     36914.4"
      ]
     },
     "execution_count": 20,
     "metadata": {},
     "output_type": "execute_result"
    }
   ],
   "source": [
    "grouped_by_age.get_group('7-27 days')[:10]         # get the first 10 rows of data in one specific group '7-27 days'"
   ]
  },
  {
   "cell_type": "code",
   "execution_count": 21,
   "metadata": {},
   "outputs": [
    {
     "data": {
      "text/plain": [
       "            country_code country_name  death_rate  deaths   sex  year\n",
       "age_group                                                            \n",
       "0-6 days             AFG  Afghanistan    318292.9   19241  Male  1970\n",
       "1-4 years            AFG  Afghanistan      4288.2   36694  Male  1970\n",
       "10-14 years          AFG  Afghanistan       230.8    1723  Male  1970\n",
       "15-19 years          AFG  Afghanistan       282.9    1816  Male  1970\n",
       "20-24 years          AFG  Afghanistan       392.9    2240  Male  1970\n",
       "25-29 years          AFG  Afghanistan       432.4    2050  Male  1970\n",
       "28-364 days          AFG  Afghanistan     15040.1   37513  Male  1970\n",
       "...                  ...          ...         ...     ...   ...   ...\n",
       "60-64 years          AFG  Afghanistan      4229.2    4239  Male  1970\n",
       "65-69 years          AFG  Afghanistan      5870.4    3968  Male  1970\n",
       "7-27 days            AFG  Afghanistan     92701.0   15939  Male  1970\n",
       "70-74 years          AFG  Afghanistan      8509.7    3435  Male  1970\n",
       "75-79 years          AFG  Afghanistan     12048.4    2374  Male  1970\n",
       "80+ years            AFG  Afghanistan     18534.8    1676  Male  1970\n",
       "All ages             AFG  Afghanistan      2470.8  153656  Male  1970\n",
       "\n",
       "[21 rows x 6 columns]"
      ]
     },
     "execution_count": 21,
     "metadata": {},
     "output_type": "execute_result"
    }
   ],
   "source": [
    "grouped_by_age.nth(0)            # get the 1st item in each group"
   ]
  },
  {
   "cell_type": "code",
   "execution_count": 22,
   "metadata": {},
   "outputs": [
    {
     "data": {
      "text/plain": [
       "            country_code country_name  death_rate  deaths   sex  year\n",
       "age_group                                                            \n",
       "0-6 days             AFG  Afghanistan    270200.7   31840  Both  1970\n",
       "1-4 years            AFG  Afghanistan      4158.6   69542  Both  1970\n",
       "10-14 years          AFG  Afghanistan       245.9    3529  Both  1970\n",
       "15-19 years          AFG  Afghanistan       302.8    3718  Both  1970\n",
       "20-24 years          AFG  Afghanistan       447.9    4870  Both  1970\n",
       "25-29 years          AFG  Afghanistan       547.0    4939  Both  1970\n",
       "28-364 days          AFG  Afghanistan     14242.6   69626  Both  1970\n",
       "...                  ...          ...         ...     ...   ...   ...\n",
       "60-64 years          AFG  Afghanistan      4340.1    8752  Both  1970\n",
       "65-69 years          AFG  Afghanistan      6205.6    8547  Both  1970\n",
       "7-27 days            AFG  Afghanistan     80912.5   27226  Both  1970\n",
       "70-74 years          AFG  Afghanistan      9419.7    7839  Both  1970\n",
       "75-79 years          AFG  Afghanistan     13381.8    5503  Both  1970\n",
       "80+ years            AFG  Afghanistan     19951.4    3856  Both  1970\n",
       "All ages             AFG  Afghanistan      2432.3  291837  Both  1970\n",
       "\n",
       "[21 rows x 6 columns]"
      ]
     },
     "execution_count": 22,
     "metadata": {},
     "output_type": "execute_result"
    }
   ],
   "source": [
    "grouped_by_age.nth(2)            # get the 3rd item in each group"
   ]
  },
  {
   "cell_type": "code",
   "execution_count": null,
   "metadata": {
    "collapsed": true
   },
   "outputs": [],
   "source": []
  },
  {
   "cell_type": "markdown",
   "metadata": {
    "collapsed": true
   },
   "source": [
    "## Reference and Dataset\n",
    "In the DataSets section, I used the data from 'Health' i.e, Global Burden of disease. The dataset is in the link provided below:\n",
    "https://public.tableau.com/en-us/s/resources"
   ]
  }
 ],
 "metadata": {
  "kernelspec": {
   "display_name": "Python 3",
   "language": "python",
   "name": "python3"
  },
  "language_info": {
   "codemirror_mode": {
    "name": "ipython",
    "version": 3
   },
   "file_extension": ".py",
   "mimetype": "text/x-python",
   "name": "python",
   "nbconvert_exporter": "python",
   "pygments_lexer": "ipython3",
   "version": "3.6.1"
  }
 },
 "nbformat": 4,
 "nbformat_minor": 1
}
