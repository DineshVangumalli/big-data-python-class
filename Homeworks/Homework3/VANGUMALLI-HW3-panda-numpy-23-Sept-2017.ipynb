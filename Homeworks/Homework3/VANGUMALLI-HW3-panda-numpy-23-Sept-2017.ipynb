{
 "cells": [
  {
   "cell_type": "markdown",
   "metadata": {},
   "source": [
    "### Movie Database \n",
    "This dataset is the IMDB 5000 Movie Dataset from Kaggle. <br>\n",
    "\n",
    "https://www.kaggle.com/deepmatrix/imdb-5000-movie-dataset"
   ]
  },
  {
   "cell_type": "code",
   "execution_count": 1,
   "metadata": {},
   "outputs": [
    {
     "data": {
      "text/plain": [
       "   color      director_name  num_critic_for_reviews  duration  director_facebook_likes         ...           \\\n",
       "0  Color      James Cameron                   723.0     178.0                      0.0         ...            \n",
       "1  Color     Gore Verbinski                   302.0     169.0                    563.0         ...            \n",
       "2  Color         Sam Mendes                   602.0     148.0                      0.0         ...            \n",
       "3  Color  Christopher Nolan                   813.0     164.0                  22000.0         ...            \n",
       "4    NaN        Doug Walker                     NaN       NaN                    131.0         ...            \n",
       "\n",
       "   title_year actor_2_facebook_likes  imdb_score  aspect_ratio movie_facebook_likes  \n",
       "0      2009.0                  936.0         7.9          1.78                33000  \n",
       "1      2007.0                 5000.0         7.1          2.35                    0  \n",
       "2      2015.0                  393.0         6.8          2.35                85000  \n",
       "3      2012.0                23000.0         8.5          2.35               164000  \n",
       "4         NaN                   12.0         7.1           NaN                    0  \n",
       "\n",
       "[5 rows x 28 columns]"
      ]
     },
     "execution_count": 1,
     "metadata": {},
     "output_type": "execute_result"
    }
   ],
   "source": [
    "%matplotlib inline       \n",
    "import numpy as np\n",
    "import pandas as pd      # Import 'numpy' and 'pandas' modules\n",
    "\n",
    "# Set pandas options controlling output format\n",
    "pd.set_option('display.notebook_repr_html', False)\n",
    "pd.set_option('display.max_columns', 10)\n",
    "pd.set_option('display.max_rows', 15)\n",
    "pd.set_option('display.width', 120)\n",
    "\n",
    "movie = pd.read_csv(\"data/movie_metadata.csv\")    #reads data to current_data\n",
    "movie.head()                                      #prints first five rows of data"
   ]
  },
  {
   "cell_type": "code",
   "execution_count": 2,
   "metadata": {},
   "outputs": [
    {
     "data": {
      "text/plain": [
       "Index(['color', 'director_name', 'num_critic_for_reviews', 'duration', 'director_facebook_likes',\n",
       "       'actor_3_facebook_likes', 'actor_2_name', 'actor_1_facebook_likes', 'gross', 'genres', 'actor_1_name',\n",
       "       'movie_title', 'num_voted_users', 'cast_total_facebook_likes', 'actor_3_name', 'facenumber_in_poster',\n",
       "       'plot_keywords', 'movie_imdb_link', 'num_user_for_reviews', 'language', 'country', 'content_rating', 'budget',\n",
       "       'title_year', 'actor_2_facebook_likes', 'imdb_score', 'aspect_ratio', 'movie_facebook_likes'],\n",
       "      dtype='object')"
      ]
     },
     "execution_count": 2,
     "metadata": {},
     "output_type": "execute_result"
    }
   ],
   "source": [
    "movie.columns"
   ]
  },
  {
   "cell_type": "code",
   "execution_count": 3,
   "metadata": {},
   "outputs": [
    {
     "data": {
      "text/plain": [
       "       num_critic_for_reviews     duration  director_facebook_likes  actor_3_facebook_likes  actor_1_facebook_likes  \\\n",
       "count             4993.000000  5028.000000              4939.000000             5020.000000             5036.000000   \n",
       "mean               140.194272   107.201074               686.509212              645.009761             6560.047061   \n",
       "std                121.601675    25.197441              2813.328607             1665.041728            15020.759120   \n",
       "min                  1.000000     7.000000                 0.000000                0.000000                0.000000   \n",
       "25%                 50.000000    93.000000                 7.000000              133.000000              614.000000   \n",
       "50%                110.000000   103.000000                49.000000              371.500000              988.000000   \n",
       "75%                195.000000   118.000000               194.500000              636.000000            11000.000000   \n",
       "max                813.000000   511.000000             23000.000000            23000.000000           640000.000000   \n",
       "\n",
       "               ...            title_year  actor_2_facebook_likes   imdb_score  aspect_ratio  movie_facebook_likes  \n",
       "count          ...           4935.000000             5030.000000  5043.000000   4714.000000           5043.000000  \n",
       "mean           ...           2002.470517             1651.754473     6.442138      2.220403           7525.964505  \n",
       "std            ...             12.474599             4042.438863     1.125116      1.385113          19320.445110  \n",
       "min            ...           1916.000000                0.000000     1.600000      1.180000              0.000000  \n",
       "25%            ...           1999.000000              281.000000     5.800000      1.850000              0.000000  \n",
       "50%            ...           2005.000000              595.000000     6.600000      2.350000            166.000000  \n",
       "75%            ...           2011.000000              918.000000     7.200000      2.350000           3000.000000  \n",
       "max            ...           2016.000000           137000.000000     9.500000     16.000000         349000.000000  \n",
       "\n",
       "[8 rows x 16 columns]"
      ]
     },
     "execution_count": 3,
     "metadata": {},
     "output_type": "execute_result"
    }
   ],
   "source": [
    "movie.describe()           # Gives the statistics of all the numeric columns in the dataset"
   ]
  },
  {
   "cell_type": "code",
   "execution_count": 4,
   "metadata": {},
   "outputs": [
    {
     "data": {
      "text/plain": [
       "0                                                 Avatar \n",
       "1               Pirates of the Caribbean: At World's End \n",
       "2                                                Spectre \n",
       "3                                  The Dark Knight Rises \n",
       "4       Star Wars: Episode VII - The Force Awakens    ...\n",
       "5                                            John Carter \n",
       "6                                           Spider-Man 3 \n",
       "                              ...                        \n",
       "5036                                     The Mongol King \n",
       "5037                                           Newlyweds \n",
       "5038                             Signed Sealed Delivered \n",
       "5039                           The Following             \n",
       "5040                                A Plague So Pleasant \n",
       "5041                                    Shanghai Calling \n",
       "5042                                   My Date with Drew \n",
       "Name: movie_title, Length: 5043, dtype: object"
      ]
     },
     "execution_count": 4,
     "metadata": {},
     "output_type": "execute_result"
    }
   ],
   "source": [
    "movie['movie_title']        # List of all titles of the movies"
   ]
  },
  {
   "cell_type": "code",
   "execution_count": 5,
   "metadata": {},
   "outputs": [
    {
     "data": {
      "text/plain": [
       "(5043, 28)"
      ]
     },
     "execution_count": 5,
     "metadata": {},
     "output_type": "execute_result"
    }
   ],
   "source": [
    "movie.shape        # There are 5043 observations and 28 variables in the dataset"
   ]
  },
  {
   "cell_type": "code",
   "execution_count": 6,
   "metadata": {},
   "outputs": [
    {
     "data": {
      "text/plain": [
       "45"
      ]
     },
     "execution_count": 6,
     "metadata": {},
     "output_type": "execute_result"
    }
   ],
   "source": [
    "movie.duplicated().sum()     # Number of movies that were duplicated"
   ]
  },
  {
   "cell_type": "code",
   "execution_count": 7,
   "metadata": {},
   "outputs": [
    {
     "data": {
      "text/plain": [
       "137                          The Legend of Tarzan \n",
       "187     The Twilight Saga: Breaking Dawn - Part 2 \n",
       "204                           Godzilla Resurgence \n",
       "303                                           Pan \n",
       "389                                Fantastic Four \n",
       "395                      The Fast and the Furious \n",
       "590                                      Hercules \n",
       "                           ...                    \n",
       "4631                                       Trance \n",
       "4769                                   Crossroads \n",
       "4882                              The Love Letter \n",
       "4927                                  The Calling \n",
       "4942                                   Cat People \n",
       "4950                            A Dog's Breakfast \n",
       "4951                     Night of the Living Dead \n",
       "Name: movie_title, Length: 45, dtype: object"
      ]
     },
     "execution_count": 7,
     "metadata": {},
     "output_type": "execute_result"
    }
   ],
   "source": [
    "movie[movie.duplicated()]['movie_title']    # List of movies which are duplicated"
   ]
  },
  {
   "cell_type": "code",
   "execution_count": 8,
   "metadata": {},
   "outputs": [
    {
     "data": {
      "text/plain": [
       "(4998, 28)"
      ]
     },
     "execution_count": 8,
     "metadata": {},
     "output_type": "execute_result"
    }
   ],
   "source": [
    "movie.drop_duplicates(inplace=True)     # Drop the duplicates\n",
    "movie.shape                             "
   ]
  },
  {
   "cell_type": "code",
   "execution_count": 9,
   "metadata": {},
   "outputs": [
    {
     "data": {
      "text/plain": [
       "0"
      ]
     },
     "execution_count": 9,
     "metadata": {},
     "output_type": "execute_result"
    }
   ],
   "source": [
    "movie.duplicated().sum()"
   ]
  },
  {
   "cell_type": "markdown",
   "metadata": {},
   "source": [
    "#### Top movies country wise based on imdb_score"
   ]
  },
  {
   "cell_type": "code",
   "execution_count": 10,
   "metadata": {},
   "outputs": [
    {
     "data": {
      "text/plain": [
       "0"
      ]
     },
     "execution_count": 10,
     "metadata": {},
     "output_type": "execute_result"
    }
   ],
   "source": [
    "movie['imdb_score'].isnull().sum()        # Check if any movie score is null"
   ]
  },
  {
   "cell_type": "code",
   "execution_count": 11,
   "metadata": {},
   "outputs": [
    {
     "data": {
      "text/plain": [
       "5"
      ]
     },
     "execution_count": 11,
     "metadata": {},
     "output_type": "execute_result"
    }
   ],
   "source": [
    "movie['country'].isnull().sum()        # Check NaN entries in country column"
   ]
  },
  {
   "cell_type": "code",
   "execution_count": 45,
   "metadata": {
    "collapsed": true
   },
   "outputs": [],
   "source": [
    "movie.country = movie.country.fillna('Not Available')   # Replace null values in country with a string none given"
   ]
  },
  {
   "cell_type": "code",
   "execution_count": 46,
   "metadata": {},
   "outputs": [
    {
     "data": {
      "text/plain": [
       "0"
      ]
     },
     "execution_count": 46,
     "metadata": {},
     "output_type": "execute_result"
    }
   ],
   "source": [
    "movie['country'].isnull().sum()"
   ]
  },
  {
   "cell_type": "code",
   "execution_count": 47,
   "metadata": {},
   "outputs": [
    {
     "data": {
      "text/plain": [
       "actor_1_name\n",
       "Johnny Depp          3.688020e+09\n",
       "Harrison Ford        3.391556e+09\n",
       "Tom Hanks            3.264559e+09\n",
       "Tom Cruise           2.987622e+09\n",
       "J.K. Simmons         2.856407e+09\n",
       "Will Smith           2.762618e+09\n",
       "Leonardo DiCaprio    2.640582e+09\n",
       "Robert Downey Jr.    2.456990e+09\n",
       "Jennifer Lawrence    2.367856e+09\n",
       "Robin Williams       2.297193e+09\n",
       "Name: gross, dtype: float64"
      ]
     },
     "execution_count": 47,
     "metadata": {},
     "output_type": "execute_result"
    }
   ],
   "source": [
    "# Top 10 actors by revenue\n",
    "\n",
    "top_10_actors = movie.groupby('actor_1_name')['gross'].sum().sort_values(ascending=False).head(10)\n",
    "top_10_actors"
   ]
  },
  {
   "cell_type": "code",
   "execution_count": 48,
   "metadata": {},
   "outputs": [
    {
     "data": {
      "text/plain": [
       "director_name\n",
       "Steven Spielberg     4.114233e+09\n",
       "Peter Jackson        2.592969e+09\n",
       "Michael Bay          2.231243e+09\n",
       "Tim Burton           2.071275e+09\n",
       "Sam Raimi            2.049549e+09\n",
       "James Cameron        1.948126e+09\n",
       "Christopher Nolan    1.813228e+09\n",
       "George Lucas         1.741418e+09\n",
       "Robert Zemeckis      1.619309e+09\n",
       "Chris Columbus       1.618708e+09\n",
       "Name: gross, dtype: float64"
      ]
     },
     "execution_count": 48,
     "metadata": {},
     "output_type": "execute_result"
    }
   ],
   "source": [
    "# Top 10 directors by revenue\n",
    "\n",
    "top_10_directors = movie.groupby('director_name')['gross'].sum().sort_values(ascending=False).head(10)\n",
    "top_10_directors\n"
   ]
  },
  {
   "cell_type": "code",
   "execution_count": 16,
   "metadata": {},
   "outputs": [
    {
     "data": {
      "text/plain": [
       "array(['Color', nan, ' Black and White'], dtype=object)"
      ]
     },
     "execution_count": 16,
     "metadata": {},
     "output_type": "execute_result"
    }
   ],
   "source": [
    "movie.color.unique()         # What type of movies are present, i.e color or black and white"
   ]
  },
  {
   "cell_type": "code",
   "execution_count": 20,
   "metadata": {},
   "outputs": [
    {
     "data": {
      "text/plain": [
       "68"
      ]
     },
     "execution_count": 20,
     "metadata": {},
     "output_type": "execute_result"
    }
   ],
   "source": [
    "movie[movie['duration'] >= 180].shape[0]   # Number of movies having a duration of more than 3 hours"
   ]
  },
  {
   "cell_type": "code",
   "execution_count": 21,
   "metadata": {},
   "outputs": [
    {
     "data": {
      "text/plain": [
       "250"
      ]
     },
     "execution_count": 21,
     "metadata": {},
     "output_type": "execute_result"
    }
   ],
   "source": [
    "movie[movie['imdb_score'] > 8.0].shape[0]   # Number of movies having a rating of 8 or above on IMDB"
   ]
  },
  {
   "cell_type": "code",
   "execution_count": 22,
   "metadata": {},
   "outputs": [
    {
     "data": {
      "text/plain": [
       "2398"
      ]
     },
     "execution_count": 22,
     "metadata": {},
     "output_type": "execute_result"
    }
   ],
   "source": [
    "movie['director_name'].nunique()      # Total number of directors in the dataset"
   ]
  },
  {
   "cell_type": "code",
   "execution_count": 36,
   "metadata": {},
   "outputs": [
    {
     "data": {
      "text/plain": [
       "Steven Spielberg     26\n",
       "Woody Allen          22\n",
       "Martin Scorsese      20\n",
       "Clint Eastwood       20\n",
       "Ridley Scott         17\n",
       "Spike Lee            16\n",
       "Steven Soderbergh    16\n",
       "Tim Burton           16\n",
       "Renny Harlin         15\n",
       "Oliver Stone         14\n",
       "Robert Zemeckis      13\n",
       "Robert Rodriguez     13\n",
       "Michael Bay          13\n",
       "Joel Schumacher      13\n",
       "Barry Levinson       13\n",
       "Name: director_name, dtype: int64"
      ]
     },
     "execution_count": 36,
     "metadata": {},
     "output_type": "execute_result"
    }
   ],
   "source": [
    "top_15_number = movie['director_name'].value_counts().nlargest(15)    # Top 15 directors who made most number of movies\n",
    "top_15_number"
   ]
  },
  {
   "cell_type": "code",
   "execution_count": 43,
   "metadata": {},
   "outputs": [
    {
     "data": {
      "text/plain": [
       "director_name\n",
       "John Blanchard      9.5\n",
       "Cary Bell           8.7\n",
       "Sadyk Sher-Niyaz    8.7\n",
       "Mitchell Altieri    8.7\n",
       "Mike Mayhall        8.6\n",
       "Charles Chaplin     8.6\n",
       "Ron Fricke          8.5\n",
       "Damien Chazelle     8.5\n",
       "Majid Majidi        8.5\n",
       "Raja Menon          8.5\n",
       "Name: imdb_score, dtype: float64"
      ]
     },
     "execution_count": 43,
     "metadata": {},
     "output_type": "execute_result"
    }
   ],
   "source": [
    "# Average rating of directors's movies on IMDB, with highest at the top\n",
    "\n",
    "avg_rating_directors = movie.groupby('director_name')['imdb_score'].mean().sort_values(ascending=False).head(10)\n",
    "avg_rating_directors"
   ]
  },
  {
   "cell_type": "code",
   "execution_count": 44,
   "metadata": {},
   "outputs": [
    {
     "data": {
      "text/plain": [
       "director_name\n",
       "Chatrichalerm Yukol     300.0\n",
       "Ron Maxwell             275.5\n",
       "Peter Flinth            270.0\n",
       "Michael Cimino          254.0\n",
       "Joseph L. Mankiewicz    251.0\n",
       "George Stevens          225.0\n",
       "Michael Wadleigh        215.0\n",
       "Stanley Kramer          191.5\n",
       "David Lean              188.0\n",
       "Kevin Costner           184.0\n",
       "Name: duration, dtype: float64"
      ]
     },
     "execution_count": 44,
     "metadata": {},
     "output_type": "execute_result"
    }
   ],
   "source": [
    "# Average duration of movies of the directors (longest at the top)\n",
    "\n",
    "avg_duration_directors = movie.groupby('director_name')['duration'].mean().sort_values(ascending=False).head(10)\n",
    "avg_duration_directors"
   ]
  },
  {
   "cell_type": "code",
   "execution_count": 42,
   "metadata": {},
   "outputs": [
    {
     "data": {
      "text/plain": [
       "director_name       title_year\n",
       "A. Raven Cruz       2005.0        1\n",
       "Aaron Hann          2015.0        1\n",
       "Aaron Schneider     2009.0        1\n",
       "Aaron Seltzer       2006.0        1\n",
       "Abel Ferrara        1996.0        1\n",
       "Adam Brooks         2008.0        1\n",
       "Adam Carolla        2015.0        1\n",
       "                                 ..\n",
       "Zal Batmanglij      2011.0        1\n",
       "                    2013.0        1\n",
       "Zoran Lisinac       2013.0        1\n",
       "Álex de la Iglesia  2008.0        1\n",
       "Émile Gaudreault    2003.0        1\n",
       "Éric Tessier        2003.0        1\n",
       "Étienne Faure       2015.0        1\n",
       "Name: title_year, Length: 4739, dtype: int64"
      ]
     },
     "execution_count": 42,
     "metadata": {},
     "output_type": "execute_result"
    }
   ],
   "source": [
    "movie.groupby(['director_name', 'title_year'])['title_year'].count()"
   ]
  },
  {
   "cell_type": "code",
   "execution_count": null,
   "metadata": {
    "collapsed": true
   },
   "outputs": [],
   "source": []
  }
 ],
 "metadata": {
  "kernelspec": {
   "display_name": "Python 3",
   "language": "python",
   "name": "python3"
  },
  "language_info": {
   "codemirror_mode": {
    "name": "ipython",
    "version": 3
   },
   "file_extension": ".py",
   "mimetype": "text/x-python",
   "name": "python",
   "nbconvert_exporter": "python",
   "pygments_lexer": "ipython3",
   "version": "3.6.1"
  }
 },
 "nbformat": 4,
 "nbformat_minor": 1
}
