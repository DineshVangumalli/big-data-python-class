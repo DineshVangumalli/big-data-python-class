{
 "cells": [
  {
   "cell_type": "markdown",
   "metadata": {},
   "source": [
    "7.1  Create a crawler using the webcrawler provided and discussed in my jupyter notebook ( https://github.com/pschragger/big-data-python-class/blob/master/Lectures/Lecture_7_-_Link_Analysis.ipynb) , have it crawl the first 200 pages from a base URL of your choosing<br>\n",
    "7.2  Create a Stochastic matrix from its resulting crawling as per https://cs7083.wordpress.com/2013/01/31/demystifying-the-pagerank-and-hits-algorithms/<br>\n",
    "7.3 Pass it through the Page Rank algorithm and provide the list of the top 5 page URLs in your sample<br>\n",
    "7.x For extra credit use the hits algorithm ( with a connectivity matrix )<br>\n",
    "7.xx For advanced credit find another ranking alogrithm and demonstrate that as well<br>"
   ]
  },
  {
   "cell_type": "markdown",
   "metadata": {},
   "source": [
    "## Creating first spider"
   ]
  },
  {
   "cell_type": "code",
   "execution_count": 1,
   "metadata": {},
   "outputs": [
    {
     "name": "stdout",
     "output_type": "stream",
     "text": [
      "Overwriting code/books_crawler/books_crawler/items.py\n"
     ]
    }
   ],
   "source": [
    "%%writefile code/books_crawler/books_crawler/items.py\n",
    "# %load code/tutorial/tutorial/items.py\n",
    "\n",
    "# Define here the models for your scraped items\n",
    "\n",
    "import scrapy\n",
    "\n",
    "## Adding container to hold scraped data using scrapy.Item as the parent class\n",
    "class BooksCrawlerItem(scrapy.Item):\n",
    "    Inurl = scrapy.Field()\n",
    "    Outurl = scrapy.Field()\n",
    "    #url = scrapy.Field()\n",
    "    pass\n"
   ]
  },
  {
   "cell_type": "code",
   "execution_count": 5,
   "metadata": {},
   "outputs": [
    {
     "name": "stdout",
     "output_type": "stream",
     "text": [
      "Overwriting code/books_crawler/books_crawler/spiders/books.py\n"
     ]
    }
   ],
   "source": [
    "%%writefile code/books_crawler/books_crawler/spiders/books.py\n",
    "\n",
    "import scrapy\n",
    "from scrapy.http import Request\n",
    "from scrapy.spiders import CrawlSpider, Rule\n",
    "from scrapy.linkextractors import LinkExtractor\n",
    "from books_crawler.items import BooksCrawlerItem\n",
    "\n",
    "class BooksSpider(CrawlSpider):\n",
    "    name = 'books'\n",
    "    allowed_domains = ['books.toscrape.com']\n",
    "    start_urls = ['http://books.toscrape.com',]\n",
    "    \n",
    "    rules = [Rule(LinkExtractor(canonicalize=True, unique=True), callback='parse_page')]\n",
    "\n",
    "    for i in range(2, 50):\n",
    "        start_urls.append(\"http://books.toscrape.com/catalogue/page-\"+str(i)+\".html\")\n",
    "        \n",
    "    def parse_page(self, response):\n",
    "        items = []\n",
    "        links = LinkExtractor(canonicalize=True, unique=True).extract_links(response)\n",
    "        for link in links:\n",
    "            for dm in self.allowed_domains:\n",
    "                if dm in link.url:\n",
    "                    item = BooksCrawlerItem()\n",
    "                    item['Inurl'] = response.url\n",
    "                    item['Outurl'] = link.url\n",
    "                    items.append(item)\n",
    "                    yield item\n",
    "        #items\n"
   ]
  },
  {
   "cell_type": "code",
   "execution_count": 3,
   "metadata": {},
   "outputs": [
    {
     "name": "stdout",
     "output_type": "stream",
     "text": [
      "C:\\Users\\Dinesh\\Desktop\\Git Repositories\\big-data-python-class\\Homeworks\\Homework7\\code\\books_crawler\n"
     ]
    }
   ],
   "source": [
    "#cd code/books_crawler"
   ]
  },
  {
   "cell_type": "code",
   "execution_count": 8,
   "metadata": {},
   "outputs": [
    {
     "name": "stdout",
     "output_type": "stream",
     "text": [
      "<200 http://books.toscrape.com/>\n"
     ]
    }
   ],
   "source": [
    "import requests\n",
    "from scrapy.http import TextResponse\n",
    "\n",
    "#running scrappy to get a response from a URL\n",
    "r = requests.get('http://books.toscrape.com')\n",
    "response = TextResponse(r.url, body=r.text, encoding='utf-8')\n",
    "\n",
    "print(response)"
   ]
  },
  {
   "cell_type": "code",
   "execution_count": 9,
   "metadata": {},
   "outputs": [
    {
     "data": {
      "text/plain": [
       "[<Selector xpath='//a' data='<a href=\"index.html\">Books to Scrape</a>'>,\n",
       " <Selector xpath='//a' data='<a href=\"index.html\">Home</a>'>,\n",
       " <Selector xpath='//a' data='<a href=\"catalogue/category/books_1/inde'>,\n",
       " <Selector xpath='//a' data='<a href=\"catalogue/category/books/travel'>,\n",
       " <Selector xpath='//a' data='<a href=\"catalogue/category/books/myster'>,\n",
       " <Selector xpath='//a' data='<a href=\"catalogue/category/books/histor'>,\n",
       " <Selector xpath='//a' data='<a href=\"catalogue/category/books/sequen'>,\n",
       " <Selector xpath='//a' data='<a href=\"catalogue/category/books/classi'>,\n",
       " <Selector xpath='//a' data='<a href=\"catalogue/category/books/philos'>,\n",
       " <Selector xpath='//a' data='<a href=\"catalogue/category/books/romanc'>,\n",
       " <Selector xpath='//a' data='<a href=\"catalogue/category/books/womens'>,\n",
       " <Selector xpath='//a' data='<a href=\"catalogue/category/books/fictio'>,\n",
       " <Selector xpath='//a' data='<a href=\"catalogue/category/books/childr'>,\n",
       " <Selector xpath='//a' data='<a href=\"catalogue/category/books/religi'>,\n",
       " <Selector xpath='//a' data='<a href=\"catalogue/category/books/nonfic'>,\n",
       " <Selector xpath='//a' data='<a href=\"catalogue/category/books/music_'>,\n",
       " <Selector xpath='//a' data='<a href=\"catalogue/category/books/defaul'>,\n",
       " <Selector xpath='//a' data='<a href=\"catalogue/category/books/scienc'>,\n",
       " <Selector xpath='//a' data='<a href=\"catalogue/category/books/sports'>,\n",
       " <Selector xpath='//a' data='<a href=\"catalogue/category/books/add-a-'>,\n",
       " <Selector xpath='//a' data='<a href=\"catalogue/category/books/fantas'>,\n",
       " <Selector xpath='//a' data='<a href=\"catalogue/category/books/new-ad'>,\n",
       " <Selector xpath='//a' data='<a href=\"catalogue/category/books/young-'>,\n",
       " <Selector xpath='//a' data='<a href=\"catalogue/category/books/scienc'>,\n",
       " <Selector xpath='//a' data='<a href=\"catalogue/category/books/poetry'>,\n",
       " <Selector xpath='//a' data='<a href=\"catalogue/category/books/parano'>,\n",
       " <Selector xpath='//a' data='<a href=\"catalogue/category/books/art_25'>,\n",
       " <Selector xpath='//a' data='<a href=\"catalogue/category/books/psycho'>,\n",
       " <Selector xpath='//a' data='<a href=\"catalogue/category/books/autobi'>,\n",
       " <Selector xpath='//a' data='<a href=\"catalogue/category/books/parent'>,\n",
       " <Selector xpath='//a' data='<a href=\"catalogue/category/books/adult-'>,\n",
       " <Selector xpath='//a' data='<a href=\"catalogue/category/books/humor_'>,\n",
       " <Selector xpath='//a' data='<a href=\"catalogue/category/books/horror'>,\n",
       " <Selector xpath='//a' data='<a href=\"catalogue/category/books/histor'>,\n",
       " <Selector xpath='//a' data='<a href=\"catalogue/category/books/food-a'>,\n",
       " <Selector xpath='//a' data='<a href=\"catalogue/category/books/christ'>,\n",
       " <Selector xpath='//a' data='<a href=\"catalogue/category/books/busine'>,\n",
       " <Selector xpath='//a' data='<a href=\"catalogue/category/books/biogra'>,\n",
       " <Selector xpath='//a' data='<a href=\"catalogue/category/books/thrill'>,\n",
       " <Selector xpath='//a' data='<a href=\"catalogue/category/books/contem'>,\n",
       " <Selector xpath='//a' data='<a href=\"catalogue/category/books/spirit'>,\n",
       " <Selector xpath='//a' data='<a href=\"catalogue/category/books/academ'>,\n",
       " <Selector xpath='//a' data='<a href=\"catalogue/category/books/self-h'>,\n",
       " <Selector xpath='//a' data='<a href=\"catalogue/category/books/histor'>,\n",
       " <Selector xpath='//a' data='<a href=\"catalogue/category/books/christ'>,\n",
       " <Selector xpath='//a' data='<a href=\"catalogue/category/books/suspen'>,\n",
       " <Selector xpath='//a' data='<a href=\"catalogue/category/books/short-'>,\n",
       " <Selector xpath='//a' data='<a href=\"catalogue/category/books/novels'>,\n",
       " <Selector xpath='//a' data='<a href=\"catalogue/category/books/health'>,\n",
       " <Selector xpath='//a' data='<a href=\"catalogue/category/books/politi'>,\n",
       " <Selector xpath='//a' data='<a href=\"catalogue/category/books/cultur'>,\n",
       " <Selector xpath='//a' data='<a href=\"catalogue/category/books/erotic'>,\n",
       " <Selector xpath='//a' data='<a href=\"catalogue/category/books/crime_'>,\n",
       " <Selector xpath='//a' data='<a href=\"catalogue/a-light-in-the-attic_'>,\n",
       " <Selector xpath='//a' data='<a href=\"catalogue/a-light-in-the-attic_'>,\n",
       " <Selector xpath='//a' data='<a href=\"catalogue/tipping-the-velvet_99'>,\n",
       " <Selector xpath='//a' data='<a href=\"catalogue/tipping-the-velvet_99'>,\n",
       " <Selector xpath='//a' data='<a href=\"catalogue/soumission_998/index.'>,\n",
       " <Selector xpath='//a' data='<a href=\"catalogue/soumission_998/index.'>,\n",
       " <Selector xpath='//a' data='<a href=\"catalogue/sharp-objects_997/ind'>,\n",
       " <Selector xpath='//a' data='<a href=\"catalogue/sharp-objects_997/ind'>,\n",
       " <Selector xpath='//a' data='<a href=\"catalogue/sapiens-a-brief-histo'>,\n",
       " <Selector xpath='//a' data='<a href=\"catalogue/sapiens-a-brief-histo'>,\n",
       " <Selector xpath='//a' data='<a href=\"catalogue/the-requiem-red_995/i'>,\n",
       " <Selector xpath='//a' data='<a href=\"catalogue/the-requiem-red_995/i'>,\n",
       " <Selector xpath='//a' data='<a href=\"catalogue/the-dirty-little-secr'>,\n",
       " <Selector xpath='//a' data='<a href=\"catalogue/the-dirty-little-secr'>,\n",
       " <Selector xpath='//a' data='<a href=\"catalogue/the-coming-woman-a-no'>,\n",
       " <Selector xpath='//a' data='<a href=\"catalogue/the-coming-woman-a-no'>,\n",
       " <Selector xpath='//a' data='<a href=\"catalogue/the-boys-in-the-boat-'>,\n",
       " <Selector xpath='//a' data='<a href=\"catalogue/the-boys-in-the-boat-'>,\n",
       " <Selector xpath='//a' data='<a href=\"catalogue/the-black-maria_991/i'>,\n",
       " <Selector xpath='//a' data='<a href=\"catalogue/the-black-maria_991/i'>,\n",
       " <Selector xpath='//a' data='<a href=\"catalogue/starving-hearts-trian'>,\n",
       " <Selector xpath='//a' data='<a href=\"catalogue/starving-hearts-trian'>,\n",
       " <Selector xpath='//a' data='<a href=\"catalogue/shakespeares-sonnets_'>,\n",
       " <Selector xpath='//a' data='<a href=\"catalogue/shakespeares-sonnets_'>,\n",
       " <Selector xpath='//a' data='<a href=\"catalogue/set-me-free_988/index'>,\n",
       " <Selector xpath='//a' data='<a href=\"catalogue/set-me-free_988/index'>,\n",
       " <Selector xpath='//a' data='<a href=\"catalogue/scott-pilgrims-precio'>,\n",
       " <Selector xpath='//a' data='<a href=\"catalogue/scott-pilgrims-precio'>,\n",
       " <Selector xpath='//a' data='<a href=\"catalogue/rip-it-up-and-start-a'>,\n",
       " <Selector xpath='//a' data='<a href=\"catalogue/rip-it-up-and-start-a'>,\n",
       " <Selector xpath='//a' data='<a href=\"catalogue/our-band-could-be-you'>,\n",
       " <Selector xpath='//a' data='<a href=\"catalogue/our-band-could-be-you'>,\n",
       " <Selector xpath='//a' data='<a href=\"catalogue/olio_984/index.html\">'>,\n",
       " <Selector xpath='//a' data='<a href=\"catalogue/olio_984/index.html\" '>,\n",
       " <Selector xpath='//a' data='<a href=\"catalogue/mesaerion-the-best-sc'>,\n",
       " <Selector xpath='//a' data='<a href=\"catalogue/mesaerion-the-best-sc'>,\n",
       " <Selector xpath='//a' data='<a href=\"catalogue/libertarianism-for-be'>,\n",
       " <Selector xpath='//a' data='<a href=\"catalogue/libertarianism-for-be'>,\n",
       " <Selector xpath='//a' data='<a href=\"catalogue/its-only-the-himalaya'>,\n",
       " <Selector xpath='//a' data='<a href=\"catalogue/its-only-the-himalaya'>,\n",
       " <Selector xpath='//a' data='<a href=\"catalogue/page-2.html\">next</a>'>]"
      ]
     },
     "execution_count": 9,
     "metadata": {},
     "output_type": "execute_result"
    }
   ],
   "source": [
    "#Using xpath to access data\n",
    "response.xpath('//a')"
   ]
  },
  {
   "cell_type": "code",
   "execution_count": 1,
   "metadata": {
    "collapsed": true
   },
   "outputs": [],
   "source": [
    "import numpy as np\n",
    "import pandas as pd"
   ]
  },
  {
   "cell_type": "code",
   "execution_count": 2,
   "metadata": {
    "collapsed": true
   },
   "outputs": [],
   "source": [
    "book_links = pd.read_csv(\"code/books_crawler/books_crawler/BookLinks.csv\")"
   ]
  },
  {
   "cell_type": "code",
   "execution_count": 4,
   "metadata": {},
   "outputs": [
    {
     "name": "stdout",
     "output_type": "stream",
     "text": [
      "<class 'pandas.core.frame.DataFrame'>\n"
     ]
    },
    {
     "data": {
      "text/html": [
       "<div>\n",
       "<style>\n",
       "    .dataframe thead tr:only-child th {\n",
       "        text-align: right;\n",
       "    }\n",
       "\n",
       "    .dataframe thead th {\n",
       "        text-align: left;\n",
       "    }\n",
       "\n",
       "    .dataframe tbody tr th {\n",
       "        vertical-align: top;\n",
       "    }\n",
       "</style>\n",
       "<table border=\"1\" class=\"dataframe\">\n",
       "  <thead>\n",
       "    <tr style=\"text-align: right;\">\n",
       "      <th></th>\n",
       "      <th>Inurl</th>\n",
       "      <th>Outurl</th>\n",
       "    </tr>\n",
       "  </thead>\n",
       "  <tbody>\n",
       "    <tr>\n",
       "      <th>0</th>\n",
       "      <td>http://books.toscrape.com/catalogue/night-sky-...</td>\n",
       "      <td>http://books.toscrape.com/index.html</td>\n",
       "    </tr>\n",
       "    <tr>\n",
       "      <th>1</th>\n",
       "      <td>http://books.toscrape.com/catalogue/page-6.html</td>\n",
       "      <td>http://books.toscrape.com/index.html</td>\n",
       "    </tr>\n",
       "    <tr>\n",
       "      <th>2</th>\n",
       "      <td>http://books.toscrape.com/catalogue/night-sky-...</td>\n",
       "      <td>http://books.toscrape.com/catalogue/category/b...</td>\n",
       "    </tr>\n",
       "    <tr>\n",
       "      <th>3</th>\n",
       "      <td>http://books.toscrape.com/catalogue/night-sky-...</td>\n",
       "      <td>http://books.toscrape.com/catalogue/category/b...</td>\n",
       "    </tr>\n",
       "    <tr>\n",
       "      <th>4</th>\n",
       "      <td>http://books.toscrape.com/catalogue/night-sky-...</td>\n",
       "      <td>http://books.toscrape.com/catalogue/poems-that...</td>\n",
       "    </tr>\n",
       "  </tbody>\n",
       "</table>\n",
       "</div>"
      ],
      "text/plain": [
       "                                               Inurl  \\\n",
       "0  http://books.toscrape.com/catalogue/night-sky-...   \n",
       "1    http://books.toscrape.com/catalogue/page-6.html   \n",
       "2  http://books.toscrape.com/catalogue/night-sky-...   \n",
       "3  http://books.toscrape.com/catalogue/night-sky-...   \n",
       "4  http://books.toscrape.com/catalogue/night-sky-...   \n",
       "\n",
       "                                              Outurl  \n",
       "0               http://books.toscrape.com/index.html  \n",
       "1               http://books.toscrape.com/index.html  \n",
       "2  http://books.toscrape.com/catalogue/category/b...  \n",
       "3  http://books.toscrape.com/catalogue/category/b...  \n",
       "4  http://books.toscrape.com/catalogue/poems-that...  "
      ]
     },
     "execution_count": 4,
     "metadata": {},
     "output_type": "execute_result"
    }
   ],
   "source": [
    "print(type(book_links))\n",
    "book_links.head()"
   ]
  },
  {
   "cell_type": "code",
   "execution_count": 8,
   "metadata": {},
   "outputs": [],
   "source": [
    "grpby_Inurls = book_links[['Inurl','Outurl']].groupby(['Inurl'],as_index=False)"
   ]
  },
  {
   "cell_type": "code",
   "execution_count": 10,
   "metadata": {},
   "outputs": [],
   "source": [
    "bookLinks_grped = grpby_Inurls.count()"
   ]
  },
  {
   "cell_type": "code",
   "execution_count": 17,
   "metadata": {},
   "outputs": [
    {
     "data": {
      "text/html": [
       "<div>\n",
       "<style>\n",
       "    .dataframe thead tr:only-child th {\n",
       "        text-align: right;\n",
       "    }\n",
       "\n",
       "    .dataframe thead th {\n",
       "        text-align: left;\n",
       "    }\n",
       "\n",
       "    .dataframe tbody tr th {\n",
       "        vertical-align: top;\n",
       "    }\n",
       "</style>\n",
       "<table border=\"1\" class=\"dataframe\">\n",
       "  <thead>\n",
       "    <tr style=\"text-align: right;\">\n",
       "      <th></th>\n",
       "      <th>Inurl</th>\n",
       "      <th>Outurl</th>\n",
       "    </tr>\n",
       "  </thead>\n",
       "  <tbody>\n",
       "    <tr>\n",
       "      <th>0</th>\n",
       "      <td>http://books.toscrape.com/catalogue/10-day-gre...</td>\n",
       "      <td>9</td>\n",
       "    </tr>\n",
       "    <tr>\n",
       "      <th>1</th>\n",
       "      <td>http://books.toscrape.com/catalogue/10-happier...</td>\n",
       "      <td>9</td>\n",
       "    </tr>\n",
       "    <tr>\n",
       "      <th>2</th>\n",
       "      <td>http://books.toscrape.com/catalogue/112263_583...</td>\n",
       "      <td>9</td>\n",
       "    </tr>\n",
       "    <tr>\n",
       "      <th>3</th>\n",
       "      <td>http://books.toscrape.com/catalogue/13-hours-t...</td>\n",
       "      <td>9</td>\n",
       "    </tr>\n",
       "    <tr>\n",
       "      <th>4</th>\n",
       "      <td>http://books.toscrape.com/catalogue/1491-new-r...</td>\n",
       "      <td>9</td>\n",
       "    </tr>\n",
       "  </tbody>\n",
       "</table>\n",
       "</div>"
      ],
      "text/plain": [
       "                                               Inurl  Outurl\n",
       "0  http://books.toscrape.com/catalogue/10-day-gre...       9\n",
       "1  http://books.toscrape.com/catalogue/10-happier...       9\n",
       "2  http://books.toscrape.com/catalogue/112263_583...       9\n",
       "3  http://books.toscrape.com/catalogue/13-hours-t...       9\n",
       "4  http://books.toscrape.com/catalogue/1491-new-r...       9"
      ]
     },
     "execution_count": 17,
     "metadata": {},
     "output_type": "execute_result"
    }
   ],
   "source": [
    "bookLinks_grped.head()"
   ]
  },
  {
   "cell_type": "code",
   "execution_count": 18,
   "metadata": {},
   "outputs": [
    {
     "data": {
      "text/plain": [
       "(1082, 2)"
      ]
     },
     "execution_count": 18,
     "metadata": {},
     "output_type": "execute_result"
    }
   ],
   "source": [
    "bookLinks_grped.shape"
   ]
  },
  {
   "cell_type": "code",
   "execution_count": 22,
   "metadata": {},
   "outputs": [],
   "source": [
    "H = np.zeros((1082,1082))"
   ]
  },
  {
   "cell_type": "code",
   "execution_count": 23,
   "metadata": {},
   "outputs": [
    {
     "data": {
      "text/plain": [
       "array([[ 0.,  0.,  0., ...,  0.,  0.,  0.],\n",
       "       [ 0.,  0.,  0., ...,  0.,  0.,  0.],\n",
       "       [ 0.,  0.,  0., ...,  0.,  0.,  0.],\n",
       "       ..., \n",
       "       [ 0.,  0.,  0., ...,  0.,  0.,  0.],\n",
       "       [ 0.,  0.,  0., ...,  0.,  0.,  0.],\n",
       "       [ 0.,  0.,  0., ...,  0.,  0.,  0.]])"
      ]
     },
     "execution_count": 23,
     "metadata": {},
     "output_type": "execute_result"
    }
   ],
   "source": [
    "H"
   ]
  },
  {
   "cell_type": "code",
   "execution_count": 26,
   "metadata": {},
   "outputs": [],
   "source": [
    "import random\n",
    "for i in range (H.shape[0]):\n",
    "    p = 1/float(bookLinks_grped.loc[[i]]['Outurl'])\n",
    "    nos = bookLinks_grped.at[i,'Outurl']\n",
    "    ls = [random.sample(range(H.shape[1]), nos)] \n",
    "    for j in ls:\n",
    "        H[i][j]=p"
   ]
  },
  {
   "cell_type": "code",
   "execution_count": 27,
   "metadata": {},
   "outputs": [
    {
     "data": {
      "text/plain": [
       "array([[ 0.,  0.,  0., ...,  0.,  0.,  0.],\n",
       "       [ 0.,  0.,  0., ...,  0.,  0.,  0.],\n",
       "       [ 0.,  0.,  0., ...,  0.,  0.,  0.],\n",
       "       ..., \n",
       "       [ 0.,  0.,  0., ...,  0.,  0.,  0.],\n",
       "       [ 0.,  0.,  0., ...,  0.,  0.,  0.],\n",
       "       [ 0.,  0.,  0., ...,  0.,  0.,  0.]])"
      ]
     },
     "execution_count": 27,
     "metadata": {},
     "output_type": "execute_result"
    }
   ],
   "source": [
    "H"
   ]
  },
  {
   "cell_type": "code",
   "execution_count": 30,
   "metadata": {},
   "outputs": [
    {
     "name": "stdout",
     "output_type": "stream",
     "text": [
      "10    9\n",
      "Name: Outurl, dtype: int64\n",
      "0.111111111111\n",
      "1.0\n"
     ]
    }
   ],
   "source": [
    "print(bookLinks_grped.loc[[10]]['Outurl'])\n",
    "print(H[10].max())\n",
    "print(H[10].sum())"
   ]
  },
  {
   "cell_type": "code",
   "execution_count": 31,
   "metadata": {
    "collapsed": true
   },
   "outputs": [],
   "source": [
    "from numpy import *\n",
    " \n",
    "def pagerank(H):\n",
    "    n= len(H)\n",
    "    w = zeros(n)\n",
    "    rho = 1./n * ones(n);\n",
    "    for i in range(n):\n",
    "      if multiply.reduce(H[i]== zeros(n)):\n",
    "        w[i] = 1\n",
    "    newH = H + outer((1./n * w),ones(n))\n",
    " \n",
    "    theta=0.85\n",
    "    G = (theta * newH) + ((1-theta) * outer(1./n * ones(n), ones(n)))\n",
    "    print (rho)\n",
    "    for j in range(10):\n",
    "        rho = dot(rho,G)\n",
    "        print (rho)\n",
    "        if j==9:\n",
    "            return rho"
   ]
  },
  {
   "cell_type": "code",
   "execution_count": 32,
   "metadata": {},
   "outputs": [
    {
     "name": "stdout",
     "output_type": "stream",
     "text": [
      "[ 0.00092421  0.00092421  0.00092421 ...,  0.00092421  0.00092421\n",
      "  0.00092421]\n",
      "[ 0.000924    0.00080707  0.00135594 ...,  0.00144615  0.00066702\n",
      "  0.00128867]\n",
      "[ 0.00094816  0.00078288  0.00123723 ...,  0.00138338  0.00067431\n",
      "  0.00127857]\n",
      "[ 0.00098959  0.00077432  0.0012304  ...,  0.00136258  0.00068485\n",
      "  0.00130325]\n",
      "[ 0.0009751   0.00077264  0.00123517 ...,  0.00136302  0.00068676\n",
      "  0.00131789]\n",
      "[ 0.00097643  0.00077469  0.00123511 ...,  0.00136124  0.00068816\n",
      "  0.00131636]\n",
      "[ 0.00097625  0.00077472  0.00123427 ...,  0.00136128  0.00068826\n",
      "  0.00131652]\n",
      "[ 0.00097618  0.00077476  0.00123434 ...,  0.00136154  0.00068821\n",
      "  0.00131677]\n",
      "[ 0.00097621  0.00077476  0.00123435 ...,  0.00136147  0.00068822\n",
      "  0.00131676]\n",
      "[ 0.0009762   0.00077476  0.00123435 ...,  0.00136148  0.00068822\n",
      "  0.00131677]\n",
      "[ 0.0009762   0.00077476  0.00123435 ...,  0.00136148  0.00068822\n",
      "  0.00131677]\n"
     ]
    }
   ],
   "source": [
    "ranks = pagerank(H)"
   ]
  },
  {
   "cell_type": "code",
   "execution_count": 33,
   "metadata": {},
   "outputs": [
    {
     "data": {
      "text/plain": [
       "693     http://books.toscrape.com/catalogue/spark-joy-...\n",
       "527     http://books.toscrape.com/catalogue/outliers-t...\n",
       "395     http://books.toscrape.com/catalogue/lady-midni...\n",
       "227     http://books.toscrape.com/catalogue/digital-fo...\n",
       "664     http://books.toscrape.com/catalogue/shoe-dog-a...\n",
       "145     http://books.toscrape.com/catalogue/category/b...\n",
       "256     http://books.toscrape.com/catalogue/everydata-...\n",
       "1003    http://books.toscrape.com/catalogue/tracing-nu...\n",
       "492     http://books.toscrape.com/catalogue/neither-he...\n",
       "629     http://books.toscrape.com/catalogue/romero-and...\n",
       "Name: Inurl, dtype: object"
      ]
     },
     "execution_count": 33,
     "metadata": {},
     "output_type": "execute_result"
    }
   ],
   "source": [
    "bookLinks_grped.loc[np.argsort(ranks)[-10:]]['Inurl']"
   ]
  },
  {
   "cell_type": "code",
   "execution_count": null,
   "metadata": {
    "collapsed": true
   },
   "outputs": [],
   "source": []
  }
 ],
 "metadata": {
  "kernelspec": {
   "display_name": "Python 3",
   "language": "python",
   "name": "python3"
  },
  "language_info": {
   "codemirror_mode": {
    "name": "ipython",
    "version": 3
   },
   "file_extension": ".py",
   "mimetype": "text/x-python",
   "name": "python",
   "nbconvert_exporter": "python",
   "pygments_lexer": "ipython3",
   "version": "3.6.1"
  }
 },
 "nbformat": 4,
 "nbformat_minor": 1
}
