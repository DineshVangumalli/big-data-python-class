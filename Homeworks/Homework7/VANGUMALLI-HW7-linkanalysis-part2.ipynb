{
 "cells": [
  {
   "cell_type": "markdown",
   "metadata": {},
   "source": [
    "7.1  Create a crawler using the webcrawler provided and discussed in my jupyter notebook ( https://github.com/pschragger/big-data-python-class/blob/master/Lectures/Lecture_7_-_Link_Analysis.ipynb) , have it crawl the first 200 pages from a base URL of your choosing<br>\n",
    "7.2  Create a Stochastic matrix from its resulting crawling as per https://cs7083.wordpress.com/2013/01/31/demystifying-the-pagerank-and-hits-algorithms/<br>\n",
    "7.3 Pass it through the Page Rank algorithm and provide the list of the top 5 page URLs in your sample<br>\n",
    "7.x For extra credit use the hits algorithm ( with a connectivity matrix )<br>\n",
    "7.xx For advanced credit find another ranking alogrithm and demonstrate that as well<br>"
   ]
  },
  {
   "cell_type": "markdown",
   "metadata": {},
   "source": [
    "## Creating first spider"
   ]
  },
  {
   "cell_type": "code",
   "execution_count": null,
   "metadata": {
    "collapsed": true
   },
   "outputs": [],
   "source": [
    "%%writefile code/olx/olx/items.py\n",
    "# %load code/tutorial/tutorial/items.py\n",
    "\n",
    "# Define here the models for your scraped items\n",
    "\n",
    "import scrapy\n",
    "\n",
    "## Adding container to hold scraped data using scrapy.Item as the parent class\n",
    "class OlxItem(scrapy.Item):\n",
    "    #title = scrapy.Field()\n",
    "    #price = scrapy.Field()\n",
    "    #url = scrapy.Field()\n",
    "    pass\n"
   ]
  },
  {
   "cell_type": "code",
   "execution_count": 7,
   "metadata": {},
   "outputs": [
    {
     "name": "stdout",
     "output_type": "stream",
     "text": [
      "Overwriting code/books_crawler/books_crawler/spiders/books.py\n"
     ]
    }
   ],
   "source": [
    "%%writefile code/books_crawler/books_crawler/spiders/books.py\n",
    "\n",
    "import scrapy\n",
    "from scrapy.http import Request\n",
    "from scrapy.spiders import CrawlSpider, Rule\n",
    "from scrapy.linkextractors import LinkExtractor\n",
    "\n",
    "class BooksSpider(CrawlSpider):\n",
    "    name = 'books'\n",
    "    allowed_domains = ['books.toscrape.com']\n",
    "    start_urls = ['http://books.toscrape.com',]\n",
    "    \n",
    "    rules = (Rule(LinkExtractor(), callback='parse_page', follow=True),)\n",
    "\n",
    "    def parse_page(self, response):\n",
    "        yield {'url': response.url }\n"
   ]
  },
  {
   "cell_type": "code",
   "execution_count": 3,
   "metadata": {},
   "outputs": [
    {
     "name": "stdout",
     "output_type": "stream",
     "text": [
      "C:\\Users\\Dinesh\\Desktop\\Git Repositories\\big-data-python-class\\Homeworks\\Homework7\\code\\books_crawler\n"
     ]
    }
   ],
   "source": [
    "#cd code/books_crawler"
   ]
  },
  {
   "cell_type": "code",
   "execution_count": 8,
   "metadata": {},
   "outputs": [
    {
     "name": "stdout",
     "output_type": "stream",
     "text": [
      "<200 http://books.toscrape.com/>\n"
     ]
    }
   ],
   "source": [
    "import requests\n",
    "from scrapy.http import TextResponse\n",
    "\n",
    "#running scrappy to get a response from a URL\n",
    "r = requests.get('http://books.toscrape.com')\n",
    "response = TextResponse(r.url, body=r.text, encoding='utf-8')\n",
    "\n",
    "print(response)"
   ]
  },
  {
   "cell_type": "code",
   "execution_count": 9,
   "metadata": {},
   "outputs": [
    {
     "data": {
      "text/plain": [
       "[<Selector xpath='//a' data='<a href=\"index.html\">Books to Scrape</a>'>,\n",
       " <Selector xpath='//a' data='<a href=\"index.html\">Home</a>'>,\n",
       " <Selector xpath='//a' data='<a href=\"catalogue/category/books_1/inde'>,\n",
       " <Selector xpath='//a' data='<a href=\"catalogue/category/books/travel'>,\n",
       " <Selector xpath='//a' data='<a href=\"catalogue/category/books/myster'>,\n",
       " <Selector xpath='//a' data='<a href=\"catalogue/category/books/histor'>,\n",
       " <Selector xpath='//a' data='<a href=\"catalogue/category/books/sequen'>,\n",
       " <Selector xpath='//a' data='<a href=\"catalogue/category/books/classi'>,\n",
       " <Selector xpath='//a' data='<a href=\"catalogue/category/books/philos'>,\n",
       " <Selector xpath='//a' data='<a href=\"catalogue/category/books/romanc'>,\n",
       " <Selector xpath='//a' data='<a href=\"catalogue/category/books/womens'>,\n",
       " <Selector xpath='//a' data='<a href=\"catalogue/category/books/fictio'>,\n",
       " <Selector xpath='//a' data='<a href=\"catalogue/category/books/childr'>,\n",
       " <Selector xpath='//a' data='<a href=\"catalogue/category/books/religi'>,\n",
       " <Selector xpath='//a' data='<a href=\"catalogue/category/books/nonfic'>,\n",
       " <Selector xpath='//a' data='<a href=\"catalogue/category/books/music_'>,\n",
       " <Selector xpath='//a' data='<a href=\"catalogue/category/books/defaul'>,\n",
       " <Selector xpath='//a' data='<a href=\"catalogue/category/books/scienc'>,\n",
       " <Selector xpath='//a' data='<a href=\"catalogue/category/books/sports'>,\n",
       " <Selector xpath='//a' data='<a href=\"catalogue/category/books/add-a-'>,\n",
       " <Selector xpath='//a' data='<a href=\"catalogue/category/books/fantas'>,\n",
       " <Selector xpath='//a' data='<a href=\"catalogue/category/books/new-ad'>,\n",
       " <Selector xpath='//a' data='<a href=\"catalogue/category/books/young-'>,\n",
       " <Selector xpath='//a' data='<a href=\"catalogue/category/books/scienc'>,\n",
       " <Selector xpath='//a' data='<a href=\"catalogue/category/books/poetry'>,\n",
       " <Selector xpath='//a' data='<a href=\"catalogue/category/books/parano'>,\n",
       " <Selector xpath='//a' data='<a href=\"catalogue/category/books/art_25'>,\n",
       " <Selector xpath='//a' data='<a href=\"catalogue/category/books/psycho'>,\n",
       " <Selector xpath='//a' data='<a href=\"catalogue/category/books/autobi'>,\n",
       " <Selector xpath='//a' data='<a href=\"catalogue/category/books/parent'>,\n",
       " <Selector xpath='//a' data='<a href=\"catalogue/category/books/adult-'>,\n",
       " <Selector xpath='//a' data='<a href=\"catalogue/category/books/humor_'>,\n",
       " <Selector xpath='//a' data='<a href=\"catalogue/category/books/horror'>,\n",
       " <Selector xpath='//a' data='<a href=\"catalogue/category/books/histor'>,\n",
       " <Selector xpath='//a' data='<a href=\"catalogue/category/books/food-a'>,\n",
       " <Selector xpath='//a' data='<a href=\"catalogue/category/books/christ'>,\n",
       " <Selector xpath='//a' data='<a href=\"catalogue/category/books/busine'>,\n",
       " <Selector xpath='//a' data='<a href=\"catalogue/category/books/biogra'>,\n",
       " <Selector xpath='//a' data='<a href=\"catalogue/category/books/thrill'>,\n",
       " <Selector xpath='//a' data='<a href=\"catalogue/category/books/contem'>,\n",
       " <Selector xpath='//a' data='<a href=\"catalogue/category/books/spirit'>,\n",
       " <Selector xpath='//a' data='<a href=\"catalogue/category/books/academ'>,\n",
       " <Selector xpath='//a' data='<a href=\"catalogue/category/books/self-h'>,\n",
       " <Selector xpath='//a' data='<a href=\"catalogue/category/books/histor'>,\n",
       " <Selector xpath='//a' data='<a href=\"catalogue/category/books/christ'>,\n",
       " <Selector xpath='//a' data='<a href=\"catalogue/category/books/suspen'>,\n",
       " <Selector xpath='//a' data='<a href=\"catalogue/category/books/short-'>,\n",
       " <Selector xpath='//a' data='<a href=\"catalogue/category/books/novels'>,\n",
       " <Selector xpath='//a' data='<a href=\"catalogue/category/books/health'>,\n",
       " <Selector xpath='//a' data='<a href=\"catalogue/category/books/politi'>,\n",
       " <Selector xpath='//a' data='<a href=\"catalogue/category/books/cultur'>,\n",
       " <Selector xpath='//a' data='<a href=\"catalogue/category/books/erotic'>,\n",
       " <Selector xpath='//a' data='<a href=\"catalogue/category/books/crime_'>,\n",
       " <Selector xpath='//a' data='<a href=\"catalogue/a-light-in-the-attic_'>,\n",
       " <Selector xpath='//a' data='<a href=\"catalogue/a-light-in-the-attic_'>,\n",
       " <Selector xpath='//a' data='<a href=\"catalogue/tipping-the-velvet_99'>,\n",
       " <Selector xpath='//a' data='<a href=\"catalogue/tipping-the-velvet_99'>,\n",
       " <Selector xpath='//a' data='<a href=\"catalogue/soumission_998/index.'>,\n",
       " <Selector xpath='//a' data='<a href=\"catalogue/soumission_998/index.'>,\n",
       " <Selector xpath='//a' data='<a href=\"catalogue/sharp-objects_997/ind'>,\n",
       " <Selector xpath='//a' data='<a href=\"catalogue/sharp-objects_997/ind'>,\n",
       " <Selector xpath='//a' data='<a href=\"catalogue/sapiens-a-brief-histo'>,\n",
       " <Selector xpath='//a' data='<a href=\"catalogue/sapiens-a-brief-histo'>,\n",
       " <Selector xpath='//a' data='<a href=\"catalogue/the-requiem-red_995/i'>,\n",
       " <Selector xpath='//a' data='<a href=\"catalogue/the-requiem-red_995/i'>,\n",
       " <Selector xpath='//a' data='<a href=\"catalogue/the-dirty-little-secr'>,\n",
       " <Selector xpath='//a' data='<a href=\"catalogue/the-dirty-little-secr'>,\n",
       " <Selector xpath='//a' data='<a href=\"catalogue/the-coming-woman-a-no'>,\n",
       " <Selector xpath='//a' data='<a href=\"catalogue/the-coming-woman-a-no'>,\n",
       " <Selector xpath='//a' data='<a href=\"catalogue/the-boys-in-the-boat-'>,\n",
       " <Selector xpath='//a' data='<a href=\"catalogue/the-boys-in-the-boat-'>,\n",
       " <Selector xpath='//a' data='<a href=\"catalogue/the-black-maria_991/i'>,\n",
       " <Selector xpath='//a' data='<a href=\"catalogue/the-black-maria_991/i'>,\n",
       " <Selector xpath='//a' data='<a href=\"catalogue/starving-hearts-trian'>,\n",
       " <Selector xpath='//a' data='<a href=\"catalogue/starving-hearts-trian'>,\n",
       " <Selector xpath='//a' data='<a href=\"catalogue/shakespeares-sonnets_'>,\n",
       " <Selector xpath='//a' data='<a href=\"catalogue/shakespeares-sonnets_'>,\n",
       " <Selector xpath='//a' data='<a href=\"catalogue/set-me-free_988/index'>,\n",
       " <Selector xpath='//a' data='<a href=\"catalogue/set-me-free_988/index'>,\n",
       " <Selector xpath='//a' data='<a href=\"catalogue/scott-pilgrims-precio'>,\n",
       " <Selector xpath='//a' data='<a href=\"catalogue/scott-pilgrims-precio'>,\n",
       " <Selector xpath='//a' data='<a href=\"catalogue/rip-it-up-and-start-a'>,\n",
       " <Selector xpath='//a' data='<a href=\"catalogue/rip-it-up-and-start-a'>,\n",
       " <Selector xpath='//a' data='<a href=\"catalogue/our-band-could-be-you'>,\n",
       " <Selector xpath='//a' data='<a href=\"catalogue/our-band-could-be-you'>,\n",
       " <Selector xpath='//a' data='<a href=\"catalogue/olio_984/index.html\">'>,\n",
       " <Selector xpath='//a' data='<a href=\"catalogue/olio_984/index.html\" '>,\n",
       " <Selector xpath='//a' data='<a href=\"catalogue/mesaerion-the-best-sc'>,\n",
       " <Selector xpath='//a' data='<a href=\"catalogue/mesaerion-the-best-sc'>,\n",
       " <Selector xpath='//a' data='<a href=\"catalogue/libertarianism-for-be'>,\n",
       " <Selector xpath='//a' data='<a href=\"catalogue/libertarianism-for-be'>,\n",
       " <Selector xpath='//a' data='<a href=\"catalogue/its-only-the-himalaya'>,\n",
       " <Selector xpath='//a' data='<a href=\"catalogue/its-only-the-himalaya'>,\n",
       " <Selector xpath='//a' data='<a href=\"catalogue/page-2.html\">next</a>'>]"
      ]
     },
     "execution_count": 9,
     "metadata": {},
     "output_type": "execute_result"
    }
   ],
   "source": [
    "#Using xpath to access data\n",
    "response.xpath('//a')"
   ]
  },
  {
   "cell_type": "code",
   "execution_count": 10,
   "metadata": {},
   "outputs": [
    {
     "data": {
      "text/plain": [
       "[<Selector xpath='//title' data='<title>\\n    All products | Books to Scra'>]"
      ]
     },
     "execution_count": 10,
     "metadata": {},
     "output_type": "execute_result"
    }
   ],
   "source": [
    "response.xpath('//title')"
   ]
  },
  {
   "cell_type": "code",
   "execution_count": 11,
   "metadata": {},
   "outputs": [
    {
     "data": {
      "text/plain": [
       "['\\n    All products | Books to Scrape - Sandbox\\n']"
      ]
     },
     "execution_count": 11,
     "metadata": {},
     "output_type": "execute_result"
    }
   ],
   "source": [
    " response.xpath('//title/text()').extract()"
   ]
  },
  {
   "cell_type": "code",
   "execution_count": 12,
   "metadata": {},
   "outputs": [
    {
     "data": {
      "text/plain": [
       "[<Selector xpath='//a[text()=\"next\"]' data='<a href=\"catalogue/page-2.html\">next</a>'>]"
      ]
     },
     "execution_count": 12,
     "metadata": {},
     "output_type": "execute_result"
    }
   ],
   "source": [
    "response.xpath('//a[text()=\"next\"]')"
   ]
  },
  {
   "cell_type": "code",
   "execution_count": 13,
   "metadata": {},
   "outputs": [
    {
     "data": {
      "text/plain": [
       "'<a href=\"catalogue/page-2.html\">next</a>'"
      ]
     },
     "execution_count": 13,
     "metadata": {},
     "output_type": "execute_result"
    }
   ],
   "source": [
    "response.xpath('//a[text()=\"next\"]').extract_first()"
   ]
  },
  {
   "cell_type": "code",
   "execution_count": 14,
   "metadata": {},
   "outputs": [
    {
     "data": {
      "text/plain": [
       "'catalogue/page-2.html'"
      ]
     },
     "execution_count": 14,
     "metadata": {},
     "output_type": "execute_result"
    }
   ],
   "source": [
    "response.xpath('//a[text()=\"next\"]/@href').extract_first()"
   ]
  },
  {
   "cell_type": "code",
   "execution_count": 15,
   "metadata": {},
   "outputs": [
    {
     "data": {
      "text/plain": [
       "[<Selector xpath='//h1' data='<h1>All products</h1>'>]"
      ]
     },
     "execution_count": 15,
     "metadata": {},
     "output_type": "execute_result"
    }
   ],
   "source": [
    "response.xpath('//h1')"
   ]
  },
  {
   "cell_type": "code",
   "execution_count": 16,
   "metadata": {},
   "outputs": [
    {
     "data": {
      "text/plain": [
       "['<h1>All products</h1>']"
      ]
     },
     "execution_count": 16,
     "metadata": {},
     "output_type": "execute_result"
    }
   ],
   "source": [
    "response.xpath('//h1').extract()"
   ]
  },
  {
   "cell_type": "code",
   "execution_count": 17,
   "metadata": {},
   "outputs": [
    {
     "data": {
      "text/plain": [
       "[<Selector xpath='//ul/li' data='<li>\\n            <a href=\"index.html\">Ho'>,\n",
       " <Selector xpath='//ul/li' data='<li class=\"active\">All products</li>'>,\n",
       " <Selector xpath='//ul/li' data='<li>\\n                        <a href=\"ca'>,\n",
       " <Selector xpath='//ul/li' data='<li>\\n                        <a href=\"ca'>,\n",
       " <Selector xpath='//ul/li' data='<li>\\n                        <a href=\"ca'>,\n",
       " <Selector xpath='//ul/li' data='<li>\\n                        <a href=\"ca'>,\n",
       " <Selector xpath='//ul/li' data='<li>\\n                        <a href=\"ca'>,\n",
       " <Selector xpath='//ul/li' data='<li>\\n                        <a href=\"ca'>,\n",
       " <Selector xpath='//ul/li' data='<li>\\n                        <a href=\"ca'>,\n",
       " <Selector xpath='//ul/li' data='<li>\\n                        <a href=\"ca'>,\n",
       " <Selector xpath='//ul/li' data='<li>\\n                        <a href=\"ca'>,\n",
       " <Selector xpath='//ul/li' data='<li>\\n                        <a href=\"ca'>,\n",
       " <Selector xpath='//ul/li' data='<li>\\n                        <a href=\"ca'>,\n",
       " <Selector xpath='//ul/li' data='<li>\\n                        <a href=\"ca'>,\n",
       " <Selector xpath='//ul/li' data='<li>\\n                        <a href=\"ca'>,\n",
       " <Selector xpath='//ul/li' data='<li>\\n                        <a href=\"ca'>,\n",
       " <Selector xpath='//ul/li' data='<li>\\n                        <a href=\"ca'>,\n",
       " <Selector xpath='//ul/li' data='<li>\\n                        <a href=\"ca'>,\n",
       " <Selector xpath='//ul/li' data='<li>\\n                        <a href=\"ca'>,\n",
       " <Selector xpath='//ul/li' data='<li>\\n                        <a href=\"ca'>,\n",
       " <Selector xpath='//ul/li' data='<li>\\n                        <a href=\"ca'>,\n",
       " <Selector xpath='//ul/li' data='<li>\\n                        <a href=\"ca'>,\n",
       " <Selector xpath='//ul/li' data='<li>\\n                        <a href=\"ca'>,\n",
       " <Selector xpath='//ul/li' data='<li>\\n                        <a href=\"ca'>,\n",
       " <Selector xpath='//ul/li' data='<li>\\n                        <a href=\"ca'>,\n",
       " <Selector xpath='//ul/li' data='<li>\\n                        <a href=\"ca'>,\n",
       " <Selector xpath='//ul/li' data='<li>\\n                        <a href=\"ca'>,\n",
       " <Selector xpath='//ul/li' data='<li>\\n                        <a href=\"ca'>,\n",
       " <Selector xpath='//ul/li' data='<li>\\n                        <a href=\"ca'>,\n",
       " <Selector xpath='//ul/li' data='<li>\\n                        <a href=\"ca'>,\n",
       " <Selector xpath='//ul/li' data='<li>\\n                        <a href=\"ca'>,\n",
       " <Selector xpath='//ul/li' data='<li>\\n                        <a href=\"ca'>,\n",
       " <Selector xpath='//ul/li' data='<li>\\n                        <a href=\"ca'>,\n",
       " <Selector xpath='//ul/li' data='<li>\\n                        <a href=\"ca'>,\n",
       " <Selector xpath='//ul/li' data='<li>\\n                        <a href=\"ca'>,\n",
       " <Selector xpath='//ul/li' data='<li>\\n                        <a href=\"ca'>,\n",
       " <Selector xpath='//ul/li' data='<li>\\n                        <a href=\"ca'>,\n",
       " <Selector xpath='//ul/li' data='<li>\\n                        <a href=\"ca'>,\n",
       " <Selector xpath='//ul/li' data='<li>\\n                        <a href=\"ca'>,\n",
       " <Selector xpath='//ul/li' data='<li>\\n                        <a href=\"ca'>,\n",
       " <Selector xpath='//ul/li' data='<li>\\n                        <a href=\"ca'>,\n",
       " <Selector xpath='//ul/li' data='<li>\\n                        <a href=\"ca'>,\n",
       " <Selector xpath='//ul/li' data='<li>\\n                        <a href=\"ca'>,\n",
       " <Selector xpath='//ul/li' data='<li>\\n                        <a href=\"ca'>,\n",
       " <Selector xpath='//ul/li' data='<li>\\n                        <a href=\"ca'>,\n",
       " <Selector xpath='//ul/li' data='<li>\\n                        <a href=\"ca'>,\n",
       " <Selector xpath='//ul/li' data='<li>\\n                        <a href=\"ca'>,\n",
       " <Selector xpath='//ul/li' data='<li>\\n                        <a href=\"ca'>,\n",
       " <Selector xpath='//ul/li' data='<li>\\n                        <a href=\"ca'>,\n",
       " <Selector xpath='//ul/li' data='<li>\\n                        <a href=\"ca'>,\n",
       " <Selector xpath='//ul/li' data='<li>\\n                        <a href=\"ca'>,\n",
       " <Selector xpath='//ul/li' data='<li>\\n                        <a href=\"ca'>,\n",
       " <Selector xpath='//ul/li' data='<li>\\n                        <a href=\"ca'>,\n",
       " <Selector xpath='//ul/li' data='<li class=\"current\">\\n            \\n      '>,\n",
       " <Selector xpath='//ul/li' data='<li class=\"next\"><a href=\"catalogue/page'>]"
      ]
     },
     "execution_count": 17,
     "metadata": {},
     "output_type": "execute_result"
    }
   ],
   "source": [
    "response.xpath('//ul/li')"
   ]
  },
  {
   "cell_type": "code",
   "execution_count": 18,
   "metadata": {},
   "outputs": [
    {
     "data": {
      "text/plain": [
       "['index.html',\n",
       " 'catalogue/category/books_1/index.html',\n",
       " 'catalogue/category/books/travel_2/index.html',\n",
       " 'catalogue/category/books/mystery_3/index.html',\n",
       " 'catalogue/category/books/historical-fiction_4/index.html',\n",
       " 'catalogue/category/books/sequential-art_5/index.html',\n",
       " 'catalogue/category/books/classics_6/index.html',\n",
       " 'catalogue/category/books/philosophy_7/index.html',\n",
       " 'catalogue/category/books/romance_8/index.html',\n",
       " 'catalogue/category/books/womens-fiction_9/index.html',\n",
       " 'catalogue/category/books/fiction_10/index.html',\n",
       " 'catalogue/category/books/childrens_11/index.html',\n",
       " 'catalogue/category/books/religion_12/index.html',\n",
       " 'catalogue/category/books/nonfiction_13/index.html',\n",
       " 'catalogue/category/books/music_14/index.html',\n",
       " 'catalogue/category/books/default_15/index.html',\n",
       " 'catalogue/category/books/science-fiction_16/index.html',\n",
       " 'catalogue/category/books/sports-and-games_17/index.html',\n",
       " 'catalogue/category/books/add-a-comment_18/index.html',\n",
       " 'catalogue/category/books/fantasy_19/index.html',\n",
       " 'catalogue/category/books/new-adult_20/index.html',\n",
       " 'catalogue/category/books/young-adult_21/index.html',\n",
       " 'catalogue/category/books/science_22/index.html',\n",
       " 'catalogue/category/books/poetry_23/index.html',\n",
       " 'catalogue/category/books/paranormal_24/index.html',\n",
       " 'catalogue/category/books/art_25/index.html',\n",
       " 'catalogue/category/books/psychology_26/index.html',\n",
       " 'catalogue/category/books/autobiography_27/index.html',\n",
       " 'catalogue/category/books/parenting_28/index.html',\n",
       " 'catalogue/category/books/adult-fiction_29/index.html',\n",
       " 'catalogue/category/books/humor_30/index.html',\n",
       " 'catalogue/category/books/horror_31/index.html',\n",
       " 'catalogue/category/books/history_32/index.html',\n",
       " 'catalogue/category/books/food-and-drink_33/index.html',\n",
       " 'catalogue/category/books/christian-fiction_34/index.html',\n",
       " 'catalogue/category/books/business_35/index.html',\n",
       " 'catalogue/category/books/biography_36/index.html',\n",
       " 'catalogue/category/books/thriller_37/index.html',\n",
       " 'catalogue/category/books/contemporary_38/index.html',\n",
       " 'catalogue/category/books/spirituality_39/index.html',\n",
       " 'catalogue/category/books/academic_40/index.html',\n",
       " 'catalogue/category/books/self-help_41/index.html',\n",
       " 'catalogue/category/books/historical_42/index.html',\n",
       " 'catalogue/category/books/christian_43/index.html',\n",
       " 'catalogue/category/books/suspense_44/index.html',\n",
       " 'catalogue/category/books/short-stories_45/index.html',\n",
       " 'catalogue/category/books/novels_46/index.html',\n",
       " 'catalogue/category/books/health_47/index.html',\n",
       " 'catalogue/category/books/politics_48/index.html',\n",
       " 'catalogue/category/books/cultural_49/index.html',\n",
       " 'catalogue/category/books/erotica_50/index.html',\n",
       " 'catalogue/category/books/crime_51/index.html',\n",
       " 'catalogue/page-2.html']"
      ]
     },
     "execution_count": 18,
     "metadata": {},
     "output_type": "execute_result"
    }
   ],
   "source": [
    "response.xpath('//ul/li/a/@href').extract()"
   ]
  },
  {
   "cell_type": "code",
   "execution_count": null,
   "metadata": {
    "collapsed": true
   },
   "outputs": [],
   "source": []
  }
 ],
 "metadata": {
  "kernelspec": {
   "display_name": "Python 3",
   "language": "python",
   "name": "python3"
  },
  "language_info": {
   "codemirror_mode": {
    "name": "ipython",
    "version": 3
   },
   "file_extension": ".py",
   "mimetype": "text/x-python",
   "name": "python",
   "nbconvert_exporter": "python",
   "pygments_lexer": "ipython3",
   "version": "3.6.1"
  }
 },
 "nbformat": 4,
 "nbformat_minor": 1
}
