{
 "cells": [
  {
   "cell_type": "markdown",
   "metadata": {},
   "source": [
    "7.1  Create a crawler using the webcrawler provided and discussed in my jupyter notebook ( https://github.com/pschragger/big-data-python-class/blob/master/Lectures/Lecture_7_-_Link_Analysis.ipynb) , have it crawl the first 200 pages from a base URL of your choosing<br>\n",
    "7.2  Create a Stochastic matrix from its resulting crawling as per https://cs7083.wordpress.com/2013/01/31/demystifying-the-pagerank-and-hits-algorithms/<br>\n",
    "7.3 Pass it through the Page Rank algorithm and provide the list of the top 5 page URLs in your sample<br>\n",
    "7.x For extra credit use the hits algorithm ( with a connectivity matrix )<br>\n",
    "7.xx For advanced credit find another ranking alogrithm and demonstrate that as well<br>"
   ]
  },
  {
   "cell_type": "code",
   "execution_count": 9,
   "metadata": {},
   "outputs": [
    {
     "name": "stdout",
     "output_type": "stream",
     "text": [
      "Overwriting code/olx/olx/items.py\n"
     ]
    }
   ],
   "source": [
    "%%writefile code/olx/olx/items.py\n",
    "# %load code/tutorial/tutorial/items.py\n",
    "\n",
    "# Define here the models for your scraped items\n",
    "\n",
    "import scrapy\n",
    "\n",
    "## Adding container to hold scraped data using scrapy.Item as the parent class\n",
    "class OlxItem(scrapy.Item):\n",
    "    #title = scrapy.Field()\n",
    "    #price = scrapy.Field()\n",
    "    #url = scrapy.Field()\n",
    "    pass\n"
   ]
  },
  {
   "cell_type": "markdown",
   "metadata": {},
   "source": [
    "## Creating first spider\n",
    "create a file in the spider directory.\n",
    "Set the name, start_urls, parse fuction"
   ]
  },
  {
   "cell_type": "code",
   "execution_count": 11,
   "metadata": {},
   "outputs": [
    {
     "name": "stdout",
     "output_type": "stream",
     "text": [
      "Overwriting code/olx/olx/spiders/electronics.py\n"
     ]
    }
   ],
   "source": [
    "%%writefile code/olx/olx/spiders/electronics.py\n",
    "\n",
    "import scrapy\n",
    "from scrapy.spiders import CrawlSpider, Rule\n",
    "from scrapy.linkextractors import LinkExtractor\n",
    "\n",
    "class ElectronicsSpider(CrawlSpider):\n",
    "    name = \"electronics\"\n",
    "    allowed_domains = [\"www.olx.com.in\"]\n",
    "    start_urls = ['https://www.olx.in/computers-laptops/']\n",
    "    \n",
    "    rules = (Rule(LinkExtractor(), callback='parse_item', follow=True),)\n",
    "          \n",
    "    def parse_item(self, response):\n",
    "        yield {'url': response.url }\n",
    "            "
   ]
  },
  {
   "cell_type": "code",
   "execution_count": 9,
   "metadata": {},
   "outputs": [
    {
     "name": "stdout",
     "output_type": "stream",
     "text": [
      "C:\\Users\\Dinesh\\Desktop\\Git Repositories\\big-data-python-class\\Homeworks\\Homework7\\code\\olx\n"
     ]
    }
   ],
   "source": [
    "cd code/olx"
   ]
  },
  {
   "cell_type": "code",
   "execution_count": 12,
   "metadata": {},
   "outputs": [
    {
     "name": "stdout",
     "output_type": "stream",
     "text": [
      "<200 https://www.olx.in/>\n"
     ]
    }
   ],
   "source": [
    "import requests\n",
    "from scrapy.http import TextResponse\n",
    "\n",
    "#running scrappy to get a response from a URL\n",
    "r = requests.get('https://www.olx.in')\n",
    "response = TextResponse(r.url, body=r.text, encoding='utf-8')\n",
    "\n",
    "print(response)"
   ]
  },
  {
   "cell_type": "code",
   "execution_count": 13,
   "metadata": {},
   "outputs": [
    {
     "data": {
      "text/plain": [
       "[<Selector xpath='//title' data='<title>Free classifieds in India, Classi'>]"
      ]
     },
     "execution_count": 13,
     "metadata": {},
     "output_type": "execute_result"
    }
   ],
   "source": [
    "#Using xpath to access data\n",
    "response.xpath('//title')"
   ]
  },
  {
   "cell_type": "code",
   "execution_count": 14,
   "metadata": {},
   "outputs": [
    {
     "data": {
      "text/plain": [
       "['Free classifieds in India, Classified ads in India, Online Classified Advertising']"
      ]
     },
     "execution_count": 14,
     "metadata": {},
     "output_type": "execute_result"
    }
   ],
   "source": [
    " response.xpath('//title/text()').extract()"
   ]
  },
  {
   "cell_type": "code",
   "execution_count": 15,
   "metadata": {},
   "outputs": [
    {
     "data": {
      "text/plain": [
       "[<Selector xpath='//ul/li' data='<li class=\"inlblk\">\\n\\t\\t\\t\\t\\t\\t\\t\\t\\t\\t\\t\\t\\t<span c'>,\n",
       " <Selector xpath='//ul/li' data='<li class=\"inlblk\">\\n\\t\\t\\t\\t\\t\\t\\t\\t\\t\\t\\t\\t\\t<a clas'>,\n",
       " <Selector xpath='//ul/li' data='<li class=\"hidden inlblk nowrap rel vtop'>,\n",
       " <Selector xpath='//ul/li' data='<li class=\"inlblk nowrap vtop noslash\" i'>,\n",
       " <Selector xpath='//ul/li' data='<li class=\"block\">\\r\\n            <a href='>,\n",
       " <Selector xpath='//ul/li' data='<li class=\"block\">\\r\\n                <a h'>,\n",
       " <Selector xpath='//ul/li' data='<li class=\"block\">\\r\\n                <a h'>,\n",
       " <Selector xpath='//ul/li' data='<li class=\"block\">\\r\\n            <a href='>,\n",
       " <Selector xpath='//ul/li' data='<li class=\"block\">\\r\\n\\t\\t\\t\\t\\t<a class=\"link '>,\n",
       " <Selector xpath='//ul/li' data='<li class=\"block\">\\r\\n            <a href='>,\n",
       " <Selector xpath='//ul/li' data='<li class=\"block\">\\r\\n            <a href='>,\n",
       " <Selector xpath='//ul/li' data='<li class=\"fleft\">\\r\\n    \\t\\t<a target=\"_bl'>,\n",
       " <Selector xpath='//ul/li' data='<li class=\"fleft\">\\r\\n    \\t    <a target=\"'>,\n",
       " <Selector xpath='//ul/li' data='<li class=\"fleft\">\\r\\n    \\t    <a target=\"'>,\n",
       " <Selector xpath='//ul/li' data='<li class=\"fleft\">\\r\\n\\t\\t\\t<a target=\"_blank'>]"
      ]
     },
     "execution_count": 15,
     "metadata": {},
     "output_type": "execute_result"
    }
   ],
   "source": [
    "response.xpath('//ul/li')"
   ]
  },
  {
   "cell_type": "code",
   "execution_count": 16,
   "metadata": {},
   "outputs": [
    {
     "data": {
      "text/plain": [
       "['https://www.olx.in/changelang/?lang=hi',\n",
       " 'https://www.olx.in/observed/',\n",
       " 'https://www.olx.in/observed/search/',\n",
       " 'https://www.olx.in/sitemap/regions/',\n",
       " 'https://www.olx.in/popular/',\n",
       " 'https://www.olx.in/archive/',\n",
       " 'https://www.olx.in/sitemap/',\n",
       " 'https://www.olx.in/payment/whyhighlight/',\n",
       " 'https://www.olx.in/terms/',\n",
       " 'http://help.olx.in/hc/en-us',\n",
       " 'https://www.facebook.com/olxindia',\n",
       " 'https://plus.google.com/113395767313404239895',\n",
       " 'https://twitter.com/OLX_India',\n",
       " 'https://www.instagram.com/olx_india']"
      ]
     },
     "execution_count": 16,
     "metadata": {},
     "output_type": "execute_result"
    }
   ],
   "source": [
    "response.xpath('//ul/li/a/@href').extract()"
   ]
  },
  {
   "cell_type": "code",
   "execution_count": 17,
   "metadata": {},
   "outputs": [
    {
     "data": {
      "text/plain": [
       "[<Selector xpath='//a' data='<a href=\"https://www.olx.in\" id=\"headerL'>,\n",
       " <Selector xpath='//a' data='<a href=\"https://www.olx.in/newolx/\" cla'>,\n",
       " <Selector xpath='//a' data='<a id=\"postNewAdLink\" class=\"postnewlink'>,\n",
       " <Selector xpath='//a' data='<a class=\"x-normal\" id=\"changeLang\" href'>,\n",
       " <Selector xpath='//a' data='<a href=\"https://www.olx.in/observed/\" c'>,\n",
       " <Selector xpath='//a' data='<a href=\"https://www.olx.in/observed/sea'>,\n",
       " <Selector xpath='//a' data='<a href=\"https://www.olx.in/myaccount/\" '>,\n",
       " <Selector xpath='//a' data='<a href=\"#\" class=\"icon cleartext3 abs c'>,\n",
       " <Selector xpath='//a' data='<a id=\"geo-suggestions-close\" href=\"#\" c'>,\n",
       " <Selector xpath='//a' data='<a class=\"icon cleartext8 abs clear-inpu'>,\n",
       " <Selector xpath='//a' data='<a href=\"#\" class=\"close block\">Close</a'>,\n",
       " <Selector xpath='//a' data='<a href=\"https://www.olx.in/real-estate/'>,\n",
       " <Selector xpath='//a' data='<a href=\"https://www.olx.in/real-estate/'>,\n",
       " <Selector xpath='//a' data='<a href=\"https://www.olx.in/vehicles/cat'>,\n",
       " <Selector xpath='//a' data='<a href=\"https://www.olx.in/vehicles/cat'>,\n",
       " <Selector xpath='//a' data='<a href=\"https://www.olx.in/electronics-'>,\n",
       " <Selector xpath='//a' data='<a href=\"https://www.olx.in/electronics-'>,\n",
       " <Selector xpath='//a' data='<a href=\"https://www.olx.in/furniture/ca'>,\n",
       " <Selector xpath='//a' data='<a href=\"https://www.olx.in/furniture/ca'>,\n",
       " <Selector xpath='//a' data='<a href=\"https://www.olx.in/jobs/categor'>,\n",
       " <Selector xpath='//a' data='<a href=\"https://www.olx.in/jobs/categor'>,\n",
       " <Selector xpath='//a' data='<a href=\"https://www.olx.in/mobiles/cate'>,\n",
       " <Selector xpath='//a' data='<a href=\"https://www.olx.in/mobiles/cate'>,\n",
       " <Selector xpath='//a' data='<a href=\"https://www.olx.in/bikes/catego'>,\n",
       " <Selector xpath='//a' data='<a href=\"https://www.olx.in/bikes/catego'>,\n",
       " <Selector xpath='//a' data='<a href=\"https://www.olx.in/books-sports'>,\n",
       " <Selector xpath='//a' data='<a href=\"https://www.olx.in/books-sports'>,\n",
       " <Selector xpath='//a' data='<a href=\"https://www.olx.in/fashion-beau'>,\n",
       " <Selector xpath='//a' data='<a href=\"https://www.olx.in/fashion-beau'>,\n",
       " <Selector xpath='//a' data='<a href=\"https://www.olx.in/pets/categor'>,\n",
       " <Selector xpath='//a' data='<a href=\"https://www.olx.in/pets/categor'>,\n",
       " <Selector xpath='//a' data='<a href=\"https://www.olx.in/services/cat'>,\n",
       " <Selector xpath='//a' data='<a href=\"https://www.olx.in/services/cat'>,\n",
       " <Selector xpath='//a' data='<a href=\"\" class=\"tdnone\" title=\"\" data-'>,\n",
       " <Selector xpath='//a' data='<a class=\"icon mobile-homepage block rel'>,\n",
       " <Selector xpath='//a' data='<a href=\"https://www.olx.in/sitemap/regi'>,\n",
       " <Selector xpath='//a' data='<a href=\"https://www.olx.in/popular/\" cl'>,\n",
       " <Selector xpath='//a' data='<a href=\"https://www.olx.in/archive/\" cl'>,\n",
       " <Selector xpath='//a' data='<a href=\"https://www.olx.in/sitemap/\" cl'>,\n",
       " <Selector xpath='//a' data='<a class=\"link gray\" title=\"Featured Ads'>,\n",
       " <Selector xpath='//a' data='<a href=\"https://www.olx.in/terms/\" clas'>,\n",
       " <Selector xpath='//a' data='<a href=\"http://help.olx.in/hc/en-us\" cl'>,\n",
       " <Selector xpath='//a' data='<a href=\"#\" class=\"tdnone link spoiler g'>,\n",
       " <Selector xpath='//a' data='<a href=\"http://joinolx.com/\" target=\"_b'>,\n",
       " <Selector xpath='//a' data='<a href=\"https://www.olx.in/testimonial/'>,\n",
       " <Selector xpath='//a' data='<a target=\"_blank\" href=\"https://www.fac'>,\n",
       " <Selector xpath='//a' data='<a target=\"_blank\" href=\"https://plus.go'>,\n",
       " <Selector xpath='//a' data='<a target=\"_blank\" href=\"https://twitter'>,\n",
       " <Selector xpath='//a' data='<a target=\"_blank\" href=\"https://www.ins'>,\n",
       " <Selector xpath='//a' data='<a class=\"button big3 br3 circleshadow\" '>,\n",
       " <Selector xpath='//a' data='<a href=\"https://www.olx.in/account/regi'>,\n",
       " <Selector xpath='//a' data='<a href=\"#\" class=\"link\" onclick=\"$.fanc'>,\n",
       " <Selector xpath='//a' data='<a class=\"button big br3\" href=\"#\" id=\"s'>,\n",
       " <Selector xpath='//a' data='<a href=\"#\" class=\"link\" id=\"synchronize'>,\n",
       " <Selector xpath='//a' data='<a href=\"https://plus.google.com/1133957'>]"
      ]
     },
     "execution_count": 17,
     "metadata": {},
     "output_type": "execute_result"
    }
   ],
   "source": [
    "response.xpath('//a')"
   ]
  },
  {
   "cell_type": "markdown",
   "metadata": {
    "collapsed": true
   },
   "source": [
    "## Scrapy shell\n",
    "\n",
    "In a command window/ terminal window\n",
    "\n",
    "go to the tutorial project directory and type \n",
    "scrapy shell \"http://www.dmoz.org/Computers/Programming/Languages/Python/Books/\"\n",
    "\n",
    "Try running the crawler to see the response using\n",
    "scrapy crawl dmoz "
   ]
  },
  {
   "cell_type": "markdown",
   "metadata": {},
   "source": [
    "Let's try an example crawler that creates a csv from:\n",
    "\n",
    "https://github.com/mjhea0/Scrapy-Samples/tree/master/crawlspider\n",
    "    \n",
    "I cloned the code as part of the code directory code/Scrapy-Samples-master\n",
    "and added a parent URL in the output csv file it can be run by using:\n",
    "\n",
    "cd to the code/Scrapy-Samples-master/crawlspider \n",
    "and run:\n",
    "scrapy crawl craigs -o items.csv -t csv\n",
    "\n",
    "Sample 20 lines from the csv file.."
   ]
  },
  {
   "cell_type": "code",
   "execution_count": null,
   "metadata": {
    "collapsed": true
   },
   "outputs": [],
   "source": [
    "# %load -r 1-20  code/Scrapy-Samples-master/crawlspider/items.csv\n",
    "link,parent,title\n",
    "/pen/npo/5295330281.html,http://sfbay.craigslist.org/search/npo?s=100,Residential Counselor: 8am-1pm M-F\n",
    "/sby/npo/5295329495.html,http://sfbay.craigslist.org/search/npo?s=100,Residential Counselor-Teen Group Home: Graveyard\n",
    "/pen/npo/5295329005.html,http://sfbay.craigslist.org/search/npo?s=100,Residential Counselor: Teen Group Home (sexually exploited) Graveyard\n",
    "/pen/npo/5295328420.html,http://sfbay.craigslist.org/search/npo?s=100,Residential Counselor: Teen Group Home (sexually exploited) Graveyard\n",
    "/pen/npo/5295319941.html,http://sfbay.craigslist.org/search/npo?s=100,Open House 11/5 9am-12pm! Residential Counselor: Teen Group Home\n",
    "/sby/npo/5295318633.html,http://sfbay.craigslist.org/search/npo?s=100,Open House 11/5 9am-12pm! Residential Counselor: Teen Group Home\n",
    "/sby/npo/5295314523.html,http://sfbay.craigslist.org/search/npo?s=100,Open House! Residential Counselor: Teen Group Home\n",
    "/pen/npo/5295313019.html,http://sfbay.craigslist.org/search/npo?s=100,Open House! Residential Counselor: Teen Group Home\n",
    "/nby/npo/5293967692.html,http://sfbay.craigslist.org/search/npo?s=100,\"Mental Health: part-time Care Manager, Sun-Wed\"\n",
    "/eby/npo/5293356884.html,http://sfbay.craigslist.org/search/npo?s=100,Executive Assistant for Progressive Organizations - Full or Part Time\n",
    "/sfc/npo/5293340020.html,http://sfbay.craigslist.org/search/npo?s=100,Curriculum & Instruction Director - Level Playing Field Institute\n",
    "/sfc/npo/5293326898.html,http://sfbay.craigslist.org/search/npo?s=100,Site Director - Level Playing Field\n",
    "/nby/npo/5293324327.html,http://sfbay.craigslist.org/search/npo?s=100,Residential Treatment Evening/Weekend Supervisor\n",
    "/nby/npo/5293323754.html,http://sfbay.craigslist.org/search/npo?s=100,Group Counselor\n",
    "/eby/npo/5293294634.html,http://sfbay.craigslist.org/search/npo?s=100,Job Developer / Vocational Counselor\n",
    "/nby/npo/5293293327.html,http://sfbay.craigslist.org/search/npo?s=100,Counselor / Case Managers\n",
    "/nby/npo/5293292799.html,http://sfbay.craigslist.org/search/npo?s=100,Assistant Program Director\n",
    "/sfc/npo/5293292256.html,http://sfbay.craigslist.org/search/npo?s=100,PROGRAM MANAGER\n",
    "/nby/npo/5293291685.html,http://sfbay.craigslist.org/search/npo?s=100,Licensed Therapist - Part Time"
   ]
  },
  {
   "cell_type": "code",
   "execution_count": 15,
   "metadata": {
    "collapsed": true
   },
   "outputs": [],
   "source": []
  },
  {
   "cell_type": "markdown",
   "metadata": {},
   "source": [
    "\n",
    "        I am including implmentations of page rank and hits from\n",
    "    https://cs7083.wordpress.com/2013/01/31/demystifying-the-pagerank-and-hits-algorithms/"
   ]
  },
  {
   "cell_type": "code",
   "execution_count": 7,
   "metadata": {
    "collapsed": true
   },
   "outputs": [],
   "source": [
    "from numpy import *\n",
    " \n",
    "def pagerank(H):\n",
    "    n= len(H)\n",
    "    w = zeros(n)\n",
    "    rho = 1./n * ones(n);\n",
    "    for i in range(n):\n",
    "        if multiply.reduce(H[i]== zeros(n)):\n",
    "            w[i] = 1\n",
    "    newH = H + outer((1./n * w),ones(n))\n",
    " \n",
    "    theta=0.85\n",
    "    G = (theta * newH) + ((1-theta) * outer(1./n * ones(n), ones(n)))\n",
    "    print(rho)\n",
    "    for j in range(10):\n",
    "        rho = dot(rho,G)\n",
    "        print(rho)"
   ]
  },
  {
   "cell_type": "code",
   "execution_count": 8,
   "metadata": {
    "collapsed": true
   },
   "outputs": [],
   "source": [
    "def hits(A):\n",
    "    n= len(A)\n",
    "    Au= dot(transpose(A),A)\n",
    "    Hu = dot(A,transpose(A))\n",
    "    a = ones(n); h = ones(n)\n",
    "    print(a,h)\n",
    "    for j in range(5):\n",
    "        a = dot(a,Au)\n",
    "        a= a/sum(a)\n",
    "        h = dot(h,Hu)\n",
    "        h = h/ sum(h)\n",
    "        print(a,h)"
   ]
  },
  {
   "cell_type": "markdown",
   "metadata": {},
   "source": [
    "Now we would need to create the Stostic matrix to perfrom the analyis\n",
    "<img src=\"https://cs7083.files.wordpress.com/2013/01/b.png\">\n",
    "Now we would need to create the Stostic matrix to perfrom the analyis\n",
    "<img src=\"https://cs7083.files.wordpress.com/2013/01/a.png\">"
   ]
  },
  {
   "cell_type": "markdown",
   "metadata": {},
   "source": [
    "H2= array([[0, 1./2, 0, 0,1./2, 0], [0, 0, 1, 0, 0, 0],[ 1./3,1./3,0, 1./3, 0,0],[1./2, 0, 0, 0,1./2, 0],[1./2, 0, 0,1./2, 0,0],[0, 1./2 ,1./2,0,0,0]])"
   ]
  },
  {
   "cell_type": "code",
   "execution_count": 35,
   "metadata": {
    "collapsed": true
   },
   "outputs": [],
   "source": [
    "H2= array([[0, 1./2, 0, 0,1./2, 0], [0, 0, 1, 0, 0, 0],[ 1./3,1./3,0, 1./3, 0,0],[1./2, 0, 0, 0,1./2, 0],[1./2, 0, 0,1./2, 0,0],[0, 1./2 ,1./2,0,0,0]])"
   ]
  },
  {
   "cell_type": "code",
   "execution_count": 36,
   "metadata": {},
   "outputs": [
    {
     "name": "stdout",
     "output_type": "stream",
     "text": [
      "[ 0.16666667  0.16666667  0.16666667  0.16666667  0.16666667  0.16666667]\n",
      "[ 0.21388889  0.21388889  0.2375      0.14305556  0.16666667  0.025     ]\n",
      "[ 0.22392361  0.19381944  0.21743056  0.163125    0.17670139  0.025     ]\n",
      "[ 0.23103154  0.19239786  0.20037153  0.16170341  0.18949566  0.025     ]\n",
      "[ 0.23103154  0.19058534  0.19916318  0.16230759  0.19191236  0.025     ]\n",
      "[ 0.23197304  0.19024297  0.19762254  0.16299232  0.19216913  0.025     ]\n",
      "[ 0.23193667  0.1902066   0.19733153  0.16266493  0.19286028  0.025     ]\n",
      "[ 0.23200881  0.19010868  0.19730061  0.16287622  0.19270568  0.025     ]\n",
      "[ 0.23202414  0.19013058  0.19721738  0.16280175  0.19282614  0.025     ]\n",
      "[ 0.23202011  0.19011352  0.197236    0.16282937  0.19280101  0.025     ]\n",
      "[ 0.23202644  0.19011708  0.19722149  0.16282396  0.19281103  0.025     ]\n"
     ]
    }
   ],
   "source": [
    "pagerank(H2)"
   ]
  },
  {
   "cell_type": "code",
   "execution_count": 37,
   "metadata": {},
   "outputs": [
    {
     "name": "stdout",
     "output_type": "stream",
     "text": [
      "[ 1.  1.  1.  1.  1.  1.] [ 1.  1.  1.  1.  1.  1.]\n",
      "[ 0.26923077  0.26923077  0.11538462  0.19230769  0.15384615  0.        ] [ 0.16666667  0.06666667  0.26666667  0.16666667  0.16666667  0.16666667]\n",
      "[ 0.28378378  0.27027027  0.08783784  0.20945946  0.14864865  0.        ] [ 0.16666667  0.04166667  0.29166667  0.16666667  0.18452381  0.14880952]\n",
      "[ 0.29205607  0.26635514  0.0771028   0.21728972  0.14719626  0.        ] [ 0.16356108  0.03312629  0.30020704  0.16977226  0.19461698  0.13871636]\n",
      "[ 0.29650462  0.26355966  0.0723182   0.22097228  0.14664524  0.        ] [ 0.16131335  0.0296217   0.30371163  0.17201999  0.19985724  0.13347609]\n",
      "[ 0.29880066  0.26199338  0.07003033  0.22277364  0.14640199  0.        ] [ 0.16004659  0.02801275  0.30532058  0.17328675  0.20252544  0.1308079 ]\n"
     ]
    }
   ],
   "source": [
    "#For the HIT algorithm we only need the connectivity graph\n",
    "A2 = array([[0, 1, 0, 0,1, 0], [0, 0, 1, 0, 0, 0],[ 1,1,0, 1, 0,0],  [1,0,0,0,1,0], [1,0, 0,1, 0, 0],[0,1,1,0,0,0]])\n",
    "hits(A2)"
   ]
  },
  {
   "cell_type": "code",
   "execution_count": null,
   "metadata": {
    "collapsed": true
   },
   "outputs": [],
   "source": []
  }
 ],
 "metadata": {
  "kernelspec": {
   "display_name": "Python 3",
   "language": "python",
   "name": "python3"
  },
  "language_info": {
   "codemirror_mode": {
    "name": "ipython",
    "version": 3
   },
   "file_extension": ".py",
   "mimetype": "text/x-python",
   "name": "python",
   "nbconvert_exporter": "python",
   "pygments_lexer": "ipython3",
   "version": "3.6.1"
  }
 },
 "nbformat": 4,
 "nbformat_minor": 1
}
