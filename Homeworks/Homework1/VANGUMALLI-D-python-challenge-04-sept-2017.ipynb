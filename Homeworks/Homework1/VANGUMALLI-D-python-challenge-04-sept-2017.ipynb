{
 "cells": [
  {
   "cell_type": "markdown",
   "metadata": {},
   "source": [
    "# Python Homework 1 - The challenge\n",
    "\n",
    "Take the python challenge found on www.pythonchallenge.com/.\n",
    "You will copy this notebook.  Rename it as:\n",
    "YOURLASTNAME-FIRSTINITIAL-python-challenge-xx-Sept-2017\n",
    "\n",
    "with your name replacing your last name and first initial and the xx replaced by the date you started or submitted.\n",
    "\n",
    "Do the first 10 challenges and put each question and your python solution and the final resulting url in this notebook or a series of connected notebooks.\n",
    "Discuss your attempt what parts of python were you using.\n",
    "\n",
    "Upload your completed jupyter notebook zip file to elearning site as your homework submission.  Do not put this notebook on your github.\n",
    "\n",
    " Note: 3 points for 10 correct answers...  4 points for 15 and 5 points for all 33 "
   ]
  },
  {
   "cell_type": "markdown",
   "metadata": {},
   "source": [
    "\n",
    "### Python challenge question 1"
   ]
  },
  {
   "cell_type": "markdown",
   "metadata": {},
   "source": [
    "This challenge is straight forward. It hints to change URL and so I tried to change the URL to \"http://www.pythonchallenge.com/pc/def/1.html\". The URL showed the message \"2**38 is much much larger\", from which I got the clue."
   ]
  },
  {
   "cell_type": "code",
   "execution_count": 69,
   "metadata": {},
   "outputs": [
    {
     "name": "stdout",
     "output_type": "stream",
     "text": [
      "274877906944\n",
      "274877906944\n"
     ]
    }
   ],
   "source": [
    "#http://www.pythonchallenge.com/pc/def/0.html\n",
    "\n",
    "print(2**38)\n",
    "print(pow(2,38))\n",
    "\n",
    "#http://www.pythonchallenge.com/pc/def/map.html"
   ]
  },
  {
   "cell_type": "markdown",
   "metadata": {},
   "source": [
    "### Python challenge question 2"
   ]
  },
  {
   "cell_type": "markdown",
   "metadata": {},
   "source": [
    "I changed the URL to \"http://www.pythonchallenge.com/pc/def/274877906944.html\" which redirected to \"http://www.pythonchallenge.com/pc/def/map.html\". This challenge has a picture with letters on i and a text below it. It can be seen that the letters on the right are two characters after the letters on the left, (K->M, O->Q, E->G) and so got the clue that all the letters in the text must be moved by 2 letters. I googled \"mapping characters in python\" and found that there is a function called \"str.maketrans\" in the library \"string\". "
   ]
  },
  {
   "cell_type": "code",
   "execution_count": 81,
   "metadata": {},
   "outputs": [
    {
     "name": "stdout",
     "output_type": "stream",
     "text": [
      "i hope you didnt translate it by hand. thats what computers are for. doing it in by hand is inefficient and that's why this text is so long. using string.maketrans() is recommended. now apply on the url.\n",
      "ocr\n"
     ]
    }
   ],
   "source": [
    "#http://www.pythonchallenge.com/pc/def/274877906944.html\n",
    "#http://www.pythonchallenge.com/pc/def/map.html\n",
    "\n",
    "import string\n",
    "\n",
    "inp=\"abcdefghijklmnopqrstuvwxyz\"\n",
    "outp=\"cdefghijklmnopqrstuvwxyzab\"\n",
    "trans=str.maketrans(inp, outp)\n",
    "\n",
    "strg = \"g fmnc wms bgblr rpylqjyrc gr zw fylb. rfyrq ufyr amknsrcpq ypc dmp. bmgle gr gl zw fylb gq glcddgagclr ylb rfyr'q ufw rfgq rcvr gq qm jmle. sqgle qrpgle.kyicrpylq() gq pcamkkclbcb. lmu ynnjw ml rfc spj.\"\n",
    "print(strg.translate(trans))\n",
    "\n",
    "print (\"map\".translate(trans))  #Apply the function on \"map\"\n",
    "\n",
    "#http://www.pythonchallenge.com/pc/def/ocr.html"
   ]
  },
  {
   "cell_type": "markdown",
   "metadata": {},
   "source": [
    "### Python challenge question 3"
   ]
  },
  {
   "cell_type": "markdown",
   "metadata": {},
   "source": [
    "I then changed the URL to \"http://www.pythonchallenge.com/pc/def/ocr.html\". This challenge shows a picture of a book and it says to recognize the characters, giving a clue to check the page source. When I checked it, I found  big block of characters in the page source which I thought should be read into python using \"urllib\" library. There are already functions that look for specific patterns using regular expressions."
   ]
  },
  {
   "cell_type": "code",
   "execution_count": 71,
   "metadata": {},
   "outputs": [
    {
     "name": "stdout",
     "output_type": "stream",
     "text": [
      "['e', 'q', 'u', 'a', 'l', 'i', 't', 'y']\n"
     ]
    }
   ],
   "source": [
    "#http://www.pythonchallenge.com/pc/def/ocr.html\n",
    "\n",
    "import urllib.request\n",
    "url_ocr = urllib.request.urlopen(\"http://www.pythonchallenge.com/pc/def/ocr.html\").read().decode()\n",
    "#print(url_ocr)\n",
    "\n",
    "import re\n",
    "content = re.findall(\"<!--(.*?)-->\", url_ocr, re.S)[-1]   #findall() matches all occurrences of a pattern\n",
    "                                                          #re.S makes the '.' special character match any character at all, including a newline; without this flag, '.' will match anything except a newline.\n",
    "print(re.findall(\"[A-Za-z]\", content))    \n",
    "\n",
    "#http://www.pythonchallenge.com/pc/def/equality.html"
   ]
  },
  {
   "cell_type": "markdown",
   "metadata": {},
   "source": [
    "### Python challenge question 4"
   ]
  },
  {
   "cell_type": "markdown",
   "metadata": {},
   "source": [
    "Then, I changed the URL to \"http://www.pythonchallenge.com/pc/def/equality.html\" and there is text which says \"One small letter, surrounded by EXACTLY three big bodyguards on each of its sides\". I checked the page source to find any other clues and there is a big block of text, just as previous challenge. \n",
    "\n",
    "With a little thought, I guessed that I should look for characters in the pattern of \"one small letter\" surrounded by \"three capital letters\" on both the sides. "
   ]
  },
  {
   "cell_type": "code",
   "execution_count": 72,
   "metadata": {},
   "outputs": [
    {
     "name": "stdout",
     "output_type": "stream",
     "text": [
      "['l', 'i', 'n', 'k', 'e', 'd', 'l', 'i', 's', 't']\n",
      "linkedlist\n"
     ]
    }
   ],
   "source": [
    "#http://www.pythonchallenge.com/pc/def/equality.html\n",
    "\n",
    "import urllib.request\n",
    "url_eq = urllib.request.urlopen(\"http://www.pythonchallenge.com/pc/def/equality.html\").read().decode()\n",
    "\n",
    "import re\n",
    "data = re.findall(\"<!--(.*?)-->\", url_eq, re.S)[-1]   #findall() matches all occurrences of a pattern\n",
    "                                                      #re.S makes the '.' special character match any character at all, including a newline; without this flag, '.' will match anything except a newline.\n",
    "\n",
    "print(re.findall(\"[^A-Z]+[A-Z]{3}([a-z])[A-Z]{3}[^A-Z]+\", data))\n",
    "#The first part is ^A-Z means that the first character should be anything but a capital A through Z. The next three characters must be a capital letter A thorugh Z, denoted by the {3}. \n",
    "#The next element must be a lower case a through z. Again three more upper case A through Z elements. And finally the first part repeats. \n",
    "\n",
    "print(\"\".join(re.findall(\"[^A-Z]+[A-Z]{3}([a-z])[A-Z]{3}[^A-Z]+\", data)))   #Joins the list with no space inbetween.\n",
    "\n",
    "#http://www.pythonchallenge.com/pc/def/linkedlist.php"
   ]
  },
  {
   "cell_type": "markdown",
   "metadata": {},
   "source": [
    "### Python challenge question 5"
   ]
  },
  {
   "cell_type": "markdown",
   "metadata": {},
   "source": [
    "For the next challenge, I changed the URL to \"http://www.pythonchallenge.com/pc/def/linkedlist.html\" but it showed text \"linkedlist.php\". So, I changed the URL to \"http://www.pythonchallenge.com/pc/def/linkedlist.php\". When I checked the page source, it has \"urllib may help. DON'T TRY ALL NOTHINGS, since it will never end. 400 times is more than enough.\"\n",
    "\n",
    "There is another link \"linkedlist.php?nothing=12345\", which when I clicked took me to a page with text \"and the next nothing is 44827\". I tried to chage the \"next nothing\" on the URL to the numbers it suggested, it gave me other numbers. \n",
    "\n",
    "I thought that this is about web pages, and from the text it showed, I guessed there are a lot of webpages. It also gave a clue to use urllib.\n",
    "\n",
    "I tried to print all the numbers it was generating and at one point, it stopped at \"and the next nothing is 16044\" and \n",
    "\"Yes. Divide by two and keep going\". So, I divided the number 16044 by 2 and kept on printing until it gave \"peak.html\". "
   ]
  },
  {
   "cell_type": "code",
   "execution_count": 73,
   "metadata": {},
   "outputs": [
    {
     "name": "stdout",
     "output_type": "stream",
     "text": [
      "Came to an End\n",
      "and the next nothing is 25357\n",
      "and the next nothing is 89879\n",
      "and the next nothing is 80119\n",
      "and the next nothing is 50290\n",
      "and the next nothing is 9297\n",
      "and the next nothing is 30571\n",
      "and the next nothing is 7414\n",
      "and the next nothing is 30978\n",
      "and the next nothing is 16408\n",
      "and the next nothing is 80109\n",
      "and the next nothing is 55736\n",
      "and the next nothing is 15357\n",
      "and the next nothing is 80887\n",
      "and the next nothing is 35014\n",
      "and the next nothing is 16523\n",
      "and the next nothing is 50286\n",
      "and the next nothing is 34813\n",
      "and the next nothing is 77562\n",
      "and the next nothing is 54746\n",
      "and the next nothing is 22680\n",
      "and the next nothing is 19705\n",
      "and the next nothing is 77000\n",
      "and the next nothing is 27634\n",
      "and the next nothing is 21008\n",
      "and the next nothing is 64994\n",
      "and the next nothing is 66109\n",
      "and the next nothing is 37855\n",
      "and the next nothing is 36383\n",
      "and the next nothing is 68548\n",
      "and the next nothing is 96070\n",
      "and the next nothing is 83051\n",
      "and the next nothing is 58026\n",
      "and the next nothing is 44726\n",
      "and the next nothing is 35748\n",
      "and the next nothing is 61287\n",
      "and the next nothing is 559\n",
      "and the next nothing is 81318\n",
      "and the next nothing is 50443\n",
      "and the next nothing is 1570\n",
      "and the next nothing is 75244\n",
      "and the next nothing is 56265\n",
      "and the next nothing is 17694\n",
      "and the next nothing is 48033\n",
      "and the next nothing is 56523\n",
      "and the next nothing is 51253\n",
      "and the next nothing is 85750\n",
      "and the next nothing is 42760\n",
      "and the next nothing is 11877\n",
      "and the next nothing is 15962\n",
      "and the next nothing is 75494\n",
      "and the next nothing is 87283\n",
      "and the next nothing is 40396\n",
      "and the next nothing is 49574\n",
      "and the next nothing is 82682\n",
      "There maybe misleading numbers in the \n",
      "text. One example is 82683. Look only for the next nothing and the next nothing is 63579\n",
      "and the next nothing is 37278\n",
      "and the next nothing is 53548\n",
      "and the next nothing is 66081\n",
      "and the next nothing is 67753\n",
      "and the next nothing is 56337\n",
      "and the next nothing is 3356\n",
      "and the next nothing is 94525\n",
      "and the next nothing is 89574\n",
      "and the next nothing is 4413\n",
      "and the next nothing is 82294\n",
      "and the next nothing is 56060\n",
      "and the next nothing is 95493\n",
      "and the next nothing is 80865\n",
      "and the next nothing is 66242\n",
      "and the next nothing is 16065\n",
      "and the next nothing is 62145\n",
      "and the next nothing is 23147\n",
      "and the next nothing is 83763\n",
      "and the next nothing is 62381\n",
      "and the next nothing is 76841\n",
      "and the next nothing is 91706\n",
      "and the next nothing is 9268\n",
      "and the next nothing is 64814\n",
      "and the next nothing is 80809\n",
      "and the next nothing is 14039\n",
      "and the next nothing is 73355\n",
      "and the next nothing is 81905\n",
      "and the next nothing is 36402\n",
      "and the next nothing is 27221\n",
      "and the next nothing is 79607\n",
      "and the next nothing is 91763\n",
      "and the next nothing is 11631\n",
      "and the next nothing is 76396\n",
      "and the next nothing is 69905\n",
      "and the next nothing is 11073\n",
      "and the next nothing is 71281\n",
      "and the next nothing is 54345\n",
      "and the next nothing is 19047\n",
      "and the next nothing is 34376\n",
      "and the next nothing is 3193\n",
      "and the next nothing is 74258\n",
      "and the next nothing is 62712\n",
      "and the next nothing is 1823\n",
      "and the next nothing is 21232\n",
      "and the next nothing is 87890\n",
      "and the next nothing is 21545\n",
      "and the next nothing is 37136\n",
      "and the next nothing is 23060\n",
      "and the next nothing is 5385\n",
      "and the next nothing is 4620\n",
      "and the next nothing is 39111\n",
      "and the next nothing is 35914\n",
      "and the next nothing is 60310\n",
      "and the next nothing is 19178\n",
      "and the next nothing is 44671\n",
      "and the next nothing is 45736\n",
      "and the next nothing is 9216\n",
      "and the next nothing is 12585\n",
      "and the next nothing is 11302\n",
      "and the next nothing is 33096\n",
      "and the next nothing is 13967\n",
      "and the next nothing is 57004\n",
      "and the next nothing is 64196\n",
      "and the next nothing is 73929\n",
      "and the next nothing is 24800\n",
      "and the next nothing is 25081\n",
      "and the next nothing is 90033\n",
      "and the next nothing is 45919\n",
      "and the next nothing is 54827\n",
      "and the next nothing is 73950\n",
      "and the next nothing is 56978\n",
      "and the next nothing is 8133\n",
      "and the next nothing is 61900\n",
      "and the next nothing is 47769\n",
      "and the next nothing is 631\n",
      "and the next nothing is 2284\n",
      "and the next nothing is 60074\n",
      "and the next nothing is 35959\n",
      "and the next nothing is 57158\n",
      "and the next nothing is 90990\n",
      "and the next nothing is 27935\n",
      "and the next nothing is 99927\n",
      "and the next nothing is 41785\n",
      "and the next nothing is 32660\n",
      "and the next nothing is 4328\n",
      "and the next nothing is 42067\n",
      "and the next nothing is 8743\n",
      "and the next nothing is 38613\n",
      "and the next nothing is 21100\n",
      "and the next nothing is 77864\n",
      "and the next nothing is 6523\n",
      "and the next nothing is 6927\n",
      "and the next nothing is 82930\n",
      "and the next nothing is 35846\n",
      "and the next nothing is 31785\n",
      "and the next nothing is 41846\n",
      "and the next nothing is 72387\n",
      "and the next nothing is 59334\n",
      "and the next nothing is 65520\n",
      "and the next nothing is 93781\n",
      "and the next nothing is 55840\n",
      "and the next nothing is 80842\n",
      "and the next nothing is 59022\n",
      "and the next nothing is 23298\n",
      "and the next nothing is 27709\n",
      "and the next nothing is 96791\n",
      "and the next nothing is 75635\n",
      "and the next nothing is 52899\n",
      "and the next nothing is 66831\n",
      "peak.html\n",
      "Came to an End\n"
     ]
    }
   ],
   "source": [
    "#http://www.pythonchallenge.com/pc/def/linkedlist.php\n",
    "\n",
    "import urllib\n",
    "import re\n",
    "\n",
    "url_ll = (\"http://www.pythonchallenge.com/pc/def/linkedlist.php?nothing=%s\")\n",
    "num=\"12345\"\n",
    "#num=16044/2\n",
    "\n",
    "while num!=\"\":\n",
    "    data = urllib.request.urlopen(url_ll % num).read().decode()\n",
    "    #print(data)\n",
    "    num = \"\".join(re.findall(\"and the next nothing is (\\d+)\",data))\n",
    "else :\n",
    "    print(\"Came to an End\")  \n",
    "    \n",
    "num=16044/2\n",
    "\n",
    "while num!=\"\":\n",
    "    data = urllib.request.urlopen(url_ll % num).read().decode()\n",
    "    print(data)\n",
    "    num = \"\".join(re.findall(\"and the next nothing is (\\d+)\",data))\n",
    "else :\n",
    "    print(\"Came to an End\")\n",
    "    \n",
    "#http://www.pythonchallenge.com/pc/def/peak.html"
   ]
  },
  {
   "cell_type": "markdown",
   "metadata": {
    "collapsed": true
   },
   "source": [
    "### Python challenge question 6"
   ]
  },
  {
   "cell_type": "markdown",
   "metadata": {},
   "source": [
    "For the next challenge, I changed the URL to \"http://www.pythonchallenge.com/pc/def/peak.html\" which showed a picture of a hill with the text “pronounce it”. When I checked the page source, it showed some text \"peak hell sounds familiar ?\" and a file named \"banner.p\" which again took me to \"http://www.pythonchallenge.com/pc/def/banner.p\" and it has some text in it.\n",
    "\n",
    "I changed the URL to \"peakhell.html\" but nothing showed up. I googled \"peakhell\" and there were results regarding the Python Challenge itself and found that it was refering to a Python object serialization module called \"pickle\".So,, I changed the URL to \"http://www.pythonchallenge.com/pc/def/pickle.html\" and it showed a text \"yes! pickle!\" which confirmed the usage of module \"pickle\".\n",
    "\n",
    "I learnt quiet a few concepts regarding pickling when I googled \".p files in Python\". \"Pickle\" is used for serializing and de-serializing a Python object structure. Any object in python can be pickled. It “serialises” the object first before writing it to file. Pickling is a way to convert a python object (list, dict, etc.) into a character stream. The idea is that this character stream contains all the information necessary to reconstruct the object in another python script.\n",
    "\n",
    "When I checked the URL \"banner.p\", it showed a text which looked like output of something that has been pickled. \n",
    "I used \"urllib\" and \"pickle\" to load the file. When I checked the file, there are a list of tuples. It's like a character and the number of times it is repeated."
   ]
  },
  {
   "cell_type": "code",
   "execution_count": 74,
   "metadata": {},
   "outputs": [
    {
     "name": "stdout",
     "output_type": "stream",
     "text": [
      "                                                                                               \n",
      "              #####                                                                      ##### \n",
      "               ####                                                                       #### \n",
      "               ####                                                                       #### \n",
      "               ####                                                                       #### \n",
      "               ####                                                                       #### \n",
      "               ####                                                                       #### \n",
      "               ####                                                                       #### \n",
      "               ####                                                                       #### \n",
      "      ###      ####   ###         ###       #####   ###    #####   ###          ###       #### \n",
      "   ###   ##    #### #######     ##  ###      #### #######   #### #######     ###  ###     #### \n",
      "  ###     ###  #####    ####   ###   ####    #####    ####  #####    ####   ###     ###   #### \n",
      " ###           ####     ####   ###    ###    ####     ####  ####     ####  ###      ####  #### \n",
      " ###           ####     ####          ###    ####     ####  ####     ####  ###       ###  #### \n",
      "####           ####     ####     ##   ###    ####     ####  ####     #### ####       ###  #### \n",
      "####           ####     ####   ##########    ####     ####  ####     #### ##############  #### \n",
      "####           ####     ####  ###    ####    ####     ####  ####     #### ####            #### \n",
      "####           ####     #### ####     ###    ####     ####  ####     #### ####            #### \n",
      " ###           ####     #### ####     ###    ####     ####  ####     ####  ###            #### \n",
      "  ###      ##  ####     ####  ###    ####    ####     ####  ####     ####   ###      ##   #### \n",
      "   ###    ##   ####     ####   ###########   ####     ####  ####     ####    ###    ##    #### \n",
      "      ###     ######    #####    ##    #### ######    ###########    #####      ###      ######\n",
      "                                                                                               \n"
     ]
    }
   ],
   "source": [
    "#http://www.pythonchallenge.com/pc/def/peak.html\n",
    "\n",
    "import urllib.request\n",
    "url_ban = urllib.request.urlopen(\"http://www.pythonchallenge.com/pc/def/banner.p\")\n",
    "\n",
    "import pickle\n",
    "data = pickle.load(url_ban)  #Reads a pickled object representation from the open file object given in the constructor, and return the reconstituted object hierarchy specified therein. \n",
    "#print(data)                 #Printed a list of tuples.\n",
    "\n",
    "for row in data:\n",
    "    print(\"\".join([r[1] * r[0] for r in row]))\n",
    "    \n",
    "#http://www.pythonchallenge.com/pc/def/channel.html"
   ]
  },
  {
   "cell_type": "markdown",
   "metadata": {},
   "source": [
    "### Python challenge question 7"
   ]
  },
  {
   "cell_type": "markdown",
   "metadata": {},
   "source": [
    "For the next challenge, I changed the URL to \"http://www.pythonchallenge.com/pc/def/channel.html\" and it showed a picture of a zipper and I felt it is something related to zip files. When I checked page source, it showed some text. I changed the URl to \".zip\" and got a file with a lot of text files. I checked a couple of them, it shoed some text. I found a readme file at the end, which when I checked, has text as shown below: \n",
    "\n",
    "Welcome to my zipped list.\n",
    "hint1: start from 90052\n",
    "hint2: answer is inside the zip\n",
    "\n",
    "I did some reading regarding \"zipfile\" module. Upon opening 90052.txt it said “Next nothing is 94191”. I tried to print the content in the text file and it stopped at a point and asked to collect the comments inside the zip file.\n",
    "When I printed that out the message, it said \"HOCKEY\"."
   ]
  },
  {
   "cell_type": "code",
   "execution_count": 75,
   "metadata": {},
   "outputs": [
    {
     "name": "stdout",
     "output_type": "stream",
     "text": [
      "welcome to my zipped list.\n",
      "\n",
      "hint1: start from 90052\n",
      "hint2: answer is inside the zip\n",
      "\n",
      "Collect the comments.\n",
      "****************************************************************\n",
      "****************************************************************\n",
      "**                                                            **\n",
      "**   OO    OO    XX      YYYY    GG    GG  EEEEEE NN      NN  **\n",
      "**   OO    OO  XXXXXX   YYYYYY   GG   GG   EEEEEE  NN    NN   **\n",
      "**   OO    OO XXX  XXX YYY   YY  GG GG     EE       NN  NN    **\n",
      "**   OOOOOOOO XX    XX YY        GGG       EEEEE     NNNN     **\n",
      "**   OOOOOOOO XX    XX YY        GGG       EEEEE      NN      **\n",
      "**   OO    OO XXX  XXX YYY   YY  GG GG     EE         NN      **\n",
      "**   OO    OO  XXXXXX   YYYYYY   GG   GG   EEEEEE     NN      **\n",
      "**   OO    OO    XX      YYYY    GG    GG  EEEEEE     NN      **\n",
      "**                                                            **\n",
      "****************************************************************\n",
      " **************************************************************\n",
      "\n"
     ]
    }
   ],
   "source": [
    "#http://www.pythonchallenge.com/pc/def/channel.html\n",
    "\n",
    "import urllib\n",
    "import zipfile\n",
    "import re\n",
    "\n",
    "url_ll = \"http://www.pythonchallenge.com/pc/def/channel.html\"\n",
    "zf = zipfile.ZipFile(\"channel.zip\", 'r')\n",
    "print(zf.read(\"readme.txt\").decode())\n",
    "\n",
    "num = \"90052\"\n",
    "comments = \"\"\n",
    "while num != \"\" :\n",
    "    data = zf.read(num + \".txt\").decode()\n",
    "    comments += zf.getinfo(num+\".txt\").comment.decode()\n",
    "    num = \"\".join(re.findall(\"Next nothing is (\\d+)\",data))\n",
    "    #print(data)\n",
    "else :\n",
    "    print(data)\n",
    "    \n",
    "print(comments)\n",
    "\n",
    "#http://www.pythonchallenge.com/pc/def/oxygen.html"
   ]
  },
  {
   "cell_type": "markdown",
   "metadata": {},
   "source": [
    "### Python challenge question 8"
   ]
  },
  {
   "cell_type": "markdown",
   "metadata": {},
   "source": [
    "For the next challenge, I tried URL \"http://www.pythonchallenge.com/pc/def/hockey.html\" but it gave a text saying \"it's in the air. look at the letters\". Then, I tried \"http://www.pythonchallenge.com/pc/def/oxygen.html\". It gave a picture in which the center of the picture was grey scaled from left. So, there might be something encoded in this line. I did some work on image analysis previously and so was quick enough to get the clue for this challenge.\n",
    "\n",
    "We can get the pixels using Python Image Library, PIL. I printed the pixel values alon the width of the image at exactly half point of the height because that's where the image is grey scaled. The pixel values will be same for R,G,B if the image is greyscaled. The values of the pixels changed after 7 blocks, on observing the pixel values along the width. \n",
    "\n",
    "It gave a clue in the form of \"smart guy, you made it. the next level is [105, 110, 116, 101, 103, 114, 105, 116, 121]\". The blocks were 7 pixels wide and so I took out the first number in the color given to me and printed string representing a character."
   ]
  },
  {
   "cell_type": "code",
   "execution_count": 76,
   "metadata": {},
   "outputs": [
    {
     "name": "stdout",
     "output_type": "stream",
     "text": [
      "629\n",
      "95\n",
      "smart guy, you made it. the next level is [105, 110, 116, 101, 103, 114, 105, 116, 121]pe_integrity\n"
     ]
    }
   ],
   "source": [
    "#http://www.pythonchallenge.com/pc/def/oxygen.html\n",
    "\n",
    "import urllib.request\n",
    "from PIL import Image\n",
    "import requests\n",
    "from io import BytesIO\n",
    "\n",
    "url = \"http://www.pythonchallenge.com/pc/def/oxygen.png\"\n",
    "\n",
    "img_oxy = requests.get(url)\n",
    "img = Image.open(BytesIO(img_oxy.content))\n",
    "\n",
    "width,height = img.size\n",
    "print(width)\n",
    "print(height)\n",
    "#for w in range(width):\n",
    "#    print(img.getpixel((w,height/2)))   #Prints the pixel values  at the greyscale along the width of the image.\n",
    "\n",
    "for w in range(0,width,7):\n",
    "    print(chr(img.getpixel((w,height/2))[0]), end='')  #Return the string representing a character whose Unicode code point is the integer.\n",
    "    \n",
    "print(''.join(map(chr, [105, 110, 116, 101, 103, 114, 105, 116, 121])))\n",
    "\n",
    "#http://www.pythonchallenge.com/pc/def/integrity.html"
   ]
  },
  {
   "cell_type": "markdown",
   "metadata": {},
   "source": [
    "### Python challenge question 9"
   ]
  },
  {
   "cell_type": "markdown",
   "metadata": {},
   "source": [
    "For the next challenge, I changed the URL to \"http://www.pythonchallenge.com/pc/def/integrity.html\" which showed a picture of a bee with text \"Where is the missing link?\". It seemed the bee is clickable and when clicked, it asked for a a userame and password.\n",
    "\n",
    "Also, when I checked page source, there was a text:\n",
    "\n",
    "\"un: 'BZh91AY&SYA\\xaf\\x82\\r\\x00\\x00\\x01\\x01\\x80\\x02\\xc0\\x02\\x00 \\x00!\\x9ah3M\\x07<]\\xc9\\x14\\xe1BA\\x06\\xbe\\x084'   and\n",
    "pw: 'BZh91AY&SY\\x94$|\\x0e\\x00\\x00\\x00\\x81\\x00\\x03$ \\x00!\\x9ah3M\\x13<]\\xc9\\x14\\xe1BBP\\x91\\xf08'\"\n",
    "\n",
    "I googled regarding this challenge as I had no idea what it's asking to do. Quickly, I found words \"BZ2\" and so googled regarding \"bz2 in Python\" and had briefly studied regarding what it does. I got a hunch that the strings that were in page source might need to be decompressed. When I did it, I got 'huge' and 'file', which are username and password. "
   ]
  },
  {
   "cell_type": "code",
   "execution_count": 77,
   "metadata": {},
   "outputs": [
    {
     "name": "stdout",
     "output_type": "stream",
     "text": [
      "b'huge'\n",
      "b'file'\n"
     ]
    }
   ],
   "source": [
    "#http://www.pythonchallenge.com/pc/def/integrity.html\n",
    "\n",
    "import bz2\n",
    "\n",
    "usr = b\"BZh91AY&SYA\\xaf\\x82\\r\\x00\\x00\\x01\\x01\\x80\\x02\\xc0\\x02\\x00 \\x00!\\x9ah3M\\x07<]\\xc9\\x14\\xe1BA\\x06\\xbe\\x084\"\n",
    "pwd = b\"BZh91AY&SY\\x94$|\\x0e\\x00\\x00\\x00\\x81\\x00\\x03$ \\x00!\\x9ah3M\\x13<]\\xc9\\x14\\xe1BBP\\x91\\xf08\"\n",
    "\n",
    "print(bz2.BZ2Decompressor().decompress(usr))  #Decompress data (a bytes-like object), returns uncompressed data as bytes.\n",
    "print(bz2.BZ2Decompressor().decompress(pwd))\n",
    "\n",
    "#http://www.pythonchallenge.com/pc/return/good.html"
   ]
  },
  {
   "cell_type": "markdown",
   "metadata": {},
   "source": [
    "### Python challenge question 10"
   ]
  },
  {
   "cell_type": "markdown",
   "metadata": {},
   "source": [
    "For this challenge, I gave username and password previously obtained which took me to URL \"http://www.pythonchallenge.com/pc/return/good.html\". It has a picture of a stem with black dots. It seemed like we need to connect the dots to get the answer. Looking at page source, my intuition is correct that we need to connect dots and there are lists with numbers for 'first' and 'second'. Also, \"first+second=?\" seemed like a clue. So, I joined first and second and tried to draw an image with size mentioned i page source, 640 by 480. I got an image of bull."
   ]
  },
  {
   "cell_type": "code",
   "execution_count": 78,
   "metadata": {},
   "outputs": [
    {
     "data": {
      "image/png": "[encoded data removed]",
      "text/plain": [
       "<PIL.Image.Image image mode=RGB size=640x480 at 0x22CCBC8C748>"
      ]
     },
     "execution_count": 78,
     "metadata": {},
     "output_type": "execute_result"
    }
   ],
   "source": [
    "#http://www.pythonchallenge.com/pc/return/good.html\n",
    "\n",
    "from PIL import Image, ImageDraw\n",
    "\n",
    "first=[\n",
    "146,399,163,403,170,393,169,391,166,386,170,381,170,371,170,355,169,346,167,335,170,329,170,320,170,\n",
    "310,171,301,173,290,178,289,182,287,188,286,190,286,192,291,194,296,195,305,194,307,191,312,190,316,\n",
    "190,321,192,331,193,338,196,341,197,346,199,352,198,360,197,366,197,373,196,380,197,383,196,387,192,\n",
    "389,191,392,190,396,189,400,194,401,201,402,208,403,213,402,216,401,219,397,219,393,216,390,215,385,\n",
    "215,379,213,373,213,365,212,360,210,353,210,347,212,338,213,329,214,319,215,311,215,306,216,296,218,\n",
    "290,221,283,225,282,233,284,238,287,243,290,250,291,255,294,261,293,265,291,271,291,273,289,278,287,\n",
    "279,285,281,280,284,278,284,276,287,277,289,283,291,286,294,291,296,295,299,300,301,304,304,320,305,\n",
    "327,306,332,307,341,306,349,303,354,301,364,301,371,297,375,292,384,291,386,302,393,324,391,333,387,\n",
    "328,375,329,367,329,353,330,341,331,328,336,319,338,310,341,304,341,285,341,278,343,269,344,262,346,\n",
    "259,346,251,349,259,349,264,349,273,349,280,349,288,349,295,349,298,354,293,356,286,354,279,352,268,\n",
    "352,257,351,249,350,234,351,211,352,197,354,185,353,171,351,154,348,147,342,137,339,132,330,122,327,\n",
    "120,314,116,304,117,293,118,284,118,281,122,275,128,265,129,257,131,244,133,239,134,228,136,221,137,\n",
    "214,138,209,135,201,132,192,130,184,131,175,129,170,131,159,134,157,134,160,130,170,125,176,114,176,\n",
    "102,173,103,172,108,171,111,163,115,156,116,149,117,142,116,136,115,129,115,124,115,120,115,115,117,\n",
    "113,120,109,122,102,122,100,121,95,121,89,115,87,110,82,109,84,118,89,123,93,129,100,130,108,132,110,\n",
    "133,110,136,107,138,105,140,95,138,86,141,79,149,77,155,81,162,90,165,97,167,99,171,109,171,107,161,\n",
    "111,156,113,170,115,185,118,208,117,223,121,239,128,251,133,259,136,266,139,276,143,290,148,310,151,\n",
    "332,155,348,156,353,153,366,149,379,147,394,146,399]\n",
    "\n",
    "second=[\n",
    "156,141,165,135,169,131,176,130,187,134,191,140,191,146,186,150,179,155,175,157,168,157,163,157,159,\n",
    "157,158,164,159,175,159,181,157,191,154,197,153,205,153,210,152,212,147,215,146,218,143,220,132,220,\n",
    "125,217,119,209,116,196,115,185,114,172,114,167,112,161,109,165,107,170,99,171,97,167,89,164,81,162,\n",
    "77,155,81,148,87,140,96,138,105,141,110,136,111,126,113,129,118,117,128,114,137,115,146,114,155,115,\n",
    "158,121,157,128,156,134,157,136,156,136]\n",
    "\n",
    "all_d= first + second\n",
    "\n",
    "img = Image.new(\"RGB\", (640,480), \"rgb(60%,60%,90%)\")\n",
    "pic = ImageDraw.Draw(img)\n",
    "pic.line(all_d, fill='black')\n",
    "img\n",
    "\n",
    "#http://www.pythonchallenge.com/pc/return/bull.html"
   ]
  },
  {
   "cell_type": "markdown",
   "metadata": {},
   "source": [
    "### Python challenge question 11"
   ]
  },
  {
   "cell_type": "markdown",
   "metadata": {},
   "source": [
    "For the next challenge, I tried URL \"http://www.pythonchallenge.com/pc/return/bull.html\" and it showed a picture of a bull. In text below it says ‘len(a[30]) = ?’. When I clicked the bull, which is clickable, a new page shoed a sequence ‘a = [1, 11, 21, 1211, 111221,..]'. When I googled this sequence, I came to know that it is called the look and say sequence. With little study about it, I got to know about it and it seemed that, in the challenge, we need to find the length of the 30th element in the sequence."
   ]
  },
  {
   "cell_type": "code",
   "execution_count": 1,
   "metadata": {},
   "outputs": [
    {
     "name": "stdout",
     "output_type": "stream",
     "text": [
      "Term 0 -- 1\n",
      "Term 1 -- 11\n",
      "Term 2 -- 21\n",
      "Term 3 -- 1211\n",
      "Term 4 -- 111221\n",
      "Term 5 -- 312211\n",
      "Term 6 -- 13112221\n",
      "Term 7 -- 1113213211\n",
      "Term 8 -- 31131211131221\n",
      "Term 9 -- 13211311123113112211\n",
      "Term 10 -- 11131221133112132113212221\n",
      "Term 11 -- 3113112221232112111312211312113211\n",
      "Term 12 -- 1321132132111213122112311311222113111221131221\n",
      "Term 13 -- 11131221131211131231121113112221121321132132211331222113112211\n",
      "Term 14 -- 311311222113111231131112132112311321322112111312211312111322212311322113212221\n",
      "Term 15 -- 132113213221133112132113311211131221121321131211132221123113112221131112311332111213211322211312113211\n",
      "Term 16 -- 11131221131211132221232112111312212321123113112221121113122113111231133221121321132132211331121321231231121113122113322113111221131221\n",
      "Term 17 -- 31131122211311123113321112131221123113112211121312211213211321322112311311222113311213212322211211131221131211132221232112111312111213111213211231131122212322211331222113112211\n",
      "Term 18 -- 1321132132211331121321231231121113112221121321132122311211131122211211131221131211132221121321132132212321121113121112133221123113112221131112311332111213122112311311123112111331121113122112132113213211121332212311322113212221\n",
      "Term 19 -- 11131221131211132221232112111312111213111213211231132132211211131221131211221321123113213221123113112221131112311332211211131221131211132211121312211231131112311211232221121321132132211331121321231231121113112221121321133112132112312321123113112221121113122113121113123112112322111213211322211312113211\n",
      "Term 20 -- 311311222113111231133211121312211231131112311211133112111312211213211312111322211231131122211311122122111312211213211312111322211213211321322113311213212322211231131122211311123113223112111311222112132113311213211221121332211211131221131211132221232112111312111213111213211231132132211211131221232112111312211213111213122112132113213221123113112221131112311311121321122112132231121113122113322113111221131221\n",
      "Term 21 -- 132113213221133112132123123112111311222112132113311213211231232112311311222112111312211311123113322112132113213221133122112231131122211211131221131112311332211211131221131211132221232112111312111213322112132113213221133112132113221321123113213221121113122123211211131221222112112322211231131122211311123113321112131221123113111231121113311211131221121321131211132221123113112211121312211231131122211211133112111311222112111312211312111322211213211321322113311213211331121113122122211211132213211231131122212322211331222113112211\n",
      "Term 22 -- 111312211312111322212321121113121112131112132112311321322112111312212321121113122112131112131221121321132132211231131122211331121321232221121113122113121113222123112221221321132132211231131122211331121321232221123113112221131112311332111213122112311311123112112322211211131221131211132221232112111312211322111312211213211312111322211231131122111213122112311311221132211221121332211213211321322113311213212312311211131122211213211331121321123123211231131122211211131221131112311332211213211321223112111311222112132113213221123123211231132132211231131122211311123113322112111312211312111322212321121113122123211231131122113221123113221113122112132113213211121332212311322113212221\n",
      "Term 23 -- 3113112221131112311332111213122112311311123112111331121113122112132113121113222112311311221112131221123113112221121113311211131122211211131221131211132221121321132132212321121113121112133221123113112221131112311332111213213211221113122113121113222112132113213221232112111312111213322112132113213221133112132123123112111311222112132113311213211221121332211231131122211311123113321112131221123113112221132231131122211211131221131112311332211213211321223112111311222112132113212221132221222112112322211211131221131211132221232112111312111213111213211231132132211211131221232112111312211213111213122112132113213221123113112221133112132123222112111312211312112213211231132132211211131221131211132221121311121312211213211312111322211213211321322113311213212322211231131122211311123113321112131221123113112211121312211213211321222113222112132113223113112221121113122113121113123112112322111213211322211312113211\n",
      "Term 24 -- 132113213221133112132123123112111311222112132113311213211231232112311311222112111312211311123113322112132113212231121113112221121321132132211231232112311321322112311311222113111231133221121113122113121113221112131221123113111231121123222112132113213221133112132123123112111312111312212231131122211311123113322112111312211312111322111213122112311311123112112322211211131221131211132221232112111312111213111213211231132132211211131221232112111312212221121123222112132113213221133112132123123112111311222112132113213221132213211321322112311311222113311213212322211211131221131211221321123113213221121113122113121132211332113221122112133221123113112221131112311332111213122112311311123112111331121113122112132113121113222112311311221112131221123113112221121113311211131122211211131221131211132221121321132132212321121113121112133221123113112221131112212211131221121321131211132221123113112221131112311332211211133112111311222112111312211311123113322112111312211312111322212321121113121112133221121321132132211331121321231231121113112221121321132122311211131122211211131221131211322113322112111312211322132113213221123113112221131112311311121321122112132231121113122113322113111221131221\n",
      "Term 25 -- 1113122113121113222123211211131211121311121321123113213221121113122123211211131221121311121312211213211321322112311311222113311213212322211211131221131211221321123113213221121113122113121113222112131112131221121321131211132221121321132132211331121321232221123113112221131112311322311211131122211213211331121321122112133221121113122113121113222123211211131211121311121321123113111231131122112213211321322113311213212322211231131122211311123113223112111311222112132113311213211221121332211231131122211311123113321112131221123113111231121113311211131221121321131211132221123113112211121312211231131122113221122112133221121113122113121113222123211211131211121311121321123113213221121113122113121113222113221113122113121113222112132113213221232112111312111213322112311311222113111221221113122112132113121113222112311311222113111221132221231221132221222112112322211213211321322113311213212312311211131122211213211331121321123123211231131122211211131221131112311332211213211321223112111311222112132113213221123123211231132132211231131122211311123113322112111312211312111322111213122112311311123112112322211213211321322113312211223113112221121113122113111231133221121321132132211331121321232221123123211231132132211231131122211331121321232221123113112221131112311332111213122112311311123112112322211211131221131211132221232112111312111213111213211231132132211211131221131211221321123113213221123113112221131112211322212322211231131122211322111312211312111322211213211321322113311213211331121113122122211211132213211231131122212322211331222113112211\n",
      "Term 26 -- 31131122211311123113321112131221123113111231121113311211131221121321131211132221123113112211121312211231131122211211133112111311222112111312211312111322211213211321322123211211131211121332211231131122211311122122111312211213211312111322211231131122211311123113322112111331121113112221121113122113111231133221121113122113121113222123211211131211121332211213211321322113311213211322132112311321322112111312212321121113122122211211232221123113112221131112311332111213122112311311123112111331121113122112132113311213211321222122111312211312111322212321121113121112133221121321132132211331121321132213211231132132211211131221232112111312212221121123222112132113213221133112132123123112111311222112132113311213211231232112311311222112111312211311123113322112132113212231121113112221121321132122211322212221121123222112311311222113111231133211121312211231131112311211133112111312211213211312111322211231131122211311123113322113223113112221131112311332211211131221131211132211121312211231131112311211232221121321132132211331221122311311222112111312211311123113322112132113213221133122211332111213112221133211322112211213322112111312211312111322212321121113121112131112132112311321322112111312212321121113122112131112131221121321132132211231131122211331121321232221121113122113121122132112311321322112111312211312111322211213111213122112132113121113222112132113213221133112132123222112311311222113111231132231121113112221121321133112132112211213322112111312211312111322212311222122132113213221123113112221133112132123222112111312211312111322212321121113121112133221121311121312211213211312111322211213211321322123211211131211121332211213211321322113311213212312311211131122211213211331121321122112133221123113112221131112311332111213122112311311123112111331121113122112132113121113222112311311222113111221221113122112132113121113222112132113213221133122211332111213322112132113213221132231131122211311123113322112111312211312111322212321121113122123211231131122113221123113221113122112132113213211121332212311322113212221\n",
      "Term 27 -- 13211321322113311213212312311211131122211213211331121321123123211231131122211211131221131112311332211213211321223112111311222112132113213221123123211231132132211231131122211311123113322112111312211312111322111213122112311311123112112322211213211321322113312211223113112221121113122113111231133221121321132132211331121321232221123123211231132132211231131122211331121321232221123113112221131112311332111213122112311311123112112322211211131221131211132221232112111312211322111312211213211312111322211231131122111213122112311311221132211221121332211213211321322113311213212312311211131122211213211331121321123123211231131122211211131221232112111312211312113211223113112221131112311332111213122112311311123112112322211211131221131211132221232112111312211322111312211213211312111322211231131122111213122112311311221132211221121332211211131221131211132221232112111312111213111213211231132132211211131221232112111312211213111213122112132113213221123113112221133112132123222112111312211312112213211231132132211211131221131211322113321132211221121332211213211321322113311213212312311211131122211213211331121321123123211231131122211211131221131112311332211213211321322113311213212322211322132113213221133112132123222112311311222113111231132231121113112221121321133112132112211213322112111312211312111322212311222122132113213221123113112221133112132123222112111312211312111322212311322123123112111321322123122113222122211211232221123113112221131112311332111213122112311311123112111331121113122112132113121113222112311311221112131221123113112221121113311211131122211211131221131211132221121321132132212321121113121112133221123113112221131112212211131221121321131211132221123113112221131112311332211211133112111311222112111312211311123113322112111312211312111322212321121113121112133221121321132132211331121321132213211231132132211211131221232112111312212221121123222112311311222113111231133211121321321122111312211312111322211213211321322123211211131211121332211231131122211311123113321112131221123113111231121123222112111331121113112221121113122113111231133221121113122113121113221112131221123113111231121123222112111312211312111322212321121113121112131112132112311321322112111312212321121113122122211211232221121321132132211331121321231231121113112221121321133112132112312321123113112221121113122113111231133221121321132132211331221122311311222112111312211311123113322112111312211312111322212311322123123112112322211211131221131211132221132213211321322113311213212322211231131122211311123113321112131221123113112211121312211213211321222113222112132113223113112221121113122113121113123112112322111213211322211312113211\n",
      "Term 28 -- 11131221131211132221232112111312111213111213211231132132211211131221232112111312211213111213122112132113213221123113112221133112132123222112111312211312112213211231132132211211131221131211132221121311121312211213211312111322211213211321322113311213212322211231131122211311123113223112111311222112132113311213211221121332211211131221131211132221231122212213211321322112311311222113311213212322211211131221131211132221232112111312111213322112131112131221121321131211132221121321132132212321121113121112133221121321132132211331121321231231121113112221121321133112132112211213322112311311222113111231133211121312211231131122211322311311222112111312211311123113322112132113212231121113112221121321132122211322212221121123222112111312211312111322212321121113121112131112132112311321322112111312212321121113122112131112131221121321132132211231131122111213122112311311222113111221131221221321132132211331121321231231121113112221121321133112132112211213322112311311222113111231133211121312211231131122211322311311222112111312211311123113322112132113212231121113112221121321132122211322212221121123222112311311222113111231133211121312211231131112311211133112111312211213211312111322211231131122111213122112311311222112111331121113112221121113122113121113222112132113213221232112111312111213322112311311222113111221221113122112132113121113222112311311222113111221132221231221132221222112112322211211131221131211132221232112111312111213111213211231132132211211131221232112111312211213111213122112132113213221123113112221133112132123222112111312211312111322212321121113121112133221132211131221131211132221232112111312111213322112132113213221133112132113221321123113213221121113122123211211131221222112112322211231131122211311123113321112132132112211131221131211132221121321132132212321121113121112133221123113112221131112311332111213211322111213111213211231131211132211121311222113321132211221121332211213211321322113311213212312311211131122211213211331121321123123211231131122211211131221131112311332211213211321223112111311222112132113213221123123211231132132211231131122211311123113322112111312211312111322111213122112311311123112112322211213211321322113312211223113112221121113122113111231133221121321132132211331121321232221123123211231132132211231131122211331121321232221123113112221131112311332111213122112311311123112112322211211131221131211132221232112111312211322111312211213211312111322211231131122111213122112311311221132211221121332211213211321322113311213212312311211131211131221223113112221131112311332211211131221131211132211121312211231131112311211232221121321132132211331121321231231121113112221121321133112132112211213322112312321123113213221123113112221133112132123222112311311222113111231132231121113112221121321133112132112211213322112311311222113111231133211121312211231131112311211133112111312211213211312111322211231131122111213122112311311221132211221121332211211131221131211132221232112111312111213111213211231132132211211131221232112111312211213111213122112132113213221123113112221133112132123222112111312211312111322212311222122132113213221123113112221133112132123222112311311222113111231133211121321132211121311121321122112133221123113112221131112311332211322111312211312111322212321121113121112133221121321132132211331121321231231121113112221121321132122311211131122211211131221131211322113322112111312211322132113213221123113112221131112311311121321122112132231121113122113322113111221131221\n",
      "Term 29 -- 3113112221131112311332111213122112311311123112111331121113122112132113121113222112311311221112131221123113112221121113311211131122211211131221131211132221121321132132212321121113121112133221123113112221131112212211131221121321131211132221123113112221131112311332211211133112111311222112111312211311123113322112111312211312111322212321121113121112133221121321132132211331121321132213211231132132211211131221232112111312212221121123222112311311222113111231133211121321321122111312211312111322211213211321322123211211131211121332211231131122211311123113321112131221123113111231121123222112111331121113112221121113122113111231133221121113122113121113221112131221123113111231121123222112111312211312111322212321121113121112131112132112311321322112111312212321121113122122211211232221121321132132211331121321231231121113112221121321132132211322132113213221123113112221133112132123222112111312211312112213211231132132211211131221131211322113321132211221121332211231131122211311123113321112131221123113111231121113311211131221121321131211132221123113112211121312211231131122211211133112111311222112111312211312111322211213211321223112111311222112132113213221133122211311221122111312211312111322212321121113121112131112132112311321322112111312212321121113122122211211232221121321132132211331121321231231121113112221121321132132211322132113213221123113112221133112132123222112111312211312112213211231132132211211131221131211322113321132211221121332211213211321322113311213212312311211131122211213211331121321123123211231131122211211131221131112311332211213211321223112111311222112132113213221123123211231132132211231131122211311123113322112111312211312111322111213122112311311123112112322211213211321322113312211223113112221121113122113111231133221121321132132211331222113321112131122211332113221122112133221123113112221131112311332111213122112311311123112111331121113122112132113121113222112311311221112131221123113112221121113311211131122211211131221131211132221121321132132212321121113121112133221123113112221131112311332111213122112311311123112112322211322311311222113111231133211121312211231131112311211232221121113122113121113222123211211131221132211131221121321131211132221123113112211121312211231131122113221122112133221121321132132211331121321231231121113121113122122311311222113111231133221121113122113121113221112131221123113111231121123222112132113213221133112132123123112111312211322311211133112111312211213211311123113223112111321322123122113222122211211232221121113122113121113222123211211131211121311121321123113213221121113122123211211131221121311121312211213211321322112311311222113311213212322211211131221131211221321123113213221121113122113121113222112131112131221121321131211132221121321132132211331121321232221123113112221131112311322311211131122211213211331121321122112133221121113122113121113222123112221221321132132211231131122211331121321232221121113122113121113222123211211131211121332211213111213122112132113121113222112132113213221232112111312111213322112132113213221133112132123123112111311222112132113311213211221121332211231131122211311123113321112131221123113112221132231131122211211131221131112311332211213211321223112111311222112132113212221132221222112112322211211131221131211132221232112111312111213111213211231131112311311221122132113213221133112132123222112311311222113111231132231121113112221121321133112132112211213322112111312211312111322212321121113121112131112132112311321322112111312212321121113122122211211232221121311121312211213211312111322211213211321322123211211131211121332211213211321322113311213211322132112311321322112111312212321121113122122211211232221121321132132211331121321231231121113112221121321133112132112312321123113112221121113122113111231133221121321132122311211131122211213211321222113222122211211232221123113112221131112311332111213122112311311123112111331121113122112132113121113222112311311221112131221123113112221121113311211131122211211131221131211132221121321132132212321121113121112133221123113112221131112311332111213213211221113122113121113222112132113213221232112111312111213322112132113213221133112132123123112111312211322311211133112111312212221121123222112132113213221133112132123222113223113112221131112311332111213122112311311123112112322211211131221131211132221232112111312111213111213211231132132211211131221131211221321123113213221123113112221131112211322212322211231131122211322111312211312111322211213211321322113311213211331121113122122211211132213211231131122212322211331222113112211\n"
     ]
    },
    {
     "data": {
      "text/plain": [
       "5808"
      ]
     },
     "execution_count": 1,
     "metadata": {},
     "output_type": "execute_result"
    }
   ],
   "source": [
    "#http://www.pythonchallenge.com/pc/return/bull.html\n",
    "\n",
    "from itertools import groupby\n",
    "\n",
    "def lookandsay(n):\n",
    "    return (''.join(str(len(list(g))) + k\n",
    "               for k,g in groupby(n)))\n",
    " \n",
    "n='1'\n",
    "for i in range(30):\n",
    "    print(\"Term\", i,\"--\", n)\n",
    "    n = lookandsay(n)\n",
    "\n",
    "type(n)\n",
    "len(n)\n",
    "\n",
    "#http://www.pythonchallenge.com/pc/return/5808.html"
   ]
  },
  {
   "cell_type": "markdown",
   "metadata": {},
   "source": [
    "### Python challenge question 12"
   ]
  },
  {
   "cell_type": "markdown",
   "metadata": {},
   "source": [
    "For the next challenge, I tried URL \"http://www.pythonchallenge.com/pc/return/5808.html\" and it showed a blurry picture with page title 'odd even'. When I checked page source, there is nothing much except cave.jpg, which when clicked got to the same image. I tried searching '\"cave in python\" to see if I'll find a module named 'cave' but got nothing.\n",
    "\n",
    "I tried opening the image in \"paint\" and observed that the image some black pixels alternately. I had no idea where to go in this challenge and so googled regarding this challenge for some hints and got some. When I tried to check the pixels to confirm what I found when I opened the image on paint. When I used im.getpixels() to get the pixel values, the odd pixels have the image in, and the even pixels have some other image.\n",
    "\n",
    "I tried to blank the even pixels and odd pixels alternatively to check the changes in the image. The image changed when I blanked the odd pixels to get a new image with \"evil\" on it."
   ]
  },
  {
   "cell_type": "code",
   "execution_count": null,
   "metadata": {
    "collapsed": true,
    "scrolled": true
   },
   "outputs": [],
   "source": [
    "#http://www.pythonchallenge.com/pc/return/5808.html\n",
    "\n",
    "import urllib.request\n",
    "from PIL import Image\n",
    "from io import StringIO\n",
    "\n",
    "#url = 'http://www.pythonchallenge.com/pc/return/cave.jpg'\n",
    "#img_cav = urllib.request.urlopen(url).read()\n",
    "#img = Image.open(StringIO.StringIO(img_cav))\n",
    "\n",
    "im = Image.open('cave.jpg')\n",
    "im.size\n",
    "w, h = im.size\n",
    "#new = Image.new(\"RGB\", (w, h))\n",
    "\n",
    "print(im.getpixel((0,0)))\n",
    "print(im.getpixel((0,1)))\n",
    "print(im.getpixel((1,0)))\n",
    "print(im.getpixel((1,1)))\n",
    "print(im.getpixel((1,2)))\n",
    "print(im.getpixel((1,3)))\n",
    "print(im.getpixel((1,4)))\n",
    "print(im.getpixel((1,5)))\n",
    "\n",
    "for i in range(w):\n",
    "    for j in range(h):\n",
    "        #if (i + j) % 2 == 0:  # Blanked the even pixels\n",
    "         if (i + j) % 2 == 1:  # Blanked the odd pixels\n",
    "            im.putpixel((i,j), 0)\n",
    "\n",
    "im\n",
    "\n",
    "#http://www.pythonchallenge.com/pc/return/evil.html"
   ]
  },
  {
   "cell_type": "markdown",
   "metadata": {},
   "source": [
    "### Python challenge question 13"
   ]
  },
  {
   "cell_type": "markdown",
   "metadata": {
    "collapsed": true
   },
   "source": [
    "For the next challenge, I tried URL \"http://www.pythonchallenge.com/pc/return/evil.html\" and it showed a picture of a man dealing with cards. When I checked page source, there is a link which redirected me to the URL \"http://www.pythonchallenge.com/pc/return/evil1.jpg\". When I changed the URL to \"http://www.pythonchallenge.com/pc/return/evil2.jpg\", it showed some other image that said \"not jpg - .gfx\". I further checked \"http://www.pythonchallenge.com/pc/return/evil3.jpg\", it showed an image saying \"no more evils\".\n",
    "\n",
    "When I changed the URL of \"evil2\" to .gfx, it downloaded a file with name \"evil2.gfx\". The image previously showed a hand dealing with 5 cards, so the byte code generated from .gfx file is split into 5 images (googled to get this clue). Then, I got 5 images which said \"dis\", \"pro\", \"port\", \"ional\" and \"ity\". I first tried \"disproportionality\" to get to the next challenge but didnot work. O examining, I observed that \"ity\" is striked out in the image and so used \"http://www.pythonchallenge.com/pc/return/disproportional.html\" for the next challenge."
   ]
  },
  {
   "cell_type": "code",
   "execution_count": 106,
   "metadata": {},
   "outputs": [
    {
     "data": {
      "image/png": "[encoded data removed]",
      "text/plain": [
       "<PIL.JpegImagePlugin.JpegImageFile image mode=RGB size=640x480 at 0x22CCBC43080>"
      ]
     },
     "execution_count": 106,
     "metadata": {},
     "output_type": "execute_result"
    }
   ],
   "source": [
    "#http://www.pythonchallenge.com/pc/return/evil.html\n",
    "\n",
    "import requests\n",
    "from PIL import Image\n",
    "\n",
    "#url_evl = \"http://www.pythonchallenge.com/pc/return/evil2.gfx\"\n",
    "#un, pw = 'huge', 'file'\n",
    "#d = requests.get(url_evl, auth=(un, pw)).content\n",
    "#print(d)\n",
    "\n",
    "data = open(\"evil2.gfx\", \"rb\").read()\n",
    "#print(data)\n",
    "\n",
    "for i in range(0,5):\n",
    "    open('%d.png' %i ,'wb').write(data[i::5])\n",
    "\n",
    "im0 = Image.open('0.png')\n",
    "im0\n",
    "\n",
    "im1 = Image.open('1.png')\n",
    "im1 \n",
    "\n",
    "im2 = Image.open('2.png')\n",
    "im2   \n",
    "\n",
    "im3 = Image.open('3.png')\n",
    "im3   \n",
    "\n",
    "im4 = Image.open('4.png')\n",
    "im4   \n",
    "\n",
    "#http://www.pythonchallenge.com/pc/return/disproportional.html   "
   ]
  },
  {
   "cell_type": "markdown",
   "metadata": {},
   "source": [
    "### Python challenge question 14"
   ]
  },
  {
   "cell_type": "markdown",
   "metadata": {},
   "source": [
    "For the next challenge, I tried URL \"http://www.pythonchallenge.com/pc/return/disproportional.html\" and it gave an image with numbers on phone and text \"phone that evil\". The number \"5\" is clickable and it took me to URL \"http://www.pythonchallenge.com/pc/phonebook.php\" which is XML file.\n",
    "\n",
    "On checking page source, there is a text saying \"phone that <remote /> evil\". I googled \"remote module python\" and with some digging, I found about xmlrpc client. Also previously, we know that number \"5\" is clickable. With these two clues, I found that there is something that needs to be done in the previous challenge that has a link to this challenge.\n",
    "\n",
    "I tried to open evil4.jpg but nothing came. So, I read it to see if I get anything and I got \"'Bert is evil! go back!\". \n",
    "\n",
    "With xmlrpc, I found the list of methods and with a phone picture and \"phonebook.php\" clues, I decided to use \"phone\" method.\n",
    "And with the clue obtained previously \"Bert\", I tried to use the name to get the number."
   ]
  },
  {
   "cell_type": "code",
   "execution_count": 109,
   "metadata": {},
   "outputs": [
    {
     "name": "stdout",
     "output_type": "stream",
     "text": [
      "b'Bert is evil! go back!\\n'\n",
      "['phone', 'system.listMethods', 'system.methodHelp', 'system.methodSignature', 'system.multicall', 'system.getCapabilities']\n",
      "Returns the phone of a person\n",
      "[['string', 'string']]\n",
      "555-ITALY\n"
     ]
    }
   ],
   "source": [
    "#http://www.pythonchallenge.com/pc/return/disproportional.html\n",
    "\n",
    "url_evl = \"http://www.pythonchallenge.com/pc/return/evil4.jpg\"\n",
    "un, pw = 'huge', 'file'\n",
    "d = requests.get(url_evl, auth=(un, pw)).content\n",
    "print(d)\n",
    "\n",
    "import xmlrpc.client\n",
    "\n",
    "url_pb = 'http://www.pythonchallenge.com/pc/phonebook.php'\n",
    "with xmlrpc.client.ServerProxy(url_pb) as proxy:\n",
    "    print(proxy.system.listMethods())\n",
    "\n",
    "print(proxy.system.methodHelp('phone'))\n",
    "print(proxy.system.methodSignature('phone'))\n",
    "print(proxy.phone('Bert'))\n",
    "\n",
    "#http://www.pythonchallenge.com/pc/return/italy.html"
   ]
  },
  {
   "cell_type": "markdown",
   "metadata": {},
   "source": [
    "### Python challenge question 15"
   ]
  },
  {
   "cell_type": "markdown",
   "metadata": {},
   "source": [
    "For the next challenge, I tried URL \"http://www.pythonchallenge.com/pc/return/italy.html\" and it gave an image of a roll in spiral form and other square image with vertical lines. The pagetitle is \"walk around\". When I checked the page source, it has a link to \"http://www.pythonchallenge.com/pc/return/wire.png\" which I saved.  The title has (10000 by 1) and when I checked the \"wire.png\" on paint, it has dimension of 10000 by 1. When I zoomed the image, there is a line.\n",
    "\n",
    "Also, there is a text \"remember: 100*100 = (100+99+99+98) + (... \""
   ]
  },
  {
   "cell_type": "code",
   "execution_count": 111,
   "metadata": {
    "collapsed": true
   },
   "outputs": [],
   "source": [
    "#http://www.pythonchallenge.com/pc/return/italy.html\n",
    "\n",
    "\n",
    "\n",
    "#http://www.pythonchallenge.com/pc/return/uzi.html"
   ]
  },
  {
   "cell_type": "markdown",
   "metadata": {},
   "source": [
    "### Python challenge question 16"
   ]
  },
  {
   "cell_type": "markdown",
   "metadata": {},
   "source": [
    "For this challenge, I had to see the URL of the previous challenge. \n",
    "\n",
    "For the next challenge, I tried URL \"http://www.pythonchallenge.com/pc/return/uzi.html\" and it gave an image with calendar with year 1_6 and January 26th rounded, which is a Monday. Also, when I checked the page source, there is a text \"todo: buy flowers for tomorrow\" which means it is an important day. Also, the text \"he ain't the youngest, he is the second\" means that he is second youngest.\n",
    "\n",
    "Also, the calendar shows February hs 29 days, so, I figured that this is a leap year. The year might be anything between 1006 and 1996. With a little digging in Python, I found that there are a couple of modules useful for this challenge \"datetime\" and \"calendar\". So, I tried to get the year, but gave 5 years, i.e, 1176, 1356, 1576, 1756 and 1976.\n",
    "\n",
    "With the clues mentioned previously, second youngest means 1756 and so tried to use that for the next challenge, but returned nothing. Then I got a hunch from other clue \"to buy flowers\" and so googled the year and date to find that it was Mozart's birthday after a couple of tries with \"Benjamin Franklin\" too."
   ]
  },
  {
   "cell_type": "code",
   "execution_count": 10,
   "metadata": {},
   "outputs": [
    {
     "name": "stdout",
     "output_type": "stream",
     "text": [
      "1176\n",
      "1356\n",
      "1576\n",
      "1756\n",
      "1976\n"
     ]
    }
   ],
   "source": [
    "#http://www.pythonchallenge.com/pc/return/uzi.html\n",
    "\n",
    "import datetime\n",
    "import calendar\n",
    "\n",
    "for year in range(1006, 2000, 10):\n",
    "    if calendar.isleap(year) and datetime.date(year, 1, 26).weekday() == 0:\n",
    "        print(year)\n",
    "        \n",
    "\n",
    "#http://www.pythonchallenge.com/pc/return/mozart.html"
   ]
  },
  {
   "cell_type": "markdown",
   "metadata": {},
   "source": [
    "#### Python challenge question 17"
   ]
  },
  {
   "cell_type": "code",
   "execution_count": null,
   "metadata": {
    "collapsed": true
   },
   "outputs": [],
   "source": [
    "#http://www.pythonchallenge.com/pc/return/mozart.html\n",
    "\n"
   ]
  },
  {
   "cell_type": "markdown",
   "metadata": {},
   "source": [
    "#### Python challenge question 18"
   ]
  },
  {
   "cell_type": "code",
   "execution_count": null,
   "metadata": {
    "collapsed": true
   },
   "outputs": [],
   "source": []
  },
  {
   "cell_type": "markdown",
   "metadata": {},
   "source": [
    "#### Python challenge question 19"
   ]
  },
  {
   "cell_type": "code",
   "execution_count": null,
   "metadata": {
    "collapsed": true
   },
   "outputs": [],
   "source": []
  },
  {
   "cell_type": "markdown",
   "metadata": {},
   "source": [
    "#### Python challenge question 20"
   ]
  },
  {
   "cell_type": "code",
   "execution_count": null,
   "metadata": {
    "collapsed": true
   },
   "outputs": [],
   "source": []
  },
  {
   "cell_type": "markdown",
   "metadata": {},
   "source": [
    "#### Python challenge question 21"
   ]
  },
  {
   "cell_type": "code",
   "execution_count": null,
   "metadata": {
    "collapsed": true
   },
   "outputs": [],
   "source": []
  }
 ],
 "metadata": {
  "kernelspec": {
   "display_name": "Python 3",
   "language": "python",
   "name": "python3"
  },
  "language_info": {
   "codemirror_mode": {
    "name": "ipython",
    "version": 3
   },
   "file_extension": ".py",
   "mimetype": "text/x-python",
   "name": "python",
   "nbconvert_exporter": "python",
   "pygments_lexer": "ipython3",
   "version": "3.6.1"
  }
 },
 "nbformat": 4,
 "nbformat_minor": 1
}
