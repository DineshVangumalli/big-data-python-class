{
 "cells": [
  {
   "cell_type": "markdown",
   "metadata": {},
   "source": [
    "## Create a Dictionary\n",
    "Dictionaries are unordered sets of pairs. We can access dictionary data by keys. A key-value pair is indicated by a colon, \":\". The pairs are comma separated and are listed inside a pair of curly brackets, {}."
   ]
  },
  {
   "cell_type": "code",
   "execution_count": 24,
   "metadata": {},
   "outputs": [
    {
     "name": "stdout",
     "output_type": "stream",
     "text": [
      "{}\n",
      "{'one': 1, 'two': 2, 'three': 3}\n",
      "3\n"
     ]
    }
   ],
   "source": [
    "# Use curly braces to create a dictionary\n",
    "# Use a colon between keys and values in each pair\n",
    "# len() counts the number of key-value pairs in a dictionary\n",
    "\n",
    "empty_dict = {}                           # Create an empty dictionary  \n",
    "a_dict = {'one':1, 'two':2, 'three':3}    # Create a dictionary\n",
    "\n",
    "print(empty_dict)                         \n",
    "print(a_dict)\n",
    "print(len(a_dict))"
   ]
  },
  {
   "cell_type": "markdown",
   "metadata": {},
   "source": [
    "Keys in a dictionary can be strings, functions, tuples with immutable elements and classes. Keys, however cannot be lists or arrays. The command 'dict' generates a dictionary from a list with key-value pairs. This is another way to create a dictionary."
   ]
  },
  {
   "cell_type": "code",
   "execution_count": 15,
   "metadata": {},
   "outputs": [
    {
     "name": "stdout",
     "output_type": "stream",
     "text": [
      "{'name': 'Dinesh', 'age': 30, 'sex': 'male', 'dept': 'Statistics'}\n",
      "dict_keys(['name', 'age', 'sex', 'dept'])\n",
      "dict_values(['Dinesh', 30, 'male', 'Statistics'])\n",
      "dict_items([('name', 'Dinesh'), ('age', 30), ('sex', 'male'), ('dept', 'Statistics')])\n"
     ]
    }
   ],
   "source": [
    "my_dict = dict([('name','Dinesh'), ('age',30),('sex','male'), ('dept','Statistics')])  # Create a Dictionary\n",
    "print(my_dict)\n",
    "\n",
    "print(my_dict.keys())    # Prints all the keys in the dictionary\n",
    "print(my_dict.values())  # Prints all the values in the dictionary\n",
    "print(my_dict.items())    # Prints all the items/key-value pairs in the dictionary"
   ]
  },
  {
   "cell_type": "code",
   "execution_count": 28,
   "metadata": {},
   "outputs": [
    {
     "name": "stdout",
     "output_type": "stream",
     "text": [
      "{'name': 'Sachin', 1: [12, 44, 36]}\n"
     ]
    }
   ],
   "source": [
    "b_dict = {'name': 'Sachin', 1: [12, 44, 36]}     # Create a dictionary with mixed keys\n",
    "print(b_dict)"
   ]
  },
  {
   "cell_type": "markdown",
   "metadata": {},
   "source": [
    "There might be a case when we get the keys and values in lists at runtime. We can construct a dictionary from those lists of keys and values too."
   ]
  },
  {
   "cell_type": "code",
   "execution_count": 39,
   "metadata": {},
   "outputs": [
    {
     "name": "stdout",
     "output_type": "stream",
     "text": [
      "[('a', 1), ('b', 2), ('c', 3)]\n",
      "{'a': 1, 'b': 2, 'c': 3}\n",
      "{'a': 1, 'b': 2, 'c': 3}\n"
     ]
    }
   ],
   "source": [
    "keys = ['a', 'b', 'c']\n",
    "values = [1, 2, 3]\n",
    "\n",
    "cc = list(zip(keys,values))     # Create a list of keys and values\n",
    "print(cc)\n",
    "\n",
    "c_dict = {}                     # Create an empty dictionary\n",
    "for (k,v) in cc:                # Add key-value pairs in the empty dictionary\n",
    "     c_dict[k] = v\n",
    "        \n",
    "d_dict = dict(cc)               # Another way to create a dictionary from a list of key-value pairs using dict()\n",
    "        \n",
    "print(c_dict)\n",
    "print(d_dict)"
   ]
  },
  {
   "cell_type": "markdown",
   "metadata": {},
   "source": [
    "## Access, Modify and Delete Dictionary Items\n",
    "Individual elements are accessed by their keys or by using a get() method. And new objects are added to the dictionary by creating a new key. The difference while using get() is that it returns \"None\" instead of \"KeyError\", if the key is not found."
   ]
  },
  {
   "cell_type": "code",
   "execution_count": 48,
   "metadata": {},
   "outputs": [
    {
     "name": "stdout",
     "output_type": "stream",
     "text": [
      "30\n",
      "{'one': 1, 'two': 2, 'three': 3, 'four': 4}\n",
      "None\n"
     ]
    },
    {
     "ename": "KeyError",
     "evalue": "'address'",
     "output_type": "error",
     "traceback": [
      "\u001b[1;31m---------------------------------------------------------------------------\u001b[0m",
      "\u001b[1;31mKeyError\u001b[0m                                  Traceback (most recent call last)",
      "\u001b[1;32m<ipython-input-48-cbd68af99558>\u001b[0m in \u001b[0;36m<module>\u001b[1;34m()\u001b[0m\n\u001b[0;32m      7\u001b[0m \u001b[1;33m\u001b[0m\u001b[0m\n\u001b[0;32m      8\u001b[0m \u001b[0mprint\u001b[0m\u001b[1;33m(\u001b[0m\u001b[0mmy_dict\u001b[0m\u001b[1;33m.\u001b[0m\u001b[0mget\u001b[0m\u001b[1;33m(\u001b[0m\u001b[1;34m'address'\u001b[0m\u001b[1;33m)\u001b[0m\u001b[1;33m)\u001b[0m  \u001b[1;31m# Returns 'None' when the key is not found\u001b[0m\u001b[1;33m\u001b[0m\u001b[0m\n\u001b[1;32m----> 9\u001b[1;33m \u001b[0mmy_dict\u001b[0m\u001b[1;33m[\u001b[0m\u001b[1;34m'address'\u001b[0m\u001b[1;33m]\u001b[0m             \u001b[1;31m# Returns KeyError\u001b[0m\u001b[1;33m\u001b[0m\u001b[0m\n\u001b[0m",
      "\u001b[1;31mKeyError\u001b[0m: 'address'"
     ]
    }
   ],
   "source": [
    "a_dict['one']                  # Access an element by key\n",
    "\n",
    "print(my_dict.get('age'))      # Access an element by using get() method\n",
    "\n",
    "a_dict['four'] = 4             # Create a new key\n",
    "print(a_dict)\n",
    "\n",
    "print(my_dict.get('address'))  # Returns 'None' when the key is not found\n",
    "my_dict['address']             # Returns KeyError"
   ]
  },
  {
   "cell_type": "markdown",
   "metadata": {},
   "source": [
    "If the key is already present, the value in it gets updated, else a new key-value pair is added to the dictionary."
   ]
  },
  {
   "cell_type": "code",
   "execution_count": 56,
   "metadata": {},
   "outputs": [
    {
     "name": "stdout",
     "output_type": "stream",
     "text": [
      "{'name': 'Dinesh', 'age': 30, 'sex': 'male', 'dept': 'Statistics'}\n",
      "{'name': 'Dinesh', 'age': 29, 'sex': 'male', 'dept': 'Statistics'}\n",
      "{'name': 'Dinesh', 'age': 29, 'sex': 'male', 'dept': 'Statistics', 'address': 'Devon'}\n",
      "{'name': 'Dinesh', 'age': 29, 'sex': 'male', 'dept': 'Statistics', 'address': 'Devon', 'ID': 302333}\n"
     ]
    }
   ],
   "source": [
    "print(my_dict)                  # Print the previous Dictionary\n",
    "my_dict['age'] = 29             # Update a value\n",
    "print(my_dict)\n",
    "my_dict['address'] = 'Devon'    # Add a new key-value pair to the dictionary\n",
    "print(my_dict)\n",
    "my_dict['ID'] = 302333          # Add a new key-value pair to the dictionary\n",
    "print(my_dict)"
   ]
  },
  {
   "cell_type": "markdown",
   "metadata": {},
   "source": [
    "We can remove a particular item in a dictionary by using the method pop(). This method removes as item with the provided key and returns the value. The method, popitem() can be used to remove and return an arbitrary item (key, value) form the dictionary. All the items can be removed at once using the clear() method. We can also use the del keyword to remove individual items or the entire dictionary itself."
   ]
  },
  {
   "cell_type": "code",
   "execution_count": 83,
   "metadata": {},
   "outputs": [
    {
     "name": "stdout",
     "output_type": "stream",
     "text": [
      "{'name': 'Sam', 'sex': 'female', 'dept': 'Statistics', 'Address': 'Villanova', 'ID': 483456}\n",
      "{'name': 'Sam', 'age': 32, 'dept': 'Statistics', 'Address': 'Villanova', 'ID': 483456}\n",
      "{'name': 'Sam', 'age': 32, 'sex': 'female', 'dept': 'Statistics', 'Address': 'Villanova'}\n",
      "{}\n"
     ]
    },
    {
     "ename": "NameError",
     "evalue": "name 'del_dict' is not defined",
     "output_type": "error",
     "traceback": [
      "\u001b[1;31m---------------------------------------------------------------------------\u001b[0m",
      "\u001b[1;31mNameError\u001b[0m                                 Traceback (most recent call last)",
      "\u001b[1;32m<ipython-input-83-23bd384181df>\u001b[0m in \u001b[0;36m<module>\u001b[1;34m()\u001b[0m\n\u001b[0;32m     15\u001b[0m \u001b[1;33m\u001b[0m\u001b[0m\n\u001b[0;32m     16\u001b[0m \u001b[1;32mdel\u001b[0m \u001b[0mdel_dict\u001b[0m                  \u001b[1;31m# Removes entire dictionary\u001b[0m\u001b[1;33m\u001b[0m\u001b[0m\n\u001b[1;32m---> 17\u001b[1;33m \u001b[0mprint\u001b[0m\u001b[1;33m(\u001b[0m\u001b[0mdel_dict\u001b[0m\u001b[1;33m)\u001b[0m\u001b[1;33m\u001b[0m\u001b[0m\n\u001b[0m",
      "\u001b[1;31mNameError\u001b[0m: name 'del_dict' is not defined"
     ]
    }
   ],
   "source": [
    "del_dict = dict([('name', 'Sam'), ('age', 32), ('sex', 'female'), ('dept', 'Statistics'), ('Address', 'Villanova'), ('ID', 483456)]) \n",
    "del_dict.pop('age')                 # Removes an item from the dictionary with the provided 'key'\n",
    "print(del_dict)\n",
    "\n",
    "del_dict = dict([('name', 'Sam'), ('age', 32), ('sex', 'female'), ('dept', 'Statistics'), ('Address', 'Villanova'), ('ID', 483456)])\n",
    "del del_dict['sex']                # Another method to remove an item from the dictionary using del() function\n",
    "print(del_dict)\n",
    "\n",
    "del_dict = dict([('name', 'Sam'), ('age', 32), ('sex', 'female'), ('dept', 'Statistics'), ('Address', 'Villanova'), ('ID', 483456)])\n",
    "del_dict.popitem()           # Removes an arbitrary item from a dictionary\n",
    "print(del_dict)\n",
    "\n",
    "del_dict.clear()             # All the items in a dictionary are removed  with clear() method\n",
    "print(del_dict)              # Prints empty dictionary\n",
    "\n",
    "del del_dict                  # Removes entire dictionary\n",
    "print(del_dict)               # Gives NameError as there is no dictionary left in that name"
   ]
  },
  {
   "cell_type": "markdown",
   "metadata": {},
   "source": [
    "We can also check if a key is present in a dictionary or not using keyword 'in'. We can only check 'keys' but not 'values'."
   ]
  },
  {
   "cell_type": "code",
   "execution_count": 86,
   "metadata": {},
   "outputs": [
    {
     "name": "stdout",
     "output_type": "stream",
     "text": [
      "True\n"
     ]
    }
   ],
   "source": [
    "k_dict = dict([('name', 'Sam'), ('age', 32), ('sex', 'female'), ('dept', 'Statistics'), ('Address', 'Villanova'), ('ID', 483456)])\n",
    "print('age' in k_dict)"
   ]
  },
  {
   "cell_type": "markdown",
   "metadata": {},
   "source": [
    "#### dict.fromkeys(seq[, value])\n",
    "Create a new dictionary with the same keys as seq. If a value is provided, each item's value is set to that value. If value is not set, all item values are set to None."
   ]
  },
  {
   "cell_type": "code",
   "execution_count": 10,
   "metadata": {},
   "outputs": [
    {
     "name": "stdout",
     "output_type": "stream",
     "text": [
      "{'name': None, 'sex': None, 'dept': None}\n",
      "{'name': 0, 'sex': 0, 'dept': 0}\n"
     ]
    }
   ],
   "source": [
    "my_list = ['name', 'sex', 'dept']\n",
    "my_dictionary = dict.fromkeys(my_list)        # Value is not set\n",
    "print(my_dictionary)                          \n",
    "\n",
    "my_dictionary2 = dict.fromkeys(my_list, 0)    # Create a dictionary from a list with all values initialized to 0\n",
    "print(my_dictionary2)"
   ]
  },
  {
   "cell_type": "markdown",
   "metadata": {},
   "source": [
    "## Merge Dictionaries\n",
    "There are 2 ways to merge dictionaries. Before Python 3.5, if we wanted to merge two dictionaries, we had to create a copy of the first dictionary and then update that copy with the second dictionary. But, from Python 3.5 onwards, we can merge two or more dictionaries in a single statement by unpacking both the dictionaries into a new dictionary. Both methods are shown below:"
   ]
  },
  {
   "cell_type": "code",
   "execution_count": 11,
   "metadata": {},
   "outputs": [
    {
     "name": "stdout",
     "output_type": "stream",
     "text": [
      "{'Math': 98, 'Science': 91, 'English': 93, 'Spanish': 94, 'Gym': 79}\n",
      "{'Math': 98, 'Science': 91, 'English': 93, 'Spanish': 94, 'Gym': 79}\n"
     ]
    }
   ],
   "source": [
    "grades1 = {'Math': 98, 'Science': 87, 'English': 93}\n",
    "grades2 = {'Spanish': 94, 'Gym': 79, 'Science': 91}\n",
    "\n",
    "# Before Python 3.5\n",
    "\n",
    "grades = grades1.copy()             # Create a copy of first dictionary\n",
    "grades.update(grades2)              # Update with second dictionary\n",
    "\n",
    "print(grades)                       # Prints merged dictionary\n",
    "\n",
    "# From Python 3.5 onwards\n",
    "\n",
    "grades_3 = {**grades1, **grades2}   # Unpack both dictionaries into a single new dictionary\n",
    "print(grades_3)"
   ]
  },
  {
   "cell_type": "markdown",
   "metadata": {},
   "source": [
    "## Loop over Dictionaries\n",
    "There are mainly three ways to loop over dictionaries:<br>\n",
    "1. By keys<br>\n",
    "2. By values<br>\n",
    "3. By item/key-value pair"
   ]
  },
  {
   "cell_type": "code",
   "execution_count": 24,
   "metadata": {},
   "outputs": [
    {
     "name": "stdout",
     "output_type": "stream",
     "text": [
      "name\n",
      "age\n",
      "sex\n",
      "dept\n",
      "Address\n",
      "ID\n",
      "\n",
      "\n",
      "name\n",
      "age\n",
      "sex\n",
      "dept\n",
      "Address\n",
      "ID\n",
      "\n",
      "\n",
      "Sam\n",
      "32\n",
      "female\n",
      "Statistics\n",
      "Villanova\n",
      "483456\n",
      "\n",
      "\n",
      "('name', 'Sam')\n",
      "('age', 32)\n",
      "('sex', 'female')\n",
      "('dept', 'Statistics')\n",
      "('Address', 'Villanova')\n",
      "('ID', 483456)\n"
     ]
    }
   ],
   "source": [
    "loop_dict = dict([('name', 'Sam'), ('age', 32), ('sex', 'female'), ('dept', 'Statistics'), ('Address', 'Villanova'), ('ID', 483456)])\n",
    "\n",
    "for key in loop_dict.keys():\n",
    "     print(key)                        # prints all the keys (in any order) in the dictionary\n",
    "print('\\n')\n",
    "        \n",
    "for key in loop_dict:\n",
    "     print(key)                        # prints all the keys (in any order) in the dictionary \n",
    "print('\\n')\n",
    "\n",
    "for value in loop_dict.values():\n",
    "     print(value)                      # prints all the values (in any order) in the dictionary\n",
    "print('\\n')\n",
    "\n",
    "for item in loop_dict.items():\n",
    "     print(item)                       # prints all the items (in any order) in the dictionary"
   ]
  },
  {
   "cell_type": "markdown",
   "metadata": {},
   "source": [
    "**enumerate()** is a handy built-in Python function that makes things a little cleaner and more concise. Let’s say we want to loop through a dictionary, but want to access both the key and the value for each item. We can do that as shown below:"
   ]
  },
  {
   "cell_type": "code",
   "execution_count": 30,
   "metadata": {},
   "outputs": [
    {
     "name": "stdout",
     "output_type": "stream",
     "text": [
      "name: Sam\n",
      "age: 32\n",
      "sex: female\n",
      "dept: Statistics\n",
      "Address: Villanova\n",
      "ID: 483456\n"
     ]
    }
   ],
   "source": [
    "e_dict = dict([('name', 'Sam'), ('age', 32), ('sex', 'female'), ('dept', 'Statistics'), ('Address', 'Villanova'), ('ID', 483456)])\n",
    "\n",
    "for i, (k, v) in enumerate(e_dict.items()):\n",
    "      print(k +\":\", v)"
   ]
  },
  {
   "cell_type": "markdown",
   "metadata": {},
   "source": [
    "## Dictionary Comprehensions\n",
    "We can access each of the key-value pairs in a dictionary by using the items() method"
   ]
  },
  {
   "cell_type": "code",
   "execution_count": 43,
   "metadata": {},
   "outputs": [
    {
     "name": "stdout",
     "output_type": "stream",
     "text": [
      "{'name': 'Shane', 'age': 25, 'sex': 'male', 'dept': 'Computer Science'}\n",
      "('name', 'Shane')\n",
      "('age', 25)\n",
      "('sex', 'male')\n",
      "('dept', 'Computer Science')\n"
     ]
    }
   ],
   "source": [
    "comp_dict = dict([('name','Shane'), ('age',25),('sex','male'), ('dept','Computer Science')]) \n",
    "print(comp_dict)\n",
    "\n",
    "for pair in comp_dict.items():            # Prints each key-value pair in a dictionary\n",
    "     print(pair)                   "
   ]
  },
  {
   "cell_type": "markdown",
   "metadata": {
    "collapsed": true
   },
   "source": [
    "#### Resources Used:<br>\n",
    "1. Python for Data Analysis by Wes McKinney\n",
    "2. Mastering Python Regular Expressions by Félix López and Víctor Romero\n",
    "3. Scientific Computing with Python 3 by Claus Führer, Jan Erik Solem and Olivier Verdier\n",
    "4. Functional Python Programming by Steven Lott\n",
    "5. https://www.analyticsvidhya.com/\n",
    "6. https://stackoverflow.com/"
   ]
  },
  {
   "cell_type": "code",
   "execution_count": null,
   "metadata": {
    "collapsed": true
   },
   "outputs": [],
   "source": []
  }
 ],
 "metadata": {
  "kernelspec": {
   "display_name": "Python 3",
   "language": "python",
   "name": "python3"
  },
  "language_info": {
   "codemirror_mode": {
    "name": "ipython",
    "version": 3
   },
   "file_extension": ".py",
   "mimetype": "text/x-python",
   "name": "python",
   "nbconvert_exporter": "python",
   "pygments_lexer": "ipython3",
   "version": "3.6.1"
  }
 },
 "nbformat": 4,
 "nbformat_minor": 2
}
