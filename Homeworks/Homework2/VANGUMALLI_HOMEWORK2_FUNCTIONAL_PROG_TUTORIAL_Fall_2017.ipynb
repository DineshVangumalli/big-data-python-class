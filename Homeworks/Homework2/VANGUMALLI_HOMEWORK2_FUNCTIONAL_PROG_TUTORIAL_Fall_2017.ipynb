{
 "cells": [
  {
   "cell_type": "markdown",
   "metadata": {},
   "source": [
    "## Functional Programming\n",
    "The \"functools\" module contains some very useful functions like reduce()."
   ]
  },
  {
   "cell_type": "code",
   "execution_count": 20,
   "metadata": {
    "collapsed": true
   },
   "outputs": [],
   "source": [
    "import functools"
   ]
  },
  {
   "cell_type": "markdown",
   "metadata": {
    "collapsed": true
   },
   "source": [
    "#### Map\n",
    "Map takes a function and a collection of items. It makes a new, empty collection, runs the function on each item in the original collection and inserts each return value into the new collection. It returns the new collection."
   ]
  },
  {
   "cell_type": "code",
   "execution_count": 21,
   "metadata": {},
   "outputs": [
    {
     "name": "stdout",
     "output_type": "stream",
     "text": [
      "[6, 3, 6]\n",
      "[0, 1, 4, 9, 16]\n"
     ]
    }
   ],
   "source": [
    "name_len = list(map(len, [\"Dinesh\", \"Sam\", \"Sachin\"]))   # This map takes a list of names and returns a list of the lengths of those names:\n",
    "print(name_len)\n",
    "\n",
    "squares = list(map(lambda x: x * x, [0, 1, 2, 3, 4]))    # This map squares every number in the passed collection\n",
    "print(squares)"
   ]
  },
  {
   "cell_type": "markdown",
   "metadata": {},
   "source": [
    "#### Reduce\n",
    "The reduce function is in a module called 'functools'. Reduce takes a function and a collection of items. It returns a value that is created by combining the items."
   ]
  },
  {
   "cell_type": "code",
   "execution_count": 13,
   "metadata": {},
   "outputs": [
    {
     "name": "stdout",
     "output_type": "stream",
     "text": [
      "15\n"
     ]
    }
   ],
   "source": [
    "sum = functools.reduce(lambda x, y: x + y, [0, 1, 2, 3, 4, 5])  # This is a simple reduce which returns the sum of all the items in the collection\n",
    "print(sum)"
   ]
  },
  {
   "cell_type": "markdown",
   "metadata": {},
   "source": [
    "The initial accumulator in the below example is specified with the third argument to reduce(). The value of 'a' is initialized to '0'."
   ]
  },
  {
   "cell_type": "code",
   "execution_count": 18,
   "metadata": {},
   "outputs": [
    {
     "name": "stdout",
     "output_type": "stream",
     "text": [
      "3\n"
     ]
    }
   ],
   "source": [
    "sentences = ['Dinesh read a story to Sam and Sachin.',\n",
    "             'Sam liked it very much.',\n",
    "             'Sachin hated the story.',\n",
    "             'Rahul and Sachin played Cricket.']\n",
    "\n",
    "sachin_count = functools.reduce(lambda a, x: a + x.count('Sachin'), sentences, 0) # Counts the number of times Sachin occurred in the sentences\n",
    "print(sachin_count)"
   ]
  },
  {
   "cell_type": "markdown",
   "metadata": {},
   "source": [
    "#### Filter\n",
    "'filter' offers another parallelism over a sequence. It takes as an input a boolean-returning function and a sequence, and retains only those values from the sequence that return 'True' from the function. Below is an example that returns only even numbers."
   ]
  },
  {
   "cell_type": "code",
   "execution_count": 29,
   "metadata": {},
   "outputs": [
    {
     "name": "stdout",
     "output_type": "stream",
     "text": [
      "[2, 4, 6, 8, 10]\n"
     ]
    }
   ],
   "source": [
    "even = filter(lambda x: x % 2 == 0, [1,2,3,4,5,6, 8, 10])\n",
    "print(list(even))"
   ]
  },
  {
   "cell_type": "markdown",
   "metadata": {},
   "source": [
    "### Higher-order Functions\n",
    "In Functional Programming, functions are first-class citizens. This means that you can treat them as any other objects – you can assign them to variables, you can pass them as arguments, or even get them returned from other functions.\n",
    "\n",
    "In the below example, function_product, is a higher-order function that takes two inputs - A function F(x) and a multiplier m. It returns a function F'(x) which is equal to m*F(x). "
   ]
  },
  {
   "cell_type": "code",
   "execution_count": 24,
   "metadata": {},
   "outputs": [
    {
     "name": "stdout",
     "output_type": "stream",
     "text": [
      "8\n"
     ]
    },
    {
     "data": {
      "text/plain": [
       "24"
      ]
     },
     "execution_count": 24,
     "metadata": {},
     "output_type": "execute_result"
    }
   ],
   "source": [
    "cube_f = lambda x: x**3\n",
    "print(cube_f(2))                                    # Prints cube of '2' \n",
    "\n",
    "f_product = lambda F, m: lambda x: F(x)*m\n",
    "f_product(cube_f, 3)(2)                      # '2' is the parameter to function 'cube_f' and (cube_f,3) are parameters to function 'f_product'"
   ]
  },
  {
   "cell_type": "markdown",
   "metadata": {},
   "source": [
    "Below is another example of higher-order example: <br>\n",
    "Normally, given a list of tuples, Python will sort by default on the first value in each tuple. In order to sort on a different element from each tuple, a function can be passed that returns that element."
   ]
  },
  {
   "cell_type": "code",
   "execution_count": 33,
   "metadata": {},
   "outputs": [
    {
     "name": "stdout",
     "output_type": "stream",
     "text": [
      "[('Bass', 3), ('Drums', 4), ('Guitar', 6), ('Piano', 2), ('Violin', 1), ('Vocals', 5)]\n",
      "[('Violin', 1), ('Piano', 2), ('Bass', 3), ('Drums', 4), ('Vocals', 5), ('Guitar', 6)]\n"
     ]
    }
   ],
   "source": [
    "def second_element(t):\n",
    "     return t[1]\n",
    "\n",
    "music = [('Guitar', 6), ('Vocals', 5), ('Bass', 3), ('Drums', 4), ('Violin', 1), ('Piano', 2)]\n",
    "print(sorted(music))\n",
    "print(sorted(music, key=second_element))\n"
   ]
  },
  {
   "cell_type": "markdown",
   "metadata": {},
   "source": [
    "#### Currying\n",
    "For example, suppose we had a trivial function that adds two numbers together. Using this function, we could derive a new function of one variable, add_five, that adds 5 to its argument. The second argument to add_numbers is said to be curried. The built-in functools module can simplify this process using the partial function."
   ]
  },
  {
   "cell_type": "code",
   "execution_count": 9,
   "metadata": {},
   "outputs": [
    {
     "data": {
      "text/plain": [
       "92"
      ]
     },
     "execution_count": 9,
     "metadata": {},
     "output_type": "execute_result"
    }
   ],
   "source": [
    "def add_numbers(x, y):\n",
    "    return (x + y)\n",
    "\n",
    "add_five = lambda y: add_numbers(5, y)\n",
    "\n",
    "from functools import partial\n",
    "add_five = partial(add_numbers, 5)\n",
    "\n",
    "add_five(87)"
   ]
  },
  {
   "cell_type": "markdown",
   "metadata": {},
   "source": [
    "We can use higher-order functions to convert a function that takes multiple arguments into a chain of functions that each take a single argument. More specifically, given a function f(x, y), we can define a function g such that g(x)(y) is equivalent to f(x, y). Here, g is a higher-order function that takes in a single argument x and returns another function that takes in a single argument y. This transformation is called currying.\n",
    "\n",
    "As an example, we can define a curried version of the 'pow' function:"
   ]
  },
  {
   "cell_type": "code",
   "execution_count": 10,
   "metadata": {},
   "outputs": [
    {
     "data": {
      "text/plain": [
       "32"
      ]
     },
     "execution_count": 10,
     "metadata": {},
     "output_type": "execute_result"
    }
   ],
   "source": [
    "def curried_pow(x):\n",
    "        def h(y):\n",
    "            return pow(x, y)\n",
    "        return h\n",
    "    \n",
    "curried_pow(2)(5)"
   ]
  },
  {
   "cell_type": "markdown",
   "metadata": {
    "collapsed": true
   },
   "source": [
    "#### Resources Used:<br>\n",
    "1. Python for Data Analysis by Wes McKinney\n",
    "2. Mastering Python Regular Expressions by Félix López and Víctor Romero\n",
    "3. Scientific Computing with Python 3 by Claus Führer, Jan Erik Solem and Olivier Verdier\n",
    "4. Functional Python Programming by Steven Lott\n",
    "5. https://www.analyticsvidhya.com/\n",
    "6. https://stackoverflow.com/"
   ]
  },
  {
   "cell_type": "code",
   "execution_count": null,
   "metadata": {
    "collapsed": true
   },
   "outputs": [],
   "source": []
  }
 ],
 "metadata": {
  "kernelspec": {
   "display_name": "Python 3",
   "language": "python",
   "name": "python3"
  },
  "language_info": {
   "codemirror_mode": {
    "name": "ipython",
    "version": 3
   },
   "file_extension": ".py",
   "mimetype": "text/x-python",
   "name": "python",
   "nbconvert_exporter": "python",
   "pygments_lexer": "ipython3",
   "version": "3.6.1"
  }
 },
 "nbformat": 4,
 "nbformat_minor": 2
}
