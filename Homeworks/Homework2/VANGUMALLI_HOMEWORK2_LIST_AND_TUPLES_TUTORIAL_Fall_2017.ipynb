{
 "cells": [
  {
   "cell_type": "markdown",
   "metadata": {},
   "source": [
    "## Lists and Tuples\n",
    "Python has two sequence structures: lists and tuples. Both contain zero or more elements, and each element can be any Python object. Also, unlike strings, the elements in lists or tuples can be of different types. You can create deep and complex structures with the lists and tuples.\n",
    "\n",
    "Tuples are immutable and lists are mutable, which means you can insert and delete elements in lists."
   ]
  },
  {
   "cell_type": "markdown",
   "metadata": {},
   "source": [
    "A list is made from zero or more elements, separated by commas, and surrounded by square brackets"
   ]
  },
  {
   "cell_type": "code",
   "execution_count": 9,
   "metadata": {},
   "outputs": [
    {
     "name": "stdout",
     "output_type": "stream",
     "text": [
      "[]\n",
      "['emu', 'ostrich', 'cassowary']\n",
      "['Graham', 'John', 'Terry', 'Terry', 'Michael']\n"
     ]
    }
   ],
   "source": [
    "empty_list = [ ]\n",
    "big_birds = ['emu', 'ostrich', 'cassowary']\n",
    "first_names = ['Graham', 'John', 'Terry', 'Terry', 'Michael']\n",
    "\n",
    "print(empty_list)\n",
    "print(big_birds)\n",
    "print(first_names)"
   ]
  },
  {
   "cell_type": "code",
   "execution_count": 11,
   "metadata": {},
   "outputs": [
    {
     "name": "stdout",
     "output_type": "stream",
     "text": [
      "[]\n"
     ]
    }
   ],
   "source": [
    "another_empty_list = list()  # We can also make an empty list with the list() function\n",
    "print(another_empty_list)"
   ]
  },
  {
   "cell_type": "markdown",
   "metadata": {},
   "source": [
    "Python’s list() function converts other data types to lists. "
   ]
  },
  {
   "cell_type": "code",
   "execution_count": 15,
   "metadata": {},
   "outputs": [
    {
     "name": "stdout",
     "output_type": "stream",
     "text": [
      "['F', 'a', 'n', 't', 'a', 's', 't', 'i', 'c']\n",
      "['ready', 'aim', 'shoot']\n"
     ]
    }
   ],
   "source": [
    "aa = list('Fantastic')                   # Converts a string to a list of one-character strings\n",
    "print(aa)\n",
    "\n",
    "a_tuple = ('ready', 'aim', 'shoot')  \n",
    "print(list(a_tuple))                      # Converts a tuple to a list"
   ]
  },
  {
   "cell_type": "code",
   "execution_count": 31,
   "metadata": {},
   "outputs": [
    {
     "name": "stdout",
     "output_type": "stream",
     "text": [
      "John\n",
      "Michael\n"
     ]
    }
   ],
   "source": [
    "first_names = ['Graham', 'John', 'Terry', 'Terry', 'Michael']\n",
    "print(first_names[1])       # Can extract a single value from a list by specifying its offset\n",
    "print(first_names[-1])      # Negative indexes count backward from the end"
   ]
  },
  {
   "cell_type": "code",
   "execution_count": 32,
   "metadata": {},
   "outputs": [
    {
     "name": "stdout",
     "output_type": "stream",
     "text": [
      "1\n",
      "True\n"
     ]
    }
   ],
   "source": [
    "print(first_names.index('John'))    # To know the offset of an item in a list by its value, use index()\n",
    "print('Terry' in first_names)        # To check for the existence of a value in a list "
   ]
  },
  {
   "cell_type": "markdown",
   "metadata": {},
   "source": [
    "You can delete an item from the list by using pop(). If you call pop() with an offset, it will return the item at that offset; with no argument, it uses -1. So, pop(0) returns the head (start) of the list, and pop() or pop(-1) returns the tail (end)"
   ]
  },
  {
   "cell_type": "code",
   "execution_count": 34,
   "metadata": {},
   "outputs": [
    {
     "name": "stdout",
     "output_type": "stream",
     "text": [
      "Michael\n",
      "['Graham', 'John', 'Terry', 'Terry']\n",
      "John\n",
      "['Graham', 'Terry', 'Terry']\n"
     ]
    }
   ],
   "source": [
    "first_names = ['Graham', 'John', 'Terry', 'Terry', 'Michael']\n",
    "print(first_names.pop())\n",
    "print(first_names)\n",
    "\n",
    "print(first_names.pop(1))\n",
    "print(first_names)"
   ]
  },
  {
   "cell_type": "code",
   "execution_count": 19,
   "metadata": {},
   "outputs": [
    {
     "name": "stdout",
     "output_type": "stream",
     "text": [
      "[['hummingbird', 'finch'], ['dodo', 'passenger pigeon', 'Norwegian Blue']]\n",
      "['dodo', 'passenger pigeon', 'Norwegian Blue']\n",
      "dodo\n"
     ]
    }
   ],
   "source": [
    "#  Lists can contain elements of different types, including other lists\n",
    "\n",
    "small_birds = ['hummingbird', 'finch']\n",
    "extinct_birds = ['dodo', 'passenger pigeon', 'Norwegian Blue']\n",
    "all_birds = [small_birds, extinct_birds]\n",
    "\n",
    "print(all_birds)\n",
    "print(all_birds[1])      # As thesecond item is a list, the list is printed \n",
    "\n",
    "print(all_birds[1][0])   # The first item of extinct_birds can be extracted from 'all_birds' by specifying two indexes"
   ]
  },
  {
   "cell_type": "markdown",
   "metadata": {},
   "source": [
    "A particularly useful function for lists is 'zip'. It can be used to merge two given lists into a new list by pairing the elements of the original lists. The result is a list of tuples.\n"
   ]
  },
  {
   "cell_type": "code",
   "execution_count": 44,
   "metadata": {},
   "outputs": [
    {
     "data": {
      "text/plain": [
       "[('red', 0), ('green', 1), ('blue', 2), ('alpha', 3)]"
      ]
     },
     "execution_count": 44,
     "metadata": {},
     "output_type": "execute_result"
    }
   ],
   "source": [
    "ind = [0,1,2,3,4,5,6]\n",
    "color = [\"red\", \"green\", \"blue\", \"alpha\"]\n",
    "list(zip(color,ind))      # The length of the zipped list is the shorter of the two input lists"
   ]
  },
  {
   "cell_type": "markdown",
   "metadata": {},
   "source": [
    "### Lists with 'if' statements"
   ]
  },
  {
   "cell_type": "markdown",
   "metadata": {},
   "source": [
    "We can use 'if' statement to iterate through a loop in order to check for a condition or to test if an element is present in the list"
   ]
  },
  {
   "cell_type": "code",
   "execution_count": 29,
   "metadata": {},
   "outputs": [
    {
     "name": "stdout",
     "output_type": "stream",
     "text": [
      "Capital of India is present in the list\n"
     ]
    }
   ],
   "source": [
    "cities = ['Sydney', 'New York', 'Philadelphia', 'New Delhi', 'Chicago', 'London', 'Manchester', 'Paris']\n",
    "if 'New Delhi' in cities:\n",
    "    print('Capital of India is present in the list')"
   ]
  },
  {
   "cell_type": "code",
   "execution_count": 2,
   "metadata": {},
   "outputs": [
    {
     "data": {
      "text/plain": [
       "[44, 26, 90, 25.0, 49.0, 34.5, 86, 88, 53.0]"
      ]
     },
     "execution_count": 2,
     "metadata": {},
     "output_type": "execute_result"
    }
   ],
   "source": [
    "l1 = [22, 13, 45, 50, 18, 69, 43, 144, 106]\n",
    "[x/2 if x > 45 else x*2 for x in l1]           # Another example"
   ]
  },
  {
   "cell_type": "code",
   "execution_count": 30,
   "metadata": {},
   "outputs": [
    {
     "name": "stdout",
     "output_type": "stream",
     "text": [
      "['Sydney', 'New York', 'Philadelphia', 'New Delhi', 'Chicago', 'London', 'Manchester', 'Paris']\n",
      "['++Sydney++', '++New York++', '++Philadelphia++', '++New Delhi++', '**Chicago**', '++London++', '++Manchester++', '++Paris++']\n"
     ]
    }
   ],
   "source": [
    "cities = ['Sydney', 'New York', 'Philadelphia', 'New Delhi', 'Chicago', 'London', 'Manchester', 'Paris']\n",
    "print(cities)\n",
    "for j in range(len(cities)):\n",
    "    if cities[j] == 'Chicago':\n",
    "        cities[j] = '**' + cities[j] + '**'\n",
    "    else:\n",
    "        cities[j] = '++' + cities[j] + '++'\n",
    "print(cities)"
   ]
  },
  {
   "cell_type": "markdown",
   "metadata": {},
   "source": [
    "### Lists with 'for' loop\n",
    "\n",
    "The keyword \"for\" tells Python to get ready to use a loop and the variable \"dog\" is a temporary placeholder variable. This is the variable that Python will place each item in the list into, one at a time.\n",
    "\n",
    "Each time through the loop, the value of \"dog\" will be change with 'border collie', 'australian cattle dog' and 'labrador retriever' respectively. As there are no more items in the list, the loop will end."
   ]
  },
  {
   "cell_type": "code",
   "execution_count": 10,
   "metadata": {},
   "outputs": [
    {
     "name": "stdout",
     "output_type": "stream",
     "text": [
      "border collie\n",
      "australian cattle dog\n",
      "labrador retriever\n"
     ]
    }
   ],
   "source": [
    "dogs = ['border collie', 'australian cattle dog', 'labrador retriever']\n",
    "\n",
    "for dog in dogs:\n",
    "    print(dog)"
   ]
  },
  {
   "cell_type": "markdown",
   "metadata": {},
   "source": [
    "In this example, we are given a list of strings, we need to filter out strings with length 2 or less and convert them to uppercase. We ca do this using 'for' loop and 'if' statements as shown below:"
   ]
  },
  {
   "cell_type": "code",
   "execution_count": 31,
   "metadata": {},
   "outputs": [
    {
     "data": {
      "text/plain": [
       "['BAT', 'CAR', 'DOVE', 'PYTHON']"
      ]
     },
     "execution_count": 31,
     "metadata": {},
     "output_type": "execute_result"
    }
   ],
   "source": [
    "strings = ['a', 'as', 'bat', 'car', 'dove', 'python']\n",
    "[x.upper() for x in strings if len(x) > 2]"
   ]
  },
  {
   "cell_type": "markdown",
   "metadata": {},
   "source": [
    "### Lists with 'lambdas'"
   ]
  },
  {
   "cell_type": "markdown",
   "metadata": {},
   "source": [
    "In the below example, we are multiplying every number in list 'x' by 5 and adding that value the the list 'y'. Here, map() takes in a function (our lamda function) and an iterable (x) and then returns another iterable."
   ]
  },
  {
   "cell_type": "code",
   "execution_count": 32,
   "metadata": {},
   "outputs": [
    {
     "name": "stdout",
     "output_type": "stream",
     "text": [
      "[100, 150, 200, 250, 300]\n"
     ]
    }
   ],
   "source": [
    "x = [20, 30, 40, 50, 60]\n",
    "y = list(map(lambda v : v * 5, x))        # Multiplies a list with 5 and prints\n",
    "print(y)"
   ]
  },
  {
   "cell_type": "code",
   "execution_count": 33,
   "metadata": {},
   "outputs": [
    {
     "data": {
      "text/plain": [
       "[0, 1, 4, 9, 16, 25, 36, 49, 64, 81]"
      ]
     },
     "execution_count": 33,
     "metadata": {},
     "output_type": "execute_result"
    }
   ],
   "source": [
    "[(lambda x: x*x)(x) for x in range(10)]   # Prints a list of squares in range (0,10)"
   ]
  },
  {
   "cell_type": "markdown",
   "metadata": {},
   "source": [
    "### Enumerating a list\n",
    "\n",
    "When looping through a list, sometimes we might need the index of the current item. The enumerate() function tracks the index of each item, as it loops through the list.\n",
    "\n",
    "The value in the variable 'index' is always an integer. If you want to print it in a string, you have to turn the integer into a string:"
   ]
  },
  {
   "cell_type": "code",
   "execution_count": 19,
   "metadata": {},
   "outputs": [
    {
     "name": "stdout",
     "output_type": "stream",
     "text": [
      "Results for the dog show are as follows:\n",
      "\n",
      "Place 0: Border Collie\n",
      "Place 1: Australian Cattle Dog\n",
      "Place 2: Labrador Retriever\n"
     ]
    }
   ],
   "source": [
    "dogs = ['border collie', 'australian cattle dog', 'labrador retriever']\n",
    "\n",
    "print(\"Results for the dog show are as follows:\\n\")\n",
    "for index, dog in enumerate(dogs):\n",
    "    place = str(index)\n",
    "    print(\"Place \" + place + \": \" + dog.title())       # The method title() returns a copy of the string in which first characters of all the words are capitalized"
   ]
  },
  {
   "cell_type": "markdown",
   "metadata": {},
   "source": [
    "### Tuples"
   ]
  },
  {
   "cell_type": "code",
   "execution_count": 26,
   "metadata": {},
   "outputs": [
    {
     "name": "stdout",
     "output_type": "stream",
     "text": [
      "The first color is: red\n",
      "\n",
      "The available colors are:\n",
      "red\n",
      "green\n",
      "blue\n"
     ]
    }
   ],
   "source": [
    "colors = ('red', 'green', 'blue')\n",
    "print(\"The first color is: \" + colors[0])\n",
    "\n",
    "print(\"\\nThe available colors are:\")\n",
    "for color in colors:\n",
    "    print(color)"
   ]
  },
  {
   "cell_type": "markdown",
   "metadata": {},
   "source": [
    "If you try to add something to a tuple, you will get an error. The same happens when you try to remove something from a tuple, or modify one of its elements. This is because tuples are immutable. Once you create a tuple, its values will not change.\n",
    "We can often use tuples in place of lists, but they have many fewer functions—there is no append(), insert(), and so on—because they can’t be modified after creation."
   ]
  },
  {
   "cell_type": "code",
   "execution_count": 43,
   "metadata": {},
   "outputs": [
    {
     "ename": "AttributeError",
     "evalue": "'tuple' object has no attribute 'append'",
     "output_type": "error",
     "traceback": [
      "\u001b[1;31m---------------------------------------------------------------------------\u001b[0m",
      "\u001b[1;31mAttributeError\u001b[0m                            Traceback (most recent call last)",
      "\u001b[1;32m<ipython-input-43-ed1dbff53ab2>\u001b[0m in \u001b[0;36m<module>\u001b[1;34m()\u001b[0m\n\u001b[0;32m      1\u001b[0m \u001b[0mcolors\u001b[0m \u001b[1;33m=\u001b[0m \u001b[1;33m(\u001b[0m\u001b[1;34m'red'\u001b[0m\u001b[1;33m,\u001b[0m \u001b[1;34m'green'\u001b[0m\u001b[1;33m,\u001b[0m \u001b[1;34m'blue'\u001b[0m\u001b[1;33m)\u001b[0m\u001b[1;33m\u001b[0m\u001b[0m\n\u001b[1;32m----> 2\u001b[1;33m \u001b[0mcolors\u001b[0m\u001b[1;33m.\u001b[0m\u001b[0mappend\u001b[0m\u001b[1;33m(\u001b[0m\u001b[1;34m'purple'\u001b[0m\u001b[1;33m)\u001b[0m\u001b[1;33m\u001b[0m\u001b[0m\n\u001b[0m",
      "\u001b[1;31mAttributeError\u001b[0m: 'tuple' object has no attribute 'append'"
     ]
    }
   ],
   "source": [
    "colors = ('red', 'green', 'blue')\n",
    "colors.append('purple')"
   ]
  },
  {
   "cell_type": "markdown",
   "metadata": {},
   "source": [
    "We can find the index of the item in a tuple"
   ]
  },
  {
   "cell_type": "code",
   "execution_count": 48,
   "metadata": {},
   "outputs": [
    {
     "name": "stdout",
     "output_type": "stream",
     "text": [
      "1\n",
      "2\n",
      "0\n"
     ]
    }
   ],
   "source": [
    "colors = ('red', 'green', 'blue')\n",
    "print(colors.index('green'))\n",
    "print(colors.index('blue'))\n",
    "print(colors.index('red'))"
   ]
  },
  {
   "cell_type": "code",
   "execution_count": 41,
   "metadata": {},
   "outputs": [
    {
     "name": "stdout",
     "output_type": "stream",
     "text": [
      "red\n",
      "green\n",
      "blue\n"
     ]
    }
   ],
   "source": [
    "colors = ('red', 'green', 'blue')\n",
    "a, b, c = colors     # Tuples let us assign multiple variables at once. This is called tuple unpacking\n",
    "print(a)\n",
    "print(b)\n",
    "print(c)"
   ]
  },
  {
   "cell_type": "code",
   "execution_count": 42,
   "metadata": {},
   "outputs": [
    {
     "name": "stdout",
     "output_type": "stream",
     "text": [
      "green\n",
      "red\n",
      "blue\n"
     ]
    }
   ],
   "source": [
    "a, b = b, a     # can use tuples to exchange values in one statement without using a temporary variable\n",
    "print(a)\n",
    "print(b)\n",
    "print(c)"
   ]
  },
  {
   "cell_type": "markdown",
   "metadata": {},
   "source": [
    "One of the most common uses of variable unpacking when iterating over sequences of tuples or lists:"
   ]
  },
  {
   "cell_type": "code",
   "execution_count": 49,
   "metadata": {},
   "outputs": [
    {
     "name": "stdout",
     "output_type": "stream",
     "text": [
      "a=1, b=2, c=3\n",
      "a=4, b=5, c=6\n",
      "a=7, b=8, c=9\n"
     ]
    }
   ],
   "source": [
    "seq = [(1, 2, 3), (4, 5, 6), (7, 8, 9)]\n",
    "for a, b, c in seq:\n",
    "     print('a={0}, b={1}, c={2}'.format(a, b, c))"
   ]
  },
  {
   "cell_type": "markdown",
   "metadata": {},
   "source": [
    "The objects stored in a tuple may be mutable themselves, but, once created, it’s not possible to modify which object is stored in each slot:"
   ]
  },
  {
   "cell_type": "code",
   "execution_count": 53,
   "metadata": {},
   "outputs": [
    {
     "name": "stdout",
     "output_type": "stream",
     "text": [
      "('foo', 'bar', [1, 2, 4, 8], True)\n"
     ]
    },
    {
     "ename": "TypeError",
     "evalue": "'tuple' object does not support item assignment",
     "output_type": "error",
     "traceback": [
      "\u001b[1;31m---------------------------------------------------------------------------\u001b[0m",
      "\u001b[1;31mTypeError\u001b[0m                                 Traceback (most recent call last)",
      "\u001b[1;32m<ipython-input-53-4e59268ee793>\u001b[0m in \u001b[0;36m<module>\u001b[1;34m()\u001b[0m\n\u001b[0;32m      1\u001b[0m \u001b[0ma_tup\u001b[0m \u001b[1;33m=\u001b[0m \u001b[0mtuple\u001b[0m\u001b[1;33m(\u001b[0m\u001b[1;33m[\u001b[0m\u001b[1;34m'foo'\u001b[0m\u001b[1;33m,\u001b[0m\u001b[1;34m'bar'\u001b[0m\u001b[1;33m,\u001b[0m \u001b[1;33m[\u001b[0m\u001b[1;36m1\u001b[0m\u001b[1;33m,\u001b[0m \u001b[1;36m2\u001b[0m\u001b[1;33m,\u001b[0m \u001b[1;36m4\u001b[0m\u001b[1;33m,\u001b[0m \u001b[1;36m8\u001b[0m\u001b[1;33m]\u001b[0m\u001b[1;33m,\u001b[0m \u001b[1;32mTrue\u001b[0m\u001b[1;33m]\u001b[0m\u001b[1;33m)\u001b[0m\u001b[1;33m\u001b[0m\u001b[0m\n\u001b[0;32m      2\u001b[0m \u001b[0mprint\u001b[0m\u001b[1;33m(\u001b[0m\u001b[0ma_tup\u001b[0m\u001b[1;33m)\u001b[0m\u001b[1;33m\u001b[0m\u001b[0m\n\u001b[1;32m----> 3\u001b[1;33m \u001b[0ma_tup\u001b[0m\u001b[1;33m[\u001b[0m\u001b[1;36m2\u001b[0m\u001b[1;33m]\u001b[0m \u001b[1;33m=\u001b[0m \u001b[1;32mFalse\u001b[0m\u001b[1;33m\u001b[0m\u001b[0m\n\u001b[0m\u001b[0;32m      4\u001b[0m \u001b[0ma_tup\u001b[0m\u001b[1;33m[\u001b[0m\u001b[1;36m3\u001b[0m\u001b[1;33m]\u001b[0m \u001b[1;33m=\u001b[0m \u001b[1;32mFalse\u001b[0m          \u001b[1;31m# Returns Error\u001b[0m\u001b[1;33m\u001b[0m\u001b[0m\n",
      "\u001b[1;31mTypeError\u001b[0m: 'tuple' object does not support item assignment"
     ]
    }
   ],
   "source": [
    "a_tup = tuple(['foo','bar', [1, 2, 4, 8], True])\n",
    "print(a_tup)\n",
    "a_tup[2] = False    \n",
    "a_tup[3] = False          # Returns Error"
   ]
  },
  {
   "cell_type": "code",
   "execution_count": 54,
   "metadata": {},
   "outputs": [
    {
     "name": "stdout",
     "output_type": "stream",
     "text": [
      "('foo', 'bar', [1, 2, 4, 8, 3], True)\n"
     ]
    }
   ],
   "source": [
    "a_tup = tuple(['foo','bar', [1, 2, 4, 8], True])\n",
    "a_tup[2].append(3)       # Appends an element in the list\n",
    "print(a_tup)"
   ]
  },
  {
   "cell_type": "code",
   "execution_count": 55,
   "metadata": {},
   "outputs": [
    {
     "data": {
      "text/plain": [
       "(4, None, 'foo', 6, 0, 'bar', 0)"
      ]
     },
     "execution_count": 55,
     "metadata": {},
     "output_type": "execute_result"
    }
   ],
   "source": [
    "#  Tuples can be concatenated using the + operator to produce longer tuples\n",
    "\n",
    "(4, None, 'foo') + (6, 0) + ('bar', 0)"
   ]
  },
  {
   "cell_type": "markdown",
   "metadata": {},
   "source": [
    "Here, only (4, None, 'foo') and (6, 0) are tuples and so, when we try to concatenate, it returns an error. This can be corrected by adding a comma to 'bar' as shown below:"
   ]
  },
  {
   "cell_type": "code",
   "execution_count": 56,
   "metadata": {},
   "outputs": [
    {
     "ename": "TypeError",
     "evalue": "can only concatenate tuple (not \"str\") to tuple",
     "output_type": "error",
     "traceback": [
      "\u001b[1;31m---------------------------------------------------------------------------\u001b[0m",
      "\u001b[1;31mTypeError\u001b[0m                                 Traceback (most recent call last)",
      "\u001b[1;32m<ipython-input-56-26f65ebafb97>\u001b[0m in \u001b[0;36m<module>\u001b[1;34m()\u001b[0m\n\u001b[1;32m----> 1\u001b[1;33m \u001b[1;33m(\u001b[0m\u001b[1;36m4\u001b[0m\u001b[1;33m,\u001b[0m \u001b[1;32mNone\u001b[0m\u001b[1;33m,\u001b[0m \u001b[1;34m'foo'\u001b[0m\u001b[1;33m)\u001b[0m \u001b[1;33m+\u001b[0m \u001b[1;33m(\u001b[0m\u001b[1;36m6\u001b[0m\u001b[1;33m,\u001b[0m \u001b[1;36m0\u001b[0m\u001b[1;33m)\u001b[0m \u001b[1;33m+\u001b[0m \u001b[1;33m(\u001b[0m\u001b[1;34m'bar'\u001b[0m\u001b[1;33m)\u001b[0m\u001b[1;33m\u001b[0m\u001b[0m\n\u001b[0m",
      "\u001b[1;31mTypeError\u001b[0m: can only concatenate tuple (not \"str\") to tuple"
     ]
    }
   ],
   "source": [
    "(4, None, 'foo') + (6, 0) + ('bar')"
   ]
  },
  {
   "cell_type": "code",
   "execution_count": 57,
   "metadata": {},
   "outputs": [
    {
     "data": {
      "text/plain": [
       "(4, None, 'foo', 6, 0, 'bar')"
      ]
     },
     "execution_count": 57,
     "metadata": {},
     "output_type": "execute_result"
    }
   ],
   "source": [
    "(4, None, 'foo') + (6, 0) + ('bar',)"
   ]
  },
  {
   "cell_type": "markdown",
   "metadata": {},
   "source": [
    "Multiplying a tuple by an integer, as with lists, has the effect of concatenating together that many copies of the tuple."
   ]
  },
  {
   "cell_type": "code",
   "execution_count": 58,
   "metadata": {},
   "outputs": [
    {
     "data": {
      "text/plain": [
       "('red', 'green', 'blue', 'red', 'green', 'blue', 'red', 'green', 'blue')"
      ]
     },
     "execution_count": 58,
     "metadata": {},
     "output_type": "execute_result"
    }
   ],
   "source": [
    "('red', 'green', 'blue') * 3"
   ]
  },
  {
   "cell_type": "markdown",
   "metadata": {},
   "source": [
    "### Tuples with 'if' statements"
   ]
  },
  {
   "cell_type": "markdown",
   "metadata": {},
   "source": [
    "'if' statement can be used to check if an element is in the tuple"
   ]
  },
  {
   "cell_type": "code",
   "execution_count": 74,
   "metadata": {},
   "outputs": [
    {
     "name": "stdout",
     "output_type": "stream",
     "text": [
      "yes, found it!\n"
     ]
    }
   ],
   "source": [
    "tupl = (1,2,3,4,5)\n",
    "\n",
    "if 1 in tupl:\n",
    "    print('yes, found it!')\n",
    "else:\n",
    "    print('nope')"
   ]
  },
  {
   "cell_type": "markdown",
   "metadata": {},
   "source": [
    "### Tuples with 'for' loops"
   ]
  },
  {
   "cell_type": "code",
   "execution_count": 59,
   "metadata": {},
   "outputs": [
    {
     "name": "stdout",
     "output_type": "stream",
     "text": [
      "(1, 'Ben')\n",
      "(2, 'Sam')\n",
      "(3, 'Dinesh')\n",
      "\n",
      "\n",
      "1 is Ben\n",
      "2 is Sam\n",
      "3 is Dinesh\n",
      "\n",
      "\n",
      "0 :  (1, 'Ben')\n",
      "1 :  (2, 'Sam')\n",
      "2 :  (3, 'Dinesh')\n"
     ]
    }
   ],
   "source": [
    "x = [(1,'Ben'), (2,'Sam'), (3,'Dinesh')]\n",
    "\n",
    "for item in x:\n",
    "    print(item)\n",
    "    \n",
    "print('\\n')\n",
    "\n",
    "for a,b in x:                 # As each element of the iterable is a tuple, we can specify two variables and\n",
    "    print(a, \"is\", b)         # each element in the loop will be unpacked to the two\n",
    "\n",
    "print('\\n')\n",
    "\n",
    "for a,b in enumerate(x):      # enumerating over tuple\n",
    "    print(a, \": \", b)"
   ]
  },
  {
   "cell_type": "markdown",
   "metadata": {},
   "source": [
    "### Tuples with 'lambdas'"
   ]
  },
  {
   "cell_type": "markdown",
   "metadata": {},
   "source": [
    "We can create tuples using a lambda function"
   ]
  },
  {
   "cell_type": "code",
   "execution_count": 66,
   "metadata": {},
   "outputs": [
    {
     "name": "stdout",
     "output_type": "stream",
     "text": [
      "(0, 8, 64, 216, 512, 1000, 1728, 2744, 4096, 5832, 8000, 10648, 13824, 17576, 21952)\n"
     ]
    }
   ],
   "source": [
    "func = tuple(map(lambda x: x * x * x, range(0,30,2)))\n",
    "print(func)"
   ]
  },
  {
   "cell_type": "markdown",
   "metadata": {},
   "source": [
    "### \\*args and \\**kwargs\n",
    "\n",
    "The symbol * makes args iterable which means that you can run a for loop and process every argument inside the args list.  This is useful when we don’t know how many arguments we need to pass in."
   ]
  },
  {
   "cell_type": "code",
   "execution_count": 9,
   "metadata": {},
   "outputs": [
    {
     "name": "stdout",
     "output_type": "stream",
     "text": [
      "defg\n",
      "2\n",
      "3\n",
      "\n",
      "\n",
      "4\n",
      "65\n",
      "32\n",
      "you\n",
      "me\n"
     ]
    }
   ],
   "source": [
    "def echo_args(*args):\n",
    "    for arg in args:\n",
    "        print(arg)\n",
    "        \n",
    "echo_args('defg',2,3)    \n",
    "print('\\n')\n",
    "echo_args(4,65,32,'you','me')   "
   ]
  },
  {
   "cell_type": "markdown",
   "metadata": {},
   "source": [
    "This is another example of \\*args/"
   ]
  },
  {
   "cell_type": "code",
   "execution_count": 4,
   "metadata": {},
   "outputs": [
    {
     "name": "stdout",
     "output_type": "stream",
     "text": [
      "first argument : Hello\n",
      "Next argument through *argv : Welcome\n",
      "Next argument through *argv : to\n",
      "Next argument through *argv : Geeks\n",
      "first argument : Here\n",
      "Next argument through *argv : is\n",
      "Next argument through *argv : the\n",
      "Next argument through *argv : code\n",
      "Next argument through *argv : for\n",
      "Next argument through *argv : the\n",
      "Next argument through *argv : given\n",
      "Next argument through *argv : example\n"
     ]
    }
   ],
   "source": [
    "def testify(arg1, *argv):\n",
    "    print(\"first argument :\", arg1)\n",
    "    for arg in argv:\n",
    "        print(\"Next argument through *argv :\", arg)\n",
    " \n",
    "testify('Hello', 'Welcome', 'to', 'Geeks')\n",
    "testify('Here', 'is', 'the', 'code', 'for', 'the', 'given', 'example')"
   ]
  },
  {
   "cell_type": "markdown",
   "metadata": {},
   "source": [
    "The special syntax \\**kwargs in function definitions in python is used to pass a keyworded, variable-length argument list. We use the name kwargs with the double star. The reason is because the double star allows us to pass through keyword arguments (and any number of them).\n",
    "\n",
    "A keyword argument is where you provide a name to the variable as you pass it into the function. One can think of the kwargs as being a dictionary that maps each keyword to the value that we pass alongside it."
   ]
  },
  {
   "cell_type": "code",
   "execution_count": 18,
   "metadata": {},
   "outputs": [
    {
     "name": "stdout",
     "output_type": "stream",
     "text": [
      "{'kwargs_1': 'Shark', 'kwargs_2': 4.5, 'kwargs_3': True}\n"
     ]
    }
   ],
   "source": [
    "def print_kwargs(**kwargs):       # A function to simply print out the **kwargs arguments that we pass\n",
    "        print(kwargs)    \n",
    "\n",
    "print_kwargs(kwargs_1=\"Shark\", kwargs_2=4.5, kwargs_3=True)   # Call the function with some keyworded arguments passed into the function"
   ]
  },
  {
   "cell_type": "code",
   "execution_count": null,
   "metadata": {
    "collapsed": true
   },
   "outputs": [],
   "source": []
  },
  {
   "cell_type": "markdown",
   "metadata": {},
   "source": [
    "#### Resources Used:<br>\n",
    "1. Python for Data Analysis by Wes McKinney\n",
    "2. Mastering Python Regular Expressions by Félix López and Víctor Romero\n",
    "3. Scientific Computing with Python 3 by Claus Führer, Jan Erik Solem and Olivier Verdier\n",
    "4. Functional Python Programming by Steven Lott\n",
    "5. https://www.analyticsvidhya.com/\n",
    "6. https://stackoverflow.com/"
   ]
  },
  {
   "cell_type": "code",
   "execution_count": null,
   "metadata": {
    "collapsed": true
   },
   "outputs": [],
   "source": []
  }
 ],
 "metadata": {
  "kernelspec": {
   "display_name": "Python 3",
   "language": "python",
   "name": "python3"
  },
  "language_info": {
   "codemirror_mode": {
    "name": "ipython",
    "version": 3
   },
   "file_extension": ".py",
   "mimetype": "text/x-python",
   "name": "python",
   "nbconvert_exporter": "python",
   "pygments_lexer": "ipython3",
   "version": "3.6.1"
  }
 },
 "nbformat": 4,
 "nbformat_minor": 2
}
